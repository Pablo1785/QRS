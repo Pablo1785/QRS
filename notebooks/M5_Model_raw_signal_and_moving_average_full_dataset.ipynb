{
 "cells": [
  {
   "cell_type": "code",
   "execution_count": 1,
   "outputs": [],
   "source": [
    "import os\n",
    "import random\n",
    "\n",
    "import numpy as np\n",
    "import torch\n",
    "import torch.nn as nn\n",
    "import torch.nn.functional as F\n",
    "import torch.optim as optim\n",
    "import torchaudio\n",
    "import sys\n",
    "\n",
    "import matplotlib.pyplot as plt\n",
    "import IPython.display as ipd\n",
    "\n",
    "from tqdm import tqdm\n",
    "\n",
    "from common import *\n",
    "from dataset import ArrhythmiaDataset\n",
    "\n",
    "from sklearn.metrics import confusion_matrix\n",
    "import seaborn as sn\n",
    "import pandas as pd\n",
    "\n",
    "from torch.utils.tensorboard import SummaryWriter\n",
    "\n",
    "\n",
    "RECORD_DIR_PATH = '../data/mit-bih-arrhythmia-database-1.0.0'\n",
    "WINDOW_SIZE = 540\n",
    "MOVING_AVERAGE_RANGE = 17\n",
    "USE_CLASSES_FROM_MANUAL_LABELS = True\n",
    "SUBSET_FROM_MANUAL_LABELS = False\n",
    "INCLUDE_MANUAL_LABELS = False\n",
    "INCLUDE_RAW_SIGNAL = True\n",
    "\n",
    "CLASSES = ['N', 'L', 'R', 'a', 'V', 'J', 'F'] if USE_CLASSES_FROM_MANUAL_LABELS else ['N', 'L', 'R', 'A', 'a', 'V', 'j', 'J', 'E', 'f', 'F', '[', '!', ']', '/', 'x', '|', 'Q']\n",
    "\n",
    "batch_size = 256\n",
    "n_epoch = 300\n",
    "\n",
    "RUN_NAME = f'raw_signal_and_moving_average-{MOVING_AVERAGE_RANGE}_full_dataset'\n",
    "CHECKPOINT_PATH = f'../models/{RUN_NAME} - checkpoint.pt'\n",
    "ACCURACY_MOVING_AVERAGE_SIZE = 30  # moving average for accuracy to check if performance degraded\n",
    "\n",
    "\n",
    "# TODO: S, e - need some preprocessing, dimensions seem to be wrong in one of these\n",
    "# TODO: Q - of course, quite confusing, this is the most confused beat in confusion matrices"
   ],
   "metadata": {
    "collapsed": false,
    "pycharm": {
     "name": "#%%\n"
    }
   }
  },
  {
   "cell_type": "code",
   "execution_count": 2,
   "outputs": [
    {
     "name": "stdout",
     "output_type": "stream",
     "text": [
      "cuda\n"
     ]
    }
   ],
   "source": [
    "device = torch.device(\"cuda\" if torch.cuda.is_available() else \"cpu\")\n",
    "print(device)"
   ],
   "metadata": {
    "collapsed": false,
    "pycharm": {
     "name": "#%%\n"
    }
   }
  },
  {
   "cell_type": "code",
   "execution_count": 3,
   "outputs": [],
   "source": [
    "# Randomness seed\n",
    "random_seed = 1 # or any of your favorite number\n",
    "torch.manual_seed(random_seed)\n",
    "torch.cuda.manual_seed(random_seed)\n",
    "torch.backends.cudnn.deterministic = True\n",
    "torch.backends.cudnn.benchmark = False\n",
    "np.random.seed(random_seed)"
   ],
   "metadata": {
    "collapsed": false,
    "pycharm": {
     "name": "#%%\n"
    }
   }
  },
  {
   "cell_type": "code",
   "execution_count": 4,
   "outputs": [
    {
     "name": "stdout",
     "output_type": "stream",
     "text": [
      "filename='100.atr' patient_record_number=100\n",
      "beat_slice_array.shape=(2240, 2, 1080) beat_slices.shape=torch.Size([2240, 2, 1080])\n",
      "filename='124.atr' patient_record_number=124\n",
      "beat_slice_array.shape=(1612, 2, 1080) beat_slices.shape=torch.Size([1612, 2, 1080])\n",
      "self.data.shape=torch.Size([2240, 2, 1080]) beat_slices.shape=torch.Size([1612, 2, 1080])\n",
      "filename='219.atr' patient_record_number=219\n",
      "beat_slice_array.shape=(2147, 2, 1080) beat_slices.shape=torch.Size([2147, 2, 1080])\n",
      "self.data.shape=torch.Size([3852, 2, 1080]) beat_slices.shape=torch.Size([2147, 2, 1080])\n",
      "filename='112.atr' patient_record_number=112\n",
      "beat_slice_array.shape=(2537, 2, 1080) beat_slices.shape=torch.Size([2537, 2, 1080])\n",
      "self.data.shape=torch.Size([5999, 2, 1080]) beat_slices.shape=torch.Size([2537, 2, 1080])\n",
      "filename='119.atr' patient_record_number=119\n",
      "beat_slice_array.shape=(1987, 2, 1080) beat_slices.shape=torch.Size([1987, 2, 1080])\n",
      "self.data.shape=torch.Size([8536, 2, 1080]) beat_slices.shape=torch.Size([1987, 2, 1080])\n",
      "filename='209.atr' patient_record_number=209\n",
      "beat_slice_array.shape=(2622, 2, 1080) beat_slices.shape=torch.Size([2622, 2, 1080])\n",
      "self.data.shape=torch.Size([10523, 2, 1080]) beat_slices.shape=torch.Size([2622, 2, 1080])\n",
      "filename='123.atr' patient_record_number=123\n",
      "beat_slice_array.shape=(1518, 2, 1080) beat_slices.shape=torch.Size([1518, 2, 1080])\n",
      "self.data.shape=torch.Size([13145, 2, 1080]) beat_slices.shape=torch.Size([1518, 2, 1080])\n",
      "filename='212.atr' patient_record_number=212\n",
      "beat_slice_array.shape=(2748, 2, 1080) beat_slices.shape=torch.Size([2748, 2, 1080])\n",
      "self.data.shape=torch.Size([14663, 2, 1080]) beat_slices.shape=torch.Size([2748, 2, 1080])\n",
      "filename='222.atr' patient_record_number=222\n",
      "beat_slice_array.shape=(2063, 2, 1080) beat_slices.shape=torch.Size([2063, 2, 1080])\n",
      "self.data.shape=torch.Size([17411, 2, 1080]) beat_slices.shape=torch.Size([2063, 2, 1080])\n",
      "filename='103.atr' patient_record_number=103\n",
      "beat_slice_array.shape=(2082, 2, 1080) beat_slices.shape=torch.Size([2082, 2, 1080])\n",
      "self.data.shape=torch.Size([19474, 2, 1080]) beat_slices.shape=torch.Size([2082, 2, 1080])\n",
      "filename='214.atr' patient_record_number=214\n",
      "beat_slice_array.shape=(2260, 2, 1080) beat_slices.shape=torch.Size([2260, 2, 1080])\n",
      "self.data.shape=torch.Size([21556, 2, 1080]) beat_slices.shape=torch.Size([2260, 2, 1080])\n",
      "filename='111.atr' patient_record_number=111\n",
      "beat_slice_array.shape=(2124, 2, 1080) beat_slices.shape=torch.Size([2124, 2, 1080])\n",
      "self.data.shape=torch.Size([23816, 2, 1080]) beat_slices.shape=torch.Size([2124, 2, 1080])\n",
      "filename='228.atr' patient_record_number=228\n",
      "beat_slice_array.shape=(2050, 2, 1080) beat_slices.shape=torch.Size([2050, 2, 1080])\n",
      "self.data.shape=torch.Size([25940, 2, 1080]) beat_slices.shape=torch.Size([2050, 2, 1080])\n",
      "filename='208.atr' patient_record_number=208\n",
      "beat_slice_array.shape=(2951, 2, 1080) beat_slices.shape=torch.Size([2951, 2, 1080])\n",
      "self.data.shape=torch.Size([27990, 2, 1080]) beat_slices.shape=torch.Size([2951, 2, 1080])\n",
      "filename='117.atr' patient_record_number=117\n",
      "beat_slice_array.shape=(1534, 2, 1080) beat_slices.shape=torch.Size([1534, 2, 1080])\n",
      "self.data.shape=torch.Size([30941, 2, 1080]) beat_slices.shape=torch.Size([1534, 2, 1080])\n",
      "filename='210.atr' patient_record_number=210\n",
      "beat_slice_array.shape=(2649, 2, 1080) beat_slices.shape=torch.Size([2649, 2, 1080])\n",
      "self.data.shape=torch.Size([32475, 2, 1080]) beat_slices.shape=torch.Size([2649, 2, 1080])\n",
      "filename='221.atr' patient_record_number=221\n",
      "beat_slice_array.shape=(2427, 2, 1080) beat_slices.shape=torch.Size([2427, 2, 1080])\n",
      "self.data.shape=torch.Size([35124, 2, 1080]) beat_slices.shape=torch.Size([2427, 2, 1080])\n",
      "filename='101.atr' patient_record_number=101\n",
      "beat_slice_array.shape=(1860, 2, 1080) beat_slices.shape=torch.Size([1860, 2, 1080])\n",
      "self.data.shape=torch.Size([37551, 2, 1080]) beat_slices.shape=torch.Size([1860, 2, 1080])\n",
      "filename='201.atr' patient_record_number=201\n",
      "beat_slice_array.shape=(1923, 2, 1080) beat_slices.shape=torch.Size([1923, 2, 1080])\n",
      "self.data.shape=torch.Size([39411, 2, 1080]) beat_slices.shape=torch.Size([1923, 2, 1080])\n",
      "filename='207.atr' patient_record_number=207\n",
      "beat_slice_array.shape=(1648, 2, 1080) beat_slices.shape=torch.Size([1648, 2, 1080])\n",
      "self.data.shape=torch.Size([41334, 2, 1080]) beat_slices.shape=torch.Size([1648, 2, 1080])\n",
      "filename='231.atr' patient_record_number=231\n",
      "beat_slice_array.shape=(1570, 2, 1080) beat_slices.shape=torch.Size([1570, 2, 1080])\n",
      "self.data.shape=torch.Size([42982, 2, 1080]) beat_slices.shape=torch.Size([1570, 2, 1080])\n",
      "filename='121.atr' patient_record_number=121\n",
      "beat_slice_array.shape=(1862, 2, 1080) beat_slices.shape=torch.Size([1862, 2, 1080])\n",
      "self.data.shape=torch.Size([44552, 2, 1080]) beat_slices.shape=torch.Size([1862, 2, 1080])\n",
      "filename='232.atr' patient_record_number=232\n",
      "beat_slice_array.shape=(397, 2, 1080) beat_slices.shape=torch.Size([397, 2, 1080])\n",
      "self.data.shape=torch.Size([46414, 2, 1080]) beat_slices.shape=torch.Size([397, 2, 1080])\n",
      "filename='203.atr' patient_record_number=203\n",
      "beat_slice_array.shape=(2976, 2, 1080) beat_slices.shape=torch.Size([2976, 2, 1080])\n",
      "self.data.shape=torch.Size([46811, 2, 1080]) beat_slices.shape=torch.Size([2976, 2, 1080])\n",
      "filename='105.atr' patient_record_number=105\n",
      "beat_slice_array.shape=(2567, 2, 1080) beat_slices.shape=torch.Size([2567, 2, 1080])\n",
      "self.data.shape=torch.Size([49787, 2, 1080]) beat_slices.shape=torch.Size([2567, 2, 1080])\n",
      "filename='213.atr' patient_record_number=213\n",
      "beat_slice_array.shape=(3226, 2, 1080) beat_slices.shape=torch.Size([3226, 2, 1080])\n",
      "self.data.shape=torch.Size([52354, 2, 1080]) beat_slices.shape=torch.Size([3226, 2, 1080])\n",
      "filename='122.atr' patient_record_number=122\n",
      "beat_slice_array.shape=(2476, 2, 1080) beat_slices.shape=torch.Size([2476, 2, 1080])\n",
      "self.data.shape=torch.Size([55580, 2, 1080]) beat_slices.shape=torch.Size([2476, 2, 1080])\n",
      "filename='233.atr' patient_record_number=233\n",
      "beat_slice_array.shape=(3072, 2, 1080) beat_slices.shape=torch.Size([3072, 2, 1080])\n",
      "self.data.shape=torch.Size([58056, 2, 1080]) beat_slices.shape=torch.Size([3072, 2, 1080])\n",
      "filename='223.atr' patient_record_number=223\n",
      "beat_slice_array.shape=(2517, 2, 1080) beat_slices.shape=torch.Size([2517, 2, 1080])\n",
      "self.data.shape=torch.Size([61128, 2, 1080]) beat_slices.shape=torch.Size([2517, 2, 1080])\n",
      "filename='114.atr' patient_record_number=114\n",
      "beat_slice_array.shape=(1869, 2, 1080) beat_slices.shape=torch.Size([1869, 2, 1080])\n",
      "self.data.shape=torch.Size([63645, 2, 1080]) beat_slices.shape=torch.Size([1869, 2, 1080])\n",
      "filename='108.atr' patient_record_number=108\n",
      "beat_slice_array.shape=(1758, 2, 1080) beat_slices.shape=torch.Size([1758, 2, 1080])\n",
      "self.data.shape=torch.Size([65514, 2, 1080]) beat_slices.shape=torch.Size([1758, 2, 1080])\n",
      "filename='215.atr' patient_record_number=215\n",
      "beat_slice_array.shape=(3360, 2, 1080) beat_slices.shape=torch.Size([3360, 2, 1080])\n",
      "self.data.shape=torch.Size([67272, 2, 1080]) beat_slices.shape=torch.Size([3360, 2, 1080])\n",
      "filename='109.atr' patient_record_number=109\n",
      "beat_slice_array.shape=(2532, 2, 1080) beat_slices.shape=torch.Size([2532, 2, 1080])\n",
      "self.data.shape=torch.Size([70632, 2, 1080]) beat_slices.shape=torch.Size([2532, 2, 1080])\n",
      "filename='113.atr' patient_record_number=113\n",
      "beat_slice_array.shape=(1795, 2, 1080) beat_slices.shape=torch.Size([1795, 2, 1080])\n",
      "self.data.shape=torch.Size([73164, 2, 1080]) beat_slices.shape=torch.Size([1795, 2, 1080])\n",
      "filename='115.atr' patient_record_number=115\n",
      "beat_slice_array.shape=(1953, 2, 1080) beat_slices.shape=torch.Size([1953, 2, 1080])\n",
      "self.data.shape=torch.Size([74959, 2, 1080]) beat_slices.shape=torch.Size([1953, 2, 1080])\n",
      "filename='104.atr' patient_record_number=104\n",
      "beat_slice_array.shape=(165, 2, 1080) beat_slices.shape=torch.Size([165, 2, 1080])\n",
      "self.data.shape=torch.Size([76912, 2, 1080]) beat_slices.shape=torch.Size([165, 2, 1080])\n",
      "filename='102.atr' patient_record_number=102\n",
      "beat_slice_array.shape=(103, 2, 1080) beat_slices.shape=torch.Size([103, 2, 1080])\n",
      "self.data.shape=torch.Size([77077, 2, 1080]) beat_slices.shape=torch.Size([103, 2, 1080])\n",
      "filename='118.atr' patient_record_number=118\n",
      "beat_slice_array.shape=(2182, 2, 1080) beat_slices.shape=torch.Size([2182, 2, 1080])\n",
      "self.data.shape=torch.Size([77180, 2, 1080]) beat_slices.shape=torch.Size([2182, 2, 1080])\n",
      "filename='217.atr' patient_record_number=217\n",
      "beat_slice_array.shape=(406, 2, 1080) beat_slices.shape=torch.Size([406, 2, 1080])\n",
      "self.data.shape=torch.Size([79362, 2, 1080]) beat_slices.shape=torch.Size([406, 2, 1080])\n",
      "filename='205.atr' patient_record_number=205\n",
      "beat_slice_array.shape=(2653, 2, 1080) beat_slices.shape=torch.Size([2653, 2, 1080])\n",
      "self.data.shape=torch.Size([79768, 2, 1080]) beat_slices.shape=torch.Size([2653, 2, 1080])\n",
      "filename='200.atr' patient_record_number=200\n",
      "beat_slice_array.shape=(2571, 2, 1080) beat_slices.shape=torch.Size([2571, 2, 1080])\n",
      "self.data.shape=torch.Size([82421, 2, 1080]) beat_slices.shape=torch.Size([2571, 2, 1080])\n",
      "filename='202.atr' patient_record_number=202\n",
      "beat_slice_array.shape=(2100, 2, 1080) beat_slices.shape=torch.Size([2100, 2, 1080])\n",
      "self.data.shape=torch.Size([84992, 2, 1080]) beat_slices.shape=torch.Size([2100, 2, 1080])\n",
      "filename='220.atr' patient_record_number=220\n",
      "beat_slice_array.shape=(1954, 2, 1080) beat_slices.shape=torch.Size([1954, 2, 1080])\n",
      "self.data.shape=torch.Size([87092, 2, 1080]) beat_slices.shape=torch.Size([1954, 2, 1080])\n",
      "filename='106.atr' patient_record_number=106\n",
      "beat_slice_array.shape=(2027, 2, 1080) beat_slices.shape=torch.Size([2027, 2, 1080])\n",
      "self.data.shape=torch.Size([89046, 2, 1080]) beat_slices.shape=torch.Size([2027, 2, 1080])\n",
      "filename='107.atr' patient_record_number=107\n",
      "beat_slice_array.shape=(59, 2, 1080) beat_slices.shape=torch.Size([59, 2, 1080])\n",
      "self.data.shape=torch.Size([91073, 2, 1080]) beat_slices.shape=torch.Size([59, 2, 1080])\n",
      "filename='234.atr' patient_record_number=234\n",
      "beat_slice_array.shape=(2753, 2, 1080) beat_slices.shape=torch.Size([2753, 2, 1080])\n",
      "self.data.shape=torch.Size([91132, 2, 1080]) beat_slices.shape=torch.Size([2753, 2, 1080])\n",
      "filename='230.atr' patient_record_number=230\n",
      "beat_slice_array.shape=(2256, 2, 1080) beat_slices.shape=torch.Size([2256, 2, 1080])\n",
      "self.data.shape=torch.Size([93885, 2, 1080]) beat_slices.shape=torch.Size([2256, 2, 1080])\n",
      "filename='116.atr' patient_record_number=116\n",
      "beat_slice_array.shape=(2411, 2, 1080) beat_slices.shape=torch.Size([2411, 2, 1080])\n",
      "self.data.shape=torch.Size([96141, 2, 1080]) beat_slices.shape=torch.Size([2411, 2, 1080])\n",
      "torch.Size([98552, 2, 1080])\n",
      "98552\n"
     ]
    }
   ],
   "source": [
    "dataset = ArrhythmiaDataset(RECORD_DIR_PATH, WINDOW_SIZE, only_include_labels = CLASSES, moving_average_range = MOVING_AVERAGE_RANGE, include_manual_labels = INCLUDE_MANUAL_LABELS, subset_from_manual_labels = SUBSET_FROM_MANUAL_LABELS, include_raw_signal =\n",
    "INCLUDE_RAW_SIGNAL)\n",
    "\n",
    "print(dataset.data.shape)\n",
    "print(len(dataset.labels))"
   ],
   "metadata": {
    "collapsed": false,
    "pycharm": {
     "name": "#%%\n"
    }
   }
  },
  {
   "cell_type": "code",
   "execution_count": 5,
   "outputs": [
    {
     "name": "stdout",
     "output_type": "stream",
     "text": [
      "L: 8075\n",
      "F: 803\n",
      "J: 83\n",
      "V: 7130\n",
      "R: 7259\n",
      "a: 150\n",
      "N: 75052\n"
     ]
    }
   ],
   "source": [
    "labels, counts = torch.unique(dataset.labels_encoded, dim = 0, return_counts = True)\n",
    "\n",
    "for label, count in zip(labels, counts):\n",
    "    print(f'{dataset.get_label_from_tensor(label)}: {count}')\n"
   ],
   "metadata": {
    "collapsed": false,
    "pycharm": {
     "name": "#%%\n"
    }
   }
  },
  {
   "cell_type": "code",
   "execution_count": 6,
   "outputs": [
    {
     "name": "stdout",
     "output_type": "stream",
     "text": [
      "torch.Size([31058, 2, 1080])\n",
      "31058\n",
      "L: 8075\n",
      "F: 803\n",
      "J: 83\n",
      "V: 7130\n",
      "R: 7259\n",
      "a: 150\n",
      "N: 7558\n"
     ]
    }
   ],
   "source": [
    "# Drop some Normal beats to balance classes\n",
    "normal_beat_mask = np.array(dataset.labels) == 'N'\n",
    "\n",
    "new_labels = []\n",
    "for idx, l in enumerate(normal_beat_mask):\n",
    "    # Leave 10% samples in (currently theres 75k samples, while other popular classes are at about 8k)\n",
    "    if l and random.uniform(0, 1) < 0.1:\n",
    "        normal_beat_mask[idx] = False\n",
    "    if not normal_beat_mask[idx]:\n",
    "        new_labels.append(dataset.labels[idx])\n",
    "\n",
    "new_data = dataset.data[normal_beat_mask == False]\n",
    "dataset.data = new_data\n",
    "dataset.labels = new_labels\n",
    "dataset.encode_labels()\n",
    "\n",
    "def show_class_count(dataset: ArrhythmiaDataset):\n",
    "    print(dataset.data.shape)\n",
    "    print(len(dataset.labels))\n",
    "    labels, counts = torch.unique(dataset.labels_encoded, dim = 0, return_counts = True)\n",
    "\n",
    "    for label, count in zip(labels, counts):\n",
    "        print(f'{dataset.get_label_from_tensor(label)}: {count}')\n",
    "\n",
    "show_class_count(dataset)"
   ],
   "metadata": {
    "collapsed": false,
    "pycharm": {
     "name": "#%%\n"
    }
   }
  },
  {
   "cell_type": "code",
   "execution_count": 7,
   "outputs": [
    {
     "name": "stdout",
     "output_type": "stream",
     "text": [
      "TRAIN DATASET:\n",
      "torch.Size([24846, 2, 1080])\n",
      "0\n",
      "L: 6460\n",
      "F: 642\n",
      "J: 67\n",
      "V: 5704\n",
      "R: 5807\n",
      "a: 120\n",
      "N: 6046\n",
      "TEST DATASET:\n",
      "torch.Size([6212, 2, 1080])\n",
      "0\n",
      "L: 1615\n",
      "F: 161\n",
      "J: 16\n",
      "V: 1426\n",
      "R: 1452\n",
      "a: 30\n",
      "N: 1512\n"
     ]
    }
   ],
   "source": [
    "def collate_fn(batch):\n",
    "\n",
    "    # A data tuple has the form:\n",
    "    # waveform, one-hot-encoded_label\n",
    "\n",
    "    tensors, targets = [], []\n",
    "\n",
    "    # Gather in lists, and encode labels as indices\n",
    "    for waveform, label in batch:\n",
    "        tensors += [waveform]\n",
    "        targets += [label]\n",
    "\n",
    "    # Group the list of tensors into a batched tensor\n",
    "    tensors = torch.stack(tensors)\n",
    "    tensors = tensors[:, :]\n",
    "    targets = torch.stack(targets)\n",
    "\n",
    "    return tensors, targets\n",
    "\n",
    "\n",
    "if device == \"cuda\":\n",
    "    num_workers = 1\n",
    "    pin_memory = True\n",
    "else:\n",
    "    num_workers = 0\n",
    "    pin_memory = False\n",
    "\n",
    "train_dataset, test_dataset = dataset.train_test_split(0.2)\n",
    "train_loader = torch.utils.data.DataLoader(\n",
    "    train_dataset,\n",
    "    batch_size=batch_size,\n",
    "    shuffle=True,\n",
    "    collate_fn=collate_fn,\n",
    "    num_workers=num_workers,\n",
    "    pin_memory=pin_memory,\n",
    ")\n",
    "test_loader = torch.utils.data.DataLoader(\n",
    "    test_dataset,\n",
    "    batch_size=batch_size,\n",
    "    shuffle=False,\n",
    "    drop_last=False,\n",
    "    collate_fn=collate_fn,\n",
    "    num_workers=num_workers,\n",
    "    pin_memory=pin_memory,\n",
    ")\n",
    "\n",
    "print('TRAIN DATASET:')\n",
    "show_class_count(train_dataset)\n",
    "\n",
    "print('TEST DATASET:')\n",
    "show_class_count(test_dataset)"
   ],
   "metadata": {
    "collapsed": false,
    "pycharm": {
     "name": "#%%\n"
    }
   }
  },
  {
   "cell_type": "code",
   "execution_count": 8,
   "outputs": [
    {
     "name": "stdout",
     "output_type": "stream",
     "text": [
      "M5(\n",
      "  (conv1): Conv1d(2, 32, kernel_size=(3,), stride=(1,))\n",
      "  (bn1): BatchNorm1d(32, eps=1e-05, momentum=0.1, affine=True, track_running_stats=True)\n",
      "  (pool1): MaxPool1d(kernel_size=2, stride=2, padding=0, dilation=1, ceil_mode=False)\n",
      "  (conv2): Conv1d(32, 32, kernel_size=(3,), stride=(1,))\n",
      "  (bn2): BatchNorm1d(32, eps=1e-05, momentum=0.1, affine=True, track_running_stats=True)\n",
      "  (pool2): MaxPool1d(kernel_size=2, stride=2, padding=0, dilation=1, ceil_mode=False)\n",
      "  (conv3): Conv1d(32, 32, kernel_size=(3,), stride=(1,))\n",
      "  (bn3): BatchNorm1d(32, eps=1e-05, momentum=0.1, affine=True, track_running_stats=True)\n",
      "  (pool3): MaxPool1d(kernel_size=3, stride=3, padding=0, dilation=1, ceil_mode=False)\n",
      "  (conv4): Conv1d(32, 64, kernel_size=(3,), stride=(1,))\n",
      "  (bn4): BatchNorm1d(64, eps=1e-05, momentum=0.1, affine=True, track_running_stats=True)\n",
      "  (pool4): MaxPool1d(kernel_size=3, stride=3, padding=0, dilation=1, ceil_mode=False)\n",
      "  (conv5): Conv1d(64, 64, kernel_size=(3,), stride=(1,))\n",
      "  (bn5): BatchNorm1d(64, eps=1e-05, momentum=0.1, affine=True, track_running_stats=True)\n",
      "  (pool5): MaxPool1d(kernel_size=3, stride=3, padding=0, dilation=1, ceil_mode=False)\n",
      "  (conv6): Conv1d(64, 64, kernel_size=(3,), stride=(1,))\n",
      "  (bn6): BatchNorm1d(64, eps=1e-05, momentum=0.1, affine=True, track_running_stats=True)\n",
      "  (pool6): MaxPool1d(kernel_size=3, stride=3, padding=0, dilation=1, ceil_mode=False)\n",
      "  (fc1): Linear(in_features=64, out_features=32, bias=True)\n",
      "  (fc2): Linear(in_features=32, out_features=7, bias=True)\n",
      ")\n",
      "Number of parameters: 40231\n"
     ]
    }
   ],
   "source": [
    "class M5(nn.Module):\n",
    "    def __init__(self, n_input=1, n_output=35, stride=1, n_channel=32):\n",
    "        super().__init__()\n",
    "        self.conv1 = nn.Conv1d(n_input, n_channel, kernel_size=3, stride=stride)\n",
    "        self.bn1 = nn.BatchNorm1d(n_channel)\n",
    "        self.pool1 = nn.MaxPool1d(2)\n",
    "        self.conv2 = nn.Conv1d(n_channel, n_channel, kernel_size=3)\n",
    "        self.bn2 = nn.BatchNorm1d(n_channel)\n",
    "        self.pool2 = nn.MaxPool1d(2)\n",
    "        self.conv3 = nn.Conv1d(n_channel, n_channel, kernel_size=3)\n",
    "        self.bn3 = nn.BatchNorm1d(n_channel)\n",
    "        self.pool3 = nn.MaxPool1d(3)\n",
    "        self.conv4 = nn.Conv1d(n_channel, 2 * n_channel, kernel_size=3)\n",
    "        self.bn4 = nn.BatchNorm1d(2 * n_channel)\n",
    "        self.pool4 = nn.MaxPool1d(3)\n",
    "        self.conv5 = nn.Conv1d(2 * n_channel, 2 * n_channel, kernel_size=3)\n",
    "        self.bn5 = nn.BatchNorm1d(2 * n_channel)\n",
    "        self.pool5 = nn.MaxPool1d(3)\n",
    "        self.conv6 = nn.Conv1d(2 * n_channel, 2 * n_channel, kernel_size=3)\n",
    "        self.bn6 = nn.BatchNorm1d(2 * n_channel)\n",
    "        self.pool6 = nn.MaxPool1d(3)\n",
    "        self.fc1 = nn.Linear(2 * n_channel, n_channel)\n",
    "        self.fc2 = nn.Linear(n_channel, n_output)\n",
    "\n",
    "    def forward(self, x):\n",
    "        # print(f'CONV1 INPUT SHAPE: {x.shape}')\n",
    "        x = self.conv1(x)\n",
    "        # print(f'CONV1 OUTPUT SHAPE: {x.shape}')\n",
    "        x = F.relu(self.bn1(x))\n",
    "        # print(f'POOL1 INPUT SHAPE: {x.shape}')\n",
    "        x = self.pool1(x)\n",
    "        # print(f'POOL1 OUTPUT SHAPE: {x.shape}')\n",
    "        x = self.conv2(x)\n",
    "        x = F.relu(self.bn2(x))\n",
    "        # print(f'POOL2 INPUT SHAPE: {x.shape}')\n",
    "        x = self.pool2(x)\n",
    "        # print(f'POOL2 OUTPUT SHAPE: {x.shape}')\n",
    "        x = self.conv3(x)\n",
    "        x = F.relu(self.bn3(x))\n",
    "        # print(f'POOL3 INPUT SHAPE: {x.shape}')\n",
    "        x = self.pool3(x)\n",
    "        # print(f'POOL3 OUTPUT SHAPE: {x.shape}')\n",
    "        x = self.conv4(x)\n",
    "        # print(f'BATCHNORM4 INPUT SHAPE: {x.shape}')\n",
    "        x = F.relu(self.bn4(x))\n",
    "        # print(f'POOL4 INPUT SHAPE: {x.shape}')\n",
    "        x = self.pool4(x)\n",
    "        # print(f'POOL4 OUTPUT SHAPE: {x.shape}')\n",
    "        x = self.conv5(x)\n",
    "        # print(f'BATCHNORM5 INPUT SHAPE: {x.shape}')\n",
    "        x = F.relu(self.bn5(x))\n",
    "        # print(f'POOL5 INPUT SHAPE: {x.shape}')\n",
    "        x = self.pool5(x)\n",
    "        # print(f'POOL5 OUTPUT SHAPE: {x.shape}')\n",
    "        x = self.conv6(x)\n",
    "        # print(f'BATCHNORM6 INPUT SHAPE: {x.shape}')\n",
    "        x = F.relu(self.bn6(x))\n",
    "        # print(f'POOL6 INPUT SHAPE: {x.shape}')\n",
    "        x = self.pool6(x)\n",
    "        # print(f'POOL6 OUTPUT SHAPE: {x.shape}')\n",
    "        x = F.avg_pool1d(x, x.shape[-1])\n",
    "        x = x.permute(0, 2, 1)\n",
    "        x = F.relu(self.fc1(x))\n",
    "        x = self.fc2(x)\n",
    "        return F.log_softmax(x, dim=2)\n",
    "\n",
    "\n",
    "model = M5(n_input = 2, n_output = len(set(dataset.labels)))\n",
    "model.double().to(device)\n",
    "print(model)\n",
    "\n",
    "\n",
    "def count_parameters(model):\n",
    "    return sum(p.numel() for p in model.parameters() if p.requires_grad)\n",
    "\n",
    "\n",
    "n = count_parameters(model)\n",
    "print(\"Number of parameters: %s\" % n)"
   ],
   "metadata": {
    "collapsed": false,
    "pycharm": {
     "name": "#%%\n"
    }
   }
  },
  {
   "cell_type": "code",
   "execution_count": 9,
   "outputs": [],
   "source": [
    "optimizer = optim.Adam(model.parameters(), lr=3e-4, weight_decay=0.0001)\n",
    "# scheduler = optim.lr_scheduler.StepLR(optimizer, step_size=10, gamma=0.7)  # reduce the learning after 20 epochs by a factor\n",
    "scheduler = optim.lr_scheduler.ReduceLROnPlateau(optimizer, mode = 'min', factor = 0.1, patience = 7, verbose = True)  # reduce learning after 7 epochs with no improvement"
   ],
   "metadata": {
    "collapsed": false,
    "pycharm": {
     "name": "#%%\n"
    }
   }
  },
  {
   "cell_type": "code",
   "execution_count": 10,
   "outputs": [],
   "source": [
    "def train(model, epoch, log_interval, writer: SummaryWriter):\n",
    "    train_losses = []\n",
    "    model.train()\n",
    "    for batch_idx, (data, target) in enumerate(train_loader):\n",
    "\n",
    "        data = data.to(device)\n",
    "        # print(f'DATA SHAPE: {data.shape}')\n",
    "        target = target.to(device)\n",
    "\n",
    "        # apply transform and model on whole batch directly on device\n",
    "        output = model(data)\n",
    "\n",
    "        # negative log-likelihood for a tensor of size (batch x 1 x n_output)\n",
    "        squeezed_output = output.squeeze()\n",
    "        loss = F.nll_loss(squeezed_output, target.argmax(dim = 1))\n",
    "\n",
    "        writer.add_scalar('Train loss', loss.item(), epoch * len(train_loader.dataset) + batch_idx)\n",
    "\n",
    "        optimizer.zero_grad()\n",
    "        loss.backward()\n",
    "        optimizer.step()\n",
    "\n",
    "        # print training stats\n",
    "        if batch_idx % log_interval == 0:\n",
    "            print(f\"Train Epoch: {epoch} [{batch_idx * len(data)}/{len(train_loader.dataset)} ({100. * batch_idx / len(train_loader):.0f}%)]\\tLoss: {loss.item():.6f}\")\n",
    "\n",
    "        # update progress bar\n",
    "        pbar.update(pbar_update)\n",
    "        # record loss\n",
    "        train_losses.append(loss.item())\n",
    "    return train_losses"
   ],
   "metadata": {
    "collapsed": false,
    "pycharm": {
     "name": "#%%\n"
    }
   }
  },
  {
   "cell_type": "code",
   "execution_count": 11,
   "outputs": [],
   "source": [
    "from sklearn.metrics import (\n",
    "    accuracy_score,\n",
    "    f1_score,\n",
    "    precision_score,\n",
    "    recall_score\n",
    ")\n",
    "\n",
    "\n",
    "def number_of_correct(pred, target):\n",
    "    # count number of correct predictions\n",
    "    return pred.squeeze().eq(target).sum().item()\n",
    "\n",
    "\n",
    "def get_likely_index(tensor):\n",
    "    # find most likely label index for each element in the batch\n",
    "    return tensor.argmax(dim=-1)\n",
    "\n",
    "\n",
    "def test(model, epoch, writer: SummaryWriter):\n",
    "    model.eval()\n",
    "    correct = 0\n",
    "    y_true = []\n",
    "    y_pred = []\n",
    "    loss_sum = 0\n",
    "    for data, target in test_loader:\n",
    "\n",
    "        data = data.to(device)\n",
    "        target = target.to(device)\n",
    "\n",
    "        output = model(data)\n",
    "\n",
    "        squeezed_output = output.squeeze()\n",
    "        loss_sum += F.nll_loss(squeezed_output, target.argmax(dim = 1)).item()\n",
    "\n",
    "        pred = get_likely_index(output)\n",
    "        correct += number_of_correct(pred, target.argmax(dim = 1))\n",
    "\n",
    "        y_true.extend(pred.squeeze().data.cpu().numpy())\n",
    "        y_pred.extend(target.data.cpu().numpy().argmax(axis = 1))\n",
    "\n",
    "        # update progress bar\n",
    "        pbar.update(pbar_update)\n",
    "    accuracy = accuracy_score(y_true, y_pred)\n",
    "    precision = precision_score(y_true, y_pred, average='micro')\n",
    "    recall = recall_score(y_true, y_pred, average='micro')\n",
    "    f1 = f1_score(y_true, y_pred, average='micro')\n",
    "\n",
    "    writer.add_scalar('Test accuracy', accuracy, epoch)\n",
    "    writer.add_scalar('Test precision', precision, epoch)\n",
    "    writer.add_scalar('Test recall', recall, epoch)\n",
    "    writer.add_scalar('Test f1', f1, epoch)\n",
    "    writer.add_scalar('Test average loss', loss_sum / len(test_loader.dataset), epoch)\n",
    "\n",
    "    # Build confusion matrix\n",
    "    cf_matrix = confusion_matrix(y_true, y_pred)\n",
    "    df_cm = pd.DataFrame(cf_matrix, index = [i for i in CLASSES],\n",
    "                         columns = [i for i in CLASSES])\n",
    "    plt.figure(figsize = (12,7))\n",
    "    cf_matrix_figure = sn.heatmap(df_cm, annot=True).get_figure()\n",
    "    writer.add_figure('Test confusion matrix', cf_matrix_figure, epoch)\n",
    "\n",
    "    print(f\"\\nTest Epoch: {epoch}\\tAccuracy: {correct}/{len(test_loader.dataset)} ({accuracy:.4%})\\n\")\n",
    "    return accuracy, precision, recall, f1, loss_sum"
   ],
   "metadata": {
    "collapsed": false,
    "pycharm": {
     "name": "#%%\n"
    }
   }
  },
  {
   "cell_type": "code",
   "execution_count": null,
   "outputs": [
    {
     "name": "stderr",
     "output_type": "stream",
     "text": [
      "  0%|          | 0.008130081300813009/300 [00:00<6:40:35, 80.12s/it]"
     ]
    },
    {
     "name": "stdout",
     "output_type": "stream",
     "text": [
      "Train Epoch: 1 [0/24846 (0%)]\tLoss: 1.876798\n"
     ]
    },
    {
     "name": "stderr",
     "output_type": "stream",
     "text": [
      "  0%|          | 0.17073170731707313/300 [00:03<1:44:39, 20.94s/it] "
     ]
    },
    {
     "name": "stdout",
     "output_type": "stream",
     "text": [
      "Train Epoch: 1 [5120/24846 (20%)]\tLoss: 1.420628\n"
     ]
    },
    {
     "name": "stderr",
     "output_type": "stream",
     "text": [
      "  0%|          | 0.3333333333333331/300 [00:07<2:07:05, 25.45s/it] "
     ]
    },
    {
     "name": "stdout",
     "output_type": "stream",
     "text": [
      "Train Epoch: 1 [10240/24846 (41%)]\tLoss: 1.035869\n"
     ]
    },
    {
     "name": "stderr",
     "output_type": "stream",
     "text": [
      "  0%|          | 0.5121951219512191/300 [00:10<1:25:48, 17.19s/it] "
     ]
    },
    {
     "name": "stdout",
     "output_type": "stream",
     "text": [
      "Train Epoch: 1 [15360/24846 (61%)]\tLoss: 0.802080\n"
     ]
    },
    {
     "name": "stderr",
     "output_type": "stream",
     "text": [
      "  0%|          | 0.658536585365854/300 [00:13<1:45:15, 21.10s/it] "
     ]
    },
    {
     "name": "stdout",
     "output_type": "stream",
     "text": [
      "Train Epoch: 1 [20480/24846 (82%)]\tLoss: 0.568171\n"
     ]
    },
    {
     "name": "stderr",
     "output_type": "stream",
     "text": [
      "  0%|          | 0.9918699186991892/300 [00:16<29:56,  6.01s/it]  "
     ]
    },
    {
     "name": "stdout",
     "output_type": "stream",
     "text": [
      "\n",
      "Test Epoch: 1\tAccuracy: 5555/6212 (89.4237%)\n",
      "\n",
      "Train Epoch: 2 [0/24846 (0%)]\tLoss: 0.388411\n"
     ]
    },
    {
     "name": "stderr",
     "output_type": "stream",
     "text": [
      "  0%|          | 1.170731707317074/300 [00:20<1:47:02, 21.49s/it] "
     ]
    },
    {
     "name": "stdout",
     "output_type": "stream",
     "text": [
      "Train Epoch: 2 [5120/24846 (20%)]\tLoss: 0.287556\n"
     ]
    },
    {
     "name": "stderr",
     "output_type": "stream",
     "text": [
      "  0%|          | 1.3333333333333328/300 [00:23<1:57:58, 23.70s/it]"
     ]
    },
    {
     "name": "stdout",
     "output_type": "stream",
     "text": [
      "Train Epoch: 2 [10240/24846 (41%)]\tLoss: 0.261560\n"
     ]
    },
    {
     "name": "stderr",
     "output_type": "stream",
     "text": [
      "  1%|          | 1.5121951219512175/300 [00:26<1:23:41, 16.82s/it]"
     ]
    },
    {
     "name": "stdout",
     "output_type": "stream",
     "text": [
      "Train Epoch: 2 [15360/24846 (61%)]\tLoss: 0.235672\n"
     ]
    },
    {
     "name": "stderr",
     "output_type": "stream",
     "text": [
      "  1%|          | 1.6585365853658505/300 [00:29<1:42:51, 20.68s/it]"
     ]
    },
    {
     "name": "stdout",
     "output_type": "stream",
     "text": [
      "Train Epoch: 2 [20480/24846 (82%)]\tLoss: 0.188515\n"
     ]
    },
    {
     "name": "stderr",
     "output_type": "stream",
     "text": [
      "  1%|          | 1.991869918699181/300 [00:32<30:05,  6.06s/it]   "
     ]
    },
    {
     "name": "stdout",
     "output_type": "stream",
     "text": [
      "\n",
      "Test Epoch: 2\tAccuracy: 5877/6212 (94.6072%)\n",
      "\n",
      "Train Epoch: 3 [0/24846 (0%)]\tLoss: 0.202742\n"
     ]
    },
    {
     "name": "stderr",
     "output_type": "stream",
     "text": [
      "  1%|          | 2.1869918699186965/300 [00:36<1:24:04, 16.94s/it]"
     ]
    },
    {
     "name": "stdout",
     "output_type": "stream",
     "text": [
      "Train Epoch: 3 [5120/24846 (20%)]\tLoss: 0.117217\n"
     ]
    },
    {
     "name": "stderr",
     "output_type": "stream",
     "text": [
      "  1%|          | 2.34959349593496/300 [00:39<1:24:09, 16.96s/it]  "
     ]
    },
    {
     "name": "stdout",
     "output_type": "stream",
     "text": [
      "Train Epoch: 3 [10240/24846 (41%)]\tLoss: 0.249965\n"
     ]
    },
    {
     "name": "stderr",
     "output_type": "stream",
     "text": [
      "  1%|          | 2.4959349593495967/300 [00:41<1:43:12, 20.82s/it]"
     ]
    },
    {
     "name": "stdout",
     "output_type": "stream",
     "text": [
      "Train Epoch: 3 [15360/24846 (61%)]\tLoss: 0.144507\n"
     ]
    },
    {
     "name": "stderr",
     "output_type": "stream",
     "text": [
      "  1%|          | 2.65853658536586/300 [00:44<1:44:26, 21.08s/it]  "
     ]
    },
    {
     "name": "stdout",
     "output_type": "stream",
     "text": [
      "Train Epoch: 3 [20480/24846 (82%)]\tLoss: 0.153024\n"
     ]
    },
    {
     "name": "stderr",
     "output_type": "stream",
     "text": [
      "  1%|          | 3.008130081300826/300 [00:48<45:44,  9.24s/it]   "
     ]
    },
    {
     "name": "stdout",
     "output_type": "stream",
     "text": [
      "\n",
      "Test Epoch: 3\tAccuracy: 5994/6212 (96.4907%)\n",
      "\n",
      "Train Epoch: 4 [0/24846 (0%)]\tLoss: 0.114317\n"
     ]
    },
    {
     "name": "stderr",
     "output_type": "stream",
     "text": [
      "  1%|          | 3.1869918699187156/300 [00:51<1:24:14, 17.03s/it]"
     ]
    },
    {
     "name": "stdout",
     "output_type": "stream",
     "text": [
      "Train Epoch: 4 [5120/24846 (20%)]\tLoss: 0.108190\n"
     ]
    },
    {
     "name": "stderr",
     "output_type": "stream",
     "text": [
      "  1%|          | 3.349593495934979/300 [00:54<1:24:34, 17.11s/it] "
     ]
    },
    {
     "name": "stdout",
     "output_type": "stream",
     "text": [
      "Train Epoch: 4 [10240/24846 (41%)]\tLoss: 0.117127\n"
     ]
    },
    {
     "name": "stderr",
     "output_type": "stream",
     "text": [
      "  1%|          | 3.495934959349616/300 [00:57<1:48:09, 21.89s/it] "
     ]
    },
    {
     "name": "stdout",
     "output_type": "stream",
     "text": [
      "Train Epoch: 4 [15360/24846 (61%)]\tLoss: 0.147472\n"
     ]
    },
    {
     "name": "stderr",
     "output_type": "stream",
     "text": [
      "  1%|          | 3.658536585365879/300 [01:00<1:59:18, 24.16s/it] "
     ]
    },
    {
     "name": "stdout",
     "output_type": "stream",
     "text": [
      "Train Epoch: 4 [20480/24846 (82%)]\tLoss: 0.048890\n"
     ]
    },
    {
     "name": "stderr",
     "output_type": "stream",
     "text": [
      "  1%|▏         | 4.000000000000032/300 [01:04<27:04,  5.49s/it]   "
     ]
    },
    {
     "name": "stdout",
     "output_type": "stream",
     "text": [
      "\n",
      "Test Epoch: 4\tAccuracy: 5996/6212 (96.5229%)\n",
      "\n",
      "Train Epoch: 5 [0/24846 (0%)]\tLoss: 0.107705\n"
     ]
    },
    {
     "name": "stderr",
     "output_type": "stream",
     "text": [
      "  1%|▏         | 4.170731707317099/300 [01:07<1:40:32, 20.39s/it] "
     ]
    },
    {
     "name": "stdout",
     "output_type": "stream",
     "text": [
      "Train Epoch: 5 [5120/24846 (20%)]\tLoss: 0.082959\n"
     ]
    },
    {
     "name": "stderr",
     "output_type": "stream",
     "text": [
      "  1%|▏         | 4.3333333333333535/300 [01:10<1:41:56, 20.69s/it]"
     ]
    },
    {
     "name": "stdout",
     "output_type": "stream",
     "text": [
      "Train Epoch: 5 [10240/24846 (41%)]\tLoss: 0.073720\n"
     ]
    },
    {
     "name": "stderr",
     "output_type": "stream",
     "text": [
      "  2%|▏         | 4.512195121951233/300 [01:13<1:22:33, 16.77s/it] "
     ]
    },
    {
     "name": "stdout",
     "output_type": "stream",
     "text": [
      "Train Epoch: 5 [15360/24846 (61%)]\tLoss: 0.089628\n"
     ]
    },
    {
     "name": "stderr",
     "output_type": "stream",
     "text": [
      "  2%|▏         | 4.674796747967488/300 [01:16<1:22:31, 16.77s/it] "
     ]
    },
    {
     "name": "stdout",
     "output_type": "stream",
     "text": [
      "Train Epoch: 5 [20480/24846 (82%)]\tLoss: 0.108739\n"
     ]
    },
    {
     "name": "stderr",
     "output_type": "stream",
     "text": [
      "  2%|▏         | 4.9999999999999964/300 [01:19<26:51,  5.46s/it]  "
     ]
    },
    {
     "name": "stdout",
     "output_type": "stream",
     "text": [
      "\n",
      "Test Epoch: 5\tAccuracy: 6061/6212 (97.5692%)\n",
      "\n",
      "Train Epoch: 6 [0/24846 (0%)]\tLoss: 0.057277\n"
     ]
    },
    {
     "name": "stderr",
     "output_type": "stream",
     "text": [
      "  2%|▏         | 5.186991869918689/300 [01:22<1:21:53, 16.67s/it] "
     ]
    },
    {
     "name": "stdout",
     "output_type": "stream",
     "text": [
      "Train Epoch: 6 [5120/24846 (20%)]\tLoss: 0.079050\n"
     ]
    },
    {
     "name": "stderr",
     "output_type": "stream",
     "text": [
      "  2%|▏         | 5.349593495934943/300 [01:25<1:22:24, 16.78s/it] "
     ]
    },
    {
     "name": "stdout",
     "output_type": "stream",
     "text": [
      "Train Epoch: 6 [10240/24846 (41%)]\tLoss: 0.099598\n"
     ]
    },
    {
     "name": "stderr",
     "output_type": "stream",
     "text": [
      "  2%|▏         | 5.512195121951198/300 [01:28<1:22:01, 16.71s/it] "
     ]
    },
    {
     "name": "stdout",
     "output_type": "stream",
     "text": [
      "Train Epoch: 6 [15360/24846 (61%)]\tLoss: 0.075224\n"
     ]
    },
    {
     "name": "stderr",
     "output_type": "stream",
     "text": [
      "  2%|▏         | 5.674796747967452/300 [01:31<1:22:15, 16.77s/it] "
     ]
    },
    {
     "name": "stdout",
     "output_type": "stream",
     "text": [
      "Train Epoch: 6 [20480/24846 (82%)]\tLoss: 0.048078\n"
     ]
    },
    {
     "name": "stderr",
     "output_type": "stream",
     "text": [
      "  2%|▏         | 5.999999999999961/300 [01:34<26:50,  5.48s/it]   "
     ]
    },
    {
     "name": "stdout",
     "output_type": "stream",
     "text": [
      "\n",
      "Test Epoch: 6\tAccuracy: 6072/6212 (97.7463%)\n",
      "\n",
      "Train Epoch: 7 [0/24846 (0%)]\tLoss: 0.073512\n"
     ]
    },
    {
     "name": "stderr",
     "output_type": "stream",
     "text": [
      "  2%|▏         | 6.1869918699186535/300 [01:37<1:21:56, 16.73s/it]"
     ]
    },
    {
     "name": "stdout",
     "output_type": "stream",
     "text": [
      "Train Epoch: 7 [5120/24846 (20%)]\tLoss: 0.054593\n"
     ]
    },
    {
     "name": "stderr",
     "output_type": "stream",
     "text": [
      "  2%|▏         | 6.349593495934908/300 [01:40<1:21:36, 16.67s/it] "
     ]
    },
    {
     "name": "stdout",
     "output_type": "stream",
     "text": [
      "Train Epoch: 7 [10240/24846 (41%)]\tLoss: 0.062119\n"
     ]
    },
    {
     "name": "stderr",
     "output_type": "stream",
     "text": [
      "  2%|▏         | 6.512195121951162/300 [01:43<1:21:53, 16.74s/it] "
     ]
    },
    {
     "name": "stdout",
     "output_type": "stream",
     "text": [
      "Train Epoch: 7 [15360/24846 (61%)]\tLoss: 0.107257\n"
     ]
    },
    {
     "name": "stderr",
     "output_type": "stream",
     "text": [
      "  2%|▏         | 6.674796747967417/300 [01:46<1:21:44, 16.72s/it] "
     ]
    },
    {
     "name": "stdout",
     "output_type": "stream",
     "text": [
      "Train Epoch: 7 [20480/24846 (82%)]\tLoss: 0.087453\n"
     ]
    },
    {
     "name": "stderr",
     "output_type": "stream",
     "text": [
      "  2%|▏         | 6.999999999999925/300 [01:49<26:45,  5.48s/it]   "
     ]
    },
    {
     "name": "stdout",
     "output_type": "stream",
     "text": [
      "\n",
      "Test Epoch: 7\tAccuracy: 6074/6212 (97.7785%)\n",
      "\n",
      "Train Epoch: 8 [0/24846 (0%)]\tLoss: 0.066985\n"
     ]
    },
    {
     "name": "stderr",
     "output_type": "stream",
     "text": [
      "  2%|▏         | 7.186991869918618/300 [01:52<1:21:14, 16.65s/it] "
     ]
    },
    {
     "name": "stdout",
     "output_type": "stream",
     "text": [
      "Train Epoch: 8 [5120/24846 (20%)]\tLoss: 0.065154\n"
     ]
    },
    {
     "name": "stderr",
     "output_type": "stream",
     "text": [
      "  2%|▏         | 7.349593495934872/300 [01:55<1:21:48, 16.77s/it] "
     ]
    },
    {
     "name": "stdout",
     "output_type": "stream",
     "text": [
      "Train Epoch: 8 [10240/24846 (41%)]\tLoss: 0.029882\n"
     ]
    },
    {
     "name": "stderr",
     "output_type": "stream",
     "text": [
      "  2%|▏         | 7.495934959349501/300 [01:58<1:40:27, 20.61s/it] "
     ]
    },
    {
     "name": "stdout",
     "output_type": "stream",
     "text": [
      "Train Epoch: 8 [15360/24846 (61%)]\tLoss: 0.073481\n"
     ]
    },
    {
     "name": "stderr",
     "output_type": "stream",
     "text": [
      "  3%|▎         | 7.674796747967381/300 [02:01<1:21:47, 16.79s/it] "
     ]
    },
    {
     "name": "stdout",
     "output_type": "stream",
     "text": [
      "Train Epoch: 8 [20480/24846 (82%)]\tLoss: 0.042676\n"
     ]
    },
    {
     "name": "stderr",
     "output_type": "stream",
     "text": [
      "  3%|▎         | 7.99999999999989/300 [02:04<26:37,  5.47s/it]    "
     ]
    },
    {
     "name": "stdout",
     "output_type": "stream",
     "text": [
      "\n",
      "Test Epoch: 8\tAccuracy: 6044/6212 (97.2956%)\n",
      "\n",
      "Train Epoch: 9 [0/24846 (0%)]\tLoss: 0.044279\n"
     ]
    },
    {
     "name": "stderr",
     "output_type": "stream",
     "text": [
      "  3%|▎         | 8.186991869918582/300 [02:08<1:20:57, 16.64s/it]"
     ]
    },
    {
     "name": "stdout",
     "output_type": "stream",
     "text": [
      "Train Epoch: 9 [5120/24846 (20%)]\tLoss: 0.035676\n"
     ]
    },
    {
     "name": "stderr",
     "output_type": "stream",
     "text": [
      "  3%|▎         | 8.349593495934837/300 [02:10<1:21:29, 16.76s/it]"
     ]
    },
    {
     "name": "stdout",
     "output_type": "stream",
     "text": [
      "Train Epoch: 9 [10240/24846 (41%)]\tLoss: 0.058610\n"
     ]
    },
    {
     "name": "stderr",
     "output_type": "stream",
     "text": [
      "  3%|▎         | 8.512195121951091/300 [02:13<1:21:12, 16.72s/it]"
     ]
    },
    {
     "name": "stdout",
     "output_type": "stream",
     "text": [
      "Train Epoch: 9 [15360/24846 (61%)]\tLoss: 0.079736\n"
     ]
    },
    {
     "name": "stderr",
     "output_type": "stream",
     "text": [
      "  3%|▎         | 8.674796747967346/300 [02:16<1:21:27, 16.78s/it]"
     ]
    },
    {
     "name": "stdout",
     "output_type": "stream",
     "text": [
      "Train Epoch: 9 [20480/24846 (82%)]\tLoss: 0.043347\n"
     ]
    },
    {
     "name": "stderr",
     "output_type": "stream",
     "text": [
      "  3%|▎         | 8.999999999999854/300 [02:19<26:31,  5.47s/it]  "
     ]
    },
    {
     "name": "stdout",
     "output_type": "stream",
     "text": [
      "\n",
      "Test Epoch: 9\tAccuracy: 6071/6212 (97.7302%)\n",
      "\n",
      "Train Epoch: 10 [0/24846 (0%)]\tLoss: 0.030728\n"
     ]
    },
    {
     "name": "stderr",
     "output_type": "stream",
     "text": [
      "  3%|▎         | 9.186991869918547/300 [02:23<1:20:40, 16.64s/it]"
     ]
    },
    {
     "name": "stdout",
     "output_type": "stream",
     "text": [
      "Train Epoch: 10 [5120/24846 (20%)]\tLoss: 0.049140\n"
     ]
    },
    {
     "name": "stderr",
     "output_type": "stream",
     "text": [
      "  3%|▎         | 9.349593495934801/300 [02:26<1:21:21, 16.80s/it]"
     ]
    },
    {
     "name": "stdout",
     "output_type": "stream",
     "text": [
      "Train Epoch: 10 [10240/24846 (41%)]\tLoss: 0.034112\n"
     ]
    },
    {
     "name": "stderr",
     "output_type": "stream",
     "text": [
      "  3%|▎         | 9.512195121951056/300 [02:28<1:21:16, 16.79s/it]"
     ]
    },
    {
     "name": "stdout",
     "output_type": "stream",
     "text": [
      "Train Epoch: 10 [15360/24846 (61%)]\tLoss: 0.035175\n"
     ]
    },
    {
     "name": "stderr",
     "output_type": "stream",
     "text": [
      "  3%|▎         | 9.67479674796731/300 [02:31<1:21:18, 16.80s/it] "
     ]
    },
    {
     "name": "stdout",
     "output_type": "stream",
     "text": [
      "Train Epoch: 10 [20480/24846 (82%)]\tLoss: 0.060544\n"
     ]
    },
    {
     "name": "stderr",
     "output_type": "stream",
     "text": [
      "  3%|▎         | 9.999999999999819/300 [02:35<26:26,  5.47s/it]  "
     ]
    },
    {
     "name": "stdout",
     "output_type": "stream",
     "text": [
      "\n",
      "Test Epoch: 10\tAccuracy: 6093/6212 (98.0844%)\n",
      "\n",
      "Train Epoch: 11 [0/24846 (0%)]\tLoss: 0.029125\n"
     ]
    },
    {
     "name": "stderr",
     "output_type": "stream",
     "text": [
      "  3%|▎         | 10.170731707316886/300 [02:38<1:38:23, 20.37s/it]"
     ]
    },
    {
     "name": "stdout",
     "output_type": "stream",
     "text": [
      "Train Epoch: 11 [5120/24846 (20%)]\tLoss: 0.038121\n"
     ]
    },
    {
     "name": "stderr",
     "output_type": "stream",
     "text": [
      "  3%|▎         | 10.349593495934766/300 [02:41<1:20:56, 16.77s/it]"
     ]
    },
    {
     "name": "stdout",
     "output_type": "stream",
     "text": [
      "Train Epoch: 11 [10240/24846 (41%)]\tLoss: 0.098435\n"
     ]
    },
    {
     "name": "stderr",
     "output_type": "stream",
     "text": [
      "  4%|▎         | 10.51219512195102/300 [02:44<1:20:56, 16.78s/it] "
     ]
    },
    {
     "name": "stdout",
     "output_type": "stream",
     "text": [
      "Train Epoch: 11 [15360/24846 (61%)]\tLoss: 0.043306\n"
     ]
    },
    {
     "name": "stderr",
     "output_type": "stream",
     "text": [
      "  4%|▎         | 10.674796747967275/300 [02:46<1:20:38, 16.72s/it]"
     ]
    },
    {
     "name": "stdout",
     "output_type": "stream",
     "text": [
      "Train Epoch: 11 [20480/24846 (82%)]\tLoss: 0.028350\n"
     ]
    },
    {
     "name": "stderr",
     "output_type": "stream",
     "text": [
      "  4%|▎         | 10.999999999999783/300 [02:50<26:21,  5.47s/it]  "
     ]
    },
    {
     "name": "stdout",
     "output_type": "stream",
     "text": [
      "\n",
      "Test Epoch: 11\tAccuracy: 6062/6212 (97.5853%)\n",
      "\n",
      "Train Epoch: 12 [0/24846 (0%)]\tLoss: 0.040891\n"
     ]
    },
    {
     "name": "stderr",
     "output_type": "stream",
     "text": [
      "  4%|▎         | 11.186991869918476/300 [02:53<1:20:10, 16.65s/it]"
     ]
    },
    {
     "name": "stdout",
     "output_type": "stream",
     "text": [
      "Train Epoch: 12 [5120/24846 (20%)]\tLoss: 0.030704\n"
     ]
    },
    {
     "name": "stderr",
     "output_type": "stream",
     "text": [
      "  4%|▍         | 11.34959349593473/300 [02:56<1:20:34, 16.75s/it] "
     ]
    },
    {
     "name": "stdout",
     "output_type": "stream",
     "text": [
      "Train Epoch: 12 [10240/24846 (41%)]\tLoss: 0.032731\n"
     ]
    },
    {
     "name": "stderr",
     "output_type": "stream",
     "text": [
      "  4%|▍         | 11.512195121950985/300 [02:59<1:20:23, 16.72s/it]"
     ]
    },
    {
     "name": "stdout",
     "output_type": "stream",
     "text": [
      "Train Epoch: 12 [15360/24846 (61%)]\tLoss: 0.017616\n"
     ]
    },
    {
     "name": "stderr",
     "output_type": "stream",
     "text": [
      "  4%|▍         | 11.674796747967239/300 [03:02<1:20:24, 16.73s/it]"
     ]
    },
    {
     "name": "stdout",
     "output_type": "stream",
     "text": [
      "Train Epoch: 12 [20480/24846 (82%)]\tLoss: 0.050997\n"
     ]
    },
    {
     "name": "stderr",
     "output_type": "stream",
     "text": [
      "  4%|▍         | 11.999999999999748/300 [03:05<26:20,  5.49s/it]  "
     ]
    },
    {
     "name": "stdout",
     "output_type": "stream",
     "text": [
      "\n",
      "Test Epoch: 12\tAccuracy: 6092/6212 (98.0683%)\n",
      "\n",
      "Train Epoch: 13 [0/24846 (0%)]\tLoss: 0.045330\n"
     ]
    },
    {
     "name": "stderr",
     "output_type": "stream",
     "text": [
      "  4%|▍         | 12.18699186991844/300 [03:08<1:19:58, 16.67s/it] "
     ]
    },
    {
     "name": "stdout",
     "output_type": "stream",
     "text": [
      "Train Epoch: 13 [5120/24846 (20%)]\tLoss: 0.037472\n"
     ]
    },
    {
     "name": "stderr",
     "output_type": "stream",
     "text": [
      "  4%|▍         | 12.349593495934695/300 [03:11<1:20:19, 16.75s/it]"
     ]
    },
    {
     "name": "stdout",
     "output_type": "stream",
     "text": [
      "Train Epoch: 13 [10240/24846 (41%)]\tLoss: 0.026437\n"
     ]
    },
    {
     "name": "stderr",
     "output_type": "stream",
     "text": [
      "  4%|▍         | 12.512195121950949/300 [03:14<1:20:10, 16.73s/it]"
     ]
    },
    {
     "name": "stdout",
     "output_type": "stream",
     "text": [
      "Train Epoch: 13 [15360/24846 (61%)]\tLoss: 0.021925\n"
     ]
    },
    {
     "name": "stderr",
     "output_type": "stream",
     "text": [
      "  4%|▍         | 12.674796747967203/300 [03:17<1:20:04, 16.72s/it]"
     ]
    },
    {
     "name": "stdout",
     "output_type": "stream",
     "text": [
      "Train Epoch: 13 [20480/24846 (82%)]\tLoss: 0.020465\n"
     ]
    },
    {
     "name": "stderr",
     "output_type": "stream",
     "text": [
      "  4%|▍         | 12.999999999999712/300 [03:20<26:15,  5.49s/it]  "
     ]
    },
    {
     "name": "stdout",
     "output_type": "stream",
     "text": [
      "\n",
      "Test Epoch: 13\tAccuracy: 6123/6212 (98.5673%)\n",
      "\n",
      "Train Epoch: 14 [0/24846 (0%)]\tLoss: 0.015146\n"
     ]
    },
    {
     "name": "stderr",
     "output_type": "stream",
     "text": [
      "  4%|▍         | 13.186991869918405/300 [03:23<1:19:28, 16.63s/it]"
     ]
    },
    {
     "name": "stdout",
     "output_type": "stream",
     "text": [
      "Train Epoch: 14 [5120/24846 (20%)]\tLoss: 0.030694\n"
     ]
    },
    {
     "name": "stderr",
     "output_type": "stream",
     "text": [
      "  4%|▍         | 13.34959349593466/300 [03:26<1:19:56, 16.73s/it] "
     ]
    },
    {
     "name": "stdout",
     "output_type": "stream",
     "text": [
      "Train Epoch: 14 [10240/24846 (41%)]\tLoss: 0.009616\n"
     ]
    },
    {
     "name": "stderr",
     "output_type": "stream",
     "text": [
      "  5%|▍         | 13.512195121950914/300 [03:29<1:20:05, 16.77s/it]"
     ]
    },
    {
     "name": "stdout",
     "output_type": "stream",
     "text": [
      "Train Epoch: 14 [15360/24846 (61%)]\tLoss: 0.017247\n"
     ]
    },
    {
     "name": "stderr",
     "output_type": "stream",
     "text": [
      "  5%|▍         | 13.674796747967168/300 [03:32<1:20:07, 16.79s/it]"
     ]
    },
    {
     "name": "stdout",
     "output_type": "stream",
     "text": [
      "Train Epoch: 14 [20480/24846 (82%)]\tLoss: 0.011944\n"
     ]
    },
    {
     "name": "stderr",
     "output_type": "stream",
     "text": [
      "  5%|▍         | 13.991869918698864/300 [03:35<28:04,  5.89s/it]  "
     ]
    },
    {
     "name": "stdout",
     "output_type": "stream",
     "text": [
      "\n",
      "Test Epoch: 14\tAccuracy: 6106/6212 (98.2936%)\n",
      "\n",
      "Train Epoch: 15 [0/24846 (0%)]\tLoss: 0.016910\n"
     ]
    },
    {
     "name": "stderr",
     "output_type": "stream",
     "text": [
      "  5%|▍         | 14.18699186991837/300 [03:38<1:19:20, 16.66s/it] "
     ]
    },
    {
     "name": "stdout",
     "output_type": "stream",
     "text": [
      "Train Epoch: 15 [5120/24846 (20%)]\tLoss: 0.048880\n"
     ]
    },
    {
     "name": "stderr",
     "output_type": "stream",
     "text": [
      "  5%|▍         | 14.349593495934624/300 [03:41<1:19:45, 16.75s/it]"
     ]
    },
    {
     "name": "stdout",
     "output_type": "stream",
     "text": [
      "Train Epoch: 15 [10240/24846 (41%)]\tLoss: 0.052499\n"
     ]
    },
    {
     "name": "stderr",
     "output_type": "stream",
     "text": [
      "  5%|▍         | 14.512195121950878/300 [03:44<1:19:29, 16.71s/it]"
     ]
    },
    {
     "name": "stdout",
     "output_type": "stream",
     "text": [
      "Train Epoch: 15 [15360/24846 (61%)]\tLoss: 0.022937\n"
     ]
    },
    {
     "name": "stderr",
     "output_type": "stream",
     "text": [
      "  5%|▍         | 14.674796747967132/300 [03:47<1:19:45, 16.77s/it]"
     ]
    },
    {
     "name": "stdout",
     "output_type": "stream",
     "text": [
      "Train Epoch: 15 [20480/24846 (82%)]\tLoss: 0.040669\n"
     ]
    },
    {
     "name": "stderr",
     "output_type": "stream",
     "text": [
      "  5%|▍         | 14.999999999999641/300 [03:50<26:00,  5.48s/it]  "
     ]
    },
    {
     "name": "stdout",
     "output_type": "stream",
     "text": [
      "\n",
      "Test Epoch: 15\tAccuracy: 6107/6212 (98.3097%)\n",
      "\n",
      "Train Epoch: 16 [0/24846 (0%)]\tLoss: 0.014678\n"
     ]
    },
    {
     "name": "stderr",
     "output_type": "stream",
     "text": [
      "  5%|▌         | 15.170731707316708/300 [03:53<1:38:56, 20.84s/it]"
     ]
    },
    {
     "name": "stdout",
     "output_type": "stream",
     "text": [
      "Train Epoch: 16 [5120/24846 (20%)]\tLoss: 0.017104\n"
     ]
    },
    {
     "name": "stderr",
     "output_type": "stream",
     "text": [
      "  5%|▌         | 15.349593495934588/300 [03:56<1:19:34, 16.77s/it]"
     ]
    },
    {
     "name": "stdout",
     "output_type": "stream",
     "text": [
      "Train Epoch: 16 [10240/24846 (41%)]\tLoss: 0.045870\n"
     ]
    },
    {
     "name": "stderr",
     "output_type": "stream",
     "text": [
      "  5%|▌         | 15.512195121950842/300 [03:59<1:19:26, 16.75s/it]"
     ]
    },
    {
     "name": "stdout",
     "output_type": "stream",
     "text": [
      "Train Epoch: 16 [15360/24846 (61%)]\tLoss: 0.012774\n"
     ]
    },
    {
     "name": "stderr",
     "output_type": "stream",
     "text": [
      "  5%|▌         | 15.674796747967097/300 [04:02<1:19:14, 16.72s/it]"
     ]
    },
    {
     "name": "stdout",
     "output_type": "stream",
     "text": [
      "Train Epoch: 16 [20480/24846 (82%)]\tLoss: 0.021196\n"
     ]
    },
    {
     "name": "stderr",
     "output_type": "stream",
     "text": [
      "  5%|▌         | 15.999999999999606/300 [04:05<26:07,  5.52s/it]  "
     ]
    },
    {
     "name": "stdout",
     "output_type": "stream",
     "text": [
      "\n",
      "Test Epoch: 16\tAccuracy: 6115/6212 (98.4385%)\n",
      "\n",
      "Train Epoch: 17 [0/24846 (0%)]\tLoss: 0.015803\n"
     ]
    },
    {
     "name": "stderr",
     "output_type": "stream",
     "text": [
      "  5%|▌         | 16.186991869918298/300 [04:09<1:18:42, 16.64s/it]"
     ]
    },
    {
     "name": "stdout",
     "output_type": "stream",
     "text": [
      "Train Epoch: 17 [5120/24846 (20%)]\tLoss: 0.049351\n"
     ]
    },
    {
     "name": "stderr",
     "output_type": "stream",
     "text": [
      "  5%|▌         | 16.333333333332927/300 [04:11<1:37:13, 20.57s/it]"
     ]
    },
    {
     "name": "stdout",
     "output_type": "stream",
     "text": [
      "Train Epoch: 17 [10240/24846 (41%)]\tLoss: 0.018663\n"
     ]
    },
    {
     "name": "stderr",
     "output_type": "stream",
     "text": [
      "  6%|▌         | 16.512195121950807/300 [04:14<1:19:07, 16.75s/it]"
     ]
    },
    {
     "name": "stdout",
     "output_type": "stream",
     "text": [
      "Train Epoch: 17 [15360/24846 (61%)]\tLoss: 0.042288\n"
     ]
    },
    {
     "name": "stderr",
     "output_type": "stream",
     "text": [
      "  6%|▌         | 16.67479674796706/300 [04:17<1:19:03, 16.74s/it] "
     ]
    },
    {
     "name": "stdout",
     "output_type": "stream",
     "text": [
      "Train Epoch: 17 [20480/24846 (82%)]\tLoss: 0.049269\n"
     ]
    },
    {
     "name": "stderr",
     "output_type": "stream",
     "text": [
      "  6%|▌         | 16.99999999999957/300 [04:21<25:51,  5.48s/it]   "
     ]
    },
    {
     "name": "stdout",
     "output_type": "stream",
     "text": [
      "\n",
      "Test Epoch: 17\tAccuracy: 6122/6212 (98.5512%)\n",
      "\n",
      "Train Epoch: 18 [0/24846 (0%)]\tLoss: 0.007911\n"
     ]
    },
    {
     "name": "stderr",
     "output_type": "stream",
     "text": [
      "  6%|▌         | 17.186991869918263/300 [04:24<1:21:01, 17.19s/it]"
     ]
    },
    {
     "name": "stdout",
     "output_type": "stream",
     "text": [
      "Train Epoch: 18 [5120/24846 (20%)]\tLoss: 0.010472\n"
     ]
    },
    {
     "name": "stderr",
     "output_type": "stream",
     "text": [
      "  6%|▌         | 17.349593495934517/300 [04:27<1:18:59, 16.77s/it]"
     ]
    },
    {
     "name": "stdout",
     "output_type": "stream",
     "text": [
      "Train Epoch: 18 [10240/24846 (41%)]\tLoss: 0.030048\n"
     ]
    },
    {
     "name": "stderr",
     "output_type": "stream",
     "text": [
      "  6%|▌         | 17.51219512195077/300 [04:30<1:18:51, 16.75s/it] "
     ]
    },
    {
     "name": "stdout",
     "output_type": "stream",
     "text": [
      "Train Epoch: 18 [15360/24846 (61%)]\tLoss: 0.033784\n"
     ]
    },
    {
     "name": "stderr",
     "output_type": "stream",
     "text": [
      "  6%|▌         | 17.674796747967026/300 [04:32<1:18:42, 16.73s/it]"
     ]
    },
    {
     "name": "stdout",
     "output_type": "stream",
     "text": [
      "Train Epoch: 18 [20480/24846 (82%)]\tLoss: 0.021514\n"
     ]
    },
    {
     "name": "stderr",
     "output_type": "stream",
     "text": [
      "  6%|▌         | 17.991869918698722/300 [04:36<27:46,  5.91s/it]  "
     ]
    },
    {
     "name": "stdout",
     "output_type": "stream",
     "text": [
      "\n",
      "Test Epoch: 18\tAccuracy: 6120/6212 (98.5190%)\n",
      "\n",
      "Train Epoch: 19 [0/24846 (0%)]\tLoss: 0.023641\n"
     ]
    },
    {
     "name": "stderr",
     "output_type": "stream",
     "text": [
      "  6%|▌         | 18.186991869918227/300 [04:39<1:18:20, 16.68s/it]"
     ]
    },
    {
     "name": "stdout",
     "output_type": "stream",
     "text": [
      "Train Epoch: 19 [5120/24846 (20%)]\tLoss: 0.012002\n"
     ]
    },
    {
     "name": "stderr",
     "output_type": "stream",
     "text": [
      "  6%|▌         | 18.34959349593448/300 [04:42<1:18:45, 16.78s/it] "
     ]
    },
    {
     "name": "stdout",
     "output_type": "stream",
     "text": [
      "Train Epoch: 19 [10240/24846 (41%)]\tLoss: 0.009587\n"
     ]
    },
    {
     "name": "stderr",
     "output_type": "stream",
     "text": [
      "  6%|▌         | 18.512195121950736/300 [04:45<1:18:35, 16.75s/it]"
     ]
    },
    {
     "name": "stdout",
     "output_type": "stream",
     "text": [
      "Train Epoch: 19 [15360/24846 (61%)]\tLoss: 0.020585\n"
     ]
    },
    {
     "name": "stderr",
     "output_type": "stream",
     "text": [
      "  6%|▌         | 18.67479674796699/300 [04:48<1:18:30, 16.74s/it] "
     ]
    },
    {
     "name": "stdout",
     "output_type": "stream",
     "text": [
      "Train Epoch: 19 [20480/24846 (82%)]\tLoss: 0.024612\n"
     ]
    },
    {
     "name": "stderr",
     "output_type": "stream",
     "text": [
      "  6%|▋         | 18.9999999999995/300 [04:51<25:44,  5.50s/it]    "
     ]
    },
    {
     "name": "stdout",
     "output_type": "stream",
     "text": [
      "\n",
      "Test Epoch: 19\tAccuracy: 6115/6212 (98.4385%)\n",
      "\n",
      "Train Epoch: 20 [0/24846 (0%)]\tLoss: 0.007832\n"
     ]
    },
    {
     "name": "stderr",
     "output_type": "stream",
     "text": [
      "  6%|▋         | 19.18699186991819/300 [04:54<1:19:27, 16.98s/it] "
     ]
    },
    {
     "name": "stdout",
     "output_type": "stream",
     "text": [
      "Train Epoch: 20 [5120/24846 (20%)]\tLoss: 0.010110\n"
     ]
    },
    {
     "name": "stderr",
     "output_type": "stream",
     "text": [
      "  6%|▋         | 19.349593495934446/300 [04:57<1:18:31, 16.79s/it]"
     ]
    },
    {
     "name": "stdout",
     "output_type": "stream",
     "text": [
      "Train Epoch: 20 [10240/24846 (41%)]\tLoss: 0.007345\n"
     ]
    },
    {
     "name": "stderr",
     "output_type": "stream",
     "text": [
      "  7%|▋         | 19.5121951219507/300 [05:00<1:18:14, 16.74s/it]  "
     ]
    },
    {
     "name": "stdout",
     "output_type": "stream",
     "text": [
      "Train Epoch: 20 [15360/24846 (61%)]\tLoss: 0.010089\n"
     ]
    },
    {
     "name": "stderr",
     "output_type": "stream",
     "text": [
      "  7%|▋         | 19.674796747966955/300 [05:03<1:18:00, 16.70s/it]"
     ]
    },
    {
     "name": "stdout",
     "output_type": "stream",
     "text": [
      "Train Epoch: 20 [20480/24846 (82%)]\tLoss: 0.034248\n"
     ]
    },
    {
     "name": "stderr",
     "output_type": "stream",
     "text": [
      "  7%|▋         | 19.999999999999464/300 [05:06<25:44,  5.52s/it]  "
     ]
    },
    {
     "name": "stdout",
     "output_type": "stream",
     "text": [
      "\n",
      "Test Epoch: 20\tAccuracy: 6112/6212 (98.3902%)\n",
      "\n",
      "Train Epoch: 21 [0/24846 (0%)]\tLoss: 0.024489\n"
     ]
    },
    {
     "name": "stderr",
     "output_type": "stream",
     "text": [
      "  7%|▋         | 20.186991869918156/300 [05:09<1:17:49, 16.69s/it]"
     ]
    },
    {
     "name": "stdout",
     "output_type": "stream",
     "text": [
      "Train Epoch: 21 [5120/24846 (20%)]\tLoss: 0.015168\n"
     ]
    },
    {
     "name": "stderr",
     "output_type": "stream",
     "text": [
      "  7%|▋         | 20.34959349593441/300 [05:12<1:18:08, 16.76s/it] "
     ]
    },
    {
     "name": "stdout",
     "output_type": "stream",
     "text": [
      "Train Epoch: 21 [10240/24846 (41%)]\tLoss: 0.009318\n"
     ]
    },
    {
     "name": "stderr",
     "output_type": "stream",
     "text": [
      "  7%|▋         | 20.512195121950665/300 [05:15<1:18:04, 16.76s/it]"
     ]
    },
    {
     "name": "stdout",
     "output_type": "stream",
     "text": [
      "Train Epoch: 21 [15360/24846 (61%)]\tLoss: 0.016222\n"
     ]
    },
    {
     "name": "stderr",
     "output_type": "stream",
     "text": [
      "  7%|▋         | 20.67479674796692/300 [05:18<1:17:55, 16.74s/it] "
     ]
    },
    {
     "name": "stdout",
     "output_type": "stream",
     "text": [
      "Train Epoch: 21 [20480/24846 (82%)]\tLoss: 0.025961\n"
     ]
    },
    {
     "name": "stderr",
     "output_type": "stream",
     "text": [
      "  7%|▋         | 20.999999999999428/300 [05:21<25:29,  5.48s/it]  "
     ]
    },
    {
     "name": "stdout",
     "output_type": "stream",
     "text": [
      "\n",
      "Test Epoch: 21\tAccuracy: 6128/6212 (98.6478%)\n",
      "\n",
      "Train Epoch: 22 [0/24846 (0%)]\tLoss: 0.006909\n"
     ]
    },
    {
     "name": "stderr",
     "output_type": "stream",
     "text": [
      "  7%|▋         | 21.18699186991812/300 [05:24<1:17:58, 16.78s/it] "
     ]
    },
    {
     "name": "stdout",
     "output_type": "stream",
     "text": [
      "Train Epoch: 22 [5120/24846 (20%)]\tLoss: 0.043655\n"
     ]
    },
    {
     "name": "stderr",
     "output_type": "stream",
     "text": [
      "  7%|▋         | 21.349593495934375/300 [05:27<1:17:42, 16.73s/it]"
     ]
    },
    {
     "name": "stdout",
     "output_type": "stream",
     "text": [
      "Train Epoch: 22 [10240/24846 (41%)]\tLoss: 0.016182\n"
     ]
    },
    {
     "name": "stderr",
     "output_type": "stream",
     "text": [
      "  7%|▋         | 21.51219512195063/300 [05:30<1:17:26, 16.68s/it] "
     ]
    },
    {
     "name": "stdout",
     "output_type": "stream",
     "text": [
      "Train Epoch: 22 [15360/24846 (61%)]\tLoss: 0.012152\n"
     ]
    },
    {
     "name": "stderr",
     "output_type": "stream",
     "text": [
      "  7%|▋         | 21.674796747966884/300 [05:33<1:17:43, 16.75s/it]"
     ]
    },
    {
     "name": "stdout",
     "output_type": "stream",
     "text": [
      "Train Epoch: 22 [20480/24846 (82%)]\tLoss: 0.006778\n"
     ]
    },
    {
     "name": "stderr",
     "output_type": "stream",
     "text": [
      "  7%|▋         | 21.999999999999392/300 [05:36<25:20,  5.47s/it]  "
     ]
    },
    {
     "name": "stdout",
     "output_type": "stream",
     "text": [
      "\n",
      "Test Epoch: 22\tAccuracy: 6129/6212 (98.6639%)\n",
      "\n",
      "Train Epoch: 23 [0/24846 (0%)]\tLoss: 0.004498\n"
     ]
    },
    {
     "name": "stderr",
     "output_type": "stream",
     "text": [
      "  7%|▋         | 22.186991869918085/300 [05:40<1:17:09, 16.66s/it]"
     ]
    },
    {
     "name": "stdout",
     "output_type": "stream",
     "text": [
      "Train Epoch: 23 [5120/24846 (20%)]\tLoss: 0.005496\n"
     ]
    },
    {
     "name": "stderr",
     "output_type": "stream",
     "text": [
      "  7%|▋         | 22.34959349593434/300 [05:42<1:17:23, 16.72s/it] "
     ]
    },
    {
     "name": "stdout",
     "output_type": "stream",
     "text": [
      "Train Epoch: 23 [10240/24846 (41%)]\tLoss: 0.006377\n"
     ]
    },
    {
     "name": "stderr",
     "output_type": "stream",
     "text": [
      "  7%|▋         | 22.49593495934897/300 [05:45<1:35:21, 20.62s/it] "
     ]
    },
    {
     "name": "stdout",
     "output_type": "stream",
     "text": [
      "Train Epoch: 23 [15360/24846 (61%)]\tLoss: 0.008395\n"
     ]
    },
    {
     "name": "stderr",
     "output_type": "stream",
     "text": [
      "  8%|▊         | 22.658536585365223/300 [05:48<1:42:39, 22.21s/it]"
     ]
    },
    {
     "name": "stdout",
     "output_type": "stream",
     "text": [
      "Train Epoch: 23 [20480/24846 (82%)]\tLoss: 0.004863\n"
     ]
    },
    {
     "name": "stderr",
     "output_type": "stream",
     "text": [
      "  8%|▊         | 23.00813008130017/300 [05:52<41:32,  9.00s/it]   "
     ]
    },
    {
     "name": "stdout",
     "output_type": "stream",
     "text": [
      "\n",
      "Test Epoch: 23\tAccuracy: 6116/6212 (98.4546%)\n",
      "\n",
      "Train Epoch: 24 [0/24846 (0%)]\tLoss: 0.015371\n"
     ]
    },
    {
     "name": "stderr",
     "output_type": "stream",
     "text": [
      "  8%|▊         | 23.18699186991805/300 [05:56<1:27:41, 19.01s/it] "
     ]
    },
    {
     "name": "stdout",
     "output_type": "stream",
     "text": [
      "Train Epoch: 24 [5120/24846 (20%)]\tLoss: 0.014121\n"
     ]
    },
    {
     "name": "stderr",
     "output_type": "stream",
     "text": [
      "  8%|▊         | 23.33333333333268/300 [05:59<1:38:51, 21.44s/it] "
     ]
    },
    {
     "name": "stdout",
     "output_type": "stream",
     "text": [
      "Train Epoch: 24 [10240/24846 (41%)]\tLoss: 0.010011\n"
     ]
    },
    {
     "name": "stderr",
     "output_type": "stream",
     "text": [
      "  8%|▊         | 23.51219512195056/300 [06:02<1:17:12, 16.75s/it] "
     ]
    },
    {
     "name": "stdout",
     "output_type": "stream",
     "text": [
      "Train Epoch: 24 [15360/24846 (61%)]\tLoss: 0.007762\n"
     ]
    },
    {
     "name": "stderr",
     "output_type": "stream",
     "text": [
      "  8%|▊         | 23.674796747966813/300 [06:05<1:16:45, 16.67s/it]"
     ]
    },
    {
     "name": "stdout",
     "output_type": "stream",
     "text": [
      "Train Epoch: 24 [20480/24846 (82%)]\tLoss: 0.002721\n"
     ]
    },
    {
     "name": "stderr",
     "output_type": "stream",
     "text": [
      "  8%|▊         | 24.008130081300134/300 [06:08<44:18,  9.63s/it]  "
     ]
    },
    {
     "name": "stdout",
     "output_type": "stream",
     "text": [
      "\n",
      "Test Epoch: 24\tAccuracy: 6133/6212 (98.7283%)\n",
      "\n",
      "Train Epoch: 25 [0/24846 (0%)]\tLoss: 0.007771\n"
     ]
    },
    {
     "name": "stderr",
     "output_type": "stream",
     "text": [
      "  8%|▊         | 24.186991869918014/300 [06:12<1:17:54, 16.95s/it]"
     ]
    },
    {
     "name": "stdout",
     "output_type": "stream",
     "text": [
      "Train Epoch: 25 [5120/24846 (20%)]\tLoss: 0.002160\n"
     ]
    },
    {
     "name": "stderr",
     "output_type": "stream",
     "text": [
      "  8%|▊         | 24.333333333332643/300 [06:14<1:39:50, 21.73s/it]"
     ]
    },
    {
     "name": "stdout",
     "output_type": "stream",
     "text": [
      "Train Epoch: 25 [10240/24846 (41%)]\tLoss: 0.003548\n"
     ]
    },
    {
     "name": "stderr",
     "output_type": "stream",
     "text": [
      "  8%|▊         | 24.495934959348897/300 [06:17<1:39:05, 21.58s/it]"
     ]
    },
    {
     "name": "stdout",
     "output_type": "stream",
     "text": [
      "Train Epoch: 25 [15360/24846 (61%)]\tLoss: 0.004492\n"
     ]
    },
    {
     "name": "stderr",
     "output_type": "stream",
     "text": [
      "  8%|▊         | 24.674796747966777/300 [06:21<1:16:39, 16.71s/it]"
     ]
    },
    {
     "name": "stdout",
     "output_type": "stream",
     "text": [
      "Train Epoch: 25 [20480/24846 (82%)]\tLoss: 0.018536\n"
     ]
    },
    {
     "name": "stderr",
     "output_type": "stream",
     "text": [
      "  8%|▊         | 24.98373983739766/300 [06:24<28:27,  6.21s/it]   "
     ]
    },
    {
     "name": "stdout",
     "output_type": "stream",
     "text": [
      "\n",
      "Test Epoch: 25\tAccuracy: 6123/6212 (98.5673%)\n",
      "\n"
     ]
    },
    {
     "name": "stderr",
     "output_type": "stream",
     "text": [
      "  8%|▊         | 25.024390243901724/300 [06:24<49:51, 10.88s/it]"
     ]
    },
    {
     "name": "stdout",
     "output_type": "stream",
     "text": [
      "Train Epoch: 26 [0/24846 (0%)]\tLoss: 0.004513\n"
     ]
    },
    {
     "name": "stderr",
     "output_type": "stream",
     "text": [
      "  8%|▊         | 25.170731707316353/300 [06:27<1:39:06, 21.64s/it]"
     ]
    },
    {
     "name": "stdout",
     "output_type": "stream",
     "text": [
      "Train Epoch: 26 [5120/24846 (20%)]\tLoss: 0.009810\n"
     ]
    },
    {
     "name": "stderr",
     "output_type": "stream",
     "text": [
      "  8%|▊         | 25.333333333332607/300 [06:30<1:37:57, 21.40s/it]"
     ]
    },
    {
     "name": "stdout",
     "output_type": "stream",
     "text": [
      "Train Epoch: 26 [10240/24846 (41%)]\tLoss: 0.018127\n"
     ]
    },
    {
     "name": "stderr",
     "output_type": "stream",
     "text": [
      "  8%|▊         | 25.495934959348862/300 [06:33<1:36:15, 21.04s/it]"
     ]
    },
    {
     "name": "stdout",
     "output_type": "stream",
     "text": [
      "Train Epoch: 26 [15360/24846 (61%)]\tLoss: 0.010999\n"
     ]
    },
    {
     "name": "stderr",
     "output_type": "stream",
     "text": [
      "  9%|▊         | 25.658536585365116/300 [06:36<1:34:45, 20.73s/it]"
     ]
    },
    {
     "name": "stdout",
     "output_type": "stream",
     "text": [
      "Train Epoch: 26 [20480/24846 (82%)]\tLoss: 0.008004\n"
     ]
    },
    {
     "name": "stderr",
     "output_type": "stream",
     "text": [
      "  9%|▊         | 26.008130081300063/300 [06:40<44:10,  9.67s/it]  "
     ]
    },
    {
     "name": "stdout",
     "output_type": "stream",
     "text": [
      "\n",
      "Test Epoch: 26\tAccuracy: 6131/6212 (98.6961%)\n",
      "\n",
      "Train Epoch: 27 [0/24846 (0%)]\tLoss: 0.003848\n"
     ]
    },
    {
     "name": "stderr",
     "output_type": "stream",
     "text": [
      "  9%|▊         | 26.170731707316317/300 [06:43<1:34:12, 20.64s/it]"
     ]
    },
    {
     "name": "stdout",
     "output_type": "stream",
     "text": [
      "Train Epoch: 27 [5120/24846 (20%)]\tLoss: 0.006041\n"
     ]
    },
    {
     "name": "stderr",
     "output_type": "stream",
     "text": [
      "  9%|▉         | 26.349593495934197/300 [06:46<1:17:34, 17.01s/it]"
     ]
    },
    {
     "name": "stdout",
     "output_type": "stream",
     "text": [
      "Train Epoch: 27 [10240/24846 (41%)]\tLoss: 0.007712\n"
     ]
    },
    {
     "name": "stderr",
     "output_type": "stream",
     "text": [
      "  9%|▉         | 26.495934959348826/300 [06:49<1:33:08, 20.43s/it]"
     ]
    },
    {
     "name": "stdout",
     "output_type": "stream",
     "text": [
      "Train Epoch: 27 [15360/24846 (61%)]\tLoss: 0.005973\n"
     ]
    },
    {
     "name": "stderr",
     "output_type": "stream",
     "text": [
      "  9%|▉         | 26.674796747966706/300 [06:52<1:18:15, 17.18s/it]"
     ]
    },
    {
     "name": "stdout",
     "output_type": "stream",
     "text": [
      "Train Epoch: 27 [20480/24846 (82%)]\tLoss: 0.002192\n"
     ]
    },
    {
     "name": "stderr",
     "output_type": "stream",
     "text": [
      "  9%|▉         | 26.999999999999215/300 [06:56<26:13,  5.76s/it]  "
     ]
    },
    {
     "name": "stdout",
     "output_type": "stream",
     "text": [
      "\n",
      "Test Epoch: 27\tAccuracy: 6124/6212 (98.5834%)\n",
      "\n",
      "Train Epoch: 28 [0/24846 (0%)]\tLoss: 0.004908\n"
     ]
    },
    {
     "name": "stderr",
     "output_type": "stream",
     "text": [
      "  9%|▉         | 27.186991869917907/300 [06:59<1:19:06, 17.40s/it]"
     ]
    },
    {
     "name": "stdout",
     "output_type": "stream",
     "text": [
      "Train Epoch: 28 [5120/24846 (20%)]\tLoss: 0.023583\n"
     ]
    },
    {
     "name": "stderr",
     "output_type": "stream",
     "text": [
      "  9%|▉         | 27.333333333332536/300 [07:02<1:38:13, 21.61s/it]"
     ]
    },
    {
     "name": "stdout",
     "output_type": "stream",
     "text": [
      "Train Epoch: 28 [10240/24846 (41%)]\tLoss: 0.014384\n"
     ]
    },
    {
     "name": "stderr",
     "output_type": "stream",
     "text": [
      "  9%|▉         | 27.49593495934879/300 [07:05<1:37:59, 21.58s/it] "
     ]
    },
    {
     "name": "stdout",
     "output_type": "stream",
     "text": [
      "Train Epoch: 28 [15360/24846 (61%)]\tLoss: 0.019729\n"
     ]
    },
    {
     "name": "stderr",
     "output_type": "stream",
     "text": [
      "  9%|▉         | 27.60975609756017/300 [07:07<1:23:26, 18.38s/it] "
     ]
    }
   ],
   "source": [
    "writer = SummaryWriter()\n",
    "\n",
    "log_interval = 20\n",
    "\n",
    "writer.add_hparams({f'data_shape_{i}': shape for i, shape in enumerate(dataset.data.shape)} | {'data_moving_average_range': MOVING_AVERAGE_RANGE, 'data_window_size': WINDOW_SIZE, 'batch_size': batch_size, 'n_epoch': n_epoch}, {'hparam/fake_accuracy_just_to_have_any_metric': 10}, run_name = RUN_NAME)\n",
    "\n",
    "pbar_update = 1 / (len(train_loader) + len(test_loader))\n",
    "losses = []\n",
    "accuracies = []\n",
    "\n",
    "with tqdm(total=n_epoch) as pbar:\n",
    "    for epoch in range(1, n_epoch + 1):\n",
    "        torch.save({\n",
    "            'model_state_dict': model.state_dict(),\n",
    "            'optimizer_state_dict': optimizer.state_dict()\n",
    "        }, CHECKPOINT_PATH)\n",
    "\n",
    "        train_losses = train(model, epoch, log_interval, writer)\n",
    "        losses.extend(train_losses)\n",
    "\n",
    "        accuracy, precision, recall, f1, loss_sum = test(model, epoch, writer)\n",
    "        accuracies.append(accuracy)\n",
    "        scheduler.step(loss_sum)\n",
    "\n",
    "        writer.add_scalar('lr', optimizer.param_groups[0]['lr'], epoch)\n",
    "\n",
    "        # Early stopping\n",
    "        if len(accuracies) >= ACCURACY_MOVING_AVERAGE_SIZE + 1:\n",
    "            is_performance_degraded = np.mean(accuracies[-ACCURACY_MOVING_AVERAGE_SIZE - 1:-1]) > np.mean(accuracies[-ACCURACY_MOVING_AVERAGE_SIZE:])\n",
    "            if is_performance_degraded:\n",
    "                # Reload the last non-degraded checkpoint\n",
    "                checkpoint = torch.load(CHECKPOINT_PATH)\n",
    "                model.load_state_dict(checkpoint['model_state_dict'])\n",
    "                optimizer.load_state_dict(checkpoint['optimizer_state_dict'])\n",
    "                break\n",
    "\n",
    "\n",
    "# Let's plot the training loss versus the number of iteration.\n",
    "# plt.plot(losses);\n",
    "# plt.title(\"training loss\");"
   ],
   "metadata": {
    "collapsed": false,
    "pycharm": {
     "name": "#%%\n",
     "is_executing": true
    }
   }
  }
 ],
 "metadata": {
  "kernelspec": {
   "display_name": "Python 3",
   "language": "python",
   "name": "python3"
  },
  "language_info": {
   "codemirror_mode": {
    "name": "ipython",
    "version": 2
   },
   "file_extension": ".py",
   "mimetype": "text/x-python",
   "name": "python",
   "nbconvert_exporter": "python",
   "pygments_lexer": "ipython2",
   "version": "2.7.6"
  }
 },
 "nbformat": 4,
 "nbformat_minor": 0
}