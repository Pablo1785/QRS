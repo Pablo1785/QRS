{
 "cells": [
  {
   "cell_type": "code",
   "execution_count": 13,
   "outputs": [],
   "source": [
    "import os\n",
    "import random\n",
    "\n",
    "import numpy as np\n",
    "import torch\n",
    "import torch.nn as nn\n",
    "import torch.nn.functional as F\n",
    "import torch.optim as optim\n",
    "import torchaudio\n",
    "import sys\n",
    "\n",
    "import matplotlib.pyplot as plt\n",
    "import IPython.display as ipd\n",
    "\n",
    "from tqdm import tqdm\n",
    "\n",
    "from common import *\n",
    "from dataset import ArrhythmiaDataset\n",
    "\n",
    "from sklearn.metrics import confusion_matrix\n",
    "import seaborn as sn\n",
    "import pandas as pd\n",
    "\n",
    "from torch.utils.tensorboard import SummaryWriter\n",
    "\n",
    "\n",
    "RECORD_DIR_PATH = '../data/mit-bih-arrhythmia-database-1.0.0'\n",
    "WINDOW_SIZE = 540\n",
    "CLASSES = ['N', 'L', 'R', 'A', 'a', 'V', 'j', 'J', 'E', 'f', 'F', '[', '!', ']', '/', 'x', '|', 'Q']\n",
    "\n",
    "# TODO: S, e - need some preprocessing, dimensions seem to be wrong in one of these\n",
    "# TODO: Q - of course, quite confusing, this is the most confused beat in confusion matrices"
   ],
   "metadata": {
    "collapsed": false,
    "pycharm": {
     "name": "#%%\n"
    }
   }
  },
  {
   "cell_type": "code",
   "execution_count": 14,
   "outputs": [
    {
     "name": "stdout",
     "output_type": "stream",
     "text": [
      "cuda\n",
      "cuda\n"
     ]
    }
   ],
   "source": [
    "device = torch.device(\"cuda\" if torch.cuda.is_available() else \"cpu\")\n",
    "print(device)"
   ],
   "metadata": {
    "collapsed": false,
    "pycharm": {
     "name": "#%%\n"
    }
   }
  },
  {
   "cell_type": "code",
   "execution_count": 15,
   "outputs": [],
   "source": [
    "# Randomness seed\n",
    "random_seed = 1 # or any of your favorite number\n",
    "torch.manual_seed(random_seed)\n",
    "torch.cuda.manual_seed(random_seed)\n",
    "torch.backends.cudnn.deterministic = True\n",
    "torch.backends.cudnn.benchmark = False\n",
    "np.random.seed(random_seed)"
   ],
   "metadata": {
    "collapsed": false,
    "pycharm": {
     "name": "#%%\n"
    }
   }
  },
  {
   "cell_type": "code",
   "execution_count": 16,
   "outputs": [
    {
     "name": "stdout",
     "output_type": "stream",
     "text": [
      "torch.Size([110285, 1080])\n",
      "110285\n",
      "torch.Size([110285, 1080])\n",
      "110285\n"
     ]
    }
   ],
   "source": [
    "dataset = ArrhythmiaDataset(RECORD_DIR_PATH, WINDOW_SIZE, only_include_labels = CLASSES)\n",
    "\n",
    "print(dataset.data.shape)\n",
    "print(len(dataset.labels))"
   ],
   "metadata": {
    "collapsed": false,
    "pycharm": {
     "name": "#%%\n"
    }
   }
  },
  {
   "cell_type": "code",
   "execution_count": 17,
   "outputs": [
    {
     "name": "stdout",
     "output_type": "stream",
     "text": [
      "Q: 33\n",
      "|: 132\n",
      "/: 7028\n",
      "V: 7130\n",
      "]: 6\n",
      "E: 106\n",
      "L: 8075\n",
      "x: 193\n",
      "R: 7259\n",
      "f: 982\n",
      "j: 229\n",
      "!: 472\n",
      "N: 75052\n",
      "[: 6\n",
      "J: 83\n",
      "F: 803\n",
      "a: 150\n",
      "A: 2546\n",
      "Q: 33\n",
      "|: 132\n",
      "/: 7028\n",
      "V: 7130\n",
      "]: 6\n",
      "E: 106\n",
      "L: 8075\n",
      "x: 193\n",
      "R: 7259\n",
      "f: 982\n",
      "j: 229\n",
      "!: 472\n",
      "N: 75052\n",
      "[: 6\n",
      "J: 83\n",
      "F: 803\n",
      "a: 150\n",
      "A: 2546\n"
     ]
    }
   ],
   "source": [
    "labels, counts = torch.unique(dataset.labels_encoded, dim = 0, return_counts = True)\n",
    "\n",
    "for label, count in zip(labels, counts):\n",
    "    print(f'{dataset.get_label_from_tensor(label)}: {count}')\n"
   ],
   "metadata": {
    "collapsed": false,
    "pycharm": {
     "name": "#%%\n"
    }
   }
  },
  {
   "cell_type": "code",
   "execution_count": 18,
   "outputs": [
    {
     "name": "stdout",
     "output_type": "stream",
     "text": [
      "torch.Size([42749, 1080])\n",
      "42749\n",
      "Q: 33\n",
      "|: 132\n",
      "/: 7028\n",
      "V: 7130\n",
      "]: 6\n",
      "E: 106\n",
      "L: 8075\n",
      "x: 193\n",
      "R: 7259\n",
      "f: 982\n",
      "j: 229\n",
      "!: 472\n",
      "N: 7516\n",
      "[: 6\n",
      "J: 83\n",
      "F: 803\n",
      "a: 150\n",
      "A: 2546\n",
      "torch.Size([42757, 1080])\n",
      "42757\n",
      "Q: 33\n",
      "|: 132\n",
      "/: 7028\n",
      "V: 7130\n",
      "]: 6\n",
      "E: 106\n",
      "L: 8075\n",
      "x: 193\n",
      "R: 7259\n",
      "f: 982\n",
      "j: 229\n",
      "!: 472\n",
      "N: 7524\n",
      "[: 6\n",
      "J: 83\n",
      "F: 803\n",
      "a: 150\n",
      "A: 2546\n"
     ]
    }
   ],
   "source": [
    "# Drop some Normal beats to balance classes\n",
    "normal_beat_mask = np.array(dataset.labels) == 'N'\n",
    "\n",
    "new_labels = []\n",
    "for idx, l in enumerate(normal_beat_mask):\n",
    "    # Leave 10% samples in (currently theres 75k samples, while other popular classes are at about 8k)\n",
    "    if l and random.uniform(0, 1) < 0.1:\n",
    "        normal_beat_mask[idx] = False\n",
    "    if not normal_beat_mask[idx]:\n",
    "        new_labels.append(dataset.labels[idx])\n",
    "\n",
    "new_data = dataset.data[normal_beat_mask == False]\n",
    "dataset.data = new_data\n",
    "dataset.labels = new_labels\n",
    "dataset.encode_labels()\n",
    "\n",
    "def show_class_count(dataset: ArrhythmiaDataset):\n",
    "    print(dataset.data.shape)\n",
    "    print(len(dataset.labels))\n",
    "    labels, counts = torch.unique(dataset.labels_encoded, dim = 0, return_counts = True)\n",
    "\n",
    "    for label, count in zip(labels, counts):\n",
    "        print(f'{dataset.get_label_from_tensor(label)}: {count}')\n",
    "\n",
    "show_class_count(dataset)"
   ],
   "metadata": {
    "collapsed": false,
    "pycharm": {
     "name": "#%%\n"
    }
   }
  },
  {
   "cell_type": "code",
   "execution_count": 19,
   "outputs": [
    {
     "name": "stdout",
     "output_type": "stream",
     "text": [
      "TRAIN DATASET:\n",
      "torch.Size([34199, 1080])\n",
      "0\n",
      "Q: 26\n",
      "|: 106\n",
      "/: 5622\n",
      "V: 5704\n",
      "]: 5\n",
      "E: 85\n",
      "L: 6460\n",
      "x: 154\n",
      "R: 5807\n",
      "f: 786\n",
      "j: 183\n",
      "!: 378\n",
      "N: 6013\n",
      "[: 5\n",
      "J: 66\n",
      "F: 642\n",
      "a: 120\n",
      "A: 2037\n",
      "TEST DATASET:\n",
      "torch.Size([8550, 1080])\n",
      "0\n",
      "Q: 7\n",
      "|: 26\n",
      "/: 1406\n",
      "V: 1426\n",
      "]: 1\n",
      "E: 21\n",
      "L: 1615\n",
      "x: 39\n",
      "R: 1452\n",
      "f: 196\n",
      "j: 46\n",
      "!: 94\n",
      "N: 1503\n",
      "[: 1\n",
      "J: 17\n",
      "F: 161\n",
      "a: 30\n",
      "A: 509\n",
      "TRAIN DATASET:\n",
      "torch.Size([34205, 1080])\n",
      "0\n",
      "Q: 26\n",
      "|: 106\n",
      "/: 5622\n",
      "V: 5704\n",
      "]: 5\n",
      "E: 85\n",
      "L: 6460\n",
      "x: 154\n",
      "R: 5807\n",
      "f: 786\n",
      "j: 183\n",
      "!: 378\n",
      "N: 6019\n",
      "[: 5\n",
      "J: 66\n",
      "F: 642\n",
      "a: 120\n",
      "A: 2037\n",
      "TEST DATASET:\n",
      "torch.Size([8552, 1080])\n",
      "0\n",
      "Q: 7\n",
      "|: 26\n",
      "/: 1406\n",
      "V: 1426\n",
      "]: 1\n",
      "E: 21\n",
      "L: 1615\n",
      "x: 39\n",
      "R: 1452\n",
      "f: 196\n",
      "j: 46\n",
      "!: 94\n",
      "N: 1505\n",
      "[: 1\n",
      "J: 17\n",
      "F: 161\n",
      "a: 30\n",
      "A: 509\n"
     ]
    }
   ],
   "source": [
    "def collate_fn(batch):\n",
    "\n",
    "    # A data tuple has the form:\n",
    "    # waveform, one-hot-encoded_label\n",
    "\n",
    "    tensors, targets = [], []\n",
    "\n",
    "    # Gather in lists, and encode labels as indices\n",
    "    for waveform, label in batch:\n",
    "        tensors += [waveform]\n",
    "        targets += [label]\n",
    "\n",
    "    # Group the list of tensors into a batched tensor\n",
    "    tensors = torch.stack(tensors)\n",
    "    tensors = tensors[:, None, :]\n",
    "    targets = torch.stack(targets)\n",
    "\n",
    "    return tensors, targets\n",
    "\n",
    "\n",
    "batch_size = 256\n",
    "\n",
    "if device == \"cuda\":\n",
    "    num_workers = 1\n",
    "    pin_memory = True\n",
    "else:\n",
    "    num_workers = 0\n",
    "    pin_memory = False\n",
    "\n",
    "train_dataset, test_dataset = dataset.train_test_split(0.2)\n",
    "train_loader = torch.utils.data.DataLoader(\n",
    "    train_dataset,\n",
    "    batch_size=batch_size,\n",
    "    shuffle=True,\n",
    "    collate_fn=collate_fn,\n",
    "    num_workers=num_workers,\n",
    "    pin_memory=pin_memory,\n",
    ")\n",
    "test_loader = torch.utils.data.DataLoader(\n",
    "    test_dataset,\n",
    "    batch_size=batch_size,\n",
    "    shuffle=False,\n",
    "    drop_last=False,\n",
    "    collate_fn=collate_fn,\n",
    "    num_workers=num_workers,\n",
    "    pin_memory=pin_memory,\n",
    ")\n",
    "\n",
    "print('TRAIN DATASET:')\n",
    "show_class_count(train_dataset)\n",
    "\n",
    "print('TEST DATASET:')\n",
    "show_class_count(test_dataset)"
   ],
   "metadata": {
    "collapsed": false,
    "pycharm": {
     "name": "#%%\n"
    }
   }
  },
  {
   "cell_type": "code",
   "execution_count": 20,
   "outputs": [
    {
     "name": "stdout",
     "output_type": "stream",
     "text": [
      "M5(\n",
      "  (conv1): Conv1d(1, 32, kernel_size=(3,), stride=(1,))\n",
      "  (bn1): BatchNorm1d(32, eps=1e-05, momentum=0.1, affine=True, track_running_stats=True)\n",
      "  (pool1): MaxPool1d(kernel_size=2, stride=2, padding=0, dilation=1, ceil_mode=False)\n",
      "  (conv2): Conv1d(32, 32, kernel_size=(3,), stride=(1,))\n",
      "  (bn2): BatchNorm1d(32, eps=1e-05, momentum=0.1, affine=True, track_running_stats=True)\n",
      "  (pool2): MaxPool1d(kernel_size=2, stride=2, padding=0, dilation=1, ceil_mode=False)\n",
      "  (conv3): Conv1d(32, 32, kernel_size=(3,), stride=(1,))\n",
      "  (bn3): BatchNorm1d(32, eps=1e-05, momentum=0.1, affine=True, track_running_stats=True)\n",
      "  (pool3): MaxPool1d(kernel_size=3, stride=3, padding=0, dilation=1, ceil_mode=False)\n",
      "  (conv4): Conv1d(32, 64, kernel_size=(3,), stride=(1,))\n",
      "  (bn4): BatchNorm1d(64, eps=1e-05, momentum=0.1, affine=True, track_running_stats=True)\n",
      "  (pool4): MaxPool1d(kernel_size=3, stride=3, padding=0, dilation=1, ceil_mode=False)\n",
      "  (conv5): Conv1d(64, 64, kernel_size=(3,), stride=(1,))\n",
      "  (bn5): BatchNorm1d(64, eps=1e-05, momentum=0.1, affine=True, track_running_stats=True)\n",
      "  (pool5): MaxPool1d(kernel_size=3, stride=3, padding=0, dilation=1, ceil_mode=False)\n",
      "  (conv6): Conv1d(64, 64, kernel_size=(3,), stride=(1,))\n",
      "  (bn6): BatchNorm1d(64, eps=1e-05, momentum=0.1, affine=True, track_running_stats=True)\n",
      "  (pool6): MaxPool1d(kernel_size=3, stride=3, padding=0, dilation=1, ceil_mode=False)\n",
      "  (fc1): Linear(in_features=64, out_features=32, bias=True)\n",
      "  (fc2): Linear(in_features=32, out_features=18, bias=True)\n",
      ")\n",
      "Number of parameters: 40498\n",
      "M5(\n",
      "  (conv1): Conv1d(1, 32, kernel_size=(3,), stride=(1,))\n",
      "  (bn1): BatchNorm1d(32, eps=1e-05, momentum=0.1, affine=True, track_running_stats=True)\n",
      "  (pool1): MaxPool1d(kernel_size=2, stride=2, padding=0, dilation=1, ceil_mode=False)\n",
      "  (conv2): Conv1d(32, 32, kernel_size=(3,), stride=(1,))\n",
      "  (bn2): BatchNorm1d(32, eps=1e-05, momentum=0.1, affine=True, track_running_stats=True)\n",
      "  (pool2): MaxPool1d(kernel_size=2, stride=2, padding=0, dilation=1, ceil_mode=False)\n",
      "  (conv3): Conv1d(32, 32, kernel_size=(3,), stride=(1,))\n",
      "  (bn3): BatchNorm1d(32, eps=1e-05, momentum=0.1, affine=True, track_running_stats=True)\n",
      "  (pool3): MaxPool1d(kernel_size=3, stride=3, padding=0, dilation=1, ceil_mode=False)\n",
      "  (conv4): Conv1d(32, 64, kernel_size=(3,), stride=(1,))\n",
      "  (bn4): BatchNorm1d(64, eps=1e-05, momentum=0.1, affine=True, track_running_stats=True)\n",
      "  (pool4): MaxPool1d(kernel_size=3, stride=3, padding=0, dilation=1, ceil_mode=False)\n",
      "  (conv5): Conv1d(64, 64, kernel_size=(3,), stride=(1,))\n",
      "  (bn5): BatchNorm1d(64, eps=1e-05, momentum=0.1, affine=True, track_running_stats=True)\n",
      "  (pool5): MaxPool1d(kernel_size=3, stride=3, padding=0, dilation=1, ceil_mode=False)\n",
      "  (conv6): Conv1d(64, 64, kernel_size=(3,), stride=(1,))\n",
      "  (bn6): BatchNorm1d(64, eps=1e-05, momentum=0.1, affine=True, track_running_stats=True)\n",
      "  (pool6): MaxPool1d(kernel_size=3, stride=3, padding=0, dilation=1, ceil_mode=False)\n",
      "  (fc1): Linear(in_features=64, out_features=32, bias=True)\n",
      "  (fc2): Linear(in_features=32, out_features=18, bias=True)\n",
      ")\n",
      "Number of parameters: 40498\n"
     ]
    }
   ],
   "source": [
    "class M5(nn.Module):\n",
    "    def __init__(self, n_input=1, n_output=35, stride=1, n_channel=32):\n",
    "        super().__init__()\n",
    "        self.conv1 = nn.Conv1d(n_input, n_channel, kernel_size=3, stride=stride)\n",
    "        self.bn1 = nn.BatchNorm1d(n_channel)\n",
    "        self.pool1 = nn.MaxPool1d(2)\n",
    "        self.conv2 = nn.Conv1d(n_channel, n_channel, kernel_size=3)\n",
    "        self.bn2 = nn.BatchNorm1d(n_channel)\n",
    "        self.pool2 = nn.MaxPool1d(2)\n",
    "        self.conv3 = nn.Conv1d(n_channel, n_channel, kernel_size=3)\n",
    "        self.bn3 = nn.BatchNorm1d(n_channel)\n",
    "        self.pool3 = nn.MaxPool1d(3)\n",
    "        self.conv4 = nn.Conv1d(n_channel, 2 * n_channel, kernel_size=3)\n",
    "        self.bn4 = nn.BatchNorm1d(2 * n_channel)\n",
    "        self.pool4 = nn.MaxPool1d(3)\n",
    "        self.conv5 = nn.Conv1d(2 * n_channel, 2 * n_channel, kernel_size=3)\n",
    "        self.bn5 = nn.BatchNorm1d(2 * n_channel)\n",
    "        self.pool5 = nn.MaxPool1d(3)\n",
    "        self.conv6 = nn.Conv1d(2 * n_channel, 2 * n_channel, kernel_size=3)\n",
    "        self.bn6 = nn.BatchNorm1d(2 * n_channel)\n",
    "        self.pool6 = nn.MaxPool1d(3)\n",
    "        self.fc1 = nn.Linear(2 * n_channel, n_channel)\n",
    "        self.fc2 = nn.Linear(n_channel, n_output)\n",
    "\n",
    "    def forward(self, x):\n",
    "        # print(f'CONV1 INPUT SHAPE: {x.shape}')\n",
    "        x = self.conv1(x)\n",
    "        # print(f'CONV1 OUTPUT SHAPE: {x.shape}')\n",
    "        x = F.relu(self.bn1(x))\n",
    "        # print(f'POOL1 INPUT SHAPE: {x.shape}')\n",
    "        x = self.pool1(x)\n",
    "        # print(f'POOL1 OUTPUT SHAPE: {x.shape}')\n",
    "        x = self.conv2(x)\n",
    "        x = F.relu(self.bn2(x))\n",
    "        # print(f'POOL2 INPUT SHAPE: {x.shape}')\n",
    "        x = self.pool2(x)\n",
    "        # print(f'POOL2 OUTPUT SHAPE: {x.shape}')\n",
    "        x = self.conv3(x)\n",
    "        x = F.relu(self.bn3(x))\n",
    "        # print(f'POOL3 INPUT SHAPE: {x.shape}')\n",
    "        x = self.pool3(x)\n",
    "        # print(f'POOL3 OUTPUT SHAPE: {x.shape}')\n",
    "        x = self.conv4(x)\n",
    "        # print(f'BATCHNORM4 INPUT SHAPE: {x.shape}')\n",
    "        x = F.relu(self.bn4(x))\n",
    "        # print(f'POOL4 INPUT SHAPE: {x.shape}')\n",
    "        x = self.pool4(x)\n",
    "        # print(f'POOL4 OUTPUT SHAPE: {x.shape}')\n",
    "        x = self.conv5(x)\n",
    "        # print(f'BATCHNORM5 INPUT SHAPE: {x.shape}')\n",
    "        x = F.relu(self.bn5(x))\n",
    "        # print(f'POOL5 INPUT SHAPE: {x.shape}')\n",
    "        x = self.pool5(x)\n",
    "        # print(f'POOL5 OUTPUT SHAPE: {x.shape}')\n",
    "        x = self.conv6(x)\n",
    "        # print(f'BATCHNORM6 INPUT SHAPE: {x.shape}')\n",
    "        x = F.relu(self.bn6(x))\n",
    "        # print(f'POOL6 INPUT SHAPE: {x.shape}')\n",
    "        x = self.pool6(x)\n",
    "        # print(f'POOL6 OUTPUT SHAPE: {x.shape}')\n",
    "        x = F.avg_pool1d(x, x.shape[-1])\n",
    "        x = x.permute(0, 2, 1)\n",
    "        x = F.relu(self.fc1(x))\n",
    "        x = self.fc2(x)\n",
    "        return F.log_softmax(x, dim=2)\n",
    "\n",
    "\n",
    "model = M5(n_output=len(set(dataset.labels)))\n",
    "model.double().to(device)\n",
    "print(model)\n",
    "\n",
    "\n",
    "def count_parameters(model):\n",
    "    return sum(p.numel() for p in model.parameters() if p.requires_grad)\n",
    "\n",
    "\n",
    "n = count_parameters(model)\n",
    "print(\"Number of parameters: %s\" % n)"
   ],
   "metadata": {
    "collapsed": false,
    "pycharm": {
     "name": "#%%\n"
    }
   }
  },
  {
   "cell_type": "code",
   "execution_count": 21,
   "outputs": [],
   "source": [
    "optimizer = optim.Adam(model.parameters(), lr=3e-4, weight_decay=0.0001)\n",
    "scheduler = optim.lr_scheduler.StepLR(optimizer, step_size=10, gamma=0.7)  # reduce the learning after 20 epochs by a factor"
   ],
   "metadata": {
    "collapsed": false,
    "pycharm": {
     "name": "#%%\n"
    }
   }
  },
  {
   "cell_type": "code",
   "execution_count": 22,
   "outputs": [],
   "source": [
    "def train(model, epoch, log_interval, writer: SummaryWriter):\n",
    "    train_losses = []\n",
    "    model.train()\n",
    "    for batch_idx, (data, target) in enumerate(train_loader):\n",
    "\n",
    "        data = data.to(device)\n",
    "        # print(f'DATA SHAPE: {data.shape}')\n",
    "        target = target.to(device)\n",
    "\n",
    "        # apply transform and model on whole batch directly on device\n",
    "        output = model(data)\n",
    "\n",
    "        # negative log-likelihood for a tensor of size (batch x 1 x n_output)\n",
    "        squeezed_output = output.squeeze()\n",
    "        loss = F.nll_loss(squeezed_output, target.argmax(dim = 1))\n",
    "\n",
    "        writer.add_scalar('Train loss', loss.item(), epoch * len(train_loader.dataset) + batch_idx)\n",
    "\n",
    "        optimizer.zero_grad()\n",
    "        loss.backward()\n",
    "        optimizer.step()\n",
    "\n",
    "        # print training stats\n",
    "        if batch_idx % log_interval == 0:\n",
    "            print(f\"Train Epoch: {epoch} [{batch_idx * len(data)}/{len(train_loader.dataset)} ({100. * batch_idx / len(train_loader):.0f}%)]\\tLoss: {loss.item():.6f}\")\n",
    "\n",
    "        # update progress bar\n",
    "        pbar.update(pbar_update)\n",
    "        # record loss\n",
    "        train_losses.append(loss.item())\n",
    "    return train_losses"
   ],
   "metadata": {
    "collapsed": false,
    "pycharm": {
     "name": "#%%\n"
    }
   }
  },
  {
   "cell_type": "code",
   "execution_count": 23,
   "outputs": [],
   "source": [
    "def number_of_correct(pred, target):\n",
    "    # count number of correct predictions\n",
    "    return pred.squeeze().eq(target).sum().item()\n",
    "\n",
    "\n",
    "def get_likely_index(tensor):\n",
    "    # find most likely label index for each element in the batch\n",
    "    return tensor.argmax(dim=-1)\n",
    "\n",
    "\n",
    "def test(model, epoch, writer: SummaryWriter):\n",
    "    model.eval()\n",
    "    correct = 0\n",
    "    y_true = []\n",
    "    y_pred = []\n",
    "    for data, target in test_loader:\n",
    "\n",
    "        data = data.to(device)\n",
    "        target = target.to(device)\n",
    "\n",
    "        output = model(data)\n",
    "\n",
    "        pred = get_likely_index(output)\n",
    "        correct += number_of_correct(pred, target.argmax(dim = 1))\n",
    "\n",
    "        y_true.extend(pred.squeeze().data.cpu().numpy())\n",
    "        y_pred.extend(target.data.cpu().numpy().argmax(axis = 1))\n",
    "\n",
    "        # update progress bar\n",
    "        pbar.update(pbar_update)\n",
    "    accuracy = 100. * correct / len(test_loader.dataset)\n",
    "    writer.add_scalar('Test accuracy', accuracy, epoch)\n",
    "\n",
    "    # Build confusion matrix\n",
    "    cf_matrix = confusion_matrix(y_true, y_pred)\n",
    "    df_cm = pd.DataFrame(cf_matrix, index = [i for i in CLASSES],\n",
    "                         columns = [i for i in CLASSES])\n",
    "    plt.figure(figsize = (12,7))\n",
    "    cf_matrix_figure = sn.heatmap(df_cm, annot=True).get_figure()\n",
    "    writer.add_figure('Test confusion matrix', cf_matrix_figure, epoch)\n",
    "\n",
    "    print(f\"\\nTest Epoch: {epoch}\\tAccuracy: {correct}/{len(test_loader.dataset)} ({accuracy:.0f}%)\\n\")\n",
    "    return accuracy"
   ],
   "metadata": {
    "collapsed": false,
    "pycharm": {
     "name": "#%%\n"
    }
   }
  },
  {
   "cell_type": "code",
   "execution_count": 24,
   "outputs": [
    {
     "name": "stderr",
     "output_type": "stream",
     "text": [
      "  0%|          | 0.005952380952380952/300 [00:00<8:42:47, 104.56s/it]"
     ]
    },
    {
     "name": "stdout",
     "output_type": "stream",
     "text": [
      "Train Epoch: 1 [0/34199 (0%)]\tLoss: 3.054281\n"
     ]
    },
    {
     "name": "stderr",
     "output_type": "stream",
     "text": [
      "  0%|          | 0.12500000000000006/300 [00:03<2:28:12, 29.65s/it]  "
     ]
    },
    {
     "name": "stdout",
     "output_type": "stream",
     "text": [
      "Train Epoch: 1 [5120/34199 (15%)]\tLoss: 2.363673\n"
     ]
    },
    {
     "name": "stderr",
     "output_type": "stream",
     "text": [
      "  0%|          | 0.24404761904761924/300 [00:06<2:28:56, 29.81s/it]"
     ]
    },
    {
     "name": "stdout",
     "output_type": "stream",
     "text": [
      "Train Epoch: 1 [10240/34199 (30%)]\tLoss: 1.945804\n"
     ]
    },
    {
     "name": "stderr",
     "output_type": "stream",
     "text": [
      "  0%|          | 0.36309523809523786/300 [00:09<2:27:31, 29.54s/it]"
     ]
    },
    {
     "name": "stdout",
     "output_type": "stream",
     "text": [
      "Train Epoch: 1 [15360/34199 (45%)]\tLoss: 1.562990\n"
     ]
    },
    {
     "name": "stderr",
     "output_type": "stream",
     "text": [
      "  0%|          | 0.4821428571428565/300 [00:12<2:31:39, 30.38s/it] "
     ]
    },
    {
     "name": "stdout",
     "output_type": "stream",
     "text": [
      "Train Epoch: 1 [20480/34199 (60%)]\tLoss: 1.221621\n"
     ]
    },
    {
     "name": "stderr",
     "output_type": "stream",
     "text": [
      "  0%|          | 0.6011904761904752/300 [00:15<2:27:30, 29.56s/it] "
     ]
    },
    {
     "name": "stdout",
     "output_type": "stream",
     "text": [
      "Train Epoch: 1 [25600/34199 (75%)]\tLoss: 0.944066\n"
     ]
    },
    {
     "name": "stderr",
     "output_type": "stream",
     "text": [
      "  0%|          | 0.7202380952380938/300 [00:18<2:31:18, 30.33s/it]"
     ]
    },
    {
     "name": "stdout",
     "output_type": "stream",
     "text": [
      "Train Epoch: 1 [30720/34199 (90%)]\tLoss: 0.936956\n"
     ]
    },
    {
     "name": "stderr",
     "output_type": "stream",
     "text": [
      "  0%|          | 0.9999999999999976/300 [00:22<37:21,  7.50s/it]  "
     ]
    },
    {
     "name": "stdout",
     "output_type": "stream",
     "text": [
      "\n",
      "Test Epoch: 1\tAccuracy: 6945/8550 (81%)\n",
      "\n",
      "Train Epoch: 2 [0/34199 (0%)]\tLoss: 0.718631\n"
     ]
    },
    {
     "name": "stderr",
     "output_type": "stream",
     "text": [
      "  0%|          | 1.1249999999999971/300 [00:25<2:35:57, 31.31s/it]"
     ]
    },
    {
     "name": "stdout",
     "output_type": "stream",
     "text": [
      "Train Epoch: 2 [5120/34199 (15%)]\tLoss: 0.557774\n"
     ]
    },
    {
     "name": "stderr",
     "output_type": "stream",
     "text": [
      "  0%|          | 1.2440476190476157/300 [00:28<2:26:23, 29.40s/it]"
     ]
    },
    {
     "name": "stdout",
     "output_type": "stream",
     "text": [
      "Train Epoch: 2 [10240/34199 (30%)]\tLoss: 0.488256\n"
     ]
    },
    {
     "name": "stderr",
     "output_type": "stream",
     "text": [
      "  0%|          | 1.3630952380952344/300 [00:31<2:26:07, 29.36s/it]"
     ]
    },
    {
     "name": "stdout",
     "output_type": "stream",
     "text": [
      "Train Epoch: 2 [15360/34199 (45%)]\tLoss: 0.567855\n"
     ]
    },
    {
     "name": "stderr",
     "output_type": "stream",
     "text": [
      "  0%|          | 1.482142857142853/300 [00:34<2:26:51, 29.52s/it] "
     ]
    },
    {
     "name": "stdout",
     "output_type": "stream",
     "text": [
      "Train Epoch: 2 [20480/34199 (60%)]\tLoss: 0.352321\n"
     ]
    },
    {
     "name": "stderr",
     "output_type": "stream",
     "text": [
      "  1%|          | 1.6011904761904716/300 [00:37<2:26:05, 29.38s/it]"
     ]
    },
    {
     "name": "stdout",
     "output_type": "stream",
     "text": [
      "Train Epoch: 2 [25600/34199 (75%)]\tLoss: 0.448040\n"
     ]
    },
    {
     "name": "stderr",
     "output_type": "stream",
     "text": [
      "  1%|          | 1.7202380952380902/300 [00:40<2:25:58, 29.36s/it]"
     ]
    },
    {
     "name": "stdout",
     "output_type": "stream",
     "text": [
      "Train Epoch: 2 [30720/34199 (90%)]\tLoss: 0.383719\n"
     ]
    },
    {
     "name": "stderr",
     "output_type": "stream",
     "text": [
      "  1%|          | 1.999999999999994/300 [00:44<42:18,  8.52s/it]   "
     ]
    },
    {
     "name": "stdout",
     "output_type": "stream",
     "text": [
      "\n",
      "Test Epoch: 2\tAccuracy: 7631/8550 (89%)\n",
      "\n",
      "Train Epoch: 3 [0/34199 (0%)]\tLoss: 0.379416\n"
     ]
    },
    {
     "name": "stderr",
     "output_type": "stream",
     "text": [
      "  1%|          | 2.1369047619047556/300 [00:48<2:05:16, 25.23s/it]"
     ]
    },
    {
     "name": "stdout",
     "output_type": "stream",
     "text": [
      "Train Epoch: 3 [5120/34199 (15%)]\tLoss: 0.316105\n"
     ]
    },
    {
     "name": "stderr",
     "output_type": "stream",
     "text": [
      "  1%|          | 2.2559523809523743/300 [00:51<1:54:50, 23.14s/it]"
     ]
    },
    {
     "name": "stdout",
     "output_type": "stream",
     "text": [
      "Train Epoch: 3 [10240/34199 (30%)]\tLoss: 0.323119\n"
     ]
    },
    {
     "name": "stderr",
     "output_type": "stream",
     "text": [
      "  1%|          | 2.363095238095231/300 [00:54<2:21:23, 28.50s/it] "
     ]
    },
    {
     "name": "stdout",
     "output_type": "stream",
     "text": [
      "Train Epoch: 3 [15360/34199 (45%)]\tLoss: 0.309892\n"
     ]
    },
    {
     "name": "stderr",
     "output_type": "stream",
     "text": [
      "  1%|          | 2.4940476190476115/300 [00:57<1:58:41, 23.94s/it]"
     ]
    },
    {
     "name": "stdout",
     "output_type": "stream",
     "text": [
      "Train Epoch: 3 [20480/34199 (60%)]\tLoss: 0.264625\n"
     ]
    },
    {
     "name": "stderr",
     "output_type": "stream",
     "text": [
      "  1%|          | 2.61309523809523/300 [01:00<1:54:42, 23.14s/it]  "
     ]
    },
    {
     "name": "stdout",
     "output_type": "stream",
     "text": [
      "Train Epoch: 3 [25600/34199 (75%)]\tLoss: 0.274458\n"
     ]
    },
    {
     "name": "stderr",
     "output_type": "stream",
     "text": [
      "  1%|          | 2.7321428571428488/300 [01:03<1:54:24, 23.09s/it]"
     ]
    },
    {
     "name": "stdout",
     "output_type": "stream",
     "text": [
      "Train Epoch: 3 [30720/34199 (90%)]\tLoss: 0.221334\n"
     ]
    },
    {
     "name": "stderr",
     "output_type": "stream",
     "text": [
      "  1%|          | 3.0059523809523716/300 [01:07<1:13:45, 14.90s/it]"
     ]
    },
    {
     "name": "stdout",
     "output_type": "stream",
     "text": [
      "\n",
      "Test Epoch: 3\tAccuracy: 7992/8550 (93%)\n",
      "\n",
      "Train Epoch: 4 [0/34199 (0%)]\tLoss: 0.257178\n"
     ]
    },
    {
     "name": "stderr",
     "output_type": "stream",
     "text": [
      "  1%|          | 3.136904761904752/300 [01:10<1:53:57, 23.03s/it] "
     ]
    },
    {
     "name": "stdout",
     "output_type": "stream",
     "text": [
      "Train Epoch: 4 [5120/34199 (15%)]\tLoss: 0.238822\n"
     ]
    },
    {
     "name": "stderr",
     "output_type": "stream",
     "text": [
      "  1%|          | 3.2559523809523707/300 [01:13<1:53:36, 22.97s/it]"
     ]
    },
    {
     "name": "stdout",
     "output_type": "stream",
     "text": [
      "Train Epoch: 4 [10240/34199 (30%)]\tLoss: 0.325344\n"
     ]
    },
    {
     "name": "stderr",
     "output_type": "stream",
     "text": [
      "  1%|          | 3.3630952380952275/300 [01:15<2:23:01, 28.93s/it]"
     ]
    },
    {
     "name": "stdout",
     "output_type": "stream",
     "text": [
      "Train Epoch: 4 [15360/34199 (45%)]\tLoss: 0.249876\n"
     ]
    },
    {
     "name": "stderr",
     "output_type": "stream",
     "text": [
      "  1%|          | 3.494047619047608/300 [01:18<1:55:20, 23.34s/it] "
     ]
    },
    {
     "name": "stdout",
     "output_type": "stream",
     "text": [
      "Train Epoch: 4 [20480/34199 (60%)]\tLoss: 0.245211\n"
     ]
    },
    {
     "name": "stderr",
     "output_type": "stream",
     "text": [
      "  1%|          | 3.6011904761904647/300 [01:21<2:22:16, 28.80s/it]"
     ]
    },
    {
     "name": "stdout",
     "output_type": "stream",
     "text": [
      "Train Epoch: 4 [25600/34199 (75%)]\tLoss: 0.226570\n"
     ]
    },
    {
     "name": "stderr",
     "output_type": "stream",
     "text": [
      "  1%|          | 3.7202380952380834/300 [01:24<2:22:44, 28.91s/it]"
     ]
    },
    {
     "name": "stdout",
     "output_type": "stream",
     "text": [
      "Train Epoch: 4 [30720/34199 (90%)]\tLoss: 0.168806\n"
     ]
    },
    {
     "name": "stderr",
     "output_type": "stream",
     "text": [
      "  1%|▏         | 4.005952380952368/300 [01:28<1:06:51, 13.55s/it] "
     ]
    },
    {
     "name": "stdout",
     "output_type": "stream",
     "text": [
      "\n",
      "Test Epoch: 4\tAccuracy: 8128/8550 (95%)\n",
      "\n",
      "Train Epoch: 5 [0/34199 (0%)]\tLoss: 0.175255\n"
     ]
    },
    {
     "name": "stderr",
     "output_type": "stream",
     "text": [
      "  1%|▏         | 4.124999999999996/300 [01:31<2:31:32, 30.73s/it] "
     ]
    },
    {
     "name": "stdout",
     "output_type": "stream",
     "text": [
      "Train Epoch: 5 [5120/34199 (15%)]\tLoss: 0.210826\n"
     ]
    },
    {
     "name": "stderr",
     "output_type": "stream",
     "text": [
      "  1%|▏         | 4.244047619047623/300 [01:34<2:23:03, 29.02s/it]"
     ]
    },
    {
     "name": "stdout",
     "output_type": "stream",
     "text": [
      "Train Epoch: 5 [10240/34199 (30%)]\tLoss: 0.166813\n"
     ]
    },
    {
     "name": "stderr",
     "output_type": "stream",
     "text": [
      "  1%|▏         | 4.363095238095251/300 [01:37<2:58:56, 36.32s/it] "
     ]
    },
    {
     "name": "stdout",
     "output_type": "stream",
     "text": [
      "Train Epoch: 5 [15360/34199 (45%)]\tLoss: 0.156506\n"
     ]
    },
    {
     "name": "stderr",
     "output_type": "stream",
     "text": [
      "  1%|▏         | 4.482142857142878/300 [01:40<2:23:01, 29.04s/it] "
     ]
    },
    {
     "name": "stdout",
     "output_type": "stream",
     "text": [
      "Train Epoch: 5 [20480/34199 (60%)]\tLoss: 0.239774\n"
     ]
    },
    {
     "name": "stderr",
     "output_type": "stream",
     "text": [
      "  2%|▏         | 4.613095238095268/300 [01:43<1:54:37, 23.28s/it] "
     ]
    },
    {
     "name": "stdout",
     "output_type": "stream",
     "text": [
      "Train Epoch: 5 [25600/34199 (75%)]\tLoss: 0.258778\n"
     ]
    },
    {
     "name": "stderr",
     "output_type": "stream",
     "text": [
      "  2%|▏         | 4.720238095238133/300 [01:46<2:22:17, 28.91s/it] "
     ]
    },
    {
     "name": "stdout",
     "output_type": "stream",
     "text": [
      "Train Epoch: 5 [30720/34199 (90%)]\tLoss: 0.208176\n"
     ]
    },
    {
     "name": "stderr",
     "output_type": "stream",
     "text": [
      "  2%|▏         | 5.005952380952439/300 [01:50<1:07:21, 13.70s/it] "
     ]
    },
    {
     "name": "stdout",
     "output_type": "stream",
     "text": [
      "\n",
      "Test Epoch: 5\tAccuracy: 8159/8550 (95%)\n",
      "\n",
      "Train Epoch: 6 [0/34199 (0%)]\tLoss: 0.175779\n"
     ]
    },
    {
     "name": "stderr",
     "output_type": "stream",
     "text": [
      "  2%|▏         | 5.136904761904829/300 [01:53<1:53:45, 23.15s/it] "
     ]
    },
    {
     "name": "stdout",
     "output_type": "stream",
     "text": [
      "Train Epoch: 6 [5120/34199 (15%)]\tLoss: 0.172956\n"
     ]
    },
    {
     "name": "stderr",
     "output_type": "stream",
     "text": [
      "  2%|▏         | 5.244047619047694/300 [01:56<2:21:09, 28.74s/it] "
     ]
    },
    {
     "name": "stdout",
     "output_type": "stream",
     "text": [
      "Train Epoch: 6 [10240/34199 (30%)]\tLoss: 0.161357\n"
     ]
    },
    {
     "name": "stderr",
     "output_type": "stream",
     "text": [
      "  2%|▏         | 5.363095238095322/300 [01:59<2:21:00, 28.72s/it] "
     ]
    },
    {
     "name": "stdout",
     "output_type": "stream",
     "text": [
      "Train Epoch: 6 [15360/34199 (45%)]\tLoss: 0.145413\n"
     ]
    },
    {
     "name": "stderr",
     "output_type": "stream",
     "text": [
      "  2%|▏         | 5.482142857142949/300 [02:02<2:20:52, 28.70s/it] "
     ]
    },
    {
     "name": "stdout",
     "output_type": "stream",
     "text": [
      "Train Epoch: 6 [20480/34199 (60%)]\tLoss: 0.092262\n"
     ]
    },
    {
     "name": "stderr",
     "output_type": "stream",
     "text": [
      "  2%|▏         | 5.601190476190577/300 [02:04<2:21:20, 28.81s/it] "
     ]
    },
    {
     "name": "stdout",
     "output_type": "stream",
     "text": [
      "Train Epoch: 6 [25600/34199 (75%)]\tLoss: 0.131905\n"
     ]
    },
    {
     "name": "stderr",
     "output_type": "stream",
     "text": [
      "  2%|▏         | 5.732142857142967/300 [02:08<1:54:22, 23.32s/it] "
     ]
    },
    {
     "name": "stdout",
     "output_type": "stream",
     "text": [
      "Train Epoch: 6 [30720/34199 (90%)]\tLoss: 0.183725\n"
     ]
    },
    {
     "name": "stderr",
     "output_type": "stream",
     "text": [
      "  2%|▏         | 6.00595238095251/300 [02:11<1:13:59, 15.10s/it]  "
     ]
    },
    {
     "name": "stdout",
     "output_type": "stream",
     "text": [
      "\n",
      "Test Epoch: 6\tAccuracy: 8212/8550 (96%)\n",
      "\n",
      "Train Epoch: 7 [0/34199 (0%)]\tLoss: 0.075456\n"
     ]
    },
    {
     "name": "stderr",
     "output_type": "stream",
     "text": [
      "  2%|▏         | 6.125000000000138/300 [02:14<2:20:07, 28.61s/it] "
     ]
    },
    {
     "name": "stdout",
     "output_type": "stream",
     "text": [
      "Train Epoch: 7 [5120/34199 (15%)]\tLoss: 0.123340\n"
     ]
    },
    {
     "name": "stderr",
     "output_type": "stream",
     "text": [
      "  2%|▏         | 6.244047619047765/300 [02:17<2:21:12, 28.84s/it] "
     ]
    },
    {
     "name": "stdout",
     "output_type": "stream",
     "text": [
      "Train Epoch: 7 [10240/34199 (30%)]\tLoss: 0.113074\n"
     ]
    },
    {
     "name": "stderr",
     "output_type": "stream",
     "text": [
      "  2%|▏         | 6.363095238095393/300 [02:20<2:20:43, 28.76s/it] "
     ]
    },
    {
     "name": "stdout",
     "output_type": "stream",
     "text": [
      "Train Epoch: 7 [15360/34199 (45%)]\tLoss: 0.198186\n"
     ]
    },
    {
     "name": "stderr",
     "output_type": "stream",
     "text": [
      "  2%|▏         | 6.48214285714302/300 [02:23<2:20:34, 28.74s/it] "
     ]
    },
    {
     "name": "stdout",
     "output_type": "stream",
     "text": [
      "Train Epoch: 7 [20480/34199 (60%)]\tLoss: 0.164965\n"
     ]
    },
    {
     "name": "stderr",
     "output_type": "stream",
     "text": [
      "  2%|▏         | 6.6130952380954104/300 [02:26<1:53:46, 23.27s/it]"
     ]
    },
    {
     "name": "stdout",
     "output_type": "stream",
     "text": [
      "Train Epoch: 7 [25600/34199 (75%)]\tLoss: 0.130332\n"
     ]
    },
    {
     "name": "stderr",
     "output_type": "stream",
     "text": [
      "  2%|▏         | 6.720238095238275/300 [02:29<2:20:05, 28.66s/it] "
     ]
    },
    {
     "name": "stdout",
     "output_type": "stream",
     "text": [
      "Train Epoch: 7 [30720/34199 (90%)]\tLoss: 0.089399\n"
     ]
    },
    {
     "name": "stderr",
     "output_type": "stream",
     "text": [
      "  2%|▏         | 7.005952380952581/300 [02:33<1:06:07, 13.54s/it] "
     ]
    },
    {
     "name": "stdout",
     "output_type": "stream",
     "text": [
      "\n",
      "Test Epoch: 7\tAccuracy: 8226/8550 (96%)\n",
      "\n",
      "Train Epoch: 8 [0/34199 (0%)]\tLoss: 0.121679\n"
     ]
    },
    {
     "name": "stderr",
     "output_type": "stream",
     "text": [
      "  2%|▏         | 7.125000000000209/300 [02:35<2:22:50, 29.26s/it] "
     ]
    },
    {
     "name": "stdout",
     "output_type": "stream",
     "text": [
      "Train Epoch: 8 [5120/34199 (15%)]\tLoss: 0.128264\n"
     ]
    },
    {
     "name": "stderr",
     "output_type": "stream",
     "text": [
      "  2%|▏         | 7.255952380952599/300 [02:39<1:53:24, 23.25s/it] "
     ]
    },
    {
     "name": "stdout",
     "output_type": "stream",
     "text": [
      "Train Epoch: 8 [10240/34199 (30%)]\tLoss: 0.111335\n"
     ]
    },
    {
     "name": "stderr",
     "output_type": "stream",
     "text": [
      "  2%|▏         | 7.3750000000002265/300 [02:42<1:53:37, 23.30s/it]"
     ]
    },
    {
     "name": "stdout",
     "output_type": "stream",
     "text": [
      "Train Epoch: 8 [15360/34199 (45%)]\tLoss: 0.107149\n"
     ]
    },
    {
     "name": "stderr",
     "output_type": "stream",
     "text": [
      "  2%|▏         | 7.494047619047854/300 [02:44<1:53:28, 23.28s/it] "
     ]
    },
    {
     "name": "stdout",
     "output_type": "stream",
     "text": [
      "Train Epoch: 8 [20480/34199 (60%)]\tLoss: 0.112241\n"
     ]
    },
    {
     "name": "stderr",
     "output_type": "stream",
     "text": [
      "  3%|▎         | 7.6130952380954815/300 [02:47<1:53:21, 23.26s/it]"
     ]
    },
    {
     "name": "stdout",
     "output_type": "stream",
     "text": [
      "Train Epoch: 8 [25600/34199 (75%)]\tLoss: 0.116571\n"
     ]
    },
    {
     "name": "stderr",
     "output_type": "stream",
     "text": [
      "  3%|▎         | 7.720238095238346/300 [02:50<2:20:18, 28.80s/it] "
     ]
    },
    {
     "name": "stdout",
     "output_type": "stream",
     "text": [
      "Train Epoch: 8 [30720/34199 (90%)]\tLoss: 0.127580\n"
     ]
    },
    {
     "name": "stderr",
     "output_type": "stream",
     "text": [
      "  3%|▎         | 8.00000000000027/300 [02:54<35:27,  7.29s/it]    "
     ]
    },
    {
     "name": "stdout",
     "output_type": "stream",
     "text": [
      "\n",
      "Test Epoch: 8\tAccuracy: 8225/8550 (96%)\n",
      "\n",
      "Train Epoch: 9 [0/34199 (0%)]\tLoss: 0.120880\n"
     ]
    },
    {
     "name": "stderr",
     "output_type": "stream",
     "text": [
      "  3%|▎         | 8.125000000000279/300 [02:57<2:18:18, 28.43s/it]"
     ]
    },
    {
     "name": "stdout",
     "output_type": "stream",
     "text": [
      "Train Epoch: 9 [5120/34199 (15%)]\tLoss: 0.125457\n"
     ]
    },
    {
     "name": "stderr",
     "output_type": "stream",
     "text": [
      "  3%|▎         | 8.25595238095267/300 [03:00<1:52:55, 23.22s/it] "
     ]
    },
    {
     "name": "stdout",
     "output_type": "stream",
     "text": [
      "Train Epoch: 9 [10240/34199 (30%)]\tLoss: 0.116692\n"
     ]
    },
    {
     "name": "stderr",
     "output_type": "stream",
     "text": [
      "  3%|▎         | 8.375000000000297/300 [03:03<1:53:04, 23.26s/it]"
     ]
    },
    {
     "name": "stdout",
     "output_type": "stream",
     "text": [
      "Train Epoch: 9 [15360/34199 (45%)]\tLoss: 0.059929\n"
     ]
    },
    {
     "name": "stderr",
     "output_type": "stream",
     "text": [
      "  3%|▎         | 8.494047619047924/300 [03:06<1:53:50, 23.43s/it]"
     ]
    },
    {
     "name": "stdout",
     "output_type": "stream",
     "text": [
      "Train Epoch: 9 [20480/34199 (60%)]\tLoss: 0.060783\n"
     ]
    },
    {
     "name": "stderr",
     "output_type": "stream",
     "text": [
      "  3%|▎         | 8.613095238095552/300 [03:09<1:52:39, 23.20s/it]"
     ]
    },
    {
     "name": "stdout",
     "output_type": "stream",
     "text": [
      "Train Epoch: 9 [25600/34199 (75%)]\tLoss: 0.107157\n"
     ]
    },
    {
     "name": "stderr",
     "output_type": "stream",
     "text": [
      "  3%|▎         | 8.73214285714318/300 [03:12<1:54:35, 23.61s/it] "
     ]
    },
    {
     "name": "stdout",
     "output_type": "stream",
     "text": [
      "Train Epoch: 9 [30720/34199 (90%)]\tLoss: 0.120999\n"
     ]
    },
    {
     "name": "stderr",
     "output_type": "stream",
     "text": [
      "  3%|▎         | 9.000000000000341/300 [03:15<35:49,  7.38s/it]  "
     ]
    },
    {
     "name": "stdout",
     "output_type": "stream",
     "text": [
      "\n",
      "Test Epoch: 9\tAccuracy: 8300/8550 (97%)\n",
      "\n",
      "Train Epoch: 10 [0/34199 (0%)]\tLoss: 0.114734\n"
     ]
    },
    {
     "name": "stderr",
     "output_type": "stream",
     "text": [
      "  3%|▎         | 9.12500000000035/300 [03:19<2:55:44, 36.25s/it] "
     ]
    },
    {
     "name": "stdout",
     "output_type": "stream",
     "text": [
      "Train Epoch: 10 [5120/34199 (15%)]\tLoss: 0.087254\n"
     ]
    },
    {
     "name": "stderr",
     "output_type": "stream",
     "text": [
      "  3%|▎         | 9.244047619047977/300 [03:22<2:19:52, 28.86s/it]"
     ]
    },
    {
     "name": "stdout",
     "output_type": "stream",
     "text": [
      "Train Epoch: 10 [10240/34199 (30%)]\tLoss: 0.047199\n"
     ]
    },
    {
     "name": "stderr",
     "output_type": "stream",
     "text": [
      "  3%|▎         | 9.363095238095605/300 [03:25<2:21:02, 29.12s/it]"
     ]
    },
    {
     "name": "stdout",
     "output_type": "stream",
     "text": [
      "Train Epoch: 10 [15360/34199 (45%)]\tLoss: 0.079011\n"
     ]
    },
    {
     "name": "stderr",
     "output_type": "stream",
     "text": [
      "  3%|▎         | 9.482142857143232/300 [03:28<2:20:09, 28.95s/it]"
     ]
    },
    {
     "name": "stdout",
     "output_type": "stream",
     "text": [
      "Train Epoch: 10 [20480/34199 (60%)]\tLoss: 0.057006\n"
     ]
    },
    {
     "name": "stderr",
     "output_type": "stream",
     "text": [
      "  3%|▎         | 9.60119047619086/300 [03:31<2:21:57, 29.33s/it] "
     ]
    },
    {
     "name": "stdout",
     "output_type": "stream",
     "text": [
      "Train Epoch: 10 [25600/34199 (75%)]\tLoss: 0.060663\n"
     ]
    },
    {
     "name": "stderr",
     "output_type": "stream",
     "text": [
      "  3%|▎         | 9.73214285714325/300 [03:34<1:52:02, 23.16s/it] "
     ]
    },
    {
     "name": "stdout",
     "output_type": "stream",
     "text": [
      "Train Epoch: 10 [30720/34199 (90%)]\tLoss: 0.089720\n"
     ]
    },
    {
     "name": "stderr",
     "output_type": "stream",
     "text": [
      "  3%|▎         | 10.005952380952793/300 [03:38<1:15:31, 15.62s/it]"
     ]
    },
    {
     "name": "stdout",
     "output_type": "stream",
     "text": [
      "\n",
      "Test Epoch: 10\tAccuracy: 8320/8550 (97%)\n",
      "\n",
      "Train Epoch: 11 [0/34199 (0%)]\tLoss: 0.045702\n"
     ]
    },
    {
     "name": "stderr",
     "output_type": "stream",
     "text": [
      "  3%|▎         | 10.125000000000421/300 [03:41<2:26:54, 30.41s/it]"
     ]
    },
    {
     "name": "stdout",
     "output_type": "stream",
     "text": [
      "Train Epoch: 11 [5120/34199 (15%)]\tLoss: 0.048612\n"
     ]
    },
    {
     "name": "stderr",
     "output_type": "stream",
     "text": [
      "  3%|▎         | 10.244047619048049/300 [03:44<2:28:56, 30.84s/it]"
     ]
    },
    {
     "name": "stdout",
     "output_type": "stream",
     "text": [
      "Train Epoch: 11 [10240/34199 (30%)]\tLoss: 0.066899\n"
     ]
    },
    {
     "name": "stderr",
     "output_type": "stream",
     "text": [
      "  3%|▎         | 10.375000000000439/300 [03:47<1:54:15, 23.67s/it]"
     ]
    },
    {
     "name": "stdout",
     "output_type": "stream",
     "text": [
      "Train Epoch: 11 [15360/34199 (45%)]\tLoss: 0.033611\n"
     ]
    },
    {
     "name": "stderr",
     "output_type": "stream",
     "text": [
      "  3%|▎         | 10.482142857143304/300 [03:50<2:18:31, 28.71s/it]"
     ]
    },
    {
     "name": "stdout",
     "output_type": "stream",
     "text": [
      "Train Epoch: 11 [20480/34199 (60%)]\tLoss: 0.058700\n"
     ]
    },
    {
     "name": "stderr",
     "output_type": "stream",
     "text": [
      "  4%|▎         | 10.601190476190931/300 [03:53<2:18:32, 28.72s/it]"
     ]
    },
    {
     "name": "stdout",
     "output_type": "stream",
     "text": [
      "Train Epoch: 11 [25600/34199 (75%)]\tLoss: 0.094732\n"
     ]
    },
    {
     "name": "stderr",
     "output_type": "stream",
     "text": [
      "  4%|▎         | 10.720238095238559/300 [03:56<2:18:47, 28.79s/it]"
     ]
    },
    {
     "name": "stdout",
     "output_type": "stream",
     "text": [
      "Train Epoch: 11 [30720/34199 (90%)]\tLoss: 0.046856\n"
     ]
    },
    {
     "name": "stderr",
     "output_type": "stream",
     "text": [
      "  4%|▎         | 11.005952380952865/300 [04:00<1:05:02, 13.50s/it]"
     ]
    },
    {
     "name": "stdout",
     "output_type": "stream",
     "text": [
      "\n",
      "Test Epoch: 11\tAccuracy: 8322/8550 (97%)\n",
      "\n",
      "Train Epoch: 12 [0/34199 (0%)]\tLoss: 0.039858\n"
     ]
    },
    {
     "name": "stderr",
     "output_type": "stream",
     "text": [
      "  4%|▎         | 11.125000000000492/300 [04:03<2:17:29, 28.56s/it]"
     ]
    },
    {
     "name": "stdout",
     "output_type": "stream",
     "text": [
      "Train Epoch: 12 [5120/34199 (15%)]\tLoss: 0.092313\n"
     ]
    },
    {
     "name": "stderr",
     "output_type": "stream",
     "text": [
      "  4%|▎         | 11.24404761904812/300 [04:06<2:21:05, 29.32s/it] "
     ]
    },
    {
     "name": "stdout",
     "output_type": "stream",
     "text": [
      "Train Epoch: 12 [10240/34199 (30%)]\tLoss: 0.023004\n"
     ]
    },
    {
     "name": "stderr",
     "output_type": "stream",
     "text": [
      "  4%|▍         | 11.37500000000051/300 [04:09<1:51:48, 23.24s/it] "
     ]
    },
    {
     "name": "stdout",
     "output_type": "stream",
     "text": [
      "Train Epoch: 12 [15360/34199 (45%)]\tLoss: 0.077033\n"
     ]
    },
    {
     "name": "stderr",
     "output_type": "stream",
     "text": [
      "  4%|▍         | 11.494047619048137/300 [04:12<1:51:52, 23.27s/it]"
     ]
    },
    {
     "name": "stdout",
     "output_type": "stream",
     "text": [
      "Train Epoch: 12 [20480/34199 (60%)]\tLoss: 0.040590\n"
     ]
    },
    {
     "name": "stderr",
     "output_type": "stream",
     "text": [
      "  4%|▍         | 11.601190476191002/300 [04:14<2:18:15, 28.76s/it]"
     ]
    },
    {
     "name": "stdout",
     "output_type": "stream",
     "text": [
      "Train Epoch: 12 [25600/34199 (75%)]\tLoss: 0.057426\n"
     ]
    },
    {
     "name": "stderr",
     "output_type": "stream",
     "text": [
      "  4%|▍         | 11.72023809523863/300 [04:17<2:18:15, 28.78s/it] "
     ]
    },
    {
     "name": "stdout",
     "output_type": "stream",
     "text": [
      "Train Epoch: 12 [30720/34199 (90%)]\tLoss: 0.055393\n"
     ]
    },
    {
     "name": "stderr",
     "output_type": "stream",
     "text": [
      "  4%|▍         | 12.005952380952936/300 [04:21<1:04:56, 13.53s/it]"
     ]
    },
    {
     "name": "stdout",
     "output_type": "stream",
     "text": [
      "\n",
      "Test Epoch: 12\tAccuracy: 8331/8550 (97%)\n",
      "\n",
      "Train Epoch: 13 [0/34199 (0%)]\tLoss: 0.030951\n"
     ]
    },
    {
     "name": "stderr",
     "output_type": "stream",
     "text": [
      "  4%|▍         | 12.125000000000563/300 [04:24<2:17:05, 28.57s/it]"
     ]
    },
    {
     "name": "stdout",
     "output_type": "stream",
     "text": [
      "Train Epoch: 13 [5120/34199 (15%)]\tLoss: 0.069751\n"
     ]
    },
    {
     "name": "stderr",
     "output_type": "stream",
     "text": [
      "  4%|▍         | 12.24404761904819/300 [04:27<2:17:41, 28.71s/it] "
     ]
    },
    {
     "name": "stdout",
     "output_type": "stream",
     "text": [
      "Train Epoch: 13 [10240/34199 (30%)]\tLoss: 0.058875\n"
     ]
    },
    {
     "name": "stderr",
     "output_type": "stream",
     "text": [
      "  4%|▍         | 12.363095238095818/300 [04:30<2:17:40, 28.72s/it]"
     ]
    },
    {
     "name": "stdout",
     "output_type": "stream",
     "text": [
      "Train Epoch: 13 [15360/34199 (45%)]\tLoss: 0.044652\n"
     ]
    },
    {
     "name": "stderr",
     "output_type": "stream",
     "text": [
      "  4%|▍         | 12.482142857143446/300 [04:33<2:17:39, 28.73s/it]"
     ]
    },
    {
     "name": "stdout",
     "output_type": "stream",
     "text": [
      "Train Epoch: 13 [20480/34199 (60%)]\tLoss: 0.056451\n"
     ]
    },
    {
     "name": "stderr",
     "output_type": "stream",
     "text": [
      "  4%|▍         | 12.601190476191073/300 [04:36<2:20:48, 29.40s/it]"
     ]
    },
    {
     "name": "stdout",
     "output_type": "stream",
     "text": [
      "Train Epoch: 13 [25600/34199 (75%)]\tLoss: 0.063880\n"
     ]
    },
    {
     "name": "stderr",
     "output_type": "stream",
     "text": [
      "  4%|▍         | 12.7202380952387/300 [04:38<2:17:44, 28.77s/it]  "
     ]
    },
    {
     "name": "stdout",
     "output_type": "stream",
     "text": [
      "Train Epoch: 13 [30720/34199 (90%)]\tLoss: 0.097024\n"
     ]
    },
    {
     "name": "stderr",
     "output_type": "stream",
     "text": [
      "  4%|▍         | 13.005952380953007/300 [04:42<1:05:24, 13.67s/it]"
     ]
    },
    {
     "name": "stdout",
     "output_type": "stream",
     "text": [
      "\n",
      "Test Epoch: 13\tAccuracy: 8331/8550 (97%)\n",
      "\n",
      "Train Epoch: 14 [0/34199 (0%)]\tLoss: 0.047527\n"
     ]
    },
    {
     "name": "stderr",
     "output_type": "stream",
     "text": [
      "  4%|▍         | 13.125000000000634/300 [04:45<2:16:32, 28.56s/it]"
     ]
    },
    {
     "name": "stdout",
     "output_type": "stream",
     "text": [
      "Train Epoch: 14 [5120/34199 (15%)]\tLoss: 0.038477\n"
     ]
    },
    {
     "name": "stderr",
     "output_type": "stream",
     "text": [
      "  4%|▍         | 13.255952380953024/300 [04:48<1:51:31, 23.34s/it]"
     ]
    },
    {
     "name": "stdout",
     "output_type": "stream",
     "text": [
      "Train Epoch: 14 [10240/34199 (30%)]\tLoss: 0.042789\n"
     ]
    },
    {
     "name": "stderr",
     "output_type": "stream",
     "text": [
      "  4%|▍         | 13.375000000000652/300 [04:51<1:51:32, 23.35s/it]"
     ]
    },
    {
     "name": "stdout",
     "output_type": "stream",
     "text": [
      "Train Epoch: 14 [15360/34199 (45%)]\tLoss: 0.029803\n"
     ]
    },
    {
     "name": "stderr",
     "output_type": "stream",
     "text": [
      "  4%|▍         | 13.482142857143517/300 [04:54<2:17:17, 28.75s/it]"
     ]
    },
    {
     "name": "stdout",
     "output_type": "stream",
     "text": [
      "Train Epoch: 14 [20480/34199 (60%)]\tLoss: 0.053188\n"
     ]
    },
    {
     "name": "stderr",
     "output_type": "stream",
     "text": [
      "  5%|▍         | 13.613095238095907/300 [04:57<1:50:56, 23.24s/it]"
     ]
    },
    {
     "name": "stdout",
     "output_type": "stream",
     "text": [
      "Train Epoch: 14 [25600/34199 (75%)]\tLoss: 0.050230\n"
     ]
    },
    {
     "name": "stderr",
     "output_type": "stream",
     "text": [
      "  5%|▍         | 13.732142857143534/300 [05:00<1:51:04, 23.28s/it]"
     ]
    },
    {
     "name": "stdout",
     "output_type": "stream",
     "text": [
      "Train Epoch: 14 [30720/34199 (90%)]\tLoss: 0.077326\n"
     ]
    },
    {
     "name": "stderr",
     "output_type": "stream",
     "text": [
      "  5%|▍         | 14.005952380953078/300 [05:04<1:17:26, 16.25s/it]"
     ]
    },
    {
     "name": "stdout",
     "output_type": "stream",
     "text": [
      "\n",
      "Test Epoch: 14\tAccuracy: 8348/8550 (98%)\n",
      "\n",
      "Train Epoch: 15 [0/34199 (0%)]\tLoss: 0.030679\n"
     ]
    },
    {
     "name": "stderr",
     "output_type": "stream",
     "text": [
      "  5%|▍         | 14.136904761905468/300 [05:07<1:50:39, 23.22s/it]"
     ]
    },
    {
     "name": "stdout",
     "output_type": "stream",
     "text": [
      "Train Epoch: 15 [5120/34199 (15%)]\tLoss: 0.038896\n"
     ]
    },
    {
     "name": "stderr",
     "output_type": "stream",
     "text": [
      "  5%|▍         | 14.244047619048333/300 [05:10<2:16:24, 28.64s/it]"
     ]
    },
    {
     "name": "stdout",
     "output_type": "stream",
     "text": [
      "Train Epoch: 15 [10240/34199 (30%)]\tLoss: 0.026025\n"
     ]
    },
    {
     "name": "stderr",
     "output_type": "stream",
     "text": [
      "  5%|▍         | 14.375000000000723/300 [05:13<1:50:29, 23.21s/it]"
     ]
    },
    {
     "name": "stdout",
     "output_type": "stream",
     "text": [
      "Train Epoch: 15 [15360/34199 (45%)]\tLoss: 0.048624\n"
     ]
    },
    {
     "name": "stderr",
     "output_type": "stream",
     "text": [
      "  5%|▍         | 14.49404761904835/300 [05:16<1:50:29, 23.22s/it] "
     ]
    },
    {
     "name": "stdout",
     "output_type": "stream",
     "text": [
      "Train Epoch: 15 [20480/34199 (60%)]\tLoss: 0.068624\n"
     ]
    },
    {
     "name": "stderr",
     "output_type": "stream",
     "text": [
      "  5%|▍         | 14.613095238095978/300 [05:19<1:50:13, 23.17s/it]"
     ]
    },
    {
     "name": "stdout",
     "output_type": "stream",
     "text": [
      "Train Epoch: 15 [25600/34199 (75%)]\tLoss: 0.034772\n"
     ]
    },
    {
     "name": "stderr",
     "output_type": "stream",
     "text": [
      "  5%|▍         | 14.732142857143605/300 [05:22<1:50:05, 23.16s/it]"
     ]
    },
    {
     "name": "stdout",
     "output_type": "stream",
     "text": [
      "Train Epoch: 15 [30720/34199 (90%)]\tLoss: 0.118701\n"
     ]
    },
    {
     "name": "stderr",
     "output_type": "stream",
     "text": [
      "  5%|▌         | 15.005952380953149/300 [05:25<1:03:49, 13.44s/it]"
     ]
    },
    {
     "name": "stdout",
     "output_type": "stream",
     "text": [
      "\n",
      "Test Epoch: 15\tAccuracy: 8330/8550 (97%)\n",
      "\n",
      "Train Epoch: 16 [0/34199 (0%)]\tLoss: 0.054184\n"
     ]
    },
    {
     "name": "stderr",
     "output_type": "stream",
     "text": [
      "  5%|▌         | 15.125000000000776/300 [05:28<2:38:59, 33.49s/it]"
     ]
    },
    {
     "name": "stdout",
     "output_type": "stream",
     "text": [
      "Train Epoch: 16 [5120/34199 (15%)]\tLoss: 0.027726\n"
     ]
    },
    {
     "name": "stderr",
     "output_type": "stream",
     "text": [
      "  5%|▌         | 15.255952380953167/300 [05:32<1:50:16, 23.24s/it]"
     ]
    },
    {
     "name": "stdout",
     "output_type": "stream",
     "text": [
      "Train Epoch: 16 [10240/34199 (30%)]\tLoss: 0.033256\n"
     ]
    },
    {
     "name": "stderr",
     "output_type": "stream",
     "text": [
      "  5%|▌         | 15.363095238096031/300 [05:35<2:28:53, 31.39s/it]"
     ]
    },
    {
     "name": "stdout",
     "output_type": "stream",
     "text": [
      "Train Epoch: 16 [15360/34199 (45%)]\tLoss: 0.041433\n"
     ]
    },
    {
     "name": "stderr",
     "output_type": "stream",
     "text": [
      "  5%|▌         | 15.482142857143659/300 [05:38<2:18:49, 29.28s/it]"
     ]
    },
    {
     "name": "stdout",
     "output_type": "stream",
     "text": [
      "Train Epoch: 16 [20480/34199 (60%)]\tLoss: 0.032329\n"
     ]
    },
    {
     "name": "stderr",
     "output_type": "stream",
     "text": [
      "  5%|▌         | 15.613095238096049/300 [05:41<1:49:59, 23.21s/it]"
     ]
    },
    {
     "name": "stdout",
     "output_type": "stream",
     "text": [
      "Train Epoch: 16 [25600/34199 (75%)]\tLoss: 0.055249\n"
     ]
    },
    {
     "name": "stderr",
     "output_type": "stream",
     "text": [
      "  5%|▌         | 15.732142857143677/300 [05:44<1:50:08, 23.25s/it]"
     ]
    },
    {
     "name": "stdout",
     "output_type": "stream",
     "text": [
      "Train Epoch: 16 [30720/34199 (90%)]\tLoss: 0.052578\n"
     ]
    },
    {
     "name": "stderr",
     "output_type": "stream",
     "text": [
      "  5%|▌         | 16.005952380953218/300 [05:47<1:03:51, 13.49s/it]"
     ]
    },
    {
     "name": "stdout",
     "output_type": "stream",
     "text": [
      "\n",
      "Test Epoch: 16\tAccuracy: 8361/8550 (98%)\n",
      "\n",
      "Train Epoch: 17 [0/34199 (0%)]\tLoss: 0.027389\n"
     ]
    },
    {
     "name": "stderr",
     "output_type": "stream",
     "text": [
      "  5%|▌         | 16.13690476190557/300 [05:50<1:49:51, 23.22s/it] "
     ]
    },
    {
     "name": "stdout",
     "output_type": "stream",
     "text": [
      "Train Epoch: 17 [5120/34199 (15%)]\tLoss: 0.036768\n"
     ]
    },
    {
     "name": "stderr",
     "output_type": "stream",
     "text": [
      "  5%|▌         | 16.244047619048402/300 [05:53<2:15:48, 28.72s/it]"
     ]
    },
    {
     "name": "stdout",
     "output_type": "stream",
     "text": [
      "Train Epoch: 17 [10240/34199 (30%)]\tLoss: 0.033166\n"
     ]
    },
    {
     "name": "stderr",
     "output_type": "stream",
     "text": [
      "  5%|▌         | 16.375000000000753/300 [05:56<1:49:56, 23.26s/it]"
     ]
    },
    {
     "name": "stdout",
     "output_type": "stream",
     "text": [
      "Train Epoch: 17 [15360/34199 (45%)]\tLoss: 0.040605\n"
     ]
    },
    {
     "name": "stderr",
     "output_type": "stream",
     "text": [
      "  5%|▌         | 16.482142857143586/300 [05:59<2:24:42, 30.62s/it]"
     ]
    },
    {
     "name": "stdout",
     "output_type": "stream",
     "text": [
      "Train Epoch: 17 [20480/34199 (60%)]\tLoss: 0.022982\n"
     ]
    },
    {
     "name": "stderr",
     "output_type": "stream",
     "text": [
      "  6%|▌         | 16.601190476191178/300 [06:02<2:16:10, 28.83s/it]"
     ]
    },
    {
     "name": "stdout",
     "output_type": "stream",
     "text": [
      "Train Epoch: 17 [25600/34199 (75%)]\tLoss: 0.043310\n"
     ]
    },
    {
     "name": "stderr",
     "output_type": "stream",
     "text": [
      "  6%|▌         | 16.73214285714353/300 [06:05<1:49:18, 23.15s/it] "
     ]
    },
    {
     "name": "stdout",
     "output_type": "stream",
     "text": [
      "Train Epoch: 17 [30720/34199 (90%)]\tLoss: 0.029804\n"
     ]
    },
    {
     "name": "stderr",
     "output_type": "stream",
     "text": [
      "  6%|▌         | 17.00595238095299/300 [06:09<1:02:53, 13.34s/it] "
     ]
    },
    {
     "name": "stdout",
     "output_type": "stream",
     "text": [
      "\n",
      "Test Epoch: 17\tAccuracy: 8328/8550 (97%)\n",
      "\n",
      "Train Epoch: 18 [0/34199 (0%)]\tLoss: 0.035354\n"
     ]
    },
    {
     "name": "stderr",
     "output_type": "stream",
     "text": [
      "  6%|▌         | 17.136904761905342/300 [06:12<1:49:32, 23.24s/it]"
     ]
    },
    {
     "name": "stdout",
     "output_type": "stream",
     "text": [
      "Train Epoch: 18 [5120/34199 (15%)]\tLoss: 0.027184\n"
     ]
    },
    {
     "name": "stderr",
     "output_type": "stream",
     "text": [
      "  6%|▌         | 17.244047619048175/300 [06:14<2:15:20, 28.72s/it]"
     ]
    },
    {
     "name": "stdout",
     "output_type": "stream",
     "text": [
      "Train Epoch: 18 [10240/34199 (30%)]\tLoss: 0.018657\n"
     ]
    },
    {
     "name": "stderr",
     "output_type": "stream",
     "text": [
      "  6%|▌         | 17.363095238095767/300 [06:17<2:15:08, 28.69s/it]"
     ]
    },
    {
     "name": "stdout",
     "output_type": "stream",
     "text": [
      "Train Epoch: 18 [15360/34199 (45%)]\tLoss: 0.031534\n"
     ]
    },
    {
     "name": "stderr",
     "output_type": "stream",
     "text": [
      "  6%|▌         | 17.48214285714336/300 [06:20<2:14:55, 28.66s/it] "
     ]
    },
    {
     "name": "stdout",
     "output_type": "stream",
     "text": [
      "Train Epoch: 18 [20480/34199 (60%)]\tLoss: 0.034666\n"
     ]
    },
    {
     "name": "stderr",
     "output_type": "stream",
     "text": [
      "  6%|▌         | 17.60119047619095/300 [06:23<2:14:53, 28.66s/it] "
     ]
    },
    {
     "name": "stdout",
     "output_type": "stream",
     "text": [
      "Train Epoch: 18 [25600/34199 (75%)]\tLoss: 0.036436\n"
     ]
    },
    {
     "name": "stderr",
     "output_type": "stream",
     "text": [
      "  6%|▌         | 17.7321428571433/300 [06:26<1:49:22, 23.25s/it]  "
     ]
    },
    {
     "name": "stdout",
     "output_type": "stream",
     "text": [
      "Train Epoch: 18 [30720/34199 (90%)]\tLoss: 0.026500\n"
     ]
    },
    {
     "name": "stderr",
     "output_type": "stream",
     "text": [
      "  6%|▌         | 18.005952380952763/300 [06:30<1:03:09, 13.44s/it]"
     ]
    },
    {
     "name": "stdout",
     "output_type": "stream",
     "text": [
      "\n",
      "Test Epoch: 18\tAccuracy: 8344/8550 (98%)\n",
      "\n",
      "Train Epoch: 19 [0/34199 (0%)]\tLoss: 0.041058\n"
     ]
    },
    {
     "name": "stderr",
     "output_type": "stream",
     "text": [
      "  6%|▌         | 18.125000000000355/300 [06:33<2:27:29, 31.40s/it]"
     ]
    },
    {
     "name": "stdout",
     "output_type": "stream",
     "text": [
      "Train Epoch: 19 [5120/34199 (15%)]\tLoss: 0.026688\n"
     ]
    },
    {
     "name": "stderr",
     "output_type": "stream",
     "text": [
      "  6%|▌         | 18.244047619047947/300 [06:36<2:21:58, 30.23s/it]"
     ]
    },
    {
     "name": "stdout",
     "output_type": "stream",
     "text": [
      "Train Epoch: 19 [10240/34199 (30%)]\tLoss: 0.017326\n"
     ]
    },
    {
     "name": "stderr",
     "output_type": "stream",
     "text": [
      "  6%|▌         | 18.36309523809554/300 [06:39<2:16:17, 29.04s/it] "
     ]
    },
    {
     "name": "stdout",
     "output_type": "stream",
     "text": [
      "Train Epoch: 19 [15360/34199 (45%)]\tLoss: 0.045006\n"
     ]
    },
    {
     "name": "stderr",
     "output_type": "stream",
     "text": [
      "  6%|▌         | 18.48214285714313/300 [06:42<2:15:02, 28.78s/it] "
     ]
    },
    {
     "name": "stdout",
     "output_type": "stream",
     "text": [
      "Train Epoch: 19 [20480/34199 (60%)]\tLoss: 0.010929\n"
     ]
    },
    {
     "name": "stderr",
     "output_type": "stream",
     "text": [
      "  6%|▌         | 18.601190476190723/300 [06:45<2:25:08, 30.95s/it]"
     ]
    },
    {
     "name": "stdout",
     "output_type": "stream",
     "text": [
      "Train Epoch: 19 [25600/34199 (75%)]\tLoss: 0.020533\n"
     ]
    },
    {
     "name": "stderr",
     "output_type": "stream",
     "text": [
      "  6%|▌         | 18.720238095238315/300 [06:48<2:24:08, 30.75s/it]"
     ]
    },
    {
     "name": "stdout",
     "output_type": "stream",
     "text": [
      "Train Epoch: 19 [30720/34199 (90%)]\tLoss: 0.024347\n"
     ]
    },
    {
     "name": "stderr",
     "output_type": "stream",
     "text": [
      "  6%|▋         | 19.000000000000156/300 [06:52<35:09,  7.51s/it]  "
     ]
    },
    {
     "name": "stdout",
     "output_type": "stream",
     "text": [
      "\n",
      "Test Epoch: 19\tAccuracy: 8346/8550 (98%)\n",
      "\n",
      "Train Epoch: 20 [0/34199 (0%)]\tLoss: 0.032310\n"
     ]
    },
    {
     "name": "stderr",
     "output_type": "stream",
     "text": [
      "  6%|▋         | 19.125000000000128/300 [06:55<2:20:23, 29.99s/it]"
     ]
    },
    {
     "name": "stdout",
     "output_type": "stream",
     "text": [
      "Train Epoch: 20 [5120/34199 (15%)]\tLoss: 0.034595\n"
     ]
    },
    {
     "name": "stderr",
     "output_type": "stream",
     "text": [
      "  6%|▋         | 19.24404761904772/300 [06:58<2:17:52, 29.46s/it] "
     ]
    },
    {
     "name": "stdout",
     "output_type": "stream",
     "text": [
      "Train Epoch: 20 [10240/34199 (30%)]\tLoss: 0.046700\n"
     ]
    },
    {
     "name": "stderr",
     "output_type": "stream",
     "text": [
      "  6%|▋         | 19.37500000000007/300 [07:01<1:51:09, 23.77s/it] "
     ]
    },
    {
     "name": "stdout",
     "output_type": "stream",
     "text": [
      "Train Epoch: 20 [15360/34199 (45%)]\tLoss: 0.032034\n"
     ]
    },
    {
     "name": "stderr",
     "output_type": "stream",
     "text": [
      "  6%|▋         | 19.494047619047663/300 [07:04<1:48:41, 23.25s/it]"
     ]
    },
    {
     "name": "stdout",
     "output_type": "stream",
     "text": [
      "Train Epoch: 20 [20480/34199 (60%)]\tLoss: 0.035166\n"
     ]
    },
    {
     "name": "stderr",
     "output_type": "stream",
     "text": [
      "  7%|▋         | 19.601190476190496/300 [07:07<2:14:33, 28.79s/it]"
     ]
    },
    {
     "name": "stdout",
     "output_type": "stream",
     "text": [
      "Train Epoch: 20 [25600/34199 (75%)]\tLoss: 0.018568\n"
     ]
    },
    {
     "name": "stderr",
     "output_type": "stream",
     "text": [
      "  7%|▋         | 19.732142857142847/300 [07:10<1:48:28, 23.22s/it]"
     ]
    },
    {
     "name": "stdout",
     "output_type": "stream",
     "text": [
      "Train Epoch: 20 [30720/34199 (90%)]\tLoss: 0.020473\n"
     ]
    },
    {
     "name": "stderr",
     "output_type": "stream",
     "text": [
      "  7%|▋         | 20.00595238095231/300 [07:14<1:21:02, 17.37s/it] "
     ]
    },
    {
     "name": "stdout",
     "output_type": "stream",
     "text": [
      "\n",
      "Test Epoch: 20\tAccuracy: 8324/8550 (97%)\n",
      "\n",
      "Train Epoch: 21 [0/34199 (0%)]\tLoss: 0.022980\n"
     ]
    },
    {
     "name": "stderr",
     "output_type": "stream",
     "text": [
      "  7%|▋         | 20.1249999999999/300 [07:17<2:13:07, 28.54s/it]  "
     ]
    },
    {
     "name": "stdout",
     "output_type": "stream",
     "text": [
      "Train Epoch: 21 [5120/34199 (15%)]\tLoss: 0.026819\n"
     ]
    },
    {
     "name": "stderr",
     "output_type": "stream",
     "text": [
      "  7%|▋         | 20.244047619047493/300 [07:20<2:14:17, 28.80s/it]"
     ]
    },
    {
     "name": "stdout",
     "output_type": "stream",
     "text": [
      "Train Epoch: 21 [10240/34199 (30%)]\tLoss: 0.026691\n"
     ]
    },
    {
     "name": "stderr",
     "output_type": "stream",
     "text": [
      "  7%|▋         | 20.374999999999844/300 [07:23<1:48:12, 23.22s/it]"
     ]
    },
    {
     "name": "stdout",
     "output_type": "stream",
     "text": [
      "Train Epoch: 21 [15360/34199 (45%)]\tLoss: 0.032919\n"
     ]
    },
    {
     "name": "stderr",
     "output_type": "stream",
     "text": [
      "  7%|▋         | 20.482142857142676/300 [07:25<2:13:46, 28.71s/it]"
     ]
    },
    {
     "name": "stdout",
     "output_type": "stream",
     "text": [
      "Train Epoch: 21 [20480/34199 (60%)]\tLoss: 0.014148\n"
     ]
    },
    {
     "name": "stderr",
     "output_type": "stream",
     "text": [
      "  7%|▋         | 20.613095238095028/300 [07:29<1:48:18, 23.26s/it]"
     ]
    },
    {
     "name": "stdout",
     "output_type": "stream",
     "text": [
      "Train Epoch: 21 [25600/34199 (75%)]\tLoss: 0.007053\n"
     ]
    },
    {
     "name": "stderr",
     "output_type": "stream",
     "text": [
      "  7%|▋         | 20.73214285714262/300 [07:32<1:48:12, 23.25s/it] "
     ]
    },
    {
     "name": "stdout",
     "output_type": "stream",
     "text": [
      "Train Epoch: 21 [30720/34199 (90%)]\tLoss: 0.032335\n"
     ]
    },
    {
     "name": "stderr",
     "output_type": "stream",
     "text": [
      "  7%|▋         | 20.994047619047322/300 [07:35<36:28,  7.84s/it]  "
     ]
    },
    {
     "name": "stdout",
     "output_type": "stream",
     "text": [
      "\n",
      "Test Epoch: 21\tAccuracy: 8353/8550 (98%)\n",
      "\n",
      "Train Epoch: 22 [0/34199 (0%)]\tLoss: 0.025643\n"
     ]
    },
    {
     "name": "stderr",
     "output_type": "stream",
     "text": [
      "  7%|▋         | 21.136904761904432/300 [07:38<1:48:05, 23.26s/it]"
     ]
    },
    {
     "name": "stdout",
     "output_type": "stream",
     "text": [
      "Train Epoch: 22 [5120/34199 (15%)]\tLoss: 0.013713\n"
     ]
    },
    {
     "name": "stderr",
     "output_type": "stream",
     "text": [
      "  7%|▋         | 21.244047619047265/300 [07:41<2:13:43, 28.78s/it]"
     ]
    },
    {
     "name": "stdout",
     "output_type": "stream",
     "text": [
      "Train Epoch: 22 [10240/34199 (30%)]\tLoss: 0.018088\n"
     ]
    },
    {
     "name": "stderr",
     "output_type": "stream",
     "text": [
      "  7%|▋         | 21.374999999999616/300 [07:44<1:48:05, 23.28s/it]"
     ]
    },
    {
     "name": "stdout",
     "output_type": "stream",
     "text": [
      "Train Epoch: 22 [15360/34199 (45%)]\tLoss: 0.031559\n"
     ]
    },
    {
     "name": "stderr",
     "output_type": "stream",
     "text": [
      "  7%|▋         | 21.49404761904721/300 [07:47<1:48:46, 23.44s/it] "
     ]
    },
    {
     "name": "stdout",
     "output_type": "stream",
     "text": [
      "Train Epoch: 22 [20480/34199 (60%)]\tLoss: 0.029584\n"
     ]
    },
    {
     "name": "stderr",
     "output_type": "stream",
     "text": [
      "  7%|▋         | 21.6130952380948/300 [07:50<1:47:54, 23.26s/it]  "
     ]
    },
    {
     "name": "stdout",
     "output_type": "stream",
     "text": [
      "Train Epoch: 22 [25600/34199 (75%)]\tLoss: 0.014263\n"
     ]
    },
    {
     "name": "stderr",
     "output_type": "stream",
     "text": [
      "  7%|▋         | 21.732142857142392/300 [07:53<1:48:01, 23.29s/it]"
     ]
    },
    {
     "name": "stdout",
     "output_type": "stream",
     "text": [
      "Train Epoch: 22 [30720/34199 (90%)]\tLoss: 0.009022\n"
     ]
    },
    {
     "name": "stderr",
     "output_type": "stream",
     "text": [
      "  7%|▋         | 22.005952380951854/300 [07:57<1:03:03, 13.61s/it]"
     ]
    },
    {
     "name": "stdout",
     "output_type": "stream",
     "text": [
      "\n",
      "Test Epoch: 22\tAccuracy: 8367/8550 (98%)\n",
      "\n",
      "Train Epoch: 23 [0/34199 (0%)]\tLoss: 0.012931\n"
     ]
    },
    {
     "name": "stderr",
     "output_type": "stream",
     "text": [
      "  7%|▋         | 22.136904761904205/300 [08:00<1:47:28, 23.21s/it]"
     ]
    },
    {
     "name": "stdout",
     "output_type": "stream",
     "text": [
      "Train Epoch: 23 [5120/34199 (15%)]\tLoss: 0.016387\n"
     ]
    },
    {
     "name": "stderr",
     "output_type": "stream",
     "text": [
      "  7%|▋         | 22.244047619047038/300 [08:03<2:13:13, 28.78s/it]"
     ]
    },
    {
     "name": "stdout",
     "output_type": "stream",
     "text": [
      "Train Epoch: 23 [10240/34199 (30%)]\tLoss: 0.018950\n"
     ]
    },
    {
     "name": "stderr",
     "output_type": "stream",
     "text": [
      "  7%|▋         | 22.37499999999939/300 [08:06<1:50:33, 23.89s/it] "
     ]
    },
    {
     "name": "stdout",
     "output_type": "stream",
     "text": [
      "Train Epoch: 23 [15360/34199 (45%)]\tLoss: 0.013704\n"
     ]
    },
    {
     "name": "stderr",
     "output_type": "stream",
     "text": [
      "  7%|▋         | 22.49404761904698/300 [08:09<1:47:31, 23.25s/it] "
     ]
    },
    {
     "name": "stdout",
     "output_type": "stream",
     "text": [
      "Train Epoch: 23 [20480/34199 (60%)]\tLoss: 0.032296\n"
     ]
    },
    {
     "name": "stderr",
     "output_type": "stream",
     "text": [
      "  8%|▊         | 22.613095238094573/300 [08:12<1:47:19, 23.21s/it]"
     ]
    },
    {
     "name": "stdout",
     "output_type": "stream",
     "text": [
      "Train Epoch: 23 [25600/34199 (75%)]\tLoss: 0.025453\n"
     ]
    },
    {
     "name": "stderr",
     "output_type": "stream",
     "text": [
      "  8%|▊         | 22.732142857142165/300 [08:15<1:47:22, 23.24s/it]"
     ]
    },
    {
     "name": "stdout",
     "output_type": "stream",
     "text": [
      "Train Epoch: 23 [30720/34199 (90%)]\tLoss: 0.021274\n"
     ]
    },
    {
     "name": "stderr",
     "output_type": "stream",
     "text": [
      "  8%|▊         | 23.005952380951626/300 [08:18<1:04:03, 13.87s/it]"
     ]
    },
    {
     "name": "stdout",
     "output_type": "stream",
     "text": [
      "\n",
      "Test Epoch: 23\tAccuracy: 8355/8550 (98%)\n",
      "\n",
      "Train Epoch: 24 [0/34199 (0%)]\tLoss: 0.015190\n"
     ]
    },
    {
     "name": "stderr",
     "output_type": "stream",
     "text": [
      "  8%|▊         | 23.136904761903978/300 [08:22<1:47:06, 23.21s/it]"
     ]
    },
    {
     "name": "stdout",
     "output_type": "stream",
     "text": [
      "Train Epoch: 24 [5120/34199 (15%)]\tLoss: 0.017455\n"
     ]
    },
    {
     "name": "stderr",
     "output_type": "stream",
     "text": [
      "  8%|▊         | 23.24404761904681/300 [08:24<2:12:31, 28.73s/it] "
     ]
    },
    {
     "name": "stdout",
     "output_type": "stream",
     "text": [
      "Train Epoch: 24 [10240/34199 (30%)]\tLoss: 0.018081\n"
     ]
    },
    {
     "name": "stderr",
     "output_type": "stream",
     "text": [
      "  8%|▊         | 23.363095238094402/300 [08:27<2:13:06, 28.87s/it]"
     ]
    },
    {
     "name": "stdout",
     "output_type": "stream",
     "text": [
      "Train Epoch: 24 [15360/34199 (45%)]\tLoss: 0.037222\n"
     ]
    },
    {
     "name": "stderr",
     "output_type": "stream",
     "text": [
      "  8%|▊         | 23.482142857141994/300 [08:30<2:18:01, 29.95s/it]"
     ]
    },
    {
     "name": "stdout",
     "output_type": "stream",
     "text": [
      "Train Epoch: 24 [20480/34199 (60%)]\tLoss: 0.012934\n"
     ]
    },
    {
     "name": "stderr",
     "output_type": "stream",
     "text": [
      "  8%|▊         | 23.601190476189586/300 [08:33<2:12:23, 28.74s/it]"
     ]
    },
    {
     "name": "stdout",
     "output_type": "stream",
     "text": [
      "Train Epoch: 24 [25600/34199 (75%)]\tLoss: 0.026562\n"
     ]
    },
    {
     "name": "stderr",
     "output_type": "stream",
     "text": [
      "  8%|▊         | 23.732142857141937/300 [08:36<1:47:45, 23.40s/it]"
     ]
    },
    {
     "name": "stdout",
     "output_type": "stream",
     "text": [
      "Train Epoch: 24 [30720/34199 (90%)]\tLoss: 0.008819\n"
     ]
    },
    {
     "name": "stderr",
     "output_type": "stream",
     "text": [
      "  8%|▊         | 24.0059523809514/300 [08:40<1:03:25, 13.79s/it]  "
     ]
    },
    {
     "name": "stdout",
     "output_type": "stream",
     "text": [
      "\n",
      "Test Epoch: 24\tAccuracy: 8356/8550 (98%)\n",
      "\n",
      "Train Epoch: 25 [0/34199 (0%)]\tLoss: 0.011057\n"
     ]
    },
    {
     "name": "stderr",
     "output_type": "stream",
     "text": [
      "  8%|▊         | 24.12499999999899/300 [08:43<2:11:02, 28.50s/it] "
     ]
    },
    {
     "name": "stdout",
     "output_type": "stream",
     "text": [
      "Train Epoch: 25 [5120/34199 (15%)]\tLoss: 0.008308\n"
     ]
    },
    {
     "name": "stderr",
     "output_type": "stream",
     "text": [
      "  8%|▊         | 24.255952380951342/300 [08:46<1:46:50, 23.25s/it]"
     ]
    },
    {
     "name": "stdout",
     "output_type": "stream",
     "text": [
      "Train Epoch: 25 [10240/34199 (30%)]\tLoss: 0.012775\n"
     ]
    },
    {
     "name": "stderr",
     "output_type": "stream",
     "text": [
      "  8%|▊         | 24.363095238094175/300 [08:49<2:12:11, 28.78s/it]"
     ]
    },
    {
     "name": "stdout",
     "output_type": "stream",
     "text": [
      "Train Epoch: 25 [15360/34199 (45%)]\tLoss: 0.017287\n"
     ]
    },
    {
     "name": "stderr",
     "output_type": "stream",
     "text": [
      "  8%|▊         | 24.482142857141767/300 [08:52<2:12:33, 28.87s/it]"
     ]
    },
    {
     "name": "stdout",
     "output_type": "stream",
     "text": [
      "Train Epoch: 25 [20480/34199 (60%)]\tLoss: 0.027319\n"
     ]
    },
    {
     "name": "stderr",
     "output_type": "stream",
     "text": [
      "  8%|▊         | 24.60119047618936/300 [08:55<2:11:58, 28.75s/it] "
     ]
    },
    {
     "name": "stdout",
     "output_type": "stream",
     "text": [
      "Train Epoch: 25 [25600/34199 (75%)]\tLoss: 0.037266\n"
     ]
    },
    {
     "name": "stderr",
     "output_type": "stream",
     "text": [
      "  8%|▊         | 24.72023809523695/300 [08:58<2:12:19, 28.84s/it] "
     ]
    },
    {
     "name": "stdout",
     "output_type": "stream",
     "text": [
      "Train Epoch: 25 [30720/34199 (90%)]\tLoss: 0.010184\n"
     ]
    },
    {
     "name": "stderr",
     "output_type": "stream",
     "text": [
      "  8%|▊         | 25.00595238095117/300 [09:01<1:02:43, 13.69s/it] "
     ]
    },
    {
     "name": "stdout",
     "output_type": "stream",
     "text": [
      "\n",
      "Test Epoch: 25\tAccuracy: 8367/8550 (98%)\n",
      "\n",
      "Train Epoch: 26 [0/34199 (0%)]\tLoss: 0.011191\n"
     ]
    },
    {
     "name": "stderr",
     "output_type": "stream",
     "text": [
      "  8%|▊         | 25.136904761903523/300 [09:04<1:46:15, 23.19s/it]"
     ]
    },
    {
     "name": "stdout",
     "output_type": "stream",
     "text": [
      "Train Epoch: 26 [5120/34199 (15%)]\tLoss: 0.014106\n"
     ]
    },
    {
     "name": "stderr",
     "output_type": "stream",
     "text": [
      "  8%|▊         | 25.244047619046356/300 [09:07<2:11:46, 28.78s/it]"
     ]
    },
    {
     "name": "stdout",
     "output_type": "stream",
     "text": [
      "Train Epoch: 26 [10240/34199 (30%)]\tLoss: 0.029430\n"
     ]
    },
    {
     "name": "stderr",
     "output_type": "stream",
     "text": [
      "  8%|▊         | 25.374999999998707/300 [09:10<1:46:33, 23.28s/it]"
     ]
    },
    {
     "name": "stdout",
     "output_type": "stream",
     "text": [
      "Train Epoch: 26 [15360/34199 (45%)]\tLoss: 0.032838\n"
     ]
    },
    {
     "name": "stderr",
     "output_type": "stream",
     "text": [
      "  8%|▊         | 25.4940476190463/300 [09:13<1:46:39, 23.31s/it]  "
     ]
    },
    {
     "name": "stdout",
     "output_type": "stream",
     "text": [
      "Train Epoch: 26 [20480/34199 (60%)]\tLoss: 0.013189\n"
     ]
    },
    {
     "name": "stderr",
     "output_type": "stream",
     "text": [
      "  9%|▊         | 25.60119047618913/300 [09:16<2:11:12, 28.69s/it] "
     ]
    },
    {
     "name": "stdout",
     "output_type": "stream",
     "text": [
      "Train Epoch: 26 [25600/34199 (75%)]\tLoss: 0.006676\n"
     ]
    },
    {
     "name": "stderr",
     "output_type": "stream",
     "text": [
      "  9%|▊         | 25.720238095236724/300 [09:19<2:11:20, 28.73s/it]"
     ]
    },
    {
     "name": "stdout",
     "output_type": "stream",
     "text": [
      "Train Epoch: 26 [30720/34199 (90%)]\tLoss: 0.020345\n"
     ]
    },
    {
     "name": "stderr",
     "output_type": "stream",
     "text": [
      "  9%|▊         | 25.999999999998565/300 [09:22<33:12,  7.27s/it]  "
     ]
    },
    {
     "name": "stdout",
     "output_type": "stream",
     "text": [
      "\n",
      "Test Epoch: 26\tAccuracy: 8344/8550 (98%)\n",
      "\n",
      "Train Epoch: 27 [0/34199 (0%)]\tLoss: 0.043714\n"
     ]
    },
    {
     "name": "stderr",
     "output_type": "stream",
     "text": [
      "  9%|▊         | 26.124999999998536/300 [09:26<2:10:16, 28.54s/it]"
     ]
    },
    {
     "name": "stdout",
     "output_type": "stream",
     "text": [
      "Train Epoch: 27 [5120/34199 (15%)]\tLoss: 0.017870\n"
     ]
    },
    {
     "name": "stderr",
     "output_type": "stream",
     "text": [
      "  9%|▉         | 26.255952380950887/300 [09:29<1:46:16, 23.29s/it]"
     ]
    },
    {
     "name": "stdout",
     "output_type": "stream",
     "text": [
      "Train Epoch: 27 [10240/34199 (30%)]\tLoss: 0.015094\n"
     ]
    },
    {
     "name": "stderr",
     "output_type": "stream",
     "text": [
      "  9%|▉         | 26.37499999999848/300 [09:32<1:46:16, 23.30s/it] "
     ]
    },
    {
     "name": "stdout",
     "output_type": "stream",
     "text": [
      "Train Epoch: 27 [15360/34199 (45%)]\tLoss: 0.010620\n"
     ]
    },
    {
     "name": "stderr",
     "output_type": "stream",
     "text": [
      "  9%|▉         | 26.482142857141312/300 [09:34<2:10:34, 28.64s/it]"
     ]
    },
    {
     "name": "stdout",
     "output_type": "stream",
     "text": [
      "Train Epoch: 27 [20480/34199 (60%)]\tLoss: 0.017161\n"
     ]
    },
    {
     "name": "stderr",
     "output_type": "stream",
     "text": [
      "  9%|▉         | 26.601190476188904/300 [09:37<2:11:06, 28.77s/it]"
     ]
    },
    {
     "name": "stdout",
     "output_type": "stream",
     "text": [
      "Train Epoch: 27 [25600/34199 (75%)]\tLoss: 0.009189\n"
     ]
    },
    {
     "name": "stderr",
     "output_type": "stream",
     "text": [
      "  9%|▉         | 26.720238095236496/300 [09:40<2:11:04, 28.78s/it]"
     ]
    },
    {
     "name": "stdout",
     "output_type": "stream",
     "text": [
      "Train Epoch: 27 [30720/34199 (90%)]\tLoss: 0.017617\n"
     ]
    },
    {
     "name": "stderr",
     "output_type": "stream",
     "text": [
      "  9%|▉         | 27.005952380950717/300 [09:44<1:25:28, 18.78s/it]"
     ]
    },
    {
     "name": "stdout",
     "output_type": "stream",
     "text": [
      "\n",
      "Test Epoch: 27\tAccuracy: 8374/8550 (98%)\n",
      "\n",
      "Train Epoch: 28 [0/34199 (0%)]\tLoss: 0.009630\n"
     ]
    },
    {
     "name": "stderr",
     "output_type": "stream",
     "text": [
      "  9%|▉         | 27.12499999999831/300 [09:47<2:09:57, 28.58s/it] "
     ]
    },
    {
     "name": "stdout",
     "output_type": "stream",
     "text": [
      "Train Epoch: 28 [5120/34199 (15%)]\tLoss: 0.018279\n"
     ]
    },
    {
     "name": "stderr",
     "output_type": "stream",
     "text": [
      "  9%|▉         | 27.25595238095066/300 [09:50<1:45:40, 23.25s/it] "
     ]
    },
    {
     "name": "stdout",
     "output_type": "stream",
     "text": [
      "Train Epoch: 28 [10240/34199 (30%)]\tLoss: 0.016830\n"
     ]
    },
    {
     "name": "stderr",
     "output_type": "stream",
     "text": [
      "  9%|▉         | 27.363095238093493/300 [09:53<2:10:30, 28.72s/it]"
     ]
    },
    {
     "name": "stdout",
     "output_type": "stream",
     "text": [
      "Train Epoch: 28 [15360/34199 (45%)]\tLoss: 0.013166\n"
     ]
    },
    {
     "name": "stderr",
     "output_type": "stream",
     "text": [
      "  9%|▉         | 27.482142857141085/300 [09:56<2:11:20, 28.92s/it]"
     ]
    },
    {
     "name": "stdout",
     "output_type": "stream",
     "text": [
      "Train Epoch: 28 [20480/34199 (60%)]\tLoss: 0.014908\n"
     ]
    },
    {
     "name": "stderr",
     "output_type": "stream",
     "text": [
      "  9%|▉         | 27.601190476188677/300 [09:59<2:10:24, 28.72s/it]"
     ]
    },
    {
     "name": "stdout",
     "output_type": "stream",
     "text": [
      "Train Epoch: 28 [25600/34199 (75%)]\tLoss: 0.016788\n"
     ]
    },
    {
     "name": "stderr",
     "output_type": "stream",
     "text": [
      "  9%|▉         | 27.732142857141028/300 [10:02<1:45:10, 23.18s/it]"
     ]
    },
    {
     "name": "stdout",
     "output_type": "stream",
     "text": [
      "Train Epoch: 28 [30720/34199 (90%)]\tLoss: 0.020684\n"
     ]
    },
    {
     "name": "stderr",
     "output_type": "stream",
     "text": [
      "  9%|▉         | 27.98809523809335/300 [10:05<42:40,  9.41s/it]   "
     ]
    },
    {
     "name": "stdout",
     "output_type": "stream",
     "text": [
      "\n",
      "Test Epoch: 28\tAccuracy: 8348/8550 (98%)\n",
      "\n"
     ]
    },
    {
     "name": "stderr",
     "output_type": "stream",
     "text": [
      "  9%|▉         | 28.00595238095049/300 [10:06<1:22:11, 18.13s/it]"
     ]
    },
    {
     "name": "stdout",
     "output_type": "stream",
     "text": [
      "Train Epoch: 29 [0/34199 (0%)]\tLoss: 0.008835\n"
     ]
    },
    {
     "name": "stderr",
     "output_type": "stream",
     "text": [
      "  9%|▉         | 28.12499999999808/300 [10:09<2:23:11, 31.60s/it] "
     ]
    },
    {
     "name": "stdout",
     "output_type": "stream",
     "text": [
      "Train Epoch: 29 [5120/34199 (15%)]\tLoss: 0.017792\n"
     ]
    },
    {
     "name": "stderr",
     "output_type": "stream",
     "text": [
      "  9%|▉         | 28.244047619045674/300 [10:12<2:14:45, 29.75s/it]"
     ]
    },
    {
     "name": "stdout",
     "output_type": "stream",
     "text": [
      "Train Epoch: 29 [10240/34199 (30%)]\tLoss: 0.026229\n"
     ]
    },
    {
     "name": "stderr",
     "output_type": "stream",
     "text": [
      "  9%|▉         | 28.363095238093265/300 [10:15<2:19:04, 30.72s/it]"
     ]
    },
    {
     "name": "stdout",
     "output_type": "stream",
     "text": [
      "Train Epoch: 29 [15360/34199 (45%)]\tLoss: 0.005398\n"
     ]
    },
    {
     "name": "stderr",
     "output_type": "stream",
     "text": [
      "  9%|▉         | 28.482142857140857/300 [10:18<2:11:44, 29.11s/it]"
     ]
    },
    {
     "name": "stdout",
     "output_type": "stream",
     "text": [
      "Train Epoch: 29 [20480/34199 (60%)]\tLoss: 0.014107\n"
     ]
    },
    {
     "name": "stderr",
     "output_type": "stream",
     "text": [
      " 10%|▉         | 28.60119047618845/300 [10:21<2:10:02, 28.75s/it] "
     ]
    },
    {
     "name": "stdout",
     "output_type": "stream",
     "text": [
      "Train Epoch: 29 [25600/34199 (75%)]\tLoss: 0.014506\n"
     ]
    },
    {
     "name": "stderr",
     "output_type": "stream",
     "text": [
      " 10%|▉         | 28.7321428571408/300 [10:24<1:44:54, 23.20s/it]  "
     ]
    },
    {
     "name": "stdout",
     "output_type": "stream",
     "text": [
      "Train Epoch: 29 [30720/34199 (90%)]\tLoss: 0.016671\n"
     ]
    },
    {
     "name": "stderr",
     "output_type": "stream",
     "text": [
      " 10%|▉         | 29.005952380950262/300 [10:28<1:01:43, 13.67s/it]"
     ]
    },
    {
     "name": "stdout",
     "output_type": "stream",
     "text": [
      "\n",
      "Test Epoch: 29\tAccuracy: 8369/8550 (98%)\n",
      "\n",
      "Train Epoch: 30 [0/34199 (0%)]\tLoss: 0.006393\n"
     ]
    },
    {
     "name": "stderr",
     "output_type": "stream",
     "text": [
      " 10%|▉         | 29.136904761902613/300 [10:31<1:44:10, 23.08s/it]"
     ]
    },
    {
     "name": "stdout",
     "output_type": "stream",
     "text": [
      "Train Epoch: 30 [5120/34199 (15%)]\tLoss: 0.023132\n"
     ]
    },
    {
     "name": "stderr",
     "output_type": "stream",
     "text": [
      " 10%|▉         | 29.244047619045446/300 [10:34<2:09:31, 28.70s/it]"
     ]
    },
    {
     "name": "stdout",
     "output_type": "stream",
     "text": [
      "Train Epoch: 30 [10240/34199 (30%)]\tLoss: 0.008610\n"
     ]
    },
    {
     "name": "stderr",
     "output_type": "stream",
     "text": [
      " 10%|▉         | 29.363095238093038/300 [10:37<2:09:43, 28.76s/it]"
     ]
    },
    {
     "name": "stdout",
     "output_type": "stream",
     "text": [
      "Train Epoch: 30 [15360/34199 (45%)]\tLoss: 0.013186\n"
     ]
    },
    {
     "name": "stderr",
     "output_type": "stream",
     "text": [
      " 10%|▉         | 29.48214285714063/300 [10:40<2:09:31, 28.73s/it] "
     ]
    },
    {
     "name": "stdout",
     "output_type": "stream",
     "text": [
      "Train Epoch: 30 [20480/34199 (60%)]\tLoss: 0.011374\n"
     ]
    },
    {
     "name": "stderr",
     "output_type": "stream",
     "text": [
      " 10%|▉         | 29.601190476188222/300 [10:43<2:09:36, 28.76s/it]"
     ]
    },
    {
     "name": "stdout",
     "output_type": "stream",
     "text": [
      "Train Epoch: 30 [25600/34199 (75%)]\tLoss: 0.017315\n"
     ]
    },
    {
     "name": "stderr",
     "output_type": "stream",
     "text": [
      " 10%|▉         | 29.732142857140573/300 [10:46<1:44:57, 23.30s/it]"
     ]
    },
    {
     "name": "stdout",
     "output_type": "stream",
     "text": [
      "Train Epoch: 30 [30720/34199 (90%)]\tLoss: 0.026853\n"
     ]
    },
    {
     "name": "stderr",
     "output_type": "stream",
     "text": [
      " 10%|█         | 30.005952380950035/300 [10:49<1:02:09, 13.81s/it]"
     ]
    },
    {
     "name": "stdout",
     "output_type": "stream",
     "text": [
      "\n",
      "Test Epoch: 30\tAccuracy: 8367/8550 (98%)\n",
      "\n",
      "Train Epoch: 31 [0/34199 (0%)]\tLoss: 0.008815\n"
     ]
    },
    {
     "name": "stderr",
     "output_type": "stream",
     "text": [
      " 10%|█         | 30.136904761902386/300 [10:52<1:44:41, 23.28s/it]"
     ]
    },
    {
     "name": "stdout",
     "output_type": "stream",
     "text": [
      "Train Epoch: 31 [5120/34199 (15%)]\tLoss: 0.010328\n"
     ]
    },
    {
     "name": "stderr",
     "output_type": "stream",
     "text": [
      " 10%|█         | 30.24404761904522/300 [10:55<2:09:35, 28.82s/it] "
     ]
    },
    {
     "name": "stdout",
     "output_type": "stream",
     "text": [
      "Train Epoch: 31 [10240/34199 (30%)]\tLoss: 0.016821\n"
     ]
    },
    {
     "name": "stderr",
     "output_type": "stream",
     "text": [
      " 10%|█         | 30.37499999999757/300 [10:58<1:44:49, 23.33s/it] "
     ]
    },
    {
     "name": "stdout",
     "output_type": "stream",
     "text": [
      "Train Epoch: 31 [15360/34199 (45%)]\tLoss: 0.018332\n"
     ]
    },
    {
     "name": "stderr",
     "output_type": "stream",
     "text": [
      " 10%|█         | 30.482142857140403/300 [11:01<2:09:45, 28.89s/it]"
     ]
    },
    {
     "name": "stdout",
     "output_type": "stream",
     "text": [
      "Train Epoch: 31 [20480/34199 (60%)]\tLoss: 0.012569\n"
     ]
    },
    {
     "name": "stderr",
     "output_type": "stream",
     "text": [
      " 10%|█         | 30.613095238092754/300 [11:04<1:44:30, 23.28s/it]"
     ]
    },
    {
     "name": "stdout",
     "output_type": "stream",
     "text": [
      "Train Epoch: 31 [25600/34199 (75%)]\tLoss: 0.010231\n"
     ]
    },
    {
     "name": "stderr",
     "output_type": "stream",
     "text": [
      " 10%|█         | 30.720238095235587/300 [11:07<2:09:39, 28.89s/it]"
     ]
    },
    {
     "name": "stdout",
     "output_type": "stream",
     "text": [
      "Train Epoch: 31 [30720/34199 (90%)]\tLoss: 0.011738\n"
     ]
    },
    {
     "name": "stderr",
     "output_type": "stream",
     "text": [
      " 10%|█         | 31.005952380949807/300 [11:11<1:02:05, 13.85s/it]"
     ]
    },
    {
     "name": "stdout",
     "output_type": "stream",
     "text": [
      "\n",
      "Test Epoch: 31\tAccuracy: 8376/8550 (98%)\n",
      "\n",
      "Train Epoch: 32 [0/34199 (0%)]\tLoss: 0.013614\n"
     ]
    },
    {
     "name": "stderr",
     "output_type": "stream",
     "text": [
      " 10%|█         | 31.1249999999974/300 [11:14<2:08:13, 28.61s/it]  "
     ]
    },
    {
     "name": "stdout",
     "output_type": "stream",
     "text": [
      "Train Epoch: 32 [5120/34199 (15%)]\tLoss: 0.017813\n"
     ]
    },
    {
     "name": "stderr",
     "output_type": "stream",
     "text": [
      " 10%|█         | 31.25595238094975/300 [11:17<1:44:24, 23.31s/it] "
     ]
    },
    {
     "name": "stdout",
     "output_type": "stream",
     "text": [
      "Train Epoch: 32 [10240/34199 (30%)]\tLoss: 0.007013\n"
     ]
    },
    {
     "name": "stderr",
     "output_type": "stream",
     "text": [
      " 10%|█         | 31.374999999997343/300 [11:20<1:44:11, 23.27s/it]"
     ]
    },
    {
     "name": "stdout",
     "output_type": "stream",
     "text": [
      "Train Epoch: 32 [15360/34199 (45%)]\tLoss: 0.005600\n"
     ]
    },
    {
     "name": "stderr",
     "output_type": "stream",
     "text": [
      " 10%|█         | 31.494047619044935/300 [11:23<1:44:09, 23.27s/it]"
     ]
    },
    {
     "name": "stdout",
     "output_type": "stream",
     "text": [
      "Train Epoch: 32 [20480/34199 (60%)]\tLoss: 0.016436\n"
     ]
    },
    {
     "name": "stderr",
     "output_type": "stream",
     "text": [
      " 11%|█         | 31.613095238092527/300 [11:25<1:44:03, 23.26s/it]"
     ]
    },
    {
     "name": "stdout",
     "output_type": "stream",
     "text": [
      "Train Epoch: 32 [25600/34199 (75%)]\tLoss: 0.018955\n"
     ]
    },
    {
     "name": "stderr",
     "output_type": "stream",
     "text": [
      " 11%|█         | 31.72023809523536/300 [11:28<2:08:20, 28.71s/it] "
     ]
    },
    {
     "name": "stdout",
     "output_type": "stream",
     "text": [
      "Train Epoch: 32 [30720/34199 (90%)]\tLoss: 0.020673\n"
     ]
    },
    {
     "name": "stderr",
     "output_type": "stream",
     "text": [
      " 11%|█         | 32.00595238094958/300 [11:32<1:01:15, 13.71s/it] "
     ]
    },
    {
     "name": "stdout",
     "output_type": "stream",
     "text": [
      "\n",
      "Test Epoch: 32\tAccuracy: 8382/8550 (98%)\n",
      "\n",
      "Train Epoch: 33 [0/34199 (0%)]\tLoss: 0.009421\n"
     ]
    },
    {
     "name": "stderr",
     "output_type": "stream",
     "text": [
      " 11%|█         | 32.12499999999717/300 [11:35<2:07:33, 28.57s/it] "
     ]
    },
    {
     "name": "stdout",
     "output_type": "stream",
     "text": [
      "Train Epoch: 33 [5120/34199 (15%)]\tLoss: 0.008070\n"
     ]
    },
    {
     "name": "stderr",
     "output_type": "stream",
     "text": [
      " 11%|█         | 32.25595238094952/300 [11:38<1:44:01, 23.31s/it] "
     ]
    },
    {
     "name": "stdout",
     "output_type": "stream",
     "text": [
      "Train Epoch: 33 [10240/34199 (30%)]\tLoss: 0.004151\n"
     ]
    },
    {
     "name": "stderr",
     "output_type": "stream",
     "text": [
      " 11%|█         | 32.363095238092356/300 [11:41<2:09:28, 29.03s/it]"
     ]
    },
    {
     "name": "stdout",
     "output_type": "stream",
     "text": [
      "Train Epoch: 33 [15360/34199 (45%)]\tLoss: 0.006496\n"
     ]
    },
    {
     "name": "stderr",
     "output_type": "stream",
     "text": [
      " 11%|█         | 32.49404761904471/300 [11:44<1:43:56, 23.31s/it] "
     ]
    },
    {
     "name": "stdout",
     "output_type": "stream",
     "text": [
      "Train Epoch: 33 [20480/34199 (60%)]\tLoss: 0.009657\n"
     ]
    },
    {
     "name": "stderr",
     "output_type": "stream",
     "text": [
      " 11%|█         | 32.60119047618754/300 [11:47<2:13:08, 29.87s/it] "
     ]
    },
    {
     "name": "stdout",
     "output_type": "stream",
     "text": [
      "Train Epoch: 33 [25600/34199 (75%)]\tLoss: 0.011342\n"
     ]
    },
    {
     "name": "stderr",
     "output_type": "stream",
     "text": [
      " 11%|█         | 32.72023809523513/300 [11:50<2:07:42, 28.67s/it] "
     ]
    },
    {
     "name": "stdout",
     "output_type": "stream",
     "text": [
      "Train Epoch: 33 [30720/34199 (90%)]\tLoss: 0.002863\n"
     ]
    },
    {
     "name": "stderr",
     "output_type": "stream",
     "text": [
      " 11%|█         | 33.00595238094935/300 [11:54<1:01:06, 13.73s/it] "
     ]
    },
    {
     "name": "stdout",
     "output_type": "stream",
     "text": [
      "\n",
      "Test Epoch: 33\tAccuracy: 8377/8550 (98%)\n",
      "\n",
      "Train Epoch: 34 [0/34199 (0%)]\tLoss: 0.006170\n"
     ]
    },
    {
     "name": "stderr",
     "output_type": "stream",
     "text": [
      " 11%|█         | 33.124999999996945/300 [11:57<2:07:02, 28.56s/it]"
     ]
    },
    {
     "name": "stdout",
     "output_type": "stream",
     "text": [
      "Train Epoch: 34 [5120/34199 (15%)]\tLoss: 0.004024\n"
     ]
    },
    {
     "name": "stderr",
     "output_type": "stream",
     "text": [
      " 11%|█         | 33.255952380949296/300 [12:00<1:43:16, 23.23s/it]"
     ]
    },
    {
     "name": "stdout",
     "output_type": "stream",
     "text": [
      "Train Epoch: 34 [10240/34199 (30%)]\tLoss: 0.016015\n"
     ]
    },
    {
     "name": "stderr",
     "output_type": "stream",
     "text": [
      " 11%|█         | 33.37499999999689/300 [12:03<1:43:31, 23.30s/it] "
     ]
    },
    {
     "name": "stdout",
     "output_type": "stream",
     "text": [
      "Train Epoch: 34 [15360/34199 (45%)]\tLoss: 0.007831\n"
     ]
    },
    {
     "name": "stderr",
     "output_type": "stream",
     "text": [
      " 11%|█         | 33.48214285713972/300 [12:05<2:07:34, 28.72s/it] "
     ]
    },
    {
     "name": "stdout",
     "output_type": "stream",
     "text": [
      "Train Epoch: 34 [20480/34199 (60%)]\tLoss: 0.006679\n"
     ]
    },
    {
     "name": "stderr",
     "output_type": "stream",
     "text": [
      " 11%|█         | 33.60119047618731/300 [12:09<2:19:21, 31.39s/it] "
     ]
    },
    {
     "name": "stdout",
     "output_type": "stream",
     "text": [
      "Train Epoch: 34 [25600/34199 (75%)]\tLoss: 0.009148\n"
     ]
    },
    {
     "name": "stderr",
     "output_type": "stream",
     "text": [
      " 11%|█         | 33.720238095234905/300 [12:11<2:07:18, 28.69s/it]"
     ]
    },
    {
     "name": "stdout",
     "output_type": "stream",
     "text": [
      "Train Epoch: 34 [30720/34199 (90%)]\tLoss: 0.007346\n"
     ]
    },
    {
     "name": "stderr",
     "output_type": "stream",
     "text": [
      " 11%|█▏        | 34.005952380949125/300 [12:15<1:01:22, 13.84s/it]"
     ]
    },
    {
     "name": "stdout",
     "output_type": "stream",
     "text": [
      "\n",
      "Test Epoch: 34\tAccuracy: 8378/8550 (98%)\n",
      "\n",
      "Train Epoch: 35 [0/34199 (0%)]\tLoss: 0.011434\n"
     ]
    },
    {
     "name": "stderr",
     "output_type": "stream",
     "text": [
      " 11%|█▏        | 34.12499999999672/300 [12:18<2:07:12, 28.71s/it] "
     ]
    },
    {
     "name": "stdout",
     "output_type": "stream",
     "text": [
      "Train Epoch: 35 [5120/34199 (15%)]\tLoss: 0.004030\n"
     ]
    },
    {
     "name": "stderr",
     "output_type": "stream",
     "text": [
      " 11%|█▏        | 34.24404761904431/300 [12:21<2:07:58, 28.89s/it] "
     ]
    },
    {
     "name": "stdout",
     "output_type": "stream",
     "text": [
      "Train Epoch: 35 [10240/34199 (30%)]\tLoss: 0.009367\n"
     ]
    },
    {
     "name": "stderr",
     "output_type": "stream",
     "text": [
      " 11%|█▏        | 34.3630952380919/300 [12:24<2:07:59, 28.91s/it]  "
     ]
    },
    {
     "name": "stdout",
     "output_type": "stream",
     "text": [
      "Train Epoch: 35 [15360/34199 (45%)]\tLoss: 0.005389\n"
     ]
    },
    {
     "name": "stderr",
     "output_type": "stream",
     "text": [
      " 11%|█▏        | 34.48214285713949/300 [12:27<2:07:05, 28.72s/it] "
     ]
    },
    {
     "name": "stdout",
     "output_type": "stream",
     "text": [
      "Train Epoch: 35 [20480/34199 (60%)]\tLoss: 0.014335\n"
     ]
    },
    {
     "name": "stderr",
     "output_type": "stream",
     "text": [
      " 12%|█▏        | 34.601190476187085/300 [12:30<2:06:58, 28.70s/it]"
     ]
    },
    {
     "name": "stdout",
     "output_type": "stream",
     "text": [
      "Train Epoch: 35 [25600/34199 (75%)]\tLoss: 0.008661\n"
     ]
    },
    {
     "name": "stderr",
     "output_type": "stream",
     "text": [
      " 12%|█▏        | 34.732142857139436/300 [12:33<1:43:05, 23.32s/it]"
     ]
    },
    {
     "name": "stdout",
     "output_type": "stream",
     "text": [
      "Train Epoch: 35 [30720/34199 (90%)]\tLoss: 0.008308\n"
     ]
    },
    {
     "name": "stderr",
     "output_type": "stream",
     "text": [
      " 12%|█▏        | 34.99999999999652/300 [12:36<32:35,  7.38s/it]   "
     ]
    },
    {
     "name": "stdout",
     "output_type": "stream",
     "text": [
      "\n",
      "Test Epoch: 35\tAccuracy: 8373/8550 (98%)\n",
      "\n",
      "Train Epoch: 36 [0/34199 (0%)]\tLoss: 0.009317\n"
     ]
    },
    {
     "name": "stderr",
     "output_type": "stream",
     "text": [
      " 12%|█▏        | 35.12499999999649/300 [12:39<2:06:17, 28.61s/it] "
     ]
    },
    {
     "name": "stdout",
     "output_type": "stream",
     "text": [
      "Train Epoch: 36 [5120/34199 (15%)]\tLoss: 0.003828\n"
     ]
    },
    {
     "name": "stderr",
     "output_type": "stream",
     "text": [
      " 12%|█▏        | 35.25595238094884/300 [12:43<1:42:30, 23.23s/it] "
     ]
    },
    {
     "name": "stdout",
     "output_type": "stream",
     "text": [
      "Train Epoch: 36 [10240/34199 (30%)]\tLoss: 0.008317\n"
     ]
    },
    {
     "name": "stderr",
     "output_type": "stream",
     "text": [
      " 12%|█▏        | 35.363095238091674/300 [12:45<2:06:53, 28.77s/it]"
     ]
    },
    {
     "name": "stdout",
     "output_type": "stream",
     "text": [
      "Train Epoch: 36 [15360/34199 (45%)]\tLoss: 0.005132\n"
     ]
    },
    {
     "name": "stderr",
     "output_type": "stream",
     "text": [
      " 12%|█▏        | 35.482142857139266/300 [12:48<2:07:35, 28.94s/it]"
     ]
    },
    {
     "name": "stdout",
     "output_type": "stream",
     "text": [
      "Train Epoch: 36 [20480/34199 (60%)]\tLoss: 0.007684\n"
     ]
    },
    {
     "name": "stderr",
     "output_type": "stream",
     "text": [
      " 12%|█▏        | 35.60119047618686/300 [12:51<2:06:49, 28.78s/it] "
     ]
    },
    {
     "name": "stdout",
     "output_type": "stream",
     "text": [
      "Train Epoch: 36 [25600/34199 (75%)]\tLoss: 0.008628\n"
     ]
    },
    {
     "name": "stderr",
     "output_type": "stream",
     "text": [
      " 12%|█▏        | 35.72023809523445/300 [12:54<2:07:05, 28.85s/it] "
     ]
    },
    {
     "name": "stdout",
     "output_type": "stream",
     "text": [
      "Train Epoch: 36 [30720/34199 (90%)]\tLoss: 0.011979\n"
     ]
    },
    {
     "name": "stderr",
     "output_type": "stream",
     "text": [
      " 12%|█▏        | 36.00595238094867/300 [12:58<1:28:29, 20.11s/it] "
     ]
    },
    {
     "name": "stdout",
     "output_type": "stream",
     "text": [
      "\n",
      "Test Epoch: 36\tAccuracy: 8379/8550 (98%)\n",
      "\n",
      "Train Epoch: 37 [0/34199 (0%)]\tLoss: 0.003789\n"
     ]
    },
    {
     "name": "stderr",
     "output_type": "stream",
     "text": [
      " 12%|█▏        | 36.13690476190102/300 [13:01<1:42:02, 23.21s/it] "
     ]
    },
    {
     "name": "stdout",
     "output_type": "stream",
     "text": [
      "Train Epoch: 37 [5120/34199 (15%)]\tLoss: 0.007695\n"
     ]
    },
    {
     "name": "stderr",
     "output_type": "stream",
     "text": [
      " 12%|█▏        | 36.255952380948614/300 [13:04<1:42:26, 23.31s/it]"
     ]
    },
    {
     "name": "stdout",
     "output_type": "stream",
     "text": [
      "Train Epoch: 37 [10240/34199 (30%)]\tLoss: 0.005028\n"
     ]
    },
    {
     "name": "stderr",
     "output_type": "stream",
     "text": [
      " 12%|█▏        | 36.36309523809145/300 [13:07<2:06:13, 28.73s/it] "
     ]
    },
    {
     "name": "stdout",
     "output_type": "stream",
     "text": [
      "Train Epoch: 37 [15360/34199 (45%)]\tLoss: 0.003475\n"
     ]
    },
    {
     "name": "stderr",
     "output_type": "stream",
     "text": [
      " 12%|█▏        | 36.48214285713904/300 [13:10<2:08:19, 29.22s/it] "
     ]
    },
    {
     "name": "stdout",
     "output_type": "stream",
     "text": [
      "Train Epoch: 37 [20480/34199 (60%)]\tLoss: 0.011979\n"
     ]
    },
    {
     "name": "stderr",
     "output_type": "stream",
     "text": [
      " 12%|█▏        | 36.60119047618663/300 [13:13<2:06:24, 28.79s/it] "
     ]
    },
    {
     "name": "stdout",
     "output_type": "stream",
     "text": [
      "Train Epoch: 37 [25600/34199 (75%)]\tLoss: 0.004205\n"
     ]
    },
    {
     "name": "stderr",
     "output_type": "stream",
     "text": [
      " 12%|█▏        | 36.73214285713898/300 [13:16<1:42:07, 23.28s/it] "
     ]
    },
    {
     "name": "stdout",
     "output_type": "stream",
     "text": [
      "Train Epoch: 37 [30720/34199 (90%)]\tLoss: 0.002807\n"
     ]
    },
    {
     "name": "stderr",
     "output_type": "stream",
     "text": [
      " 12%|█▏        | 36.999999999996064/300 [13:19<32:00,  7.30s/it] "
     ]
    },
    {
     "name": "stdout",
     "output_type": "stream",
     "text": [
      "\n",
      "Test Epoch: 37\tAccuracy: 8378/8550 (98%)\n",
      "\n",
      "Train Epoch: 38 [0/34199 (0%)]\tLoss: 0.004061\n"
     ]
    },
    {
     "name": "stderr",
     "output_type": "stream",
     "text": [
      " 12%|█▏        | 37.136904761900794/300 [13:23<1:41:05, 23.08s/it]"
     ]
    },
    {
     "name": "stdout",
     "output_type": "stream",
     "text": [
      "Train Epoch: 38 [5120/34199 (15%)]\tLoss: 0.009480\n"
     ]
    },
    {
     "name": "stderr",
     "output_type": "stream",
     "text": [
      " 12%|█▏        | 37.24404761904363/300 [13:26<2:05:57, 28.76s/it] "
     ]
    },
    {
     "name": "stdout",
     "output_type": "stream",
     "text": [
      "Train Epoch: 38 [10240/34199 (30%)]\tLoss: 0.007183\n"
     ]
    },
    {
     "name": "stderr",
     "output_type": "stream",
     "text": [
      " 12%|█▏        | 37.37499999999598/300 [13:29<1:41:14, 23.13s/it] "
     ]
    },
    {
     "name": "stdout",
     "output_type": "stream",
     "text": [
      "Train Epoch: 38 [15360/34199 (45%)]\tLoss: 0.019516\n"
     ]
    },
    {
     "name": "stderr",
     "output_type": "stream",
     "text": [
      " 12%|█▏        | 37.49404761904357/300 [13:32<1:41:06, 23.11s/it] "
     ]
    },
    {
     "name": "stdout",
     "output_type": "stream",
     "text": [
      "Train Epoch: 38 [20480/34199 (60%)]\tLoss: 0.007231\n"
     ]
    },
    {
     "name": "stderr",
     "output_type": "stream",
     "text": [
      " 13%|█▎        | 37.6011904761864/300 [13:34<2:05:27, 28.69s/it]  "
     ]
    },
    {
     "name": "stdout",
     "output_type": "stream",
     "text": [
      "Train Epoch: 38 [25600/34199 (75%)]\tLoss: 0.005656\n"
     ]
    },
    {
     "name": "stderr",
     "output_type": "stream",
     "text": [
      " 13%|█▎        | 37.732142857138754/300 [13:37<1:41:28, 23.21s/it]"
     ]
    },
    {
     "name": "stdout",
     "output_type": "stream",
     "text": [
      "Train Epoch: 38 [30720/34199 (90%)]\tLoss: 0.012776\n"
     ]
    },
    {
     "name": "stderr",
     "output_type": "stream",
     "text": [
      " 13%|█▎        | 38.005952380948216/300 [13:41<58:47, 13.46s/it]  "
     ]
    },
    {
     "name": "stdout",
     "output_type": "stream",
     "text": [
      "\n",
      "Test Epoch: 38\tAccuracy: 8368/8550 (98%)\n",
      "\n",
      "Train Epoch: 39 [0/34199 (0%)]\tLoss: 0.008804\n"
     ]
    },
    {
     "name": "stderr",
     "output_type": "stream",
     "text": [
      " 13%|█▎        | 38.13690476190057/300 [13:44<1:41:30, 23.26s/it] "
     ]
    },
    {
     "name": "stdout",
     "output_type": "stream",
     "text": [
      "Train Epoch: 39 [5120/34199 (15%)]\tLoss: 0.006228\n"
     ]
    },
    {
     "name": "stderr",
     "output_type": "stream",
     "text": [
      " 13%|█▎        | 38.25595238094816/300 [13:47<1:41:30, 23.27s/it] "
     ]
    },
    {
     "name": "stdout",
     "output_type": "stream",
     "text": [
      "Train Epoch: 39 [10240/34199 (30%)]\tLoss: 0.007574\n"
     ]
    },
    {
     "name": "stderr",
     "output_type": "stream",
     "text": [
      " 13%|█▎        | 38.37499999999575/300 [13:50<1:41:45, 23.34s/it] "
     ]
    },
    {
     "name": "stdout",
     "output_type": "stream",
     "text": [
      "Train Epoch: 39 [15360/34199 (45%)]\tLoss: 0.003864\n"
     ]
    },
    {
     "name": "stderr",
     "output_type": "stream",
     "text": [
      " 13%|█▎        | 38.482142857138584/300 [13:53<2:05:15, 28.74s/it]"
     ]
    },
    {
     "name": "stdout",
     "output_type": "stream",
     "text": [
      "Train Epoch: 39 [20480/34199 (60%)]\tLoss: 0.005820\n"
     ]
    },
    {
     "name": "stderr",
     "output_type": "stream",
     "text": [
      " 13%|█▎        | 38.601190476186176/300 [13:56<2:04:49, 28.65s/it]"
     ]
    },
    {
     "name": "stdout",
     "output_type": "stream",
     "text": [
      "Train Epoch: 39 [25600/34199 (75%)]\tLoss: 0.005020\n"
     ]
    },
    {
     "name": "stderr",
     "output_type": "stream",
     "text": [
      " 13%|█▎        | 38.73214285713853/300 [13:59<1:41:13, 23.25s/it] "
     ]
    },
    {
     "name": "stdout",
     "output_type": "stream",
     "text": [
      "Train Epoch: 39 [30720/34199 (90%)]\tLoss: 0.003940\n"
     ]
    },
    {
     "name": "stderr",
     "output_type": "stream",
     "text": [
      " 13%|█▎        | 38.99999999999561/300 [14:02<31:44,  7.30s/it]   "
     ]
    },
    {
     "name": "stdout",
     "output_type": "stream",
     "text": [
      "\n",
      "Test Epoch: 39\tAccuracy: 8375/8550 (98%)\n",
      "\n",
      "Train Epoch: 40 [0/34199 (0%)]\tLoss: 0.005882\n"
     ]
    },
    {
     "name": "stderr",
     "output_type": "stream",
     "text": [
      " 13%|█▎        | 39.12499999999558/300 [14:05<2:03:30, 28.41s/it] "
     ]
    },
    {
     "name": "stdout",
     "output_type": "stream",
     "text": [
      "Train Epoch: 40 [5120/34199 (15%)]\tLoss: 0.006421\n"
     ]
    },
    {
     "name": "stderr",
     "output_type": "stream",
     "text": [
      " 13%|█▎        | 39.24404761904317/300 [14:08<2:05:10, 28.80s/it] "
     ]
    },
    {
     "name": "stdout",
     "output_type": "stream",
     "text": [
      "Train Epoch: 40 [10240/34199 (30%)]\tLoss: 0.005231\n"
     ]
    },
    {
     "name": "stderr",
     "output_type": "stream",
     "text": [
      " 13%|█▎        | 39.374999999995524/300 [14:11<1:40:58, 23.25s/it]"
     ]
    },
    {
     "name": "stdout",
     "output_type": "stream",
     "text": [
      "Train Epoch: 40 [15360/34199 (45%)]\tLoss: 0.005770\n"
     ]
    },
    {
     "name": "stderr",
     "output_type": "stream",
     "text": [
      " 13%|█▎        | 39.494047619043116/300 [14:14<1:41:02, 23.27s/it]"
     ]
    },
    {
     "name": "stdout",
     "output_type": "stream",
     "text": [
      "Train Epoch: 40 [20480/34199 (60%)]\tLoss: 0.017722\n"
     ]
    },
    {
     "name": "stderr",
     "output_type": "stream",
     "text": [
      " 13%|█▎        | 39.61309523809071/300 [14:17<1:41:08, 23.30s/it] "
     ]
    },
    {
     "name": "stdout",
     "output_type": "stream",
     "text": [
      "Train Epoch: 40 [25600/34199 (75%)]\tLoss: 0.018416\n"
     ]
    },
    {
     "name": "stderr",
     "output_type": "stream",
     "text": [
      " 13%|█▎        | 39.7321428571383/300 [14:20<1:41:06, 23.31s/it]  "
     ]
    },
    {
     "name": "stdout",
     "output_type": "stream",
     "text": [
      "Train Epoch: 40 [30720/34199 (90%)]\tLoss: 0.005034\n"
     ]
    },
    {
     "name": "stderr",
     "output_type": "stream",
     "text": [
      " 13%|█▎        | 40.00595238094776/300 [14:24<59:36, 13.76s/it]   "
     ]
    },
    {
     "name": "stdout",
     "output_type": "stream",
     "text": [
      "\n",
      "Test Epoch: 40\tAccuracy: 8369/8550 (98%)\n",
      "\n",
      "Train Epoch: 41 [0/34199 (0%)]\tLoss: 0.010588\n"
     ]
    },
    {
     "name": "stderr",
     "output_type": "stream",
     "text": [
      " 13%|█▎        | 40.13690476190011/300 [14:27<1:40:36, 23.23s/it] "
     ]
    },
    {
     "name": "stdout",
     "output_type": "stream",
     "text": [
      "Train Epoch: 41 [5120/34199 (15%)]\tLoss: 0.003947\n"
     ]
    },
    {
     "name": "stderr",
     "output_type": "stream",
     "text": [
      " 13%|█▎        | 40.255952380947704/300 [14:30<1:40:33, 23.23s/it]"
     ]
    },
    {
     "name": "stdout",
     "output_type": "stream",
     "text": [
      "Train Epoch: 41 [10240/34199 (30%)]\tLoss: 0.017592\n"
     ]
    },
    {
     "name": "stderr",
     "output_type": "stream",
     "text": [
      " 13%|█▎        | 40.36309523809054/300 [14:32<2:04:18, 28.73s/it] "
     ]
    },
    {
     "name": "stdout",
     "output_type": "stream",
     "text": [
      "Train Epoch: 41 [15360/34199 (45%)]\tLoss: 0.003248\n"
     ]
    },
    {
     "name": "stderr",
     "output_type": "stream",
     "text": [
      " 13%|█▎        | 40.48214285713813/300 [14:35<2:04:16, 28.73s/it] "
     ]
    },
    {
     "name": "stdout",
     "output_type": "stream",
     "text": [
      "Train Epoch: 41 [20480/34199 (60%)]\tLoss: 0.005542\n"
     ]
    },
    {
     "name": "stderr",
     "output_type": "stream",
     "text": [
      " 14%|█▎        | 40.60119047618572/300 [14:38<2:03:42, 28.62s/it] "
     ]
    },
    {
     "name": "stdout",
     "output_type": "stream",
     "text": [
      "Train Epoch: 41 [25600/34199 (75%)]\tLoss: 0.003815\n"
     ]
    },
    {
     "name": "stderr",
     "output_type": "stream",
     "text": [
      " 14%|█▎        | 40.72023809523331/300 [14:41<2:03:40, 28.62s/it] "
     ]
    },
    {
     "name": "stdout",
     "output_type": "stream",
     "text": [
      "Train Epoch: 41 [30720/34199 (90%)]\tLoss: 0.011662\n"
     ]
    },
    {
     "name": "stderr",
     "output_type": "stream",
     "text": [
      " 14%|█▎        | 40.994047619042774/300 [14:45<34:47,  8.06s/it]  "
     ]
    },
    {
     "name": "stdout",
     "output_type": "stream",
     "text": [
      "\n",
      "Test Epoch: 41\tAccuracy: 8382/8550 (98%)\n",
      "\n"
     ]
    },
    {
     "name": "stderr",
     "output_type": "stream",
     "text": [
      " 14%|█▎        | 41.01190476189991/300 [14:45<1:08:01, 15.76s/it]"
     ]
    },
    {
     "name": "stdout",
     "output_type": "stream",
     "text": [
      "Train Epoch: 42 [0/34199 (0%)]\tLoss: 0.004985\n"
     ]
    },
    {
     "name": "stderr",
     "output_type": "stream",
     "text": [
      " 14%|█▎        | 41.124999999995126/300 [14:48<2:20:29, 32.56s/it]"
     ]
    },
    {
     "name": "stdout",
     "output_type": "stream",
     "text": [
      "Train Epoch: 42 [5120/34199 (15%)]\tLoss: 0.002930\n"
     ]
    },
    {
     "name": "stderr",
     "output_type": "stream",
     "text": [
      " 14%|█▎        | 41.24404761904272/300 [14:51<2:05:10, 29.02s/it] "
     ]
    },
    {
     "name": "stdout",
     "output_type": "stream",
     "text": [
      "Train Epoch: 42 [10240/34199 (30%)]\tLoss: 0.005862\n"
     ]
    },
    {
     "name": "stderr",
     "output_type": "stream",
     "text": [
      " 14%|█▍        | 41.37499999999507/300 [14:54<1:40:24, 23.30s/it] "
     ]
    },
    {
     "name": "stdout",
     "output_type": "stream",
     "text": [
      "Train Epoch: 42 [15360/34199 (45%)]\tLoss: 0.010805\n"
     ]
    },
    {
     "name": "stderr",
     "output_type": "stream",
     "text": [
      " 14%|█▍        | 41.49404761904266/300 [14:57<1:39:52, 23.18s/it] "
     ]
    },
    {
     "name": "stdout",
     "output_type": "stream",
     "text": [
      "Train Epoch: 42 [20480/34199 (60%)]\tLoss: 0.020220\n"
     ]
    },
    {
     "name": "stderr",
     "output_type": "stream",
     "text": [
      " 14%|█▍        | 41.61309523809025/300 [15:00<1:40:14, 23.28s/it] "
     ]
    },
    {
     "name": "stdout",
     "output_type": "stream",
     "text": [
      "Train Epoch: 42 [25600/34199 (75%)]\tLoss: 0.003964\n"
     ]
    },
    {
     "name": "stderr",
     "output_type": "stream",
     "text": [
      " 14%|█▍        | 41.720238095233086/300 [15:03<2:04:00, 28.81s/it]"
     ]
    },
    {
     "name": "stdout",
     "output_type": "stream",
     "text": [
      "Train Epoch: 42 [30720/34199 (90%)]\tLoss: 0.008097\n"
     ]
    },
    {
     "name": "stderr",
     "output_type": "stream",
     "text": [
      " 14%|█▍        | 42.005952380947306/300 [15:07<1:00:02, 13.96s/it]"
     ]
    },
    {
     "name": "stdout",
     "output_type": "stream",
     "text": [
      "\n",
      "Test Epoch: 42\tAccuracy: 8382/8550 (98%)\n",
      "\n",
      "Train Epoch: 43 [0/34199 (0%)]\tLoss: 0.007693\n"
     ]
    },
    {
     "name": "stderr",
     "output_type": "stream",
     "text": [
      " 14%|█▍        | 42.13690476189966/300 [15:10<1:39:49, 23.23s/it] "
     ]
    },
    {
     "name": "stdout",
     "output_type": "stream",
     "text": [
      "Train Epoch: 43 [5120/34199 (15%)]\tLoss: 0.003045\n"
     ]
    },
    {
     "name": "stderr",
     "output_type": "stream",
     "text": [
      " 14%|█▍        | 42.25595238094725/300 [15:13<1:39:56, 23.26s/it] "
     ]
    },
    {
     "name": "stdout",
     "output_type": "stream",
     "text": [
      "Train Epoch: 43 [10240/34199 (30%)]\tLoss: 0.006588\n"
     ]
    },
    {
     "name": "stderr",
     "output_type": "stream",
     "text": [
      " 14%|█▍        | 42.37499999999484/300 [15:16<1:39:55, 23.27s/it] "
     ]
    },
    {
     "name": "stdout",
     "output_type": "stream",
     "text": [
      "Train Epoch: 43 [15360/34199 (45%)]\tLoss: 0.006061\n"
     ]
    },
    {
     "name": "stderr",
     "output_type": "stream",
     "text": [
      " 14%|█▍        | 42.482142857137674/300 [15:19<2:03:34, 28.79s/it]"
     ]
    },
    {
     "name": "stdout",
     "output_type": "stream",
     "text": [
      "Train Epoch: 43 [20480/34199 (60%)]\tLoss: 0.016672\n"
     ]
    },
    {
     "name": "stderr",
     "output_type": "stream",
     "text": [
      " 14%|█▍        | 42.601190476185266/300 [15:21<2:03:30, 28.79s/it]"
     ]
    },
    {
     "name": "stdout",
     "output_type": "stream",
     "text": [
      "Train Epoch: 43 [25600/34199 (75%)]\tLoss: 0.002538\n"
     ]
    },
    {
     "name": "stderr",
     "output_type": "stream",
     "text": [
      " 14%|█▍        | 42.72023809523286/300 [15:24<2:03:32, 28.81s/it] "
     ]
    },
    {
     "name": "stdout",
     "output_type": "stream",
     "text": [
      "Train Epoch: 43 [30720/34199 (90%)]\tLoss: 0.012796\n"
     ]
    },
    {
     "name": "stderr",
     "output_type": "stream",
     "text": [
      " 14%|█▍        | 43.00595238094708/300 [15:28<1:02:43, 14.65s/it] "
     ]
    },
    {
     "name": "stdout",
     "output_type": "stream",
     "text": [
      "\n",
      "Test Epoch: 43\tAccuracy: 8377/8550 (98%)\n",
      "\n",
      "Train Epoch: 44 [0/34199 (0%)]\tLoss: 0.008539\n"
     ]
    },
    {
     "name": "stderr",
     "output_type": "stream",
     "text": [
      " 14%|█▍        | 43.13690476189943/300 [15:31<1:39:22, 23.21s/it] "
     ]
    },
    {
     "name": "stdout",
     "output_type": "stream",
     "text": [
      "Train Epoch: 44 [5120/34199 (15%)]\tLoss: 0.007399\n"
     ]
    },
    {
     "name": "stderr",
     "output_type": "stream",
     "text": [
      " 14%|█▍        | 43.24404761904226/300 [15:34<2:02:53, 28.72s/it] "
     ]
    },
    {
     "name": "stdout",
     "output_type": "stream",
     "text": [
      "Train Epoch: 44 [10240/34199 (30%)]\tLoss: 0.003568\n"
     ]
    },
    {
     "name": "stderr",
     "output_type": "stream",
     "text": [
      " 14%|█▍        | 43.374999999994614/300 [15:37<1:39:38, 23.30s/it]"
     ]
    },
    {
     "name": "stdout",
     "output_type": "stream",
     "text": [
      "Train Epoch: 44 [15360/34199 (45%)]\tLoss: 0.007080\n"
     ]
    },
    {
     "name": "stderr",
     "output_type": "stream",
     "text": [
      " 14%|█▍        | 43.48214285713745/300 [15:40<2:03:06, 28.79s/it] "
     ]
    },
    {
     "name": "stdout",
     "output_type": "stream",
     "text": [
      "Train Epoch: 44 [20480/34199 (60%)]\tLoss: 0.012772\n"
     ]
    },
    {
     "name": "stderr",
     "output_type": "stream",
     "text": [
      " 15%|█▍        | 43.60119047618504/300 [15:43<2:02:57, 28.77s/it] "
     ]
    },
    {
     "name": "stdout",
     "output_type": "stream",
     "text": [
      "Train Epoch: 44 [25600/34199 (75%)]\tLoss: 0.009703\n"
     ]
    },
    {
     "name": "stderr",
     "output_type": "stream",
     "text": [
      " 15%|█▍        | 43.72023809523263/300 [15:46<2:02:53, 28.77s/it] "
     ]
    },
    {
     "name": "stdout",
     "output_type": "stream",
     "text": [
      "Train Epoch: 44 [30720/34199 (90%)]\tLoss: 0.002767\n"
     ]
    },
    {
     "name": "stderr",
     "output_type": "stream",
     "text": [
      " 15%|█▍        | 44.00595238094685/300 [15:50<1:00:03, 14.08s/it] "
     ]
    },
    {
     "name": "stdout",
     "output_type": "stream",
     "text": [
      "\n",
      "Test Epoch: 44\tAccuracy: 8381/8550 (98%)\n",
      "\n",
      "Train Epoch: 45 [0/34199 (0%)]\tLoss: 0.004920\n"
     ]
    },
    {
     "name": "stderr",
     "output_type": "stream",
     "text": [
      " 15%|█▍        | 44.124999999994444/300 [15:53<2:02:09, 28.65s/it]"
     ]
    },
    {
     "name": "stdout",
     "output_type": "stream",
     "text": [
      "Train Epoch: 45 [5120/34199 (15%)]\tLoss: 0.004810\n"
     ]
    },
    {
     "name": "stderr",
     "output_type": "stream",
     "text": [
      " 15%|█▍        | 44.244047619042036/300 [15:56<2:15:04, 31.69s/it]"
     ]
    },
    {
     "name": "stdout",
     "output_type": "stream",
     "text": [
      "Train Epoch: 45 [10240/34199 (30%)]\tLoss: 0.003083\n"
     ]
    },
    {
     "name": "stderr",
     "output_type": "stream",
     "text": [
      " 15%|█▍        | 44.36309523808963/300 [15:59<2:02:56, 28.85s/it] "
     ]
    },
    {
     "name": "stdout",
     "output_type": "stream",
     "text": [
      "Train Epoch: 45 [15360/34199 (45%)]\tLoss: 0.002839\n"
     ]
    },
    {
     "name": "stderr",
     "output_type": "stream",
     "text": [
      " 15%|█▍        | 44.48214285713722/300 [16:02<2:02:27, 28.75s/it] "
     ]
    },
    {
     "name": "stdout",
     "output_type": "stream",
     "text": [
      "Train Epoch: 45 [20480/34199 (60%)]\tLoss: 0.008022\n"
     ]
    },
    {
     "name": "stderr",
     "output_type": "stream",
     "text": [
      " 15%|█▍        | 44.60119047618481/300 [16:05<2:03:01, 28.90s/it] "
     ]
    },
    {
     "name": "stdout",
     "output_type": "stream",
     "text": [
      "Train Epoch: 45 [25600/34199 (75%)]\tLoss: 0.004390\n"
     ]
    },
    {
     "name": "stderr",
     "output_type": "stream",
     "text": [
      " 15%|█▍        | 44.7202380952324/300 [16:08<2:02:38, 28.83s/it]  "
     ]
    },
    {
     "name": "stdout",
     "output_type": "stream",
     "text": [
      "Train Epoch: 45 [30720/34199 (90%)]\tLoss: 0.011454\n"
     ]
    },
    {
     "name": "stderr",
     "output_type": "stream",
     "text": [
      " 15%|█▌        | 45.005952380946624/300 [16:11<59:20, 13.96s/it] "
     ]
    },
    {
     "name": "stdout",
     "output_type": "stream",
     "text": [
      "\n",
      "Test Epoch: 45\tAccuracy: 8389/8550 (98%)\n",
      "\n",
      "Train Epoch: 46 [0/34199 (0%)]\tLoss: 0.003355\n"
     ]
    },
    {
     "name": "stderr",
     "output_type": "stream",
     "text": [
      " 15%|█▌        | 45.124999999994216/300 [16:14<2:03:10, 29.00s/it]"
     ]
    },
    {
     "name": "stdout",
     "output_type": "stream",
     "text": [
      "Train Epoch: 46 [5120/34199 (15%)]\tLoss: 0.003905\n"
     ]
    },
    {
     "name": "stderr",
     "output_type": "stream",
     "text": [
      " 15%|█▌        | 45.24404761904181/300 [16:18<2:20:21, 33.06s/it] "
     ]
    },
    {
     "name": "stdout",
     "output_type": "stream",
     "text": [
      "Train Epoch: 46 [10240/34199 (30%)]\tLoss: 0.001966\n"
     ]
    },
    {
     "name": "stderr",
     "output_type": "stream",
     "text": [
      " 15%|█▌        | 45.3630952380894/300 [16:21<2:13:36, 31.48s/it]  "
     ]
    },
    {
     "name": "stdout",
     "output_type": "stream",
     "text": [
      "Train Epoch: 46 [15360/34199 (45%)]\tLoss: 0.004187\n"
     ]
    },
    {
     "name": "stderr",
     "output_type": "stream",
     "text": [
      " 15%|█▌        | 45.48214285713699/300 [16:24<2:24:33, 34.08s/it] "
     ]
    },
    {
     "name": "stdout",
     "output_type": "stream",
     "text": [
      "Train Epoch: 46 [20480/34199 (60%)]\tLoss: 0.002010\n"
     ]
    },
    {
     "name": "stderr",
     "output_type": "stream",
     "text": [
      " 15%|█▌        | 45.601190476184584/300 [16:27<2:02:43, 28.94s/it]"
     ]
    },
    {
     "name": "stdout",
     "output_type": "stream",
     "text": [
      "Train Epoch: 46 [25600/34199 (75%)]\tLoss: 0.017594\n"
     ]
    },
    {
     "name": "stderr",
     "output_type": "stream",
     "text": [
      " 15%|█▌        | 45.720238095232176/300 [16:30<2:02:08, 28.82s/it]"
     ]
    },
    {
     "name": "stdout",
     "output_type": "stream",
     "text": [
      "Train Epoch: 46 [30720/34199 (90%)]\tLoss: 0.004939\n"
     ]
    },
    {
     "name": "stderr",
     "output_type": "stream",
     "text": [
      " 15%|█▌        | 46.0059523809464/300 [16:34<58:52, 13.91s/it]    "
     ]
    },
    {
     "name": "stdout",
     "output_type": "stream",
     "text": [
      "\n",
      "Test Epoch: 46\tAccuracy: 8376/8550 (98%)\n",
      "\n",
      "Train Epoch: 47 [0/34199 (0%)]\tLoss: 0.010126\n"
     ]
    },
    {
     "name": "stderr",
     "output_type": "stream",
     "text": [
      " 15%|█▌        | 46.12499999999399/300 [16:37<2:05:01, 29.55s/it] "
     ]
    },
    {
     "name": "stdout",
     "output_type": "stream",
     "text": [
      "Train Epoch: 47 [5120/34199 (15%)]\tLoss: 0.003631\n"
     ]
    },
    {
     "name": "stderr",
     "output_type": "stream",
     "text": [
      " 15%|█▌        | 46.24404761904158/300 [16:40<2:02:07, 28.88s/it] "
     ]
    },
    {
     "name": "stdout",
     "output_type": "stream",
     "text": [
      "Train Epoch: 47 [10240/34199 (30%)]\tLoss: 0.003941\n"
     ]
    },
    {
     "name": "stderr",
     "output_type": "stream",
     "text": [
      " 15%|█▌        | 46.36309523808917/300 [16:42<2:01:16, 28.69s/it] "
     ]
    },
    {
     "name": "stdout",
     "output_type": "stream",
     "text": [
      "Train Epoch: 47 [15360/34199 (45%)]\tLoss: 0.003176\n"
     ]
    },
    {
     "name": "stderr",
     "output_type": "stream",
     "text": [
      " 15%|█▌        | 46.482142857136765/300 [16:45<2:01:18, 28.71s/it]"
     ]
    },
    {
     "name": "stdout",
     "output_type": "stream",
     "text": [
      "Train Epoch: 47 [20480/34199 (60%)]\tLoss: 0.002707\n"
     ]
    },
    {
     "name": "stderr",
     "output_type": "stream",
     "text": [
      " 16%|█▌        | 46.613095238089116/300 [16:48<1:37:39, 23.13s/it]"
     ]
    },
    {
     "name": "stdout",
     "output_type": "stream",
     "text": [
      "Train Epoch: 47 [25600/34199 (75%)]\tLoss: 0.005796\n"
     ]
    },
    {
     "name": "stderr",
     "output_type": "stream",
     "text": [
      " 16%|█▌        | 46.73214285713671/300 [16:51<1:38:34, 23.35s/it] "
     ]
    },
    {
     "name": "stdout",
     "output_type": "stream",
     "text": [
      "Train Epoch: 47 [30720/34199 (90%)]\tLoss: 0.003500\n"
     ]
    },
    {
     "name": "stderr",
     "output_type": "stream",
     "text": [
      " 16%|█▌        | 47.00595238094617/300 [16:55<58:14, 13.81s/it]   "
     ]
    },
    {
     "name": "stdout",
     "output_type": "stream",
     "text": [
      "\n",
      "Test Epoch: 47\tAccuracy: 8376/8550 (98%)\n",
      "\n",
      "Train Epoch: 48 [0/34199 (0%)]\tLoss: 0.008443\n"
     ]
    },
    {
     "name": "stderr",
     "output_type": "stream",
     "text": [
      " 16%|█▌        | 47.13690476189852/300 [16:59<1:37:40, 23.18s/it] "
     ]
    },
    {
     "name": "stdout",
     "output_type": "stream",
     "text": [
      "Train Epoch: 48 [5120/34199 (15%)]\tLoss: 0.003099\n"
     ]
    },
    {
     "name": "stderr",
     "output_type": "stream",
     "text": [
      " 16%|█▌        | 47.25595238094611/300 [17:01<1:37:53, 23.24s/it] "
     ]
    },
    {
     "name": "stdout",
     "output_type": "stream",
     "text": [
      "Train Epoch: 48 [10240/34199 (30%)]\tLoss: 0.001529\n"
     ]
    },
    {
     "name": "stderr",
     "output_type": "stream",
     "text": [
      " 16%|█▌        | 47.374999999993705/300 [17:04<1:37:48, 23.23s/it]"
     ]
    },
    {
     "name": "stdout",
     "output_type": "stream",
     "text": [
      "Train Epoch: 48 [15360/34199 (45%)]\tLoss: 0.002059\n"
     ]
    },
    {
     "name": "stderr",
     "output_type": "stream",
     "text": [
      " 16%|█▌        | 47.4940476190413/300 [17:07<1:37:59, 23.29s/it]  "
     ]
    },
    {
     "name": "stdout",
     "output_type": "stream",
     "text": [
      "Train Epoch: 48 [20480/34199 (60%)]\tLoss: 0.003052\n"
     ]
    },
    {
     "name": "stderr",
     "output_type": "stream",
     "text": [
      " 16%|█▌        | 47.61309523808889/300 [17:10<1:37:54, 23.27s/it] "
     ]
    },
    {
     "name": "stdout",
     "output_type": "stream",
     "text": [
      "Train Epoch: 48 [25600/34199 (75%)]\tLoss: 0.002036\n"
     ]
    },
    {
     "name": "stderr",
     "output_type": "stream",
     "text": [
      " 16%|█▌        | 47.72023809523172/300 [17:13<2:00:49, 28.74s/it] "
     ]
    },
    {
     "name": "stdout",
     "output_type": "stream",
     "text": [
      "Train Epoch: 48 [30720/34199 (90%)]\tLoss: 0.005612\n"
     ]
    },
    {
     "name": "stderr",
     "output_type": "stream",
     "text": [
      " 16%|█▌        | 47.99999999999356/300 [17:16<30:37,  7.29s/it]   "
     ]
    },
    {
     "name": "stdout",
     "output_type": "stream",
     "text": [
      "\n",
      "Test Epoch: 48\tAccuracy: 8384/8550 (98%)\n",
      "\n",
      "Train Epoch: 49 [0/34199 (0%)]\tLoss: 0.007370\n"
     ]
    },
    {
     "name": "stderr",
     "output_type": "stream",
     "text": [
      " 16%|█▌        | 48.13690476189829/300 [17:20<1:37:24, 23.20s/it] "
     ]
    },
    {
     "name": "stdout",
     "output_type": "stream",
     "text": [
      "Train Epoch: 49 [5120/34199 (15%)]\tLoss: 0.004606\n"
     ]
    },
    {
     "name": "stderr",
     "output_type": "stream",
     "text": [
      " 16%|█▌        | 48.244047619041126/300 [17:23<2:00:37, 28.75s/it]"
     ]
    },
    {
     "name": "stdout",
     "output_type": "stream",
     "text": [
      "Train Epoch: 49 [10240/34199 (30%)]\tLoss: 0.003216\n"
     ]
    },
    {
     "name": "stderr",
     "output_type": "stream",
     "text": [
      " 16%|█▌        | 48.36309523808872/300 [17:26<2:00:19, 28.69s/it] "
     ]
    },
    {
     "name": "stdout",
     "output_type": "stream",
     "text": [
      "Train Epoch: 49 [15360/34199 (45%)]\tLoss: 0.004843\n"
     ]
    },
    {
     "name": "stderr",
     "output_type": "stream",
     "text": [
      " 16%|█▌        | 48.48214285713631/300 [17:28<2:00:10, 28.67s/it] "
     ]
    },
    {
     "name": "stdout",
     "output_type": "stream",
     "text": [
      "Train Epoch: 49 [20480/34199 (60%)]\tLoss: 0.004122\n"
     ]
    },
    {
     "name": "stderr",
     "output_type": "stream",
     "text": [
      " 16%|█▌        | 48.6011904761839/300 [17:31<2:00:21, 28.73s/it]  "
     ]
    },
    {
     "name": "stdout",
     "output_type": "stream",
     "text": [
      "Train Epoch: 49 [25600/34199 (75%)]\tLoss: 0.003227\n"
     ]
    },
    {
     "name": "stderr",
     "output_type": "stream",
     "text": [
      " 16%|█▌        | 48.720238095231494/300 [17:34<2:00:01, 28.66s/it]"
     ]
    },
    {
     "name": "stdout",
     "output_type": "stream",
     "text": [
      "Train Epoch: 49 [30720/34199 (90%)]\tLoss: 0.002642\n"
     ]
    },
    {
     "name": "stderr",
     "output_type": "stream",
     "text": [
      " 16%|█▋        | 49.005952380945715/300 [17:38<58:56, 14.09s/it]  "
     ]
    },
    {
     "name": "stdout",
     "output_type": "stream",
     "text": [
      "\n",
      "Test Epoch: 49\tAccuracy: 8370/8550 (98%)\n",
      "\n",
      "Train Epoch: 50 [0/34199 (0%)]\tLoss: 0.002874\n"
     ]
    },
    {
     "name": "stderr",
     "output_type": "stream",
     "text": [
      " 16%|█▋        | 49.12499999999331/300 [17:41<2:00:32, 28.83s/it] "
     ]
    },
    {
     "name": "stdout",
     "output_type": "stream",
     "text": [
      "Train Epoch: 50 [5120/34199 (15%)]\tLoss: 0.009454\n"
     ]
    },
    {
     "name": "stderr",
     "output_type": "stream",
     "text": [
      " 16%|█▋        | 49.25595238094566/300 [17:44<1:37:24, 23.31s/it] "
     ]
    },
    {
     "name": "stdout",
     "output_type": "stream",
     "text": [
      "Train Epoch: 50 [10240/34199 (30%)]\tLoss: 0.011944\n"
     ]
    },
    {
     "name": "stderr",
     "output_type": "stream",
     "text": [
      " 16%|█▋        | 49.36309523808849/300 [17:47<2:00:58, 28.96s/it] "
     ]
    },
    {
     "name": "stdout",
     "output_type": "stream",
     "text": [
      "Train Epoch: 50 [15360/34199 (45%)]\tLoss: 0.003105\n"
     ]
    },
    {
     "name": "stderr",
     "output_type": "stream",
     "text": [
      " 16%|█▋        | 49.49404761904084/300 [17:50<1:36:53, 23.21s/it] "
     ]
    },
    {
     "name": "stdout",
     "output_type": "stream",
     "text": [
      "Train Epoch: 50 [20480/34199 (60%)]\tLoss: 0.003330\n"
     ]
    },
    {
     "name": "stderr",
     "output_type": "stream",
     "text": [
      " 17%|█▋        | 49.601190476183675/300 [17:53<2:00:05, 28.78s/it]"
     ]
    },
    {
     "name": "stdout",
     "output_type": "stream",
     "text": [
      "Train Epoch: 50 [25600/34199 (75%)]\tLoss: 0.003794\n"
     ]
    },
    {
     "name": "stderr",
     "output_type": "stream",
     "text": [
      " 17%|█▋        | 49.72023809523127/300 [17:56<1:59:43, 28.70s/it] "
     ]
    },
    {
     "name": "stdout",
     "output_type": "stream",
     "text": [
      "Train Epoch: 50 [30720/34199 (90%)]\tLoss: 0.006452\n"
     ]
    },
    {
     "name": "stderr",
     "output_type": "stream",
     "text": [
      " 17%|█▋        | 50.00595238094549/300 [18:00<57:54, 13.90s/it]   "
     ]
    },
    {
     "name": "stdout",
     "output_type": "stream",
     "text": [
      "\n",
      "Test Epoch: 50\tAccuracy: 8364/8550 (98%)\n",
      "\n",
      "Train Epoch: 51 [0/34199 (0%)]\tLoss: 0.006284\n"
     ]
    },
    {
     "name": "stderr",
     "output_type": "stream",
     "text": [
      " 17%|█▋        | 50.13690476189784/300 [18:03<1:36:27, 23.16s/it] "
     ]
    },
    {
     "name": "stdout",
     "output_type": "stream",
     "text": [
      "Train Epoch: 51 [5120/34199 (15%)]\tLoss: 0.003614\n"
     ]
    },
    {
     "name": "stderr",
     "output_type": "stream",
     "text": [
      " 17%|█▋        | 50.24404761904067/300 [18:05<1:59:28, 28.70s/it] "
     ]
    },
    {
     "name": "stdout",
     "output_type": "stream",
     "text": [
      "Train Epoch: 51 [10240/34199 (30%)]\tLoss: 0.013422\n"
     ]
    },
    {
     "name": "stderr",
     "output_type": "stream",
     "text": [
      " 17%|█▋        | 50.36309523808826/300 [18:08<2:18:40, 33.33s/it] "
     ]
    },
    {
     "name": "stdout",
     "output_type": "stream",
     "text": [
      "Train Epoch: 51 [15360/34199 (45%)]\tLoss: 0.002320\n"
     ]
    },
    {
     "name": "stderr",
     "output_type": "stream",
     "text": [
      " 17%|█▋        | 50.494047619040614/300 [18:12<1:37:04, 23.34s/it]"
     ]
    },
    {
     "name": "stdout",
     "output_type": "stream",
     "text": [
      "Train Epoch: 51 [20480/34199 (60%)]\tLoss: 0.004185\n"
     ]
    },
    {
     "name": "stderr",
     "output_type": "stream",
     "text": [
      " 17%|█▋        | 50.60119047618345/300 [18:15<2:14:13, 32.29s/it] "
     ]
    },
    {
     "name": "stdout",
     "output_type": "stream",
     "text": [
      "Train Epoch: 51 [25600/34199 (75%)]\tLoss: 0.002952\n"
     ]
    },
    {
     "name": "stderr",
     "output_type": "stream",
     "text": [
      " 17%|█▋        | 50.72023809523104/300 [18:18<2:00:23, 28.98s/it] "
     ]
    },
    {
     "name": "stdout",
     "output_type": "stream",
     "text": [
      "Train Epoch: 51 [30720/34199 (90%)]\tLoss: 0.004335\n"
     ]
    },
    {
     "name": "stderr",
     "output_type": "stream",
     "text": [
      " 17%|█▋        | 51.00595238094526/300 [18:21<56:51, 13.70s/it]   "
     ]
    },
    {
     "name": "stdout",
     "output_type": "stream",
     "text": [
      "\n",
      "Test Epoch: 51\tAccuracy: 8384/8550 (98%)\n",
      "\n",
      "Train Epoch: 52 [0/34199 (0%)]\tLoss: 0.001834\n"
     ]
    },
    {
     "name": "stderr",
     "output_type": "stream",
     "text": [
      " 17%|█▋        | 51.12499999999285/300 [18:24<1:58:35, 28.59s/it] "
     ]
    },
    {
     "name": "stdout",
     "output_type": "stream",
     "text": [
      "Train Epoch: 52 [5120/34199 (15%)]\tLoss: 0.002094\n"
     ]
    },
    {
     "name": "stderr",
     "output_type": "stream",
     "text": [
      " 17%|█▋        | 51.2559523809452/300 [18:27<1:36:37, 23.31s/it]  "
     ]
    },
    {
     "name": "stdout",
     "output_type": "stream",
     "text": [
      "Train Epoch: 52 [10240/34199 (30%)]\tLoss: 0.002723\n"
     ]
    },
    {
     "name": "stderr",
     "output_type": "stream",
     "text": [
      " 17%|█▋        | 51.374999999992795/300 [18:30<1:36:16, 23.23s/it]"
     ]
    },
    {
     "name": "stdout",
     "output_type": "stream",
     "text": [
      "Train Epoch: 52 [15360/34199 (45%)]\tLoss: 0.006671\n"
     ]
    },
    {
     "name": "stderr",
     "output_type": "stream",
     "text": [
      " 17%|█▋        | 51.49404761904039/300 [18:33<1:36:17, 23.25s/it] "
     ]
    },
    {
     "name": "stdout",
     "output_type": "stream",
     "text": [
      "Train Epoch: 52 [20480/34199 (60%)]\tLoss: 0.008022\n"
     ]
    },
    {
     "name": "stderr",
     "output_type": "stream",
     "text": [
      " 17%|█▋        | 51.61309523808798/300 [18:36<1:37:10, 23.47s/it] "
     ]
    },
    {
     "name": "stdout",
     "output_type": "stream",
     "text": [
      "Train Epoch: 52 [25600/34199 (75%)]\tLoss: 0.003675\n"
     ]
    },
    {
     "name": "stderr",
     "output_type": "stream",
     "text": [
      " 17%|█▋        | 51.72023809523081/300 [18:39<2:09:56, 31.40s/it] "
     ]
    },
    {
     "name": "stdout",
     "output_type": "stream",
     "text": [
      "Train Epoch: 52 [30720/34199 (90%)]\tLoss: 0.002589\n"
     ]
    },
    {
     "name": "stderr",
     "output_type": "stream",
     "text": [
      " 17%|█▋        | 51.99999999999265/300 [18:43<31:54,  7.72s/it]   "
     ]
    },
    {
     "name": "stdout",
     "output_type": "stream",
     "text": [
      "\n",
      "Test Epoch: 52\tAccuracy: 8376/8550 (98%)\n",
      "\n",
      "Train Epoch: 53 [0/34199 (0%)]\tLoss: 0.002673\n"
     ]
    },
    {
     "name": "stderr",
     "output_type": "stream",
     "text": [
      " 17%|█▋        | 52.136904761897384/300 [18:46<1:37:27, 23.59s/it]"
     ]
    },
    {
     "name": "stdout",
     "output_type": "stream",
     "text": [
      "Train Epoch: 53 [5120/34199 (15%)]\tLoss: 0.001521\n"
     ]
    },
    {
     "name": "stderr",
     "output_type": "stream",
     "text": [
      " 17%|█▋        | 52.255952380944976/300 [18:49<1:36:53, 23.47s/it]"
     ]
    },
    {
     "name": "stdout",
     "output_type": "stream",
     "text": [
      "Train Epoch: 53 [10240/34199 (30%)]\tLoss: 0.003384\n"
     ]
    },
    {
     "name": "stderr",
     "output_type": "stream",
     "text": [
      " 17%|█▋        | 52.37499999999257/300 [18:52<1:35:55, 23.24s/it] "
     ]
    },
    {
     "name": "stdout",
     "output_type": "stream",
     "text": [
      "Train Epoch: 53 [15360/34199 (45%)]\tLoss: 0.002465\n"
     ]
    },
    {
     "name": "stderr",
     "output_type": "stream",
     "text": [
      " 17%|█▋        | 52.4821428571354/300 [18:55<1:58:14, 28.66s/it]  "
     ]
    },
    {
     "name": "stdout",
     "output_type": "stream",
     "text": [
      "Train Epoch: 53 [20480/34199 (60%)]\tLoss: 0.006213\n"
     ]
    },
    {
     "name": "stderr",
     "output_type": "stream",
     "text": [
      " 18%|█▊        | 52.60119047618299/300 [18:58<1:58:30, 28.74s/it] "
     ]
    },
    {
     "name": "stdout",
     "output_type": "stream",
     "text": [
      "Train Epoch: 53 [25600/34199 (75%)]\tLoss: 0.001920\n"
     ]
    },
    {
     "name": "stderr",
     "output_type": "stream",
     "text": [
      " 18%|█▊        | 52.720238095230584/300 [19:01<2:06:02, 30.58s/it]"
     ]
    },
    {
     "name": "stdout",
     "output_type": "stream",
     "text": [
      "Train Epoch: 53 [30720/34199 (90%)]\tLoss: 0.004304\n"
     ]
    },
    {
     "name": "stderr",
     "output_type": "stream",
     "text": [
      " 18%|█▊        | 53.005952380944805/300 [19:05<1:00:02, 14.58s/it]"
     ]
    },
    {
     "name": "stdout",
     "output_type": "stream",
     "text": [
      "\n",
      "Test Epoch: 53\tAccuracy: 8382/8550 (98%)\n",
      "\n",
      "Train Epoch: 54 [0/34199 (0%)]\tLoss: 0.003027\n"
     ]
    },
    {
     "name": "stderr",
     "output_type": "stream",
     "text": [
      " 18%|█▊        | 53.1249999999924/300 [19:08<2:00:11, 29.21s/it]  "
     ]
    },
    {
     "name": "stdout",
     "output_type": "stream",
     "text": [
      "Train Epoch: 54 [5120/34199 (15%)]\tLoss: 0.009071\n"
     ]
    },
    {
     "name": "stderr",
     "output_type": "stream",
     "text": [
      " 18%|█▊        | 53.24404761903999/300 [19:11<2:05:39, 30.55s/it] "
     ]
    },
    {
     "name": "stdout",
     "output_type": "stream",
     "text": [
      "Train Epoch: 54 [10240/34199 (30%)]\tLoss: 0.004397\n"
     ]
    },
    {
     "name": "stderr",
     "output_type": "stream",
     "text": [
      " 18%|█▊        | 53.36309523808758/300 [19:14<1:59:31, 29.08s/it] "
     ]
    },
    {
     "name": "stdout",
     "output_type": "stream",
     "text": [
      "Train Epoch: 54 [15360/34199 (45%)]\tLoss: 0.010129\n"
     ]
    },
    {
     "name": "stderr",
     "output_type": "stream",
     "text": [
      " 18%|█▊        | 53.48214285713517/300 [19:17<1:58:33, 28.86s/it] "
     ]
    },
    {
     "name": "stdout",
     "output_type": "stream",
     "text": [
      "Train Epoch: 54 [20480/34199 (60%)]\tLoss: 0.004550\n"
     ]
    },
    {
     "name": "stderr",
     "output_type": "stream",
     "text": [
      " 18%|█▊        | 53.601190476182765/300 [19:20<1:58:37, 28.89s/it]"
     ]
    },
    {
     "name": "stdout",
     "output_type": "stream",
     "text": [
      "Train Epoch: 54 [25600/34199 (75%)]\tLoss: 0.003267\n"
     ]
    },
    {
     "name": "stderr",
     "output_type": "stream",
     "text": [
      " 18%|█▊        | 53.72023809523036/300 [19:22<1:57:51, 28.71s/it] "
     ]
    },
    {
     "name": "stdout",
     "output_type": "stream",
     "text": [
      "Train Epoch: 54 [30720/34199 (90%)]\tLoss: 0.005141\n"
     ]
    },
    {
     "name": "stderr",
     "output_type": "stream",
     "text": [
      " 18%|█▊        | 53.9999999999922/300 [19:26<29:49,  7.28s/it]    "
     ]
    },
    {
     "name": "stdout",
     "output_type": "stream",
     "text": [
      "\n",
      "Test Epoch: 54\tAccuracy: 8378/8550 (98%)\n",
      "\n",
      "Train Epoch: 55 [0/34199 (0%)]\tLoss: 0.002971\n"
     ]
    },
    {
     "name": "stderr",
     "output_type": "stream",
     "text": [
      " 18%|█▊        | 54.13690476189693/300 [19:29<1:35:09, 23.22s/it] "
     ]
    },
    {
     "name": "stdout",
     "output_type": "stream",
     "text": [
      "Train Epoch: 55 [5120/34199 (15%)]\tLoss: 0.001887\n"
     ]
    },
    {
     "name": "stderr",
     "output_type": "stream",
     "text": [
      " 18%|█▊        | 54.24404761903976/300 [19:32<1:58:23, 28.90s/it] "
     ]
    },
    {
     "name": "stdout",
     "output_type": "stream",
     "text": [
      "Train Epoch: 55 [10240/34199 (30%)]\tLoss: 0.003724\n"
     ]
    },
    {
     "name": "stderr",
     "output_type": "stream",
     "text": [
      " 18%|█▊        | 54.37499999999211/300 [19:35<1:35:29, 23.33s/it] "
     ]
    },
    {
     "name": "stdout",
     "output_type": "stream",
     "text": [
      "Train Epoch: 55 [15360/34199 (45%)]\tLoss: 0.001759\n"
     ]
    },
    {
     "name": "stderr",
     "output_type": "stream",
     "text": [
      " 18%|█▊        | 54.482142857134946/300 [19:38<1:57:54, 28.81s/it]"
     ]
    },
    {
     "name": "stdout",
     "output_type": "stream",
     "text": [
      "Train Epoch: 55 [20480/34199 (60%)]\tLoss: 0.003623\n"
     ]
    },
    {
     "name": "stderr",
     "output_type": "stream",
     "text": [
      " 18%|█▊        | 54.60119047618254/300 [19:41<1:58:11, 28.90s/it] "
     ]
    },
    {
     "name": "stdout",
     "output_type": "stream",
     "text": [
      "Train Epoch: 55 [25600/34199 (75%)]\tLoss: 0.001181\n"
     ]
    },
    {
     "name": "stderr",
     "output_type": "stream",
     "text": [
      " 18%|█▊        | 54.72023809523013/300 [19:44<1:57:29, 28.74s/it] "
     ]
    },
    {
     "name": "stdout",
     "output_type": "stream",
     "text": [
      "Train Epoch: 55 [30720/34199 (90%)]\tLoss: 0.003076\n"
     ]
    },
    {
     "name": "stderr",
     "output_type": "stream",
     "text": [
      " 18%|█▊        | 54.99999999999197/300 [19:47<29:44,  7.28s/it]   "
     ]
    },
    {
     "name": "stdout",
     "output_type": "stream",
     "text": [
      "\n",
      "Test Epoch: 55\tAccuracy: 8375/8550 (98%)\n",
      "\n",
      "Train Epoch: 56 [0/34199 (0%)]\tLoss: 0.003437\n"
     ]
    },
    {
     "name": "stderr",
     "output_type": "stream",
     "text": [
      " 18%|█▊        | 55.1369047618967/300 [19:51<1:34:47, 23.23s/it]  "
     ]
    },
    {
     "name": "stdout",
     "output_type": "stream",
     "text": [
      "Train Epoch: 56 [5120/34199 (15%)]\tLoss: 0.004434\n"
     ]
    },
    {
     "name": "stderr",
     "output_type": "stream",
     "text": [
      " 18%|█▊        | 55.244047619039534/300 [19:53<1:57:26, 28.79s/it]"
     ]
    },
    {
     "name": "stdout",
     "output_type": "stream",
     "text": [
      "Train Epoch: 56 [10240/34199 (30%)]\tLoss: 0.002215\n"
     ]
    },
    {
     "name": "stderr",
     "output_type": "stream",
     "text": [
      " 18%|█▊        | 55.374999999991886/300 [19:57<1:35:09, 23.34s/it]"
     ]
    },
    {
     "name": "stdout",
     "output_type": "stream",
     "text": [
      "Train Epoch: 56 [15360/34199 (45%)]\tLoss: 0.001973\n"
     ]
    },
    {
     "name": "stderr",
     "output_type": "stream",
     "text": [
      " 18%|█▊        | 55.49404761903948/300 [19:59<1:34:42, 23.24s/it] "
     ]
    },
    {
     "name": "stdout",
     "output_type": "stream",
     "text": [
      "Train Epoch: 56 [20480/34199 (60%)]\tLoss: 0.004397\n"
     ]
    },
    {
     "name": "stderr",
     "output_type": "stream",
     "text": [
      " 19%|█▊        | 55.60119047618231/300 [20:02<1:57:21, 28.81s/it] "
     ]
    },
    {
     "name": "stdout",
     "output_type": "stream",
     "text": [
      "Train Epoch: 56 [25600/34199 (75%)]\tLoss: 0.002178\n"
     ]
    },
    {
     "name": "stderr",
     "output_type": "stream",
     "text": [
      " 19%|█▊        | 55.73214285713466/300 [20:05<1:34:53, 23.31s/it] "
     ]
    },
    {
     "name": "stdout",
     "output_type": "stream",
     "text": [
      "Train Epoch: 56 [30720/34199 (90%)]\tLoss: 0.002463\n"
     ]
    },
    {
     "name": "stderr",
     "output_type": "stream",
     "text": [
      " 19%|█▊        | 55.99999999999174/300 [20:09<29:47,  7.32s/it]  "
     ]
    },
    {
     "name": "stdout",
     "output_type": "stream",
     "text": [
      "\n",
      "Test Epoch: 56\tAccuracy: 8386/8550 (98%)\n",
      "\n",
      "Train Epoch: 57 [0/34199 (0%)]\tLoss: 0.001821\n"
     ]
    },
    {
     "name": "stderr",
     "output_type": "stream",
     "text": [
      " 19%|█▊        | 56.124999999991715/300 [20:12<1:55:14, 28.35s/it]"
     ]
    },
    {
     "name": "stdout",
     "output_type": "stream",
     "text": [
      "Train Epoch: 57 [5120/34199 (15%)]\tLoss: 0.002801\n"
     ]
    },
    {
     "name": "stderr",
     "output_type": "stream",
     "text": [
      " 19%|█▊        | 56.24404761903931/300 [20:15<1:56:34, 28.69s/it] "
     ]
    },
    {
     "name": "stdout",
     "output_type": "stream",
     "text": [
      "Train Epoch: 57 [10240/34199 (30%)]\tLoss: 0.001962\n"
     ]
    },
    {
     "name": "stderr",
     "output_type": "stream",
     "text": [
      " 19%|█▉        | 56.3630952380869/300 [20:18<1:56:30, 28.69s/it]  "
     ]
    },
    {
     "name": "stdout",
     "output_type": "stream",
     "text": [
      "Train Epoch: 57 [15360/34199 (45%)]\tLoss: 0.001520\n"
     ]
    },
    {
     "name": "stderr",
     "output_type": "stream",
     "text": [
      " 19%|█▉        | 56.48214285713449/300 [20:21<2:02:20, 30.14s/it] "
     ]
    },
    {
     "name": "stdout",
     "output_type": "stream",
     "text": [
      "Train Epoch: 57 [20480/34199 (60%)]\tLoss: 0.001868\n"
     ]
    },
    {
     "name": "stderr",
     "output_type": "stream",
     "text": [
      " 19%|█▉        | 56.60119047618208/300 [20:24<2:05:20, 30.90s/it] "
     ]
    },
    {
     "name": "stdout",
     "output_type": "stream",
     "text": [
      "Train Epoch: 57 [25600/34199 (75%)]\tLoss: 0.002405\n"
     ]
    },
    {
     "name": "stderr",
     "output_type": "stream",
     "text": [
      " 19%|█▉        | 56.732142857134434/300 [20:27<1:34:15, 23.25s/it]"
     ]
    },
    {
     "name": "stdout",
     "output_type": "stream",
     "text": [
      "Train Epoch: 57 [30720/34199 (90%)]\tLoss: 0.001929\n"
     ]
    },
    {
     "name": "stderr",
     "output_type": "stream",
     "text": [
      " 19%|█▉        | 57.005952380943896/300 [20:31<55:45, 13.77s/it]  "
     ]
    },
    {
     "name": "stdout",
     "output_type": "stream",
     "text": [
      "\n",
      "Test Epoch: 57\tAccuracy: 8381/8550 (98%)\n",
      "\n",
      "Train Epoch: 58 [0/34199 (0%)]\tLoss: 0.001640\n"
     ]
    },
    {
     "name": "stderr",
     "output_type": "stream",
     "text": [
      " 19%|█▉        | 57.12499999999149/300 [20:34<1:55:36, 28.56s/it] "
     ]
    },
    {
     "name": "stdout",
     "output_type": "stream",
     "text": [
      "Train Epoch: 58 [5120/34199 (15%)]\tLoss: 0.002252\n"
     ]
    },
    {
     "name": "stderr",
     "output_type": "stream",
     "text": [
      " 19%|█▉        | 57.25595238094384/300 [20:37<1:34:17, 23.31s/it] "
     ]
    },
    {
     "name": "stdout",
     "output_type": "stream",
     "text": [
      "Train Epoch: 58 [10240/34199 (30%)]\tLoss: 0.001751\n"
     ]
    },
    {
     "name": "stderr",
     "output_type": "stream",
     "text": [
      " 19%|█▉        | 57.36309523808667/300 [20:39<1:56:31, 28.81s/it] "
     ]
    },
    {
     "name": "stdout",
     "output_type": "stream",
     "text": [
      "Train Epoch: 58 [15360/34199 (45%)]\tLoss: 0.003356\n"
     ]
    },
    {
     "name": "stderr",
     "output_type": "stream",
     "text": [
      " 19%|█▉        | 57.482142857134264/300 [20:42<1:56:00, 28.70s/it]"
     ]
    },
    {
     "name": "stdout",
     "output_type": "stream",
     "text": [
      "Train Epoch: 58 [20480/34199 (60%)]\tLoss: 0.001901\n"
     ]
    },
    {
     "name": "stderr",
     "output_type": "stream",
     "text": [
      " 19%|█▉        | 57.601190476181856/300 [20:45<1:56:08, 28.75s/it]"
     ]
    },
    {
     "name": "stdout",
     "output_type": "stream",
     "text": [
      "Train Epoch: 58 [25600/34199 (75%)]\tLoss: 0.001413\n"
     ]
    },
    {
     "name": "stderr",
     "output_type": "stream",
     "text": [
      " 19%|█▉        | 57.72023809522945/300 [20:48<1:56:00, 28.73s/it] "
     ]
    },
    {
     "name": "stdout",
     "output_type": "stream",
     "text": [
      "Train Epoch: 58 [30720/34199 (90%)]\tLoss: 0.001679\n"
     ]
    },
    {
     "name": "stderr",
     "output_type": "stream",
     "text": [
      " 19%|█▉        | 57.99999999999129/300 [20:52<29:22,  7.28s/it]   "
     ]
    },
    {
     "name": "stdout",
     "output_type": "stream",
     "text": [
      "\n",
      "Test Epoch: 58\tAccuracy: 8386/8550 (98%)\n",
      "\n",
      "Train Epoch: 59 [0/34199 (0%)]\tLoss: 0.003962\n"
     ]
    },
    {
     "name": "stderr",
     "output_type": "stream",
     "text": [
      " 19%|█▉        | 58.12499999999126/300 [20:55<1:54:04, 28.30s/it] "
     ]
    },
    {
     "name": "stdout",
     "output_type": "stream",
     "text": [
      "Train Epoch: 59 [5120/34199 (15%)]\tLoss: 0.002545\n"
     ]
    },
    {
     "name": "stderr",
     "output_type": "stream",
     "text": [
      " 19%|█▉        | 58.25595238094361/300 [20:58<1:33:10, 23.12s/it] "
     ]
    },
    {
     "name": "stdout",
     "output_type": "stream",
     "text": [
      "Train Epoch: 59 [10240/34199 (30%)]\tLoss: 0.003572\n"
     ]
    },
    {
     "name": "stderr",
     "output_type": "stream",
     "text": [
      " 19%|█▉        | 58.3749999999912/300 [21:01<1:33:38, 23.25s/it]  "
     ]
    },
    {
     "name": "stdout",
     "output_type": "stream",
     "text": [
      "Train Epoch: 59 [15360/34199 (45%)]\tLoss: 0.004798\n"
     ]
    },
    {
     "name": "stderr",
     "output_type": "stream",
     "text": [
      " 19%|█▉        | 58.494047619038795/300 [21:04<1:33:23, 23.20s/it]"
     ]
    },
    {
     "name": "stdout",
     "output_type": "stream",
     "text": [
      "Train Epoch: 59 [20480/34199 (60%)]\tLoss: 0.003023\n"
     ]
    },
    {
     "name": "stderr",
     "output_type": "stream",
     "text": [
      " 20%|█▉        | 58.61309523808639/300 [21:07<1:33:23, 23.21s/it] "
     ]
    },
    {
     "name": "stdout",
     "output_type": "stream",
     "text": [
      "Train Epoch: 59 [25600/34199 (75%)]\tLoss: 0.010025\n"
     ]
    },
    {
     "name": "stderr",
     "output_type": "stream",
     "text": [
      " 20%|█▉        | 58.72023809522922/300 [21:09<1:55:15, 28.66s/it] "
     ]
    },
    {
     "name": "stdout",
     "output_type": "stream",
     "text": [
      "Train Epoch: 59 [30720/34199 (90%)]\tLoss: 0.002526\n"
     ]
    },
    {
     "name": "stderr",
     "output_type": "stream",
     "text": [
      " 20%|█▉        | 59.00595238094344/300 [21:13<54:23, 13.54s/it]   "
     ]
    },
    {
     "name": "stdout",
     "output_type": "stream",
     "text": [
      "\n",
      "Test Epoch: 59\tAccuracy: 8380/8550 (98%)\n",
      "\n",
      "Train Epoch: 60 [0/34199 (0%)]\tLoss: 0.002248\n"
     ]
    },
    {
     "name": "stderr",
     "output_type": "stream",
     "text": [
      " 20%|█▉        | 59.13690476189579/300 [21:16<1:33:03, 23.18s/it] "
     ]
    },
    {
     "name": "stdout",
     "output_type": "stream",
     "text": [
      "Train Epoch: 60 [5120/34199 (15%)]\tLoss: 0.005832\n"
     ]
    },
    {
     "name": "stderr",
     "output_type": "stream",
     "text": [
      " 20%|█▉        | 59.255952380943384/300 [21:19<1:33:12, 23.23s/it]"
     ]
    },
    {
     "name": "stdout",
     "output_type": "stream",
     "text": [
      "Train Epoch: 60 [10240/34199 (30%)]\tLoss: 0.002795\n"
     ]
    },
    {
     "name": "stderr",
     "output_type": "stream",
     "text": [
      " 20%|█▉        | 59.374999999990976/300 [21:22<1:33:04, 23.21s/it]"
     ]
    },
    {
     "name": "stdout",
     "output_type": "stream",
     "text": [
      "Train Epoch: 60 [15360/34199 (45%)]\tLoss: 0.002762\n"
     ]
    },
    {
     "name": "stderr",
     "output_type": "stream",
     "text": [
      " 20%|█▉        | 59.49404761903857/300 [21:25<1:33:18, 23.28s/it] "
     ]
    },
    {
     "name": "stdout",
     "output_type": "stream",
     "text": [
      "Train Epoch: 60 [20480/34199 (60%)]\tLoss: 0.001676\n"
     ]
    },
    {
     "name": "stderr",
     "output_type": "stream",
     "text": [
      " 20%|█▉        | 59.6011904761814/300 [21:28<1:54:47, 28.65s/it]  "
     ]
    },
    {
     "name": "stdout",
     "output_type": "stream",
     "text": [
      "Train Epoch: 60 [25600/34199 (75%)]\tLoss: 0.001837\n"
     ]
    },
    {
     "name": "stderr",
     "output_type": "stream",
     "text": [
      " 20%|█▉        | 59.72023809522899/300 [21:31<1:54:58, 28.71s/it] "
     ]
    },
    {
     "name": "stdout",
     "output_type": "stream",
     "text": [
      "Train Epoch: 60 [30720/34199 (90%)]\tLoss: 0.002658\n"
     ]
    },
    {
     "name": "stderr",
     "output_type": "stream",
     "text": [
      " 20%|██        | 60.005952380943214/300 [21:35<1:40:11, 25.05s/it]"
     ]
    },
    {
     "name": "stdout",
     "output_type": "stream",
     "text": [
      "\n",
      "Test Epoch: 60\tAccuracy: 8388/8550 (98%)\n",
      "\n",
      "Train Epoch: 61 [0/34199 (0%)]\tLoss: 0.006389\n"
     ]
    },
    {
     "name": "stderr",
     "output_type": "stream",
     "text": [
      " 20%|██        | 60.136904761895565/300 [21:38<1:32:53, 23.23s/it]"
     ]
    },
    {
     "name": "stdout",
     "output_type": "stream",
     "text": [
      "Train Epoch: 61 [5120/34199 (15%)]\tLoss: 0.002261\n"
     ]
    },
    {
     "name": "stderr",
     "output_type": "stream",
     "text": [
      " 20%|██        | 60.25595238094316/300 [21:41<1:32:56, 23.26s/it] "
     ]
    },
    {
     "name": "stdout",
     "output_type": "stream",
     "text": [
      "Train Epoch: 61 [10240/34199 (30%)]\tLoss: 0.004321\n"
     ]
    },
    {
     "name": "stderr",
     "output_type": "stream",
     "text": [
      " 20%|██        | 60.37499999999075/300 [21:44<1:32:26, 23.15s/it] "
     ]
    },
    {
     "name": "stdout",
     "output_type": "stream",
     "text": [
      "Train Epoch: 61 [15360/34199 (45%)]\tLoss: 0.002329\n"
     ]
    },
    {
     "name": "stderr",
     "output_type": "stream",
     "text": [
      " 20%|██        | 60.48214285713358/300 [21:47<1:54:38, 28.72s/it] "
     ]
    },
    {
     "name": "stdout",
     "output_type": "stream",
     "text": [
      "Train Epoch: 61 [20480/34199 (60%)]\tLoss: 0.001573\n"
     ]
    },
    {
     "name": "stderr",
     "output_type": "stream",
     "text": [
      " 20%|██        | 60.60119047618117/300 [21:50<1:54:08, 28.61s/it] "
     ]
    },
    {
     "name": "stdout",
     "output_type": "stream",
     "text": [
      "Train Epoch: 61 [25600/34199 (75%)]\tLoss: 0.006151\n"
     ]
    },
    {
     "name": "stderr",
     "output_type": "stream",
     "text": [
      " 20%|██        | 60.732142857133525/300 [21:53<1:32:25, 23.18s/it]"
     ]
    },
    {
     "name": "stdout",
     "output_type": "stream",
     "text": [
      "Train Epoch: 61 [30720/34199 (90%)]\tLoss: 0.001670\n"
     ]
    },
    {
     "name": "stderr",
     "output_type": "stream",
     "text": [
      " 20%|██        | 61.005952380942986/300 [21:57<54:54, 13.78s/it]  "
     ]
    },
    {
     "name": "stdout",
     "output_type": "stream",
     "text": [
      "\n",
      "Test Epoch: 61\tAccuracy: 8386/8550 (98%)\n",
      "\n",
      "Train Epoch: 62 [0/34199 (0%)]\tLoss: 0.001148\n"
     ]
    },
    {
     "name": "stderr",
     "output_type": "stream",
     "text": [
      " 20%|██        | 61.13690476189534/300 [22:00<1:32:11, 23.16s/it] "
     ]
    },
    {
     "name": "stdout",
     "output_type": "stream",
     "text": [
      "Train Epoch: 62 [5120/34199 (15%)]\tLoss: 0.004110\n"
     ]
    },
    {
     "name": "stderr",
     "output_type": "stream",
     "text": [
      " 20%|██        | 61.24404761903817/300 [22:03<1:57:05, 29.43s/it] "
     ]
    },
    {
     "name": "stdout",
     "output_type": "stream",
     "text": [
      "Train Epoch: 62 [10240/34199 (30%)]\tLoss: 0.001668\n"
     ]
    },
    {
     "name": "stderr",
     "output_type": "stream",
     "text": [
      " 20%|██        | 61.36309523808576/300 [22:06<2:07:08, 31.97s/it] "
     ]
    },
    {
     "name": "stdout",
     "output_type": "stream",
     "text": [
      "Train Epoch: 62 [15360/34199 (45%)]\tLoss: 0.001675\n"
     ]
    },
    {
     "name": "stderr",
     "output_type": "stream",
     "text": [
      " 20%|██        | 61.482142857133354/300 [22:09<1:55:27, 29.05s/it]"
     ]
    },
    {
     "name": "stdout",
     "output_type": "stream",
     "text": [
      "Train Epoch: 62 [20480/34199 (60%)]\tLoss: 0.001839\n"
     ]
    },
    {
     "name": "stderr",
     "output_type": "stream",
     "text": [
      " 21%|██        | 61.601190476180946/300 [22:12<2:06:22, 31.81s/it]"
     ]
    },
    {
     "name": "stdout",
     "output_type": "stream",
     "text": [
      "Train Epoch: 62 [25600/34199 (75%)]\tLoss: 0.002201\n"
     ]
    },
    {
     "name": "stderr",
     "output_type": "stream",
     "text": [
      " 21%|██        | 61.72023809522854/300 [22:15<2:04:18, 31.30s/it] "
     ]
    },
    {
     "name": "stdout",
     "output_type": "stream",
     "text": [
      "Train Epoch: 62 [30720/34199 (90%)]\tLoss: 0.001158\n"
     ]
    },
    {
     "name": "stderr",
     "output_type": "stream",
     "text": [
      " 21%|██        | 61.99999999999038/300 [22:19<1:25:43, 21.61s/it] "
     ]
    },
    {
     "name": "stdout",
     "output_type": "stream",
     "text": [
      "\n",
      "Test Epoch: 62\tAccuracy: 8379/8550 (98%)\n",
      "\n"
     ]
    },
    {
     "name": "stderr",
     "output_type": "stream",
     "text": [
      "\n",
      "  0%|          | 0.005952380952380952/300 [00:00<2:49:31, 33.90s/it]"
     ]
    },
    {
     "name": "stdout",
     "output_type": "stream",
     "text": [
      "Train Epoch: 1 [0/34205 (0%)]\tLoss: 3.038765\n"
     ]
    },
    {
     "name": "stderr",
     "output_type": "stream",
     "text": [
      "  0%|          | 0.12500000000000006/300 [00:03<2:37:14, 31.46s/it] "
     ]
    },
    {
     "name": "stdout",
     "output_type": "stream",
     "text": [
      "Train Epoch: 1 [5120/34205 (15%)]\tLoss: 2.381184\n"
     ]
    },
    {
     "name": "stderr",
     "output_type": "stream",
     "text": [
      "  0%|          | 0.23214285714285732/300 [00:06<2:14:13, 26.87s/it]\n"
     ]
    },
    {
     "ename": "KeyboardInterrupt",
     "evalue": "",
     "output_type": "error",
     "traceback": [
      "\u001B[0;31m---------------------------------------------------------------------------\u001B[0m",
      "\u001B[0;31mKeyboardInterrupt\u001B[0m                         Traceback (most recent call last)",
      "Input \u001B[0;32mIn [24]\u001B[0m, in \u001B[0;36m<cell line: 13>\u001B[0;34m()\u001B[0m\n\u001B[1;32m     14\u001B[0m \u001B[38;5;28;01mfor\u001B[39;00m epoch \u001B[38;5;129;01min\u001B[39;00m \u001B[38;5;28mrange\u001B[39m(\u001B[38;5;241m1\u001B[39m, n_epoch \u001B[38;5;241m+\u001B[39m \u001B[38;5;241m1\u001B[39m):\n\u001B[1;32m     15\u001B[0m     torch\u001B[38;5;241m.\u001B[39msave({\n\u001B[1;32m     16\u001B[0m         \u001B[38;5;124m'\u001B[39m\u001B[38;5;124mmodel_state_dict\u001B[39m\u001B[38;5;124m'\u001B[39m: model\u001B[38;5;241m.\u001B[39mstate_dict(),\n\u001B[1;32m     17\u001B[0m         \u001B[38;5;124m'\u001B[39m\u001B[38;5;124moptimizer_state_dict\u001B[39m\u001B[38;5;124m'\u001B[39m: optimizer\u001B[38;5;241m.\u001B[39mstate_dict()\n\u001B[1;32m     18\u001B[0m     }, CHECKPOINT_PATH)\n\u001B[0;32m---> 20\u001B[0m     train_losses \u001B[38;5;241m=\u001B[39m \u001B[43mtrain\u001B[49m\u001B[43m(\u001B[49m\u001B[43mmodel\u001B[49m\u001B[43m,\u001B[49m\u001B[43m \u001B[49m\u001B[43mepoch\u001B[49m\u001B[43m,\u001B[49m\u001B[43m \u001B[49m\u001B[43mlog_interval\u001B[49m\u001B[43m,\u001B[49m\u001B[43m \u001B[49m\u001B[43mwriter\u001B[49m\u001B[43m)\u001B[49m\n\u001B[1;32m     21\u001B[0m     losses\u001B[38;5;241m.\u001B[39mextend(train_losses)\n\u001B[1;32m     23\u001B[0m     accuracy \u001B[38;5;241m=\u001B[39m test(model, epoch, writer)\n",
      "Input \u001B[0;32mIn [22]\u001B[0m, in \u001B[0;36mtrain\u001B[0;34m(model, epoch, log_interval, writer)\u001B[0m\n\u001B[1;32m     28\u001B[0m     pbar\u001B[38;5;241m.\u001B[39mupdate(pbar_update)\n\u001B[1;32m     29\u001B[0m     \u001B[38;5;66;03m# record loss\u001B[39;00m\n\u001B[0;32m---> 30\u001B[0m     train_losses\u001B[38;5;241m.\u001B[39mappend(\u001B[43mloss\u001B[49m\u001B[38;5;241;43m.\u001B[39;49m\u001B[43mitem\u001B[49m\u001B[43m(\u001B[49m\u001B[43m)\u001B[49m)\n\u001B[1;32m     31\u001B[0m \u001B[38;5;28;01mreturn\u001B[39;00m train_losses\n",
      "\u001B[0;31mKeyboardInterrupt\u001B[0m: "
     ]
    }
   ],
   "source": [
    "writer = SummaryWriter()\n",
    "\n",
    "log_interval = 20\n",
    "n_epoch = 300\n",
    "\n",
    "CHECKPOINT_PATH = 'checkpoint.pt'\n",
    "ACCURACY_MOVING_AVERAGE_SIZE = 30  # moving average for accuracy to check if performance degraded\n",
    "\n",
    "pbar_update = 1 / (len(train_loader) + len(test_loader))\n",
    "losses = []\n",
    "accuracies = []\n",
    "\n",
    "with tqdm(total=n_epoch) as pbar:\n",
    "    for epoch in range(1, n_epoch + 1):\n",
    "        torch.save({\n",
    "            'model_state_dict': model.state_dict(),\n",
    "            'optimizer_state_dict': optimizer.state_dict()\n",
    "        }, CHECKPOINT_PATH)\n",
    "\n",
    "        train_losses = train(model, epoch, log_interval, writer)\n",
    "        losses.extend(train_losses)\n",
    "\n",
    "        accuracy = test(model, epoch, writer)\n",
    "        accuracies.append(accuracy)\n",
    "        scheduler.step()\n",
    "\n",
    "        # Early stopping\n",
    "        if len(accuracies) >= ACCURACY_MOVING_AVERAGE_SIZE + 1:\n",
    "            is_performance_degraded = np.mean(accuracies[-ACCURACY_MOVING_AVERAGE_SIZE - 1:-1]) > np.mean(accuracies[-ACCURACY_MOVING_AVERAGE_SIZE:])\n",
    "            if is_performance_degraded:\n",
    "                # Reload the last non-degraded checkpoint\n",
    "                checkpoint = torch.load(CHECKPOINT_PATH)\n",
    "                model.load_state_dict(checkpoint['model_state_dict'])\n",
    "                optimizer.load_state_dict(checkpoint['optimizer_state_dict'])\n",
    "                break\n",
    "\n",
    "\n",
    "# Let's plot the training loss versus the number of iteration.\n",
    "# plt.plot(losses);\n",
    "# plt.title(\"training loss\");"
   ],
   "metadata": {
    "collapsed": false,
    "pycharm": {
     "name": "#%%\n"
    }
   }
  }
 ],
 "metadata": {
  "kernelspec": {
   "display_name": "Python 3",
   "language": "python",
   "name": "python3"
  },
  "language_info": {
   "codemirror_mode": {
    "name": "ipython",
    "version": 2
   },
   "file_extension": ".py",
   "mimetype": "text/x-python",
   "name": "python",
   "nbconvert_exporter": "python",
   "pygments_lexer": "ipython2",
   "version": "2.7.6"
  }
 },
 "nbformat": 4,
 "nbformat_minor": 0
}