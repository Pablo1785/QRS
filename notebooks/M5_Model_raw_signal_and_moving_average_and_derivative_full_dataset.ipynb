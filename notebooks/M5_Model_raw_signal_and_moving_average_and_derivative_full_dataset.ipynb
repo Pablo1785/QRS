{
 "cells": [
  {
   "cell_type": "code",
   "execution_count": 1,
   "outputs": [],
   "source": [
    "import os\n",
    "import random\n",
    "\n",
    "import numpy as np\n",
    "import torch\n",
    "import torch.nn as nn\n",
    "import torch.nn.functional as F\n",
    "import torch.optim as optim\n",
    "import torchaudio\n",
    "import sys\n",
    "\n",
    "import matplotlib.pyplot as plt\n",
    "import IPython.display as ipd\n",
    "\n",
    "from tqdm import tqdm\n",
    "\n",
    "from common import *\n",
    "from dataset import ArrhythmiaDataset\n",
    "\n",
    "from sklearn.metrics import confusion_matrix\n",
    "import seaborn as sn\n",
    "import pandas as pd\n",
    "\n",
    "from torch.utils.tensorboard import SummaryWriter\n",
    "\n",
    "\n",
    "RECORD_DIR_PATH = '../data/mit-bih-arrhythmia-database-1.0.0'\n",
    "WINDOW_SIZE = 540\n",
    "MOVING_AVERAGE_RANGE = None\n",
    "USE_CLASSES_FROM_MANUAL_LABELS = True\n",
    "SUBSET_FROM_MANUAL_LABELS = False\n",
    "INCLUDE_MANUAL_LABELS = False\n",
    "INCLUDE_RAW_SIGNAL = True\n",
    "INCLUDE_DERIVATIVE = False\n",
    "\n",
    "CLASSES = ['N', 'L', 'R', 'a', 'V', 'J', 'F'] if USE_CLASSES_FROM_MANUAL_LABELS else ['N', 'L', 'R', 'A', 'a', 'V', 'j', 'J', 'E', 'f', 'F', '[', '!', ']', '/', 'x', '|', 'Q']\n",
    "\n",
    "batch_size = 256\n",
    "n_epoch = 300\n",
    "\n",
    "RUN_NAME = ''\n",
    "if INCLUDE_RAW_SIGNAL:\n",
    "    RUN_NAME += 'raw_signal'\n",
    "\n",
    "if MOVING_AVERAGE_RANGE:\n",
    "    if RUN_NAME:\n",
    "        RUN_NAME += '_and_'\n",
    "    RUN_NAME += f'moving_average-{MOVING_AVERAGE_RANGE}'\n",
    "\n",
    "if INCLUDE_DERIVATIVE:\n",
    "    if RUN_NAME:\n",
    "        RUN_NAME += '_and_'\n",
    "    RUN_NAME += 'derivative'\n",
    "\n",
    "if INCLUDE_MANUAL_LABELS:\n",
    "    if RUN_NAME:\n",
    "        RUN_NAME += '_and_'\n",
    "    RUN_NAME += '11_points'\n",
    "\n",
    "if RUN_NAME:\n",
    "    RUN_NAME += '_and_'\n",
    "\n",
    "    if SUBSET_FROM_MANUAL_LABELS:\n",
    "        RUN_NAME += 'reduced_dataset'\n",
    "    else:\n",
    "        RUN_NAME += 'full_dataset'\n",
    "\n",
    "if RUN_NAME:\n",
    "    RUN_NAME += '_and_'\n",
    "\n",
    "    if USE_CLASSES_FROM_MANUAL_LABELS:\n",
    "        RUN_NAME += 'reduced_labels'\n",
    "    else:\n",
    "        RUN_NAME += 'all_labels'\n",
    "\n",
    "CHECKPOINT_PATH = f'../models/{RUN_NAME} - checkpoint.pt'\n",
    "ACCURACY_MOVING_AVERAGE_SIZE = 30  # moving average for accuracy to check if performance degraded\n",
    "\n",
    "\n",
    "# TODO: S, e - need some preprocessing, dimensions seem to be wrong in one of these\n",
    "# TODO: Q - of course, quite confusing, this is the most confused beat in confusion matrices"
   ],
   "metadata": {
    "collapsed": false,
    "pycharm": {
     "name": "#%%\n"
    }
   }
  },
  {
   "cell_type": "code",
   "execution_count": 2,
   "outputs": [
    {
     "name": "stdout",
     "output_type": "stream",
     "text": [
      "cuda\n"
     ]
    }
   ],
   "source": [
    "device = torch.device(\"cuda\" if torch.cuda.is_available() else \"cpu\")\n",
    "print(device)"
   ],
   "metadata": {
    "collapsed": false,
    "pycharm": {
     "name": "#%%\n"
    }
   }
  },
  {
   "cell_type": "code",
   "execution_count": 3,
   "outputs": [],
   "source": [
    "# Randomness seed\n",
    "random_seed = 1 # or any of your favorite number\n",
    "torch.manual_seed(random_seed)\n",
    "torch.cuda.manual_seed(random_seed)\n",
    "torch.backends.cudnn.deterministic = True\n",
    "torch.backends.cudnn.benchmark = False\n",
    "np.random.seed(random_seed)"
   ],
   "metadata": {
    "collapsed": false,
    "pycharm": {
     "name": "#%%\n"
    }
   }
  },
  {
   "cell_type": "code",
   "execution_count": 4,
   "outputs": [
    {
     "name": "stdout",
     "output_type": "stream",
     "text": [
      "filename='100.atr' patient_record_number=100\n",
      "beat_slice_array.shape=(2240, 1080) beat_slices.shape=torch.Size([2240, 1080])\n",
      "filename='124.atr' patient_record_number=124\n",
      "beat_slice_array.shape=(1612, 1080) beat_slices.shape=torch.Size([1612, 1080])\n",
      "self.data.shape=torch.Size([2240, 1080]) beat_slices.shape=torch.Size([1612, 1080])\n",
      "filename='219.atr' patient_record_number=219\n",
      "beat_slice_array.shape=(2147, 1080) beat_slices.shape=torch.Size([2147, 1080])\n",
      "self.data.shape=torch.Size([3852, 1080]) beat_slices.shape=torch.Size([2147, 1080])\n",
      "filename='112.atr' patient_record_number=112\n",
      "beat_slice_array.shape=(2537, 1080) beat_slices.shape=torch.Size([2537, 1080])\n",
      "self.data.shape=torch.Size([5999, 1080]) beat_slices.shape=torch.Size([2537, 1080])\n",
      "filename='119.atr' patient_record_number=119\n",
      "beat_slice_array.shape=(1987, 1080) beat_slices.shape=torch.Size([1987, 1080])\n",
      "self.data.shape=torch.Size([8536, 1080]) beat_slices.shape=torch.Size([1987, 1080])\n",
      "filename='209.atr' patient_record_number=209\n",
      "beat_slice_array.shape=(2622, 1080) beat_slices.shape=torch.Size([2622, 1080])\n",
      "self.data.shape=torch.Size([10523, 1080]) beat_slices.shape=torch.Size([2622, 1080])\n",
      "filename='123.atr' patient_record_number=123\n",
      "beat_slice_array.shape=(1518, 1080) beat_slices.shape=torch.Size([1518, 1080])\n",
      "self.data.shape=torch.Size([13145, 1080]) beat_slices.shape=torch.Size([1518, 1080])\n",
      "filename='212.atr' patient_record_number=212\n",
      "beat_slice_array.shape=(2748, 1080) beat_slices.shape=torch.Size([2748, 1080])\n",
      "self.data.shape=torch.Size([14663, 1080]) beat_slices.shape=torch.Size([2748, 1080])\n",
      "filename='222.atr' patient_record_number=222\n",
      "beat_slice_array.shape=(2063, 1080) beat_slices.shape=torch.Size([2063, 1080])\n",
      "self.data.shape=torch.Size([17411, 1080]) beat_slices.shape=torch.Size([2063, 1080])\n",
      "filename='103.atr' patient_record_number=103\n",
      "beat_slice_array.shape=(2082, 1080) beat_slices.shape=torch.Size([2082, 1080])\n",
      "self.data.shape=torch.Size([19474, 1080]) beat_slices.shape=torch.Size([2082, 1080])\n",
      "filename='214.atr' patient_record_number=214\n",
      "beat_slice_array.shape=(2260, 1080) beat_slices.shape=torch.Size([2260, 1080])\n",
      "self.data.shape=torch.Size([21556, 1080]) beat_slices.shape=torch.Size([2260, 1080])\n",
      "filename='111.atr' patient_record_number=111\n",
      "beat_slice_array.shape=(2124, 1080) beat_slices.shape=torch.Size([2124, 1080])\n",
      "self.data.shape=torch.Size([23816, 1080]) beat_slices.shape=torch.Size([2124, 1080])\n",
      "filename='228.atr' patient_record_number=228\n",
      "beat_slice_array.shape=(2050, 1080) beat_slices.shape=torch.Size([2050, 1080])\n",
      "self.data.shape=torch.Size([25940, 1080]) beat_slices.shape=torch.Size([2050, 1080])\n",
      "filename='208.atr' patient_record_number=208\n",
      "beat_slice_array.shape=(2951, 1080) beat_slices.shape=torch.Size([2951, 1080])\n",
      "self.data.shape=torch.Size([27990, 1080]) beat_slices.shape=torch.Size([2951, 1080])\n",
      "filename='117.atr' patient_record_number=117\n",
      "beat_slice_array.shape=(1534, 1080) beat_slices.shape=torch.Size([1534, 1080])\n",
      "self.data.shape=torch.Size([30941, 1080]) beat_slices.shape=torch.Size([1534, 1080])\n",
      "filename='210.atr' patient_record_number=210\n",
      "beat_slice_array.shape=(2649, 1080) beat_slices.shape=torch.Size([2649, 1080])\n",
      "self.data.shape=torch.Size([32475, 1080]) beat_slices.shape=torch.Size([2649, 1080])\n",
      "filename='221.atr' patient_record_number=221\n",
      "beat_slice_array.shape=(2427, 1080) beat_slices.shape=torch.Size([2427, 1080])\n",
      "self.data.shape=torch.Size([35124, 1080]) beat_slices.shape=torch.Size([2427, 1080])\n",
      "filename='101.atr' patient_record_number=101\n",
      "beat_slice_array.shape=(1860, 1080) beat_slices.shape=torch.Size([1860, 1080])\n",
      "self.data.shape=torch.Size([37551, 1080]) beat_slices.shape=torch.Size([1860, 1080])\n",
      "filename='201.atr' patient_record_number=201\n",
      "beat_slice_array.shape=(1923, 1080) beat_slices.shape=torch.Size([1923, 1080])\n",
      "self.data.shape=torch.Size([39411, 1080]) beat_slices.shape=torch.Size([1923, 1080])\n",
      "filename='207.atr' patient_record_number=207\n",
      "beat_slice_array.shape=(1648, 1080) beat_slices.shape=torch.Size([1648, 1080])\n",
      "self.data.shape=torch.Size([41334, 1080]) beat_slices.shape=torch.Size([1648, 1080])\n",
      "filename='231.atr' patient_record_number=231\n",
      "beat_slice_array.shape=(1570, 1080) beat_slices.shape=torch.Size([1570, 1080])\n",
      "self.data.shape=torch.Size([42982, 1080]) beat_slices.shape=torch.Size([1570, 1080])\n",
      "filename='121.atr' patient_record_number=121\n",
      "beat_slice_array.shape=(1862, 1080) beat_slices.shape=torch.Size([1862, 1080])\n",
      "self.data.shape=torch.Size([44552, 1080]) beat_slices.shape=torch.Size([1862, 1080])\n",
      "filename='232.atr' patient_record_number=232\n",
      "beat_slice_array.shape=(397, 1080) beat_slices.shape=torch.Size([397, 1080])\n",
      "self.data.shape=torch.Size([46414, 1080]) beat_slices.shape=torch.Size([397, 1080])\n",
      "filename='203.atr' patient_record_number=203\n",
      "beat_slice_array.shape=(2976, 1080) beat_slices.shape=torch.Size([2976, 1080])\n",
      "self.data.shape=torch.Size([46811, 1080]) beat_slices.shape=torch.Size([2976, 1080])\n",
      "filename='105.atr' patient_record_number=105\n",
      "beat_slice_array.shape=(2567, 1080) beat_slices.shape=torch.Size([2567, 1080])\n",
      "self.data.shape=torch.Size([49787, 1080]) beat_slices.shape=torch.Size([2567, 1080])\n",
      "filename='213.atr' patient_record_number=213\n",
      "beat_slice_array.shape=(3226, 1080) beat_slices.shape=torch.Size([3226, 1080])\n",
      "self.data.shape=torch.Size([52354, 1080]) beat_slices.shape=torch.Size([3226, 1080])\n",
      "filename='122.atr' patient_record_number=122\n",
      "beat_slice_array.shape=(2476, 1080) beat_slices.shape=torch.Size([2476, 1080])\n",
      "self.data.shape=torch.Size([55580, 1080]) beat_slices.shape=torch.Size([2476, 1080])\n",
      "filename='233.atr' patient_record_number=233\n",
      "beat_slice_array.shape=(3072, 1080) beat_slices.shape=torch.Size([3072, 1080])\n",
      "self.data.shape=torch.Size([58056, 1080]) beat_slices.shape=torch.Size([3072, 1080])\n",
      "filename='223.atr' patient_record_number=223\n",
      "beat_slice_array.shape=(2517, 1080) beat_slices.shape=torch.Size([2517, 1080])\n",
      "self.data.shape=torch.Size([61128, 1080]) beat_slices.shape=torch.Size([2517, 1080])\n",
      "filename='114.atr' patient_record_number=114\n",
      "beat_slice_array.shape=(1869, 1080) beat_slices.shape=torch.Size([1869, 1080])\n",
      "self.data.shape=torch.Size([63645, 1080]) beat_slices.shape=torch.Size([1869, 1080])\n",
      "filename='108.atr' patient_record_number=108\n",
      "beat_slice_array.shape=(1758, 1080) beat_slices.shape=torch.Size([1758, 1080])\n",
      "self.data.shape=torch.Size([65514, 1080]) beat_slices.shape=torch.Size([1758, 1080])\n",
      "filename='215.atr' patient_record_number=215\n",
      "beat_slice_array.shape=(3360, 1080) beat_slices.shape=torch.Size([3360, 1080])\n",
      "self.data.shape=torch.Size([67272, 1080]) beat_slices.shape=torch.Size([3360, 1080])\n",
      "filename='109.atr' patient_record_number=109\n",
      "beat_slice_array.shape=(2532, 1080) beat_slices.shape=torch.Size([2532, 1080])\n",
      "self.data.shape=torch.Size([70632, 1080]) beat_slices.shape=torch.Size([2532, 1080])\n",
      "filename='113.atr' patient_record_number=113\n",
      "beat_slice_array.shape=(1795, 1080) beat_slices.shape=torch.Size([1795, 1080])\n",
      "self.data.shape=torch.Size([73164, 1080]) beat_slices.shape=torch.Size([1795, 1080])\n",
      "filename='115.atr' patient_record_number=115\n",
      "beat_slice_array.shape=(1953, 1080) beat_slices.shape=torch.Size([1953, 1080])\n",
      "self.data.shape=torch.Size([74959, 1080]) beat_slices.shape=torch.Size([1953, 1080])\n",
      "filename='104.atr' patient_record_number=104\n",
      "beat_slice_array.shape=(165, 1080) beat_slices.shape=torch.Size([165, 1080])\n",
      "self.data.shape=torch.Size([76912, 1080]) beat_slices.shape=torch.Size([165, 1080])\n",
      "filename='102.atr' patient_record_number=102\n",
      "beat_slice_array.shape=(103, 1080) beat_slices.shape=torch.Size([103, 1080])\n",
      "self.data.shape=torch.Size([77077, 1080]) beat_slices.shape=torch.Size([103, 1080])\n",
      "filename='118.atr' patient_record_number=118\n",
      "beat_slice_array.shape=(2182, 1080) beat_slices.shape=torch.Size([2182, 1080])\n",
      "self.data.shape=torch.Size([77180, 1080]) beat_slices.shape=torch.Size([2182, 1080])\n",
      "filename='217.atr' patient_record_number=217\n",
      "beat_slice_array.shape=(406, 1080) beat_slices.shape=torch.Size([406, 1080])\n",
      "self.data.shape=torch.Size([79362, 1080]) beat_slices.shape=torch.Size([406, 1080])\n",
      "filename='205.atr' patient_record_number=205\n",
      "beat_slice_array.shape=(2653, 1080) beat_slices.shape=torch.Size([2653, 1080])\n",
      "self.data.shape=torch.Size([79768, 1080]) beat_slices.shape=torch.Size([2653, 1080])\n",
      "filename='200.atr' patient_record_number=200\n",
      "beat_slice_array.shape=(2571, 1080) beat_slices.shape=torch.Size([2571, 1080])\n",
      "self.data.shape=torch.Size([82421, 1080]) beat_slices.shape=torch.Size([2571, 1080])\n",
      "filename='202.atr' patient_record_number=202\n",
      "beat_slice_array.shape=(2100, 1080) beat_slices.shape=torch.Size([2100, 1080])\n",
      "self.data.shape=torch.Size([84992, 1080]) beat_slices.shape=torch.Size([2100, 1080])\n",
      "filename='220.atr' patient_record_number=220\n",
      "beat_slice_array.shape=(1954, 1080) beat_slices.shape=torch.Size([1954, 1080])\n",
      "self.data.shape=torch.Size([87092, 1080]) beat_slices.shape=torch.Size([1954, 1080])\n",
      "filename='106.atr' patient_record_number=106\n",
      "beat_slice_array.shape=(2027, 1080) beat_slices.shape=torch.Size([2027, 1080])\n",
      "self.data.shape=torch.Size([89046, 1080]) beat_slices.shape=torch.Size([2027, 1080])\n",
      "filename='107.atr' patient_record_number=107\n",
      "beat_slice_array.shape=(59, 1080) beat_slices.shape=torch.Size([59, 1080])\n",
      "self.data.shape=torch.Size([91073, 1080]) beat_slices.shape=torch.Size([59, 1080])\n",
      "filename='234.atr' patient_record_number=234\n",
      "beat_slice_array.shape=(2753, 1080) beat_slices.shape=torch.Size([2753, 1080])\n",
      "self.data.shape=torch.Size([91132, 1080]) beat_slices.shape=torch.Size([2753, 1080])\n",
      "filename='230.atr' patient_record_number=230\n",
      "beat_slice_array.shape=(2256, 1080) beat_slices.shape=torch.Size([2256, 1080])\n",
      "self.data.shape=torch.Size([93885, 1080]) beat_slices.shape=torch.Size([2256, 1080])\n",
      "filename='116.atr' patient_record_number=116\n",
      "beat_slice_array.shape=(2411, 1080) beat_slices.shape=torch.Size([2411, 1080])\n",
      "self.data.shape=torch.Size([96141, 1080]) beat_slices.shape=torch.Size([2411, 1080])\n",
      "torch.Size([98552, 1080])\n",
      "98552\n"
     ]
    }
   ],
   "source": [
    "dataset = ArrhythmiaDataset(RECORD_DIR_PATH, WINDOW_SIZE, only_include_labels = CLASSES, moving_average_range = MOVING_AVERAGE_RANGE, include_manual_labels = INCLUDE_MANUAL_LABELS, subset_from_manual_labels = SUBSET_FROM_MANUAL_LABELS, include_raw_signal =\n",
    "INCLUDE_RAW_SIGNAL, include_derivative = INCLUDE_DERIVATIVE)\n",
    "\n",
    "print(dataset.data.shape)\n",
    "print(len(dataset.labels))"
   ],
   "metadata": {
    "collapsed": false,
    "pycharm": {
     "name": "#%%\n"
    }
   }
  },
  {
   "cell_type": "code",
   "execution_count": 5,
   "outputs": [
    {
     "name": "stdout",
     "output_type": "stream",
     "text": [
      "a: 150\n",
      "L: 8075\n",
      "N: 75052\n",
      "V: 7130\n",
      "J: 83\n",
      "R: 7259\n",
      "F: 803\n"
     ]
    }
   ],
   "source": [
    "labels, counts = torch.unique(dataset.labels_encoded, dim = 0, return_counts = True)\n",
    "\n",
    "for label, count in zip(labels, counts):\n",
    "    print(f'{dataset.get_label_from_tensor(label)}: {count}')\n"
   ],
   "metadata": {
    "collapsed": false,
    "pycharm": {
     "name": "#%%\n"
    }
   }
  },
  {
   "cell_type": "code",
   "execution_count": 6,
   "outputs": [
    {
     "name": "stdout",
     "output_type": "stream",
     "text": [
      "torch.Size([30985, 1080])\n",
      "30985\n",
      "a: 150\n",
      "L: 8075\n",
      "N: 7485\n",
      "V: 7130\n",
      "J: 83\n",
      "R: 7259\n",
      "F: 803\n"
     ]
    }
   ],
   "source": [
    "# Drop some Normal beats to balance classes\n",
    "normal_beat_mask = np.array(dataset.labels) == 'N'\n",
    "\n",
    "new_labels = []\n",
    "for idx, l in enumerate(normal_beat_mask):\n",
    "    # Leave 10% samples in (currently theres 75k samples, while other popular classes are at about 8k)\n",
    "    if l and random.uniform(0, 1) < 0.1:\n",
    "        normal_beat_mask[idx] = False\n",
    "    if not normal_beat_mask[idx]:\n",
    "        new_labels.append(dataset.labels[idx])\n",
    "\n",
    "new_data = dataset.data[normal_beat_mask == False]\n",
    "dataset.data = new_data\n",
    "dataset.labels = new_labels\n",
    "dataset.encode_labels()\n",
    "\n",
    "def show_class_count(dataset: ArrhythmiaDataset):\n",
    "    print(dataset.data.shape)\n",
    "    print(len(dataset.labels))\n",
    "    labels, counts = torch.unique(dataset.labels_encoded, dim = 0, return_counts = True)\n",
    "\n",
    "    for label, count in zip(labels, counts):\n",
    "        print(f'{dataset.get_label_from_tensor(label)}: {count}')\n",
    "\n",
    "show_class_count(dataset)"
   ],
   "metadata": {
    "collapsed": false,
    "pycharm": {
     "name": "#%%\n"
    }
   }
  },
  {
   "cell_type": "code",
   "execution_count": 7,
   "outputs": [],
   "source": [
    "num_channels = 1 if len(dataset.data.shape) == 2 else dataset.data.shape[1]"
   ],
   "metadata": {
    "collapsed": false,
    "pycharm": {
     "name": "#%%\n"
    }
   }
  },
  {
   "cell_type": "code",
   "execution_count": 8,
   "outputs": [
    {
     "name": "stdout",
     "output_type": "stream",
     "text": [
      "TRAIN DATASET:\n",
      "torch.Size([24788, 1080])\n",
      "0\n",
      "a: 120\n",
      "L: 6460\n",
      "N: 5988\n",
      "V: 5704\n",
      "J: 67\n",
      "R: 5807\n",
      "F: 642\n",
      "TEST DATASET:\n",
      "torch.Size([6197, 1080])\n",
      "0\n",
      "a: 30\n",
      "L: 1615\n",
      "N: 1497\n",
      "V: 1426\n",
      "J: 16\n",
      "R: 1452\n",
      "F: 161\n"
     ]
    }
   ],
   "source": [
    "def collate_fn(batch):\n",
    "\n",
    "    # A data tuple has the form:\n",
    "    # waveform, one-hot-encoded_label\n",
    "\n",
    "    tensors, targets = [], []\n",
    "\n",
    "    # Gather in lists, and encode labels as indices\n",
    "    for waveform, label in batch:\n",
    "        tensors += [waveform]\n",
    "        targets += [label]\n",
    "\n",
    "    # Group the list of tensors into a batched tensor\n",
    "    tensors = torch.stack(tensors)\n",
    "\n",
    "    if num_channels == 1:\n",
    "        # Introduce an empty axis as the single channel\n",
    "        tensors = tensors[:, None, :]\n",
    "    else:\n",
    "        tensors = tensors[:, :]\n",
    "    targets = torch.stack(targets)\n",
    "\n",
    "    return tensors, targets\n",
    "\n",
    "\n",
    "if device == \"cuda\":\n",
    "    num_workers = 1\n",
    "    pin_memory = True\n",
    "else:\n",
    "    num_workers = 0\n",
    "    pin_memory = False\n",
    "\n",
    "train_dataset, test_dataset = dataset.train_test_split(0.2)\n",
    "train_loader = torch.utils.data.DataLoader(\n",
    "    train_dataset,\n",
    "    batch_size=batch_size,\n",
    "    shuffle=True,\n",
    "    collate_fn=collate_fn,\n",
    "    num_workers=num_workers,\n",
    "    pin_memory=pin_memory,\n",
    ")\n",
    "test_loader = torch.utils.data.DataLoader(\n",
    "    test_dataset,\n",
    "    batch_size=batch_size,\n",
    "    shuffle=False,\n",
    "    drop_last=False,\n",
    "    collate_fn=collate_fn,\n",
    "    num_workers=num_workers,\n",
    "    pin_memory=pin_memory,\n",
    ")\n",
    "\n",
    "print('TRAIN DATASET:')\n",
    "show_class_count(train_dataset)\n",
    "\n",
    "print('TEST DATASET:')\n",
    "show_class_count(test_dataset)"
   ],
   "metadata": {
    "collapsed": false,
    "pycharm": {
     "name": "#%%\n"
    }
   }
  },
  {
   "cell_type": "code",
   "execution_count": 9,
   "outputs": [
    {
     "name": "stdout",
     "output_type": "stream",
     "text": [
      "M5(\n",
      "  (conv1): Conv1d(1, 32, kernel_size=(3,), stride=(1,))\n",
      "  (bn1): BatchNorm1d(32, eps=1e-05, momentum=0.1, affine=True, track_running_stats=True)\n",
      "  (pool1): MaxPool1d(kernel_size=2, stride=2, padding=0, dilation=1, ceil_mode=False)\n",
      "  (conv2): Conv1d(32, 32, kernel_size=(3,), stride=(1,))\n",
      "  (bn2): BatchNorm1d(32, eps=1e-05, momentum=0.1, affine=True, track_running_stats=True)\n",
      "  (pool2): MaxPool1d(kernel_size=2, stride=2, padding=0, dilation=1, ceil_mode=False)\n",
      "  (conv3): Conv1d(32, 32, kernel_size=(3,), stride=(1,))\n",
      "  (bn3): BatchNorm1d(32, eps=1e-05, momentum=0.1, affine=True, track_running_stats=True)\n",
      "  (pool3): MaxPool1d(kernel_size=3, stride=3, padding=0, dilation=1, ceil_mode=False)\n",
      "  (conv4): Conv1d(32, 64, kernel_size=(3,), stride=(1,))\n",
      "  (bn4): BatchNorm1d(64, eps=1e-05, momentum=0.1, affine=True, track_running_stats=True)\n",
      "  (pool4): MaxPool1d(kernel_size=3, stride=3, padding=0, dilation=1, ceil_mode=False)\n",
      "  (conv5): Conv1d(64, 64, kernel_size=(3,), stride=(1,))\n",
      "  (bn5): BatchNorm1d(64, eps=1e-05, momentum=0.1, affine=True, track_running_stats=True)\n",
      "  (pool5): MaxPool1d(kernel_size=3, stride=3, padding=0, dilation=1, ceil_mode=False)\n",
      "  (conv6): Conv1d(64, 64, kernel_size=(3,), stride=(1,))\n",
      "  (bn6): BatchNorm1d(64, eps=1e-05, momentum=0.1, affine=True, track_running_stats=True)\n",
      "  (pool6): MaxPool1d(kernel_size=3, stride=3, padding=0, dilation=1, ceil_mode=False)\n",
      "  (fc1): Linear(in_features=64, out_features=32, bias=True)\n",
      "  (fc2): Linear(in_features=32, out_features=7, bias=True)\n",
      ")\n",
      "Number of parameters: 40135\n"
     ]
    }
   ],
   "source": [
    "class M5(nn.Module):\n",
    "    def __init__(self, n_input=1, n_output=35, stride=1, n_channel=32):\n",
    "        super().__init__()\n",
    "        self.conv1 = nn.Conv1d(n_input, n_channel, kernel_size=3, stride=stride)\n",
    "        self.bn1 = nn.BatchNorm1d(n_channel)\n",
    "        self.pool1 = nn.MaxPool1d(2)\n",
    "        self.conv2 = nn.Conv1d(n_channel, n_channel, kernel_size=3)\n",
    "        self.bn2 = nn.BatchNorm1d(n_channel)\n",
    "        self.pool2 = nn.MaxPool1d(2)\n",
    "        self.conv3 = nn.Conv1d(n_channel, n_channel, kernel_size=3)\n",
    "        self.bn3 = nn.BatchNorm1d(n_channel)\n",
    "        self.pool3 = nn.MaxPool1d(3)\n",
    "        self.conv4 = nn.Conv1d(n_channel, 2 * n_channel, kernel_size=3)\n",
    "        self.bn4 = nn.BatchNorm1d(2 * n_channel)\n",
    "        self.pool4 = nn.MaxPool1d(3)\n",
    "        self.conv5 = nn.Conv1d(2 * n_channel, 2 * n_channel, kernel_size=3)\n",
    "        self.bn5 = nn.BatchNorm1d(2 * n_channel)\n",
    "        self.pool5 = nn.MaxPool1d(3)\n",
    "        self.conv6 = nn.Conv1d(2 * n_channel, 2 * n_channel, kernel_size=3)\n",
    "        self.bn6 = nn.BatchNorm1d(2 * n_channel)\n",
    "        self.pool6 = nn.MaxPool1d(3)\n",
    "        self.fc1 = nn.Linear(2 * n_channel, n_channel)\n",
    "        self.fc2 = nn.Linear(n_channel, n_output)\n",
    "\n",
    "    def forward(self, x):\n",
    "        # print(f'CONV1 INPUT SHAPE: {x.shape}')\n",
    "        x = self.conv1(x)\n",
    "        # print(f'CONV1 OUTPUT SHAPE: {x.shape}')\n",
    "        x = F.relu(self.bn1(x))\n",
    "        # print(f'POOL1 INPUT SHAPE: {x.shape}')\n",
    "        x = self.pool1(x)\n",
    "        # print(f'POOL1 OUTPUT SHAPE: {x.shape}')\n",
    "        x = self.conv2(x)\n",
    "        x = F.relu(self.bn2(x))\n",
    "        # print(f'POOL2 INPUT SHAPE: {x.shape}')\n",
    "        x = self.pool2(x)\n",
    "        # print(f'POOL2 OUTPUT SHAPE: {x.shape}')\n",
    "        x = self.conv3(x)\n",
    "        x = F.relu(self.bn3(x))\n",
    "        # print(f'POOL3 INPUT SHAPE: {x.shape}')\n",
    "        x = self.pool3(x)\n",
    "        # print(f'POOL3 OUTPUT SHAPE: {x.shape}')\n",
    "        x = self.conv4(x)\n",
    "        # print(f'BATCHNORM4 INPUT SHAPE: {x.shape}')\n",
    "        x = F.relu(self.bn4(x))\n",
    "        # print(f'POOL4 INPUT SHAPE: {x.shape}')\n",
    "        x = self.pool4(x)\n",
    "        # print(f'POOL4 OUTPUT SHAPE: {x.shape}')\n",
    "        x = self.conv5(x)\n",
    "        # print(f'BATCHNORM5 INPUT SHAPE: {x.shape}')\n",
    "        x = F.relu(self.bn5(x))\n",
    "        # print(f'POOL5 INPUT SHAPE: {x.shape}')\n",
    "        x = self.pool5(x)\n",
    "        # print(f'POOL5 OUTPUT SHAPE: {x.shape}')\n",
    "        x = self.conv6(x)\n",
    "        # print(f'BATCHNORM6 INPUT SHAPE: {x.shape}')\n",
    "        x = F.relu(self.bn6(x))\n",
    "        # print(f'POOL6 INPUT SHAPE: {x.shape}')\n",
    "        x = self.pool6(x)\n",
    "        # print(f'POOL6 OUTPUT SHAPE: {x.shape}')\n",
    "        x = F.avg_pool1d(x, x.shape[-1])\n",
    "        x = x.permute(0, 2, 1)\n",
    "        x = F.relu(self.fc1(x))\n",
    "        x = self.fc2(x)\n",
    "        return F.log_softmax(x, dim=2)\n",
    "\n",
    "\n",
    "model = M5(n_input = num_channels, n_output = len(set(dataset.labels)))\n",
    "model.double().to(device)\n",
    "print(model)\n",
    "\n",
    "\n",
    "def count_parameters(model):\n",
    "    return sum(p.numel() for p in model.parameters() if p.requires_grad)\n",
    "\n",
    "\n",
    "n = count_parameters(model)\n",
    "print(\"Number of parameters: %s\" % n)"
   ],
   "metadata": {
    "collapsed": false,
    "pycharm": {
     "name": "#%%\n"
    }
   }
  },
  {
   "cell_type": "code",
   "execution_count": 10,
   "outputs": [],
   "source": [
    "optimizer = optim.Adam(model.parameters(), lr=3e-4, weight_decay=0.0001)\n",
    "# scheduler = optim.lr_scheduler.StepLR(optimizer, step_size=10, gamma=0.7)  # reduce the learning after 20 epochs by a factor\n",
    "scheduler = optim.lr_scheduler.ReduceLROnPlateau(optimizer, mode = 'min', factor = 0.1, patience = 7, verbose = True)  # reduce learning after 7 epochs with no improvement"
   ],
   "metadata": {
    "collapsed": false,
    "pycharm": {
     "name": "#%%\n"
    }
   }
  },
  {
   "cell_type": "code",
   "execution_count": 11,
   "outputs": [],
   "source": [
    "def train(model, epoch, log_interval, writer: SummaryWriter):\n",
    "    train_losses = []\n",
    "    model.train()\n",
    "    for batch_idx, (data, target) in enumerate(train_loader):\n",
    "\n",
    "        data = data.to(device)\n",
    "        # print(f'DATA SHAPE: {data.shape}')\n",
    "        target = target.to(device)\n",
    "\n",
    "        # apply transform and model on whole batch directly on device\n",
    "        output = model(data)\n",
    "\n",
    "        # negative log-likelihood for a tensor of size (batch x 1 x n_output)\n",
    "        squeezed_output = output.squeeze()\n",
    "        loss = F.nll_loss(squeezed_output, target.argmax(dim = 1))\n",
    "\n",
    "        writer.add_scalar('Train loss', loss.item(), epoch * len(train_loader.dataset) + batch_idx)\n",
    "\n",
    "        optimizer.zero_grad()\n",
    "        loss.backward()\n",
    "        optimizer.step()\n",
    "\n",
    "        # print training stats\n",
    "        if batch_idx % log_interval == 0:\n",
    "            print(f\"Train Epoch: {epoch} [{batch_idx * len(data)}/{len(train_loader.dataset)} ({100. * batch_idx / len(train_loader):.0f}%)]\\tLoss: {loss.item():.6f}\")\n",
    "\n",
    "        # update progress bar\n",
    "        pbar.update(pbar_update)\n",
    "        # record loss\n",
    "        train_losses.append(loss.item())\n",
    "    return train_losses"
   ],
   "metadata": {
    "collapsed": false,
    "pycharm": {
     "name": "#%%\n"
    }
   }
  },
  {
   "cell_type": "code",
   "execution_count": 12,
   "outputs": [],
   "source": [
    "from sklearn.metrics import (\n",
    "    accuracy_score,\n",
    "    f1_score,\n",
    "    precision_score,\n",
    "    recall_score\n",
    ")\n",
    "\n",
    "\n",
    "def number_of_correct(pred, target):\n",
    "    # count number of correct predictions\n",
    "    return pred.squeeze().eq(target).sum().item()\n",
    "\n",
    "\n",
    "def get_likely_index(tensor):\n",
    "    # find most likely label index for each element in the batch\n",
    "    return tensor.argmax(dim=-1)\n",
    "\n",
    "\n",
    "def test(model, epoch, writer: SummaryWriter):\n",
    "    model.eval()\n",
    "    correct = 0\n",
    "    y_true = []\n",
    "    y_pred = []\n",
    "    loss_sum = 0\n",
    "    for data, target in test_loader:\n",
    "\n",
    "        data = data.to(device)\n",
    "        target = target.to(device)\n",
    "\n",
    "        output = model(data)\n",
    "\n",
    "        squeezed_output = output.squeeze()\n",
    "        loss_sum += F.nll_loss(squeezed_output, target.argmax(dim = 1)).item()\n",
    "\n",
    "        pred = get_likely_index(output)\n",
    "        correct += number_of_correct(pred, target.argmax(dim = 1))\n",
    "\n",
    "        y_true.extend(pred.squeeze().data.cpu().numpy())\n",
    "        y_pred.extend(target.data.cpu().numpy().argmax(axis = 1))\n",
    "\n",
    "        # update progress bar\n",
    "        pbar.update(pbar_update)\n",
    "    accuracy = accuracy_score(y_true, y_pred)\n",
    "    precision = precision_score(y_true, y_pred, average='micro')\n",
    "    recall = recall_score(y_true, y_pred, average='micro')\n",
    "    f1 = f1_score(y_true, y_pred, average='micro')\n",
    "\n",
    "    writer.add_scalar('Test accuracy', accuracy, epoch)\n",
    "    writer.add_scalar('Test precision', precision, epoch)\n",
    "    writer.add_scalar('Test recall', recall, epoch)\n",
    "    writer.add_scalar('Test f1', f1, epoch)\n",
    "    writer.add_scalar('Test average loss', loss_sum / len(test_loader.dataset), epoch)\n",
    "\n",
    "    # Build confusion matrix\n",
    "    cf_matrix = confusion_matrix(y_true, y_pred)\n",
    "    df_cm = pd.DataFrame(cf_matrix, index = [i for i in CLASSES],\n",
    "                         columns = [i for i in CLASSES])\n",
    "    plt.figure(figsize = (12,7))\n",
    "    cf_matrix_figure = sn.heatmap(df_cm, annot=True).get_figure()\n",
    "    writer.add_figure('Test confusion matrix', cf_matrix_figure, epoch)\n",
    "\n",
    "    print(f\"\\nTest Epoch: {epoch}\\tAccuracy: {correct}/{len(test_loader.dataset)} ({accuracy:.4%})\\n\")\n",
    "    return accuracy, precision, recall, f1, loss_sum"
   ],
   "metadata": {
    "collapsed": false,
    "pycharm": {
     "name": "#%%\n"
    }
   }
  },
  {
   "cell_type": "code",
   "execution_count": 13,
   "outputs": [
    {
     "name": "stderr",
     "output_type": "stream",
     "text": [
      "  0%|          | 0.00819672131147541/300 [00:00<6:25:23, 77.08s/it]"
     ]
    },
    {
     "name": "stdout",
     "output_type": "stream",
     "text": [
      "Train Epoch: 1 [0/24788 (0%)]\tLoss: 1.887915\n"
     ]
    },
    {
     "name": "stderr",
     "output_type": "stream",
     "text": [
      "  0%|          | 0.18852459016393447/300 [00:03<1:21:45, 16.36s/it] "
     ]
    },
    {
     "name": "stdout",
     "output_type": "stream",
     "text": [
      "Train Epoch: 1 [5120/24788 (21%)]\tLoss: 1.384130\n"
     ]
    },
    {
     "name": "stderr",
     "output_type": "stream",
     "text": [
      "  0%|          | 0.35245901639344285/300 [00:06<1:21:41, 16.36s/it]"
     ]
    },
    {
     "name": "stdout",
     "output_type": "stream",
     "text": [
      "Train Epoch: 1 [10240/24788 (41%)]\tLoss: 1.061317\n"
     ]
    },
    {
     "name": "stderr",
     "output_type": "stream",
     "text": [
      "  0%|          | 0.5163934426229512/300 [00:09<1:21:56, 16.42s/it] "
     ]
    },
    {
     "name": "stdout",
     "output_type": "stream",
     "text": [
      "Train Epoch: 1 [15360/24788 (62%)]\tLoss: 0.784345\n"
     ]
    },
    {
     "name": "stderr",
     "output_type": "stream",
     "text": [
      "  0%|          | 0.6803278688524595/300 [00:12<1:22:25, 16.52s/it]"
     ]
    },
    {
     "name": "stdout",
     "output_type": "stream",
     "text": [
      "Train Epoch: 1 [20480/24788 (82%)]\tLoss: 0.579984\n"
     ]
    },
    {
     "name": "stderr",
     "output_type": "stream",
     "text": [
      "  0%|          | 0.9918032786885255/300 [00:15<30:04,  6.04s/it]  "
     ]
    },
    {
     "name": "stdout",
     "output_type": "stream",
     "text": [
      "\n",
      "Test Epoch: 1\tAccuracy: 5526/6197 (89.1722%)\n",
      "\n"
     ]
    },
    {
     "name": "stderr",
     "output_type": "stream",
     "text": [
      "  0%|          | 1.0163934426229515/300 [00:15<49:18,  9.90s/it]"
     ]
    },
    {
     "name": "stdout",
     "output_type": "stream",
     "text": [
      "Train Epoch: 2 [0/24788 (0%)]\tLoss: 0.362840\n"
     ]
    },
    {
     "name": "stderr",
     "output_type": "stream",
     "text": [
      "  0%|          | 1.188524590163933/300 [00:19<1:38:00, 19.68s/it] "
     ]
    },
    {
     "name": "stdout",
     "output_type": "stream",
     "text": [
      "Train Epoch: 2 [5120/24788 (21%)]\tLoss: 0.324363\n"
     ]
    },
    {
     "name": "stderr",
     "output_type": "stream",
     "text": [
      "  0%|          | 1.3524590163934391/300 [00:22<1:21:36, 16.39s/it]"
     ]
    },
    {
     "name": "stdout",
     "output_type": "stream",
     "text": [
      "Train Epoch: 2 [10240/24788 (41%)]\tLoss: 0.273502\n"
     ]
    },
    {
     "name": "stderr",
     "output_type": "stream",
     "text": [
      "  1%|          | 1.5163934426229453/300 [00:25<1:21:47, 16.44s/it]"
     ]
    },
    {
     "name": "stdout",
     "output_type": "stream",
     "text": [
      "Train Epoch: 2 [15360/24788 (62%)]\tLoss: 0.241693\n"
     ]
    },
    {
     "name": "stderr",
     "output_type": "stream",
     "text": [
      "  1%|          | 1.6803278688524514/300 [00:27<1:20:45, 16.24s/it]"
     ]
    },
    {
     "name": "stdout",
     "output_type": "stream",
     "text": [
      "Train Epoch: 2 [20480/24788 (82%)]\tLoss: 0.181589\n"
     ]
    },
    {
     "name": "stderr",
     "output_type": "stream",
     "text": [
      "  1%|          | 2.0081967213114638/300 [00:31<39:32,  7.96s/it]  "
     ]
    },
    {
     "name": "stdout",
     "output_type": "stream",
     "text": [
      "\n",
      "Test Epoch: 2\tAccuracy: 5879/6197 (94.8685%)\n",
      "\n",
      "Train Epoch: 3 [0/24788 (0%)]\tLoss: 0.189691\n"
     ]
    },
    {
     "name": "stderr",
     "output_type": "stream",
     "text": [
      "  1%|          | 2.1885245901639205/300 [00:34<1:21:00, 16.32s/it]"
     ]
    },
    {
     "name": "stdout",
     "output_type": "stream",
     "text": [
      "Train Epoch: 3 [5120/24788 (21%)]\tLoss: 0.127978\n"
     ]
    },
    {
     "name": "stderr",
     "output_type": "stream",
     "text": [
      "  1%|          | 2.3524590163934267/300 [00:37<1:21:06, 16.35s/it]"
     ]
    },
    {
     "name": "stdout",
     "output_type": "stream",
     "text": [
      "Train Epoch: 3 [10240/24788 (41%)]\tLoss: 0.136498\n"
     ]
    },
    {
     "name": "stderr",
     "output_type": "stream",
     "text": [
      "  1%|          | 2.516393442622933/300 [00:39<1:21:13, 16.38s/it] "
     ]
    },
    {
     "name": "stdout",
     "output_type": "stream",
     "text": [
      "Train Epoch: 3 [15360/24788 (62%)]\tLoss: 0.157139\n"
     ]
    },
    {
     "name": "stderr",
     "output_type": "stream",
     "text": [
      "  1%|          | 2.680327868852439/300 [00:42<1:21:04, 16.36s/it] "
     ]
    },
    {
     "name": "stdout",
     "output_type": "stream",
     "text": [
      "Train Epoch: 3 [20480/24788 (82%)]\tLoss: 0.117137\n"
     ]
    },
    {
     "name": "stderr",
     "output_type": "stream",
     "text": [
      "  1%|          | 3.0081967213114513/300 [00:46<38:51,  7.85s/it]  "
     ]
    },
    {
     "name": "stdout",
     "output_type": "stream",
     "text": [
      "\n",
      "Test Epoch: 3\tAccuracy: 5954/6197 (96.0787%)\n",
      "\n",
      "Train Epoch: 4 [0/24788 (0%)]\tLoss: 0.089741\n"
     ]
    },
    {
     "name": "stderr",
     "output_type": "stream",
     "text": [
      "  1%|          | 3.188524590163908/300 [00:49<1:20:49, 16.34s/it] "
     ]
    },
    {
     "name": "stdout",
     "output_type": "stream",
     "text": [
      "Train Epoch: 4 [5120/24788 (21%)]\tLoss: 0.134082\n"
     ]
    },
    {
     "name": "stderr",
     "output_type": "stream",
     "text": [
      "  1%|          | 3.3360655737704636/300 [00:52<2:09:58, 26.29s/it]"
     ]
    },
    {
     "name": "stdout",
     "output_type": "stream",
     "text": [
      "Train Epoch: 4 [10240/24788 (41%)]\tLoss: 0.127188\n"
     ]
    },
    {
     "name": "stderr",
     "output_type": "stream",
     "text": [
      "  1%|          | 3.5163934426229204/300 [00:55<1:21:31, 16.50s/it]"
     ]
    },
    {
     "name": "stdout",
     "output_type": "stream",
     "text": [
      "Train Epoch: 4 [15360/24788 (62%)]\tLoss: 0.083204\n"
     ]
    },
    {
     "name": "stderr",
     "output_type": "stream",
     "text": [
      "  1%|          | 3.663934426229476/300 [00:58<1:40:20, 20.32s/it] "
     ]
    },
    {
     "name": "stdout",
     "output_type": "stream",
     "text": [
      "Train Epoch: 4 [20480/24788 (82%)]\tLoss: 0.067985\n"
     ]
    },
    {
     "name": "stderr",
     "output_type": "stream",
     "text": [
      "  1%|▏         | 3.9918032786884883/300 [01:01<32:10,  6.52s/it]  "
     ]
    },
    {
     "name": "stdout",
     "output_type": "stream",
     "text": [
      "\n",
      "Test Epoch: 4\tAccuracy: 6010/6197 (96.9824%)\n",
      "\n"
     ]
    },
    {
     "name": "stderr",
     "output_type": "stream",
     "text": [
      "  1%|▏         | 4.008196721311439/300 [01:02<53:19, 10.81s/it] "
     ]
    },
    {
     "name": "stdout",
     "output_type": "stream",
     "text": [
      "Train Epoch: 5 [0/24788 (0%)]\tLoss: 0.069307\n"
     ]
    },
    {
     "name": "stderr",
     "output_type": "stream",
     "text": [
      "  1%|▏         | 4.188524590163896/300 [01:05<1:20:34, 16.34s/it] "
     ]
    },
    {
     "name": "stdout",
     "output_type": "stream",
     "text": [
      "Train Epoch: 5 [5120/24788 (21%)]\tLoss: 0.070226\n"
     ]
    },
    {
     "name": "stderr",
     "output_type": "stream",
     "text": [
      "  1%|▏         | 4.352459016393402/300 [01:08<1:21:16, 16.49s/it] "
     ]
    },
    {
     "name": "stdout",
     "output_type": "stream",
     "text": [
      "Train Epoch: 5 [10240/24788 (41%)]\tLoss: 0.085915\n"
     ]
    },
    {
     "name": "stderr",
     "output_type": "stream",
     "text": [
      "  2%|▏         | 4.516393442622908/300 [01:10<1:21:15, 16.50s/it] "
     ]
    },
    {
     "name": "stdout",
     "output_type": "stream",
     "text": [
      "Train Epoch: 5 [15360/24788 (62%)]\tLoss: 0.098974\n"
     ]
    },
    {
     "name": "stderr",
     "output_type": "stream",
     "text": [
      "  2%|▏         | 4.680327868852414/300 [01:13<1:20:57, 16.45s/it] "
     ]
    },
    {
     "name": "stdout",
     "output_type": "stream",
     "text": [
      "Train Epoch: 5 [20480/24788 (82%)]\tLoss: 0.098464\n"
     ]
    },
    {
     "name": "stderr",
     "output_type": "stream",
     "text": [
      "  2%|▏         | 4.999999999999951/300 [01:16<25:41,  5.23s/it]   "
     ]
    },
    {
     "name": "stdout",
     "output_type": "stream",
     "text": [
      "\n",
      "Test Epoch: 5\tAccuracy: 6011/6197 (96.9985%)\n",
      "\n",
      "Train Epoch: 6 [0/24788 (0%)]\tLoss: 0.083045\n"
     ]
    },
    {
     "name": "stderr",
     "output_type": "stream",
     "text": [
      "  2%|▏         | 5.188524590163883/300 [01:20<1:24:46, 17.25s/it] "
     ]
    },
    {
     "name": "stdout",
     "output_type": "stream",
     "text": [
      "Train Epoch: 6 [5120/24788 (21%)]\tLoss: 0.075796\n"
     ]
    },
    {
     "name": "stderr",
     "output_type": "stream",
     "text": [
      "  2%|▏         | 5.352459016393389/300 [01:23<1:22:31, 16.81s/it] "
     ]
    },
    {
     "name": "stdout",
     "output_type": "stream",
     "text": [
      "Train Epoch: 6 [10240/24788 (41%)]\tLoss: 0.057576\n"
     ]
    },
    {
     "name": "stderr",
     "output_type": "stream",
     "text": [
      "  2%|▏         | 5.5163934426228955/300 [01:26<1:20:54, 16.49s/it]"
     ]
    },
    {
     "name": "stdout",
     "output_type": "stream",
     "text": [
      "Train Epoch: 6 [15360/24788 (62%)]\tLoss: 0.084409\n"
     ]
    },
    {
     "name": "stderr",
     "output_type": "stream",
     "text": [
      "  2%|▏         | 5.680327868852402/300 [01:29<1:21:33, 16.63s/it] "
     ]
    },
    {
     "name": "stdout",
     "output_type": "stream",
     "text": [
      "Train Epoch: 6 [20480/24788 (82%)]\tLoss: 0.057810\n"
     ]
    },
    {
     "name": "stderr",
     "output_type": "stream",
     "text": [
      "  2%|▏         | 6.008196721311414/300 [01:32<38:55,  7.94s/it]   "
     ]
    },
    {
     "name": "stdout",
     "output_type": "stream",
     "text": [
      "\n",
      "Test Epoch: 6\tAccuracy: 6031/6197 (97.3213%)\n",
      "\n",
      "Train Epoch: 7 [0/24788 (0%)]\tLoss: 0.071674\n"
     ]
    },
    {
     "name": "stderr",
     "output_type": "stream",
     "text": [
      "  2%|▏         | 6.188524590163871/300 [01:35<1:20:29, 16.44s/it] "
     ]
    },
    {
     "name": "stdout",
     "output_type": "stream",
     "text": [
      "Train Epoch: 7 [5120/24788 (21%)]\tLoss: 0.074035\n"
     ]
    },
    {
     "name": "stderr",
     "output_type": "stream",
     "text": [
      "  2%|▏         | 6.352459016393377/300 [01:38<1:23:23, 17.04s/it] "
     ]
    },
    {
     "name": "stdout",
     "output_type": "stream",
     "text": [
      "Train Epoch: 7 [10240/24788 (41%)]\tLoss: 0.052296\n"
     ]
    },
    {
     "name": "stderr",
     "output_type": "stream",
     "text": [
      "  2%|▏         | 6.516393442622883/300 [01:41<1:20:48, 16.52s/it] "
     ]
    },
    {
     "name": "stdout",
     "output_type": "stream",
     "text": [
      "Train Epoch: 7 [15360/24788 (62%)]\tLoss: 0.055277\n"
     ]
    },
    {
     "name": "stderr",
     "output_type": "stream",
     "text": [
      "  2%|▏         | 6.680327868852389/300 [01:44<1:20:51, 16.54s/it] "
     ]
    },
    {
     "name": "stdout",
     "output_type": "stream",
     "text": [
      "Train Epoch: 7 [20480/24788 (82%)]\tLoss: 0.023895\n"
     ]
    },
    {
     "name": "stderr",
     "output_type": "stream",
     "text": [
      "  2%|▏         | 6.999999999999926/300 [01:47<25:31,  5.23s/it]   "
     ]
    },
    {
     "name": "stdout",
     "output_type": "stream",
     "text": [
      "\n",
      "Test Epoch: 7\tAccuracy: 6041/6197 (97.4827%)\n",
      "\n",
      "Train Epoch: 8 [0/24788 (0%)]\tLoss: 0.069281\n"
     ]
    },
    {
     "name": "stderr",
     "output_type": "stream",
     "text": [
      "  2%|▏         | 7.172131147540908/300 [01:50<1:41:47, 20.86s/it] "
     ]
    },
    {
     "name": "stdout",
     "output_type": "stream",
     "text": [
      "Train Epoch: 8 [5120/24788 (21%)]\tLoss: 0.048034\n"
     ]
    },
    {
     "name": "stderr",
     "output_type": "stream",
     "text": [
      "  2%|▏         | 7.3524590163933645/300 [01:54<1:23:16, 17.07s/it]"
     ]
    },
    {
     "name": "stdout",
     "output_type": "stream",
     "text": [
      "Train Epoch: 8 [10240/24788 (41%)]\tLoss: 0.042868\n"
     ]
    },
    {
     "name": "stderr",
     "output_type": "stream",
     "text": [
      "  3%|▎         | 7.516393442622871/300 [01:57<1:23:51, 17.20s/it] "
     ]
    },
    {
     "name": "stdout",
     "output_type": "stream",
     "text": [
      "Train Epoch: 8 [15360/24788 (62%)]\tLoss: 0.073260\n"
     ]
    },
    {
     "name": "stderr",
     "output_type": "stream",
     "text": [
      "  3%|▎         | 7.663934426229426/300 [01:59<1:44:21, 21.42s/it] "
     ]
    },
    {
     "name": "stdout",
     "output_type": "stream",
     "text": [
      "Train Epoch: 8 [20480/24788 (82%)]\tLoss: 0.019037\n"
     ]
    },
    {
     "name": "stderr",
     "output_type": "stream",
     "text": [
      "  3%|▎         | 8.00819672131139/300 [02:03<53:47, 11.05s/it]    "
     ]
    },
    {
     "name": "stdout",
     "output_type": "stream",
     "text": [
      "\n",
      "Test Epoch: 8\tAccuracy: 6049/6197 (97.6117%)\n",
      "\n",
      "Train Epoch: 9 [0/24788 (0%)]\tLoss: 0.047127\n"
     ]
    },
    {
     "name": "stderr",
     "output_type": "stream",
     "text": [
      "  3%|▎         | 8.172131147540913/300 [02:06<1:41:02, 20.78s/it]"
     ]
    },
    {
     "name": "stdout",
     "output_type": "stream",
     "text": [
      "Train Epoch: 9 [5120/24788 (21%)]\tLoss: 0.044859\n"
     ]
    },
    {
     "name": "stderr",
     "output_type": "stream",
     "text": [
      "  3%|▎         | 8.35245901639339/300 [02:10<1:23:10, 17.11s/it] "
     ]
    },
    {
     "name": "stdout",
     "output_type": "stream",
     "text": [
      "Train Epoch: 9 [10240/24788 (41%)]\tLoss: 0.040489\n"
     ]
    },
    {
     "name": "stderr",
     "output_type": "stream",
     "text": [
      "  3%|▎         | 8.499999999999961/300 [02:12<1:44:55, 21.60s/it]"
     ]
    },
    {
     "name": "stdout",
     "output_type": "stream",
     "text": [
      "Train Epoch: 9 [15360/24788 (62%)]\tLoss: 0.025300\n"
     ]
    },
    {
     "name": "stderr",
     "output_type": "stream",
     "text": [
      "  3%|▎         | 8.663934426229485/300 [02:15<1:46:30, 21.94s/it]"
     ]
    },
    {
     "name": "stdout",
     "output_type": "stream",
     "text": [
      "Train Epoch: 9 [20480/24788 (82%)]\tLoss: 0.046655\n"
     ]
    },
    {
     "name": "stderr",
     "output_type": "stream",
     "text": [
      "  3%|▎         | 9.000000000000009/300 [02:19<26:27,  5.46s/it]  "
     ]
    },
    {
     "name": "stdout",
     "output_type": "stream",
     "text": [
      "\n",
      "Test Epoch: 9\tAccuracy: 6034/6197 (97.3697%)\n",
      "\n",
      "Train Epoch: 10 [0/24788 (0%)]\tLoss: 0.053019\n"
     ]
    },
    {
     "name": "stderr",
     "output_type": "stream",
     "text": [
      "  3%|▎         | 9.172131147541009/300 [02:22<1:43:48, 21.42s/it]"
     ]
    },
    {
     "name": "stdout",
     "output_type": "stream",
     "text": [
      "Train Epoch: 10 [5120/24788 (21%)]\tLoss: 0.030085\n"
     ]
    },
    {
     "name": "stderr",
     "output_type": "stream",
     "text": [
      "  3%|▎         | 9.352459016393485/300 [02:25<1:31:48, 18.95s/it]"
     ]
    },
    {
     "name": "stdout",
     "output_type": "stream",
     "text": [
      "Train Epoch: 10 [10240/24788 (41%)]\tLoss: 0.040423\n"
     ]
    },
    {
     "name": "stderr",
     "output_type": "stream",
     "text": [
      "  3%|▎         | 9.500000000000057/300 [02:28<1:41:37, 20.99s/it]"
     ]
    },
    {
     "name": "stdout",
     "output_type": "stream",
     "text": [
      "Train Epoch: 10 [15360/24788 (62%)]\tLoss: 0.036879\n"
     ]
    },
    {
     "name": "stderr",
     "output_type": "stream",
     "text": [
      "  3%|▎         | 9.680327868852533/300 [02:31<1:21:56, 16.93s/it]"
     ]
    },
    {
     "name": "stdout",
     "output_type": "stream",
     "text": [
      "Train Epoch: 10 [20480/24788 (82%)]\tLoss: 0.074314\n"
     ]
    },
    {
     "name": "stderr",
     "output_type": "stream",
     "text": [
      "  3%|▎         | 10.008196721311581/300 [02:35<38:33,  7.98s/it] "
     ]
    },
    {
     "name": "stdout",
     "output_type": "stream",
     "text": [
      "\n",
      "Test Epoch: 10\tAccuracy: 6062/6197 (97.8215%)\n",
      "\n",
      "Train Epoch: 11 [0/24788 (0%)]\tLoss: 0.046641\n"
     ]
    },
    {
     "name": "stderr",
     "output_type": "stream",
     "text": [
      "  3%|▎         | 10.188524590164057/300 [02:38<1:24:15, 17.45s/it]"
     ]
    },
    {
     "name": "stdout",
     "output_type": "stream",
     "text": [
      "Train Epoch: 11 [5120/24788 (21%)]\tLoss: 0.027777\n"
     ]
    },
    {
     "name": "stderr",
     "output_type": "stream",
     "text": [
      "  3%|▎         | 10.352459016393581/300 [02:41<1:23:41, 17.34s/it]"
     ]
    },
    {
     "name": "stdout",
     "output_type": "stream",
     "text": [
      "Train Epoch: 11 [10240/24788 (41%)]\tLoss: 0.024638\n"
     ]
    },
    {
     "name": "stderr",
     "output_type": "stream",
     "text": [
      "  4%|▎         | 10.516393442623105/300 [02:44<1:22:21, 17.07s/it]"
     ]
    },
    {
     "name": "stdout",
     "output_type": "stream",
     "text": [
      "Train Epoch: 11 [15360/24788 (62%)]\tLoss: 0.048619\n"
     ]
    },
    {
     "name": "stderr",
     "output_type": "stream",
     "text": [
      "  4%|▎         | 10.680327868852629/300 [02:47<1:19:51, 16.56s/it]"
     ]
    },
    {
     "name": "stdout",
     "output_type": "stream",
     "text": [
      "Train Epoch: 11 [20480/24788 (82%)]\tLoss: 0.049500\n"
     ]
    },
    {
     "name": "stderr",
     "output_type": "stream",
     "text": [
      "  4%|▎         | 11.008196721311677/300 [02:50<38:03,  7.90s/it]  "
     ]
    },
    {
     "name": "stdout",
     "output_type": "stream",
     "text": [
      "\n",
      "Test Epoch: 11\tAccuracy: 6067/6197 (97.9022%)\n",
      "\n",
      "Train Epoch: 12 [0/24788 (0%)]\tLoss: 0.037340\n"
     ]
    },
    {
     "name": "stderr",
     "output_type": "stream",
     "text": [
      "  4%|▎         | 11.188524590164153/300 [02:53<1:19:05, 16.43s/it]"
     ]
    },
    {
     "name": "stdout",
     "output_type": "stream",
     "text": [
      "Train Epoch: 12 [5120/24788 (21%)]\tLoss: 0.019547\n"
     ]
    },
    {
     "name": "stderr",
     "output_type": "stream",
     "text": [
      "  4%|▍         | 11.352459016393677/300 [02:56<1:19:14, 16.47s/it]"
     ]
    },
    {
     "name": "stdout",
     "output_type": "stream",
     "text": [
      "Train Epoch: 12 [10240/24788 (41%)]\tLoss: 0.041541\n"
     ]
    },
    {
     "name": "stderr",
     "output_type": "stream",
     "text": [
      "  4%|▍         | 11.500000000000249/300 [02:59<1:58:48, 24.71s/it]"
     ]
    },
    {
     "name": "stdout",
     "output_type": "stream",
     "text": [
      "Train Epoch: 12 [15360/24788 (62%)]\tLoss: 0.025622\n"
     ]
    },
    {
     "name": "stderr",
     "output_type": "stream",
     "text": [
      "  4%|▍         | 11.680327868852725/300 [03:02<1:19:44, 16.60s/it]"
     ]
    },
    {
     "name": "stdout",
     "output_type": "stream",
     "text": [
      "Train Epoch: 12 [20480/24788 (82%)]\tLoss: 0.040027\n"
     ]
    },
    {
     "name": "stderr",
     "output_type": "stream",
     "text": [
      "  4%|▍         | 12.008196721311773/300 [03:05<38:05,  7.94s/it]  "
     ]
    },
    {
     "name": "stdout",
     "output_type": "stream",
     "text": [
      "\n",
      "Test Epoch: 12\tAccuracy: 6074/6197 (98.0152%)\n",
      "\n",
      "Train Epoch: 13 [0/24788 (0%)]\tLoss: 0.035819\n"
     ]
    },
    {
     "name": "stderr",
     "output_type": "stream",
     "text": [
      "  4%|▍         | 12.18852459016425/300 [03:09<1:19:21, 16.54s/it] "
     ]
    },
    {
     "name": "stdout",
     "output_type": "stream",
     "text": [
      "Train Epoch: 13 [5120/24788 (21%)]\tLoss: 0.026968\n"
     ]
    },
    {
     "name": "stderr",
     "output_type": "stream",
     "text": [
      "  4%|▍         | 12.352459016393773/300 [03:11<1:19:14, 16.53s/it]"
     ]
    },
    {
     "name": "stdout",
     "output_type": "stream",
     "text": [
      "Train Epoch: 13 [10240/24788 (41%)]\tLoss: 0.015724\n"
     ]
    },
    {
     "name": "stderr",
     "output_type": "stream",
     "text": [
      "  4%|▍         | 12.516393442623297/300 [03:14<1:19:38, 16.62s/it]"
     ]
    },
    {
     "name": "stdout",
     "output_type": "stream",
     "text": [
      "Train Epoch: 13 [15360/24788 (62%)]\tLoss: 0.021402\n"
     ]
    },
    {
     "name": "stderr",
     "output_type": "stream",
     "text": [
      "  4%|▍         | 12.663934426229869/300 [03:17<1:37:28, 20.36s/it]"
     ]
    },
    {
     "name": "stdout",
     "output_type": "stream",
     "text": [
      "Train Epoch: 13 [20480/24788 (82%)]\tLoss: 0.029202\n"
     ]
    },
    {
     "name": "stderr",
     "output_type": "stream",
     "text": [
      "  4%|▍         | 13.000000000000393/300 [03:20<25:05,  5.25s/it]  "
     ]
    },
    {
     "name": "stdout",
     "output_type": "stream",
     "text": [
      "\n",
      "Test Epoch: 13\tAccuracy: 6088/6197 (98.2411%)\n",
      "\n",
      "Train Epoch: 14 [0/24788 (0%)]\tLoss: 0.021451\n"
     ]
    },
    {
     "name": "stderr",
     "output_type": "stream",
     "text": [
      "  4%|▍         | 13.172131147541393/300 [03:24<1:49:01, 22.81s/it]"
     ]
    },
    {
     "name": "stdout",
     "output_type": "stream",
     "text": [
      "Train Epoch: 14 [5120/24788 (21%)]\tLoss: 0.027138\n"
     ]
    },
    {
     "name": "stderr",
     "output_type": "stream",
     "text": [
      "  4%|▍         | 13.352459016393869/300 [03:27<1:19:09, 16.57s/it]"
     ]
    },
    {
     "name": "stdout",
     "output_type": "stream",
     "text": [
      "Train Epoch: 14 [10240/24788 (41%)]\tLoss: 0.061689\n"
     ]
    },
    {
     "name": "stderr",
     "output_type": "stream",
     "text": [
      "  5%|▍         | 13.516393442623393/300 [03:30<1:19:09, 16.58s/it]"
     ]
    },
    {
     "name": "stdout",
     "output_type": "stream",
     "text": [
      "Train Epoch: 14 [15360/24788 (62%)]\tLoss: 0.015022\n"
     ]
    },
    {
     "name": "stderr",
     "output_type": "stream",
     "text": [
      "  5%|▍         | 13.680327868852917/300 [03:33<1:19:08, 16.58s/it]"
     ]
    },
    {
     "name": "stdout",
     "output_type": "stream",
     "text": [
      "Train Epoch: 14 [20480/24788 (82%)]\tLoss: 0.036048\n"
     ]
    },
    {
     "name": "stderr",
     "output_type": "stream",
     "text": [
      "  5%|▍         | 14.000000000000488/300 [03:36<24:58,  5.24s/it]  "
     ]
    },
    {
     "name": "stdout",
     "output_type": "stream",
     "text": [
      "\n",
      "Test Epoch: 14\tAccuracy: 6071/6197 (97.9668%)\n",
      "\n",
      "Train Epoch: 15 [0/24788 (0%)]\tLoss: 0.034461\n"
     ]
    },
    {
     "name": "stderr",
     "output_type": "stream",
     "text": [
      "  5%|▍         | 14.188524590164441/300 [03:39<1:18:30, 16.48s/it]"
     ]
    },
    {
     "name": "stdout",
     "output_type": "stream",
     "text": [
      "Train Epoch: 15 [5120/24788 (21%)]\tLoss: 0.033186\n"
     ]
    },
    {
     "name": "stderr",
     "output_type": "stream",
     "text": [
      "  5%|▍         | 14.352459016393965/300 [03:42<1:18:52, 16.57s/it]"
     ]
    },
    {
     "name": "stdout",
     "output_type": "stream",
     "text": [
      "Train Epoch: 15 [10240/24788 (41%)]\tLoss: 0.037870\n"
     ]
    },
    {
     "name": "stderr",
     "output_type": "stream",
     "text": [
      "  5%|▍         | 14.516393442623489/300 [03:45<1:19:09, 16.64s/it]"
     ]
    },
    {
     "name": "stdout",
     "output_type": "stream",
     "text": [
      "Train Epoch: 15 [15360/24788 (62%)]\tLoss: 0.030538\n"
     ]
    },
    {
     "name": "stderr",
     "output_type": "stream",
     "text": [
      "  5%|▍         | 14.680327868853013/300 [03:48<1:18:46, 16.57s/it]"
     ]
    },
    {
     "name": "stdout",
     "output_type": "stream",
     "text": [
      "Train Epoch: 15 [20480/24788 (82%)]\tLoss: 0.030578\n"
     ]
    },
    {
     "name": "stderr",
     "output_type": "stream",
     "text": [
      "  5%|▍         | 14.975409836066156/300 [03:51<27:20,  5.76s/it]  "
     ]
    },
    {
     "name": "stdout",
     "output_type": "stream",
     "text": [
      "\n",
      "Test Epoch: 15\tAccuracy: 6066/6197 (97.8861%)\n",
      "\n"
     ]
    },
    {
     "name": "stderr",
     "output_type": "stream",
     "text": [
      "  5%|▌         | 15.00819672131206/300 [03:51<42:51,  9.02s/it] "
     ]
    },
    {
     "name": "stdout",
     "output_type": "stream",
     "text": [
      "Train Epoch: 16 [0/24788 (0%)]\tLoss: 0.011954\n"
     ]
    },
    {
     "name": "stderr",
     "output_type": "stream",
     "text": [
      "  5%|▌         | 15.188524590164537/300 [03:54<1:18:23, 16.52s/it]"
     ]
    },
    {
     "name": "stdout",
     "output_type": "stream",
     "text": [
      "Train Epoch: 16 [5120/24788 (21%)]\tLoss: 0.028226\n"
     ]
    },
    {
     "name": "stderr",
     "output_type": "stream",
     "text": [
      "  5%|▌         | 15.35245901639406/300 [03:57<1:18:32, 16.56s/it] "
     ]
    },
    {
     "name": "stdout",
     "output_type": "stream",
     "text": [
      "Train Epoch: 16 [10240/24788 (41%)]\tLoss: 0.046779\n"
     ]
    },
    {
     "name": "stderr",
     "output_type": "stream",
     "text": [
      "  5%|▌         | 15.516393442623585/300 [04:00<1:18:21, 16.52s/it]"
     ]
    },
    {
     "name": "stdout",
     "output_type": "stream",
     "text": [
      "Train Epoch: 16 [15360/24788 (62%)]\tLoss: 0.020674\n"
     ]
    },
    {
     "name": "stderr",
     "output_type": "stream",
     "text": [
      "  5%|▌         | 15.680327868853109/300 [04:03<1:18:15, 16.51s/it]"
     ]
    },
    {
     "name": "stdout",
     "output_type": "stream",
     "text": [
      "Train Epoch: 16 [20480/24788 (82%)]\tLoss: 0.027490\n"
     ]
    },
    {
     "name": "stderr",
     "output_type": "stream",
     "text": [
      "  5%|▌         | 16.008196721312153/300 [04:06<37:20,  7.89s/it]  "
     ]
    },
    {
     "name": "stdout",
     "output_type": "stream",
     "text": [
      "\n",
      "Test Epoch: 16\tAccuracy: 6085/6197 (98.1927%)\n",
      "\n",
      "Train Epoch: 17 [0/24788 (0%)]\tLoss: 0.040641\n"
     ]
    },
    {
     "name": "stderr",
     "output_type": "stream",
     "text": [
      "  5%|▌         | 16.18852459016459/300 [04:09<1:17:48, 16.45s/it] "
     ]
    },
    {
     "name": "stdout",
     "output_type": "stream",
     "text": [
      "Train Epoch: 17 [5120/24788 (21%)]\tLoss: 0.028398\n"
     ]
    },
    {
     "name": "stderr",
     "output_type": "stream",
     "text": [
      "  5%|▌         | 16.35245901639408/300 [04:12<1:18:11, 16.54s/it] "
     ]
    },
    {
     "name": "stdout",
     "output_type": "stream",
     "text": [
      "Train Epoch: 17 [10240/24788 (41%)]\tLoss: 0.007990\n"
     ]
    },
    {
     "name": "stderr",
     "output_type": "stream",
     "text": [
      "  6%|▌         | 16.516393442623567/300 [04:15<1:22:32, 17.47s/it]"
     ]
    },
    {
     "name": "stdout",
     "output_type": "stream",
     "text": [
      "Train Epoch: 17 [15360/24788 (62%)]\tLoss: 0.011492\n"
     ]
    },
    {
     "name": "stderr",
     "output_type": "stream",
     "text": [
      "  6%|▌         | 16.680327868853055/300 [04:18<1:18:07, 16.54s/it]"
     ]
    },
    {
     "name": "stdout",
     "output_type": "stream",
     "text": [
      "Train Epoch: 17 [20480/24788 (82%)]\tLoss: 0.029109\n"
     ]
    },
    {
     "name": "stderr",
     "output_type": "stream",
     "text": [
      "  6%|▌         | 17.008196721312032/300 [04:22<37:12,  7.89s/it]  "
     ]
    },
    {
     "name": "stdout",
     "output_type": "stream",
     "text": [
      "\n",
      "Test Epoch: 17\tAccuracy: 6085/6197 (98.1927%)\n",
      "\n",
      "Train Epoch: 18 [0/24788 (0%)]\tLoss: 0.022489\n"
     ]
    },
    {
     "name": "stderr",
     "output_type": "stream",
     "text": [
      "  6%|▌         | 17.18852459016447/300 [04:25<1:17:27, 16.43s/it] "
     ]
    },
    {
     "name": "stdout",
     "output_type": "stream",
     "text": [
      "Train Epoch: 18 [5120/24788 (21%)]\tLoss: 0.012432\n"
     ]
    },
    {
     "name": "stderr",
     "output_type": "stream",
     "text": [
      "  6%|▌         | 17.352459016393958/300 [04:28<1:17:39, 16.49s/it]"
     ]
    },
    {
     "name": "stdout",
     "output_type": "stream",
     "text": [
      "Train Epoch: 18 [10240/24788 (41%)]\tLoss: 0.031292\n"
     ]
    },
    {
     "name": "stderr",
     "output_type": "stream",
     "text": [
      "  6%|▌         | 17.516393442623446/300 [04:30<1:17:15, 16.41s/it]"
     ]
    },
    {
     "name": "stdout",
     "output_type": "stream",
     "text": [
      "Train Epoch: 18 [15360/24788 (62%)]\tLoss: 0.013214\n"
     ]
    },
    {
     "name": "stderr",
     "output_type": "stream",
     "text": [
      "  6%|▌         | 17.680327868852935/300 [04:34<1:18:00, 16.58s/it]"
     ]
    },
    {
     "name": "stdout",
     "output_type": "stream",
     "text": [
      "Train Epoch: 18 [20480/24788 (82%)]\tLoss: 0.036299\n"
     ]
    },
    {
     "name": "stderr",
     "output_type": "stream",
     "text": [
      "  6%|▌         | 18.00819672131191/300 [04:37<36:53,  7.85s/it]   "
     ]
    },
    {
     "name": "stdout",
     "output_type": "stream",
     "text": [
      "\n",
      "Test Epoch: 18\tAccuracy: 6073/6197 (97.9990%)\n",
      "\n",
      "Train Epoch: 19 [0/24788 (0%)]\tLoss: 0.014923\n"
     ]
    },
    {
     "name": "stderr",
     "output_type": "stream",
     "text": [
      "  6%|▌         | 18.18852459016435/300 [04:40<1:16:32, 16.30s/it] "
     ]
    },
    {
     "name": "stdout",
     "output_type": "stream",
     "text": [
      "Train Epoch: 19 [5120/24788 (21%)]\tLoss: 0.014134\n"
     ]
    },
    {
     "name": "stderr",
     "output_type": "stream",
     "text": [
      "  6%|▌         | 18.352459016393837/300 [04:43<1:17:31, 16.52s/it]"
     ]
    },
    {
     "name": "stdout",
     "output_type": "stream",
     "text": [
      "Train Epoch: 19 [10240/24788 (41%)]\tLoss: 0.012396\n"
     ]
    },
    {
     "name": "stderr",
     "output_type": "stream",
     "text": [
      "  6%|▌         | 18.500000000000377/300 [04:46<1:57:25, 25.03s/it]"
     ]
    },
    {
     "name": "stdout",
     "output_type": "stream",
     "text": [
      "Train Epoch: 19 [15360/24788 (62%)]\tLoss: 0.008934\n"
     ]
    },
    {
     "name": "stderr",
     "output_type": "stream",
     "text": [
      "  6%|▌         | 18.680327868852814/300 [04:49<1:17:55, 16.62s/it]"
     ]
    },
    {
     "name": "stdout",
     "output_type": "stream",
     "text": [
      "Train Epoch: 19 [20480/24788 (82%)]\tLoss: 0.009196\n"
     ]
    },
    {
     "name": "stderr",
     "output_type": "stream",
     "text": [
      "  6%|▋         | 19.000000000000316/300 [04:52<24:27,  5.22s/it]  "
     ]
    },
    {
     "name": "stdout",
     "output_type": "stream",
     "text": [
      "\n",
      "Test Epoch: 19\tAccuracy: 6034/6197 (97.3697%)\n",
      "\n",
      "Train Epoch: 20 [0/24788 (0%)]\tLoss: 0.006992\n"
     ]
    },
    {
     "name": "stderr",
     "output_type": "stream",
     "text": [
      "  6%|▋         | 19.188524590164228/300 [04:55<1:16:56, 16.44s/it]"
     ]
    },
    {
     "name": "stdout",
     "output_type": "stream",
     "text": [
      "Train Epoch: 20 [5120/24788 (21%)]\tLoss: 0.013205\n"
     ]
    },
    {
     "name": "stderr",
     "output_type": "stream",
     "text": [
      "  6%|▋         | 19.336065573770767/300 [04:58<1:35:06, 20.33s/it]"
     ]
    },
    {
     "name": "stdout",
     "output_type": "stream",
     "text": [
      "Train Epoch: 20 [10240/24788 (41%)]\tLoss: 0.019347\n"
     ]
    },
    {
     "name": "stderr",
     "output_type": "stream",
     "text": [
      "  7%|▋         | 19.516393442623205/300 [05:01<1:17:18, 16.54s/it]"
     ]
    },
    {
     "name": "stdout",
     "output_type": "stream",
     "text": [
      "Train Epoch: 20 [15360/24788 (62%)]\tLoss: 0.011447\n"
     ]
    },
    {
     "name": "stderr",
     "output_type": "stream",
     "text": [
      "  7%|▋         | 19.680327868852693/300 [05:04<1:17:18, 16.55s/it]"
     ]
    },
    {
     "name": "stdout",
     "output_type": "stream",
     "text": [
      "Train Epoch: 20 [20480/24788 (82%)]\tLoss: 0.010556\n"
     ]
    },
    {
     "name": "stderr",
     "output_type": "stream",
     "text": [
      "  7%|▋         | 20.000000000000195/300 [05:07<24:28,  5.25s/it]  "
     ]
    },
    {
     "name": "stdout",
     "output_type": "stream",
     "text": [
      "\n",
      "Test Epoch: 20\tAccuracy: 6098/6197 (98.4025%)\n",
      "\n",
      "Train Epoch: 21 [0/24788 (0%)]\tLoss: 0.013714\n"
     ]
    },
    {
     "name": "stderr",
     "output_type": "stream",
     "text": [
      "  7%|▋         | 20.188524590164107/300 [05:10<1:16:20, 16.37s/it]"
     ]
    },
    {
     "name": "stdout",
     "output_type": "stream",
     "text": [
      "Train Epoch: 21 [5120/24788 (21%)]\tLoss: 0.005003\n"
     ]
    },
    {
     "name": "stderr",
     "output_type": "stream",
     "text": [
      "  7%|▋         | 20.352459016393595/300 [05:13<1:16:54, 16.50s/it]"
     ]
    },
    {
     "name": "stdout",
     "output_type": "stream",
     "text": [
      "Train Epoch: 21 [10240/24788 (41%)]\tLoss: 0.014327\n"
     ]
    },
    {
     "name": "stderr",
     "output_type": "stream",
     "text": [
      "  7%|▋         | 20.516393442623084/300 [05:16<1:24:46, 18.20s/it]"
     ]
    },
    {
     "name": "stdout",
     "output_type": "stream",
     "text": [
      "Train Epoch: 21 [15360/24788 (62%)]\tLoss: 0.008392\n"
     ]
    },
    {
     "name": "stderr",
     "output_type": "stream",
     "text": [
      "  7%|▋         | 20.680327868852572/300 [05:19<1:17:07, 16.57s/it]"
     ]
    },
    {
     "name": "stdout",
     "output_type": "stream",
     "text": [
      "Train Epoch: 21 [20480/24788 (82%)]\tLoss: 0.005942\n"
     ]
    },
    {
     "name": "stderr",
     "output_type": "stream",
     "text": [
      "  7%|▋         | 21.00819672131155/300 [05:22<36:39,  7.88s/it]   "
     ]
    },
    {
     "name": "stdout",
     "output_type": "stream",
     "text": [
      "\n",
      "Test Epoch: 21\tAccuracy: 6052/6197 (97.6602%)\n",
      "\n",
      "Train Epoch: 22 [0/24788 (0%)]\tLoss: 0.008084\n"
     ]
    },
    {
     "name": "stderr",
     "output_type": "stream",
     "text": [
      "  7%|▋         | 21.188524590163986/300 [05:25<1:16:23, 16.44s/it]"
     ]
    },
    {
     "name": "stdout",
     "output_type": "stream",
     "text": [
      "Train Epoch: 22 [5120/24788 (21%)]\tLoss: 0.014665\n"
     ]
    },
    {
     "name": "stderr",
     "output_type": "stream",
     "text": [
      "  7%|▋         | 21.352459016393475/300 [05:28<1:16:38, 16.50s/it]"
     ]
    },
    {
     "name": "stdout",
     "output_type": "stream",
     "text": [
      "Train Epoch: 22 [10240/24788 (41%)]\tLoss: 0.006942\n"
     ]
    },
    {
     "name": "stderr",
     "output_type": "stream",
     "text": [
      "  7%|▋         | 21.516393442622963/300 [05:31<1:16:43, 16.53s/it]"
     ]
    },
    {
     "name": "stdout",
     "output_type": "stream",
     "text": [
      "Train Epoch: 22 [15360/24788 (62%)]\tLoss: 0.005969\n"
     ]
    },
    {
     "name": "stderr",
     "output_type": "stream",
     "text": [
      "  7%|▋         | 21.663934426229503/300 [05:34<1:49:49, 23.68s/it]"
     ]
    },
    {
     "name": "stdout",
     "output_type": "stream",
     "text": [
      "Train Epoch: 22 [20480/24788 (82%)]\tLoss: 0.006970\n"
     ]
    },
    {
     "name": "stderr",
     "output_type": "stream",
     "text": [
      "  7%|▋         | 22.00819672131143/300 [05:38<47:04, 10.16s/it]   "
     ]
    },
    {
     "name": "stdout",
     "output_type": "stream",
     "text": [
      "\n",
      "Test Epoch: 22\tAccuracy: 6083/6197 (98.1604%)\n",
      "\n",
      "Train Epoch: 23 [0/24788 (0%)]\tLoss: 0.004725\n"
     ]
    },
    {
     "name": "stderr",
     "output_type": "stream",
     "text": [
      "  7%|▋         | 22.188524590163865/300 [05:42<1:30:20, 19.51s/it]"
     ]
    },
    {
     "name": "stdout",
     "output_type": "stream",
     "text": [
      "Train Epoch: 23 [5120/24788 (21%)]\tLoss: 0.007623\n"
     ]
    },
    {
     "name": "stderr",
     "output_type": "stream",
     "text": [
      "  7%|▋         | 22.352459016393354/300 [05:45<1:25:16, 18.43s/it]"
     ]
    },
    {
     "name": "stdout",
     "output_type": "stream",
     "text": [
      "Train Epoch: 23 [10240/24788 (41%)]\tLoss: 0.005967\n"
     ]
    },
    {
     "name": "stderr",
     "output_type": "stream",
     "text": [
      "  8%|▊         | 22.516393442622842/300 [05:48<1:16:44, 16.59s/it]"
     ]
    },
    {
     "name": "stdout",
     "output_type": "stream",
     "text": [
      "Train Epoch: 23 [15360/24788 (62%)]\tLoss: 0.013150\n"
     ]
    },
    {
     "name": "stderr",
     "output_type": "stream",
     "text": [
      "  8%|▊         | 22.68032786885233/300 [05:51<1:16:17, 16.51s/it] "
     ]
    },
    {
     "name": "stdout",
     "output_type": "stream",
     "text": [
      "Train Epoch: 23 [20480/24788 (82%)]\tLoss: 0.010127\n"
     ]
    },
    {
     "name": "stderr",
     "output_type": "stream",
     "text": [
      "  8%|▊         | 22.999999999999833/300 [05:54<24:10,  5.23s/it]  "
     ]
    },
    {
     "name": "stdout",
     "output_type": "stream",
     "text": [
      "\n",
      "Test Epoch: 23\tAccuracy: 6061/6197 (97.8054%)\n",
      "\n",
      "Train Epoch: 24 [0/24788 (0%)]\tLoss: 0.009535\n"
     ]
    },
    {
     "name": "stderr",
     "output_type": "stream",
     "text": [
      "  8%|▊         | 23.188524590163745/300 [05:58<1:16:19, 16.55s/it]"
     ]
    },
    {
     "name": "stdout",
     "output_type": "stream",
     "text": [
      "Train Epoch: 24 [5120/24788 (21%)]\tLoss: 0.007580\n"
     ]
    },
    {
     "name": "stderr",
     "output_type": "stream",
     "text": [
      "  8%|▊         | 23.336065573770284/300 [06:00<1:54:11, 24.76s/it]"
     ]
    },
    {
     "name": "stdout",
     "output_type": "stream",
     "text": [
      "Train Epoch: 24 [10240/24788 (41%)]\tLoss: 0.006531\n"
     ]
    },
    {
     "name": "stderr",
     "output_type": "stream",
     "text": [
      "  8%|▊         | 23.499999999999773/300 [06:04<1:47:24, 23.31s/it]"
     ]
    },
    {
     "name": "stdout",
     "output_type": "stream",
     "text": [
      "Train Epoch: 24 [15360/24788 (62%)]\tLoss: 0.029059\n"
     ]
    },
    {
     "name": "stderr",
     "output_type": "stream",
     "text": [
      "  8%|▊         | 23.66393442622926/300 [06:07<1:49:03, 23.68s/it] "
     ]
    },
    {
     "name": "stdout",
     "output_type": "stream",
     "text": [
      "Train Epoch: 24 [20480/24788 (82%)]\tLoss: 0.005070\n"
     ]
    },
    {
     "name": "stderr",
     "output_type": "stream",
     "text": [
      "  8%|▊         | 23.991803278688238/300 [06:11<27:30,  5.98s/it]  "
     ]
    },
    {
     "name": "stdout",
     "output_type": "stream",
     "text": [
      "\n",
      "Test Epoch: 24\tAccuracy: 6083/6197 (98.1604%)\n",
      "\n",
      "Train Epoch: 25 [0/24788 (0%)]\tLoss: 0.004806\n"
     ]
    },
    {
     "name": "stderr",
     "output_type": "stream",
     "text": [
      "  8%|▊         | 24.188524590163624/300 [06:14<1:16:06, 16.56s/it]"
     ]
    },
    {
     "name": "stdout",
     "output_type": "stream",
     "text": [
      "Train Epoch: 25 [5120/24788 (21%)]\tLoss: 0.006174\n"
     ]
    },
    {
     "name": "stderr",
     "output_type": "stream",
     "text": [
      "  8%|▊         | 24.352459016393112/300 [06:17<1:15:48, 16.50s/it]"
     ]
    },
    {
     "name": "stdout",
     "output_type": "stream",
     "text": [
      "Train Epoch: 25 [10240/24788 (41%)]\tLoss: 0.011101\n"
     ]
    },
    {
     "name": "stderr",
     "output_type": "stream",
     "text": [
      "  8%|▊         | 24.5163934426226/300 [06:20<1:15:48, 16.51s/it]  "
     ]
    },
    {
     "name": "stdout",
     "output_type": "stream",
     "text": [
      "Train Epoch: 25 [15360/24788 (62%)]\tLoss: 0.016769\n"
     ]
    },
    {
     "name": "stderr",
     "output_type": "stream",
     "text": [
      "  8%|▊         | 24.68032786885209/300 [06:23<1:16:03, 16.57s/it] "
     ]
    },
    {
     "name": "stdout",
     "output_type": "stream",
     "text": [
      "Train Epoch: 25 [20480/24788 (82%)]\tLoss: 0.005729\n"
     ]
    },
    {
     "name": "stderr",
     "output_type": "stream",
     "text": [
      "  8%|▊         | 24.975409836065168/300 [06:26<26:19,  5.74s/it]  "
     ]
    },
    {
     "name": "stdout",
     "output_type": "stream",
     "text": [
      "\n",
      "Test Epoch: 25\tAccuracy: 6090/6197 (98.2734%)\n",
      "\n"
     ]
    },
    {
     "name": "stderr",
     "output_type": "stream",
     "text": [
      "  8%|▊         | 25.008196721311066/300 [06:26<41:50,  9.13s/it]"
     ]
    },
    {
     "name": "stdout",
     "output_type": "stream",
     "text": [
      "Train Epoch: 26 [0/24788 (0%)]\tLoss: 0.005086\n"
     ]
    },
    {
     "name": "stderr",
     "output_type": "stream",
     "text": [
      "  8%|▊         | 25.188524590163503/300 [06:29<1:15:33, 16.50s/it]"
     ]
    },
    {
     "name": "stdout",
     "output_type": "stream",
     "text": [
      "Train Epoch: 26 [5120/24788 (21%)]\tLoss: 0.004477\n"
     ]
    },
    {
     "name": "stderr",
     "output_type": "stream",
     "text": [
      "  8%|▊         | 25.35245901639299/300 [06:32<1:15:30, 16.50s/it] "
     ]
    },
    {
     "name": "stdout",
     "output_type": "stream",
     "text": [
      "Train Epoch: 26 [10240/24788 (41%)]\tLoss: 0.004513\n"
     ]
    },
    {
     "name": "stderr",
     "output_type": "stream",
     "text": [
      "  9%|▊         | 25.51639344262248/300 [06:35<1:15:26, 16.49s/it] "
     ]
    },
    {
     "name": "stdout",
     "output_type": "stream",
     "text": [
      "Train Epoch: 26 [15360/24788 (62%)]\tLoss: 0.005805\n"
     ]
    },
    {
     "name": "stderr",
     "output_type": "stream",
     "text": [
      "  9%|▊         | 25.68032786885197/300 [06:38<1:15:12, 16.45s/it] "
     ]
    },
    {
     "name": "stdout",
     "output_type": "stream",
     "text": [
      "Train Epoch: 26 [20480/24788 (82%)]\tLoss: 0.007772\n"
     ]
    },
    {
     "name": "stderr",
     "output_type": "stream",
     "text": [
      "  9%|▊         | 26.008196721310945/300 [06:41<35:56,  7.87s/it]  "
     ]
    },
    {
     "name": "stdout",
     "output_type": "stream",
     "text": [
      "\n",
      "Test Epoch: 26\tAccuracy: 6082/6197 (98.1443%)\n",
      "\n",
      "Train Epoch: 27 [0/24788 (0%)]\tLoss: 0.003639\n"
     ]
    },
    {
     "name": "stderr",
     "output_type": "stream",
     "text": [
      "  9%|▊         | 26.188524590163382/300 [06:44<1:14:56, 16.42s/it]"
     ]
    },
    {
     "name": "stdout",
     "output_type": "stream",
     "text": [
      "Train Epoch: 27 [5120/24788 (21%)]\tLoss: 0.008962\n"
     ]
    },
    {
     "name": "stderr",
     "output_type": "stream",
     "text": [
      "  9%|▉         | 26.35245901639287/300 [06:47<1:15:01, 16.45s/it] "
     ]
    },
    {
     "name": "stdout",
     "output_type": "stream",
     "text": [
      "Train Epoch: 27 [10240/24788 (41%)]\tLoss: 0.010521\n"
     ]
    },
    {
     "name": "stderr",
     "output_type": "stream",
     "text": [
      "  9%|▉         | 26.51639344262236/300 [06:50<1:15:13, 16.51s/it] "
     ]
    },
    {
     "name": "stdout",
     "output_type": "stream",
     "text": [
      "Train Epoch: 27 [15360/24788 (62%)]\tLoss: 0.008092\n"
     ]
    },
    {
     "name": "stderr",
     "output_type": "stream",
     "text": [
      "  9%|▉         | 26.680327868851847/300 [06:53<1:15:14, 16.52s/it]"
     ]
    },
    {
     "name": "stdout",
     "output_type": "stream",
     "text": [
      "Train Epoch: 27 [20480/24788 (82%)]\tLoss: 0.015257\n"
     ]
    },
    {
     "name": "stderr",
     "output_type": "stream",
     "text": [
      "  9%|▉         | 27.008196721310824/300 [06:56<35:50,  7.88s/it]  "
     ]
    },
    {
     "name": "stdout",
     "output_type": "stream",
     "text": [
      "\n",
      "Test Epoch: 27\tAccuracy: 6046/6197 (97.5633%)\n",
      "\n",
      "Train Epoch: 28 [0/24788 (0%)]\tLoss: 0.013809\n"
     ]
    },
    {
     "name": "stderr",
     "output_type": "stream",
     "text": [
      "  9%|▉         | 27.18852459016326/300 [06:59<1:14:40, 16.42s/it] "
     ]
    },
    {
     "name": "stdout",
     "output_type": "stream",
     "text": [
      "Train Epoch: 28 [5120/24788 (21%)]\tLoss: 0.003503\n"
     ]
    },
    {
     "name": "stderr",
     "output_type": "stream",
     "text": [
      "  9%|▉         | 27.35245901639275/300 [07:02<1:14:58, 16.50s/it] "
     ]
    },
    {
     "name": "stdout",
     "output_type": "stream",
     "text": [
      "Train Epoch: 28 [10240/24788 (41%)]\tLoss: 0.002467\n"
     ]
    },
    {
     "name": "stderr",
     "output_type": "stream",
     "text": [
      "  9%|▉         | 27.51639344262224/300 [07:05<1:14:49, 16.48s/it] "
     ]
    },
    {
     "name": "stdout",
     "output_type": "stream",
     "text": [
      "Train Epoch: 28 [15360/24788 (62%)]\tLoss: 0.015724\n"
     ]
    },
    {
     "name": "stderr",
     "output_type": "stream",
     "text": [
      "  9%|▉         | 27.680327868851727/300 [07:08<1:14:51, 16.50s/it]"
     ]
    },
    {
     "name": "stdout",
     "output_type": "stream",
     "text": [
      "Train Epoch: 28 [20480/24788 (82%)]\tLoss: 0.001782\n"
     ]
    },
    {
     "name": "stderr",
     "output_type": "stream",
     "text": [
      "  9%|▉         | 28.008196721310703/300 [07:11<35:40,  7.87s/it]  "
     ]
    },
    {
     "name": "stdout",
     "output_type": "stream",
     "text": [
      "\n",
      "Test Epoch: 28\tAccuracy: 6076/6197 (98.0474%)\n",
      "\n",
      "Epoch 00028: reducing learning rate of group 0 to 3.0000e-05.\n",
      "Train Epoch: 29 [0/24788 (0%)]\tLoss: 0.003435\n"
     ]
    },
    {
     "name": "stderr",
     "output_type": "stream",
     "text": [
      "  9%|▉         | 28.18852459016314/300 [07:14<1:14:20, 16.41s/it] "
     ]
    },
    {
     "name": "stdout",
     "output_type": "stream",
     "text": [
      "Train Epoch: 29 [5120/24788 (21%)]\tLoss: 0.009984\n"
     ]
    },
    {
     "name": "stderr",
     "output_type": "stream",
     "text": [
      "  9%|▉         | 28.35245901639263/300 [07:17<1:14:27, 16.45s/it] "
     ]
    },
    {
     "name": "stdout",
     "output_type": "stream",
     "text": [
      "Train Epoch: 29 [10240/24788 (41%)]\tLoss: 0.006078\n"
     ]
    },
    {
     "name": "stderr",
     "output_type": "stream",
     "text": [
      " 10%|▉         | 28.516393442622118/300 [07:20<1:14:28, 16.46s/it]"
     ]
    },
    {
     "name": "stdout",
     "output_type": "stream",
     "text": [
      "Train Epoch: 29 [15360/24788 (62%)]\tLoss: 0.006599\n"
     ]
    },
    {
     "name": "stderr",
     "output_type": "stream",
     "text": [
      " 10%|▉         | 28.680327868851606/300 [07:23<1:14:21, 16.44s/it]"
     ]
    },
    {
     "name": "stdout",
     "output_type": "stream",
     "text": [
      "Train Epoch: 29 [20480/24788 (82%)]\tLoss: 0.002630\n"
     ]
    },
    {
     "name": "stderr",
     "output_type": "stream",
     "text": [
      " 10%|▉         | 29.008196721310583/300 [07:26<35:47,  7.92s/it]  "
     ]
    },
    {
     "name": "stdout",
     "output_type": "stream",
     "text": [
      "\n",
      "Test Epoch: 29\tAccuracy: 6099/6197 (98.4186%)\n",
      "\n",
      "Train Epoch: 30 [0/24788 (0%)]\tLoss: 0.002223\n"
     ]
    },
    {
     "name": "stderr",
     "output_type": "stream",
     "text": [
      " 10%|▉         | 29.18852459016302/300 [07:29<1:14:10, 16.43s/it] "
     ]
    },
    {
     "name": "stdout",
     "output_type": "stream",
     "text": [
      "Train Epoch: 30 [5120/24788 (21%)]\tLoss: 0.002678\n"
     ]
    },
    {
     "name": "stderr",
     "output_type": "stream",
     "text": [
      " 10%|▉         | 29.35245901639251/300 [07:32<1:14:24, 16.49s/it] "
     ]
    },
    {
     "name": "stdout",
     "output_type": "stream",
     "text": [
      "Train Epoch: 30 [10240/24788 (41%)]\tLoss: 0.002343\n"
     ]
    },
    {
     "name": "stderr",
     "output_type": "stream",
     "text": [
      " 10%|▉         | 29.516393442621997/300 [07:35<1:14:28, 16.52s/it]"
     ]
    },
    {
     "name": "stdout",
     "output_type": "stream",
     "text": [
      "Train Epoch: 30 [15360/24788 (62%)]\tLoss: 0.002283\n"
     ]
    },
    {
     "name": "stderr",
     "output_type": "stream",
     "text": [
      " 10%|▉         | 29.680327868851485/300 [07:38<1:14:20, 16.50s/it]"
     ]
    },
    {
     "name": "stdout",
     "output_type": "stream",
     "text": [
      "Train Epoch: 30 [20480/24788 (82%)]\tLoss: 0.005966\n"
     ]
    },
    {
     "name": "stderr",
     "output_type": "stream",
     "text": [
      " 10%|▉         | 29.999999999998987/300 [07:41<23:29,  5.22s/it]  "
     ]
    },
    {
     "name": "stdout",
     "output_type": "stream",
     "text": [
      "\n",
      "Test Epoch: 30\tAccuracy: 6104/6197 (98.4993%)\n",
      "\n",
      "Train Epoch: 31 [0/24788 (0%)]\tLoss: 0.003305\n"
     ]
    },
    {
     "name": "stderr",
     "output_type": "stream",
     "text": [
      " 10%|█         | 30.1885245901629/300 [07:44<1:14:02, 16.47s/it]  "
     ]
    },
    {
     "name": "stdout",
     "output_type": "stream",
     "text": [
      "Train Epoch: 31 [5120/24788 (21%)]\tLoss: 0.008660\n"
     ]
    },
    {
     "name": "stderr",
     "output_type": "stream",
     "text": [
      " 10%|█         | 30.352459016392388/300 [07:47<1:13:42, 16.40s/it]"
     ]
    },
    {
     "name": "stdout",
     "output_type": "stream",
     "text": [
      "Train Epoch: 31 [10240/24788 (41%)]\tLoss: 0.004394\n"
     ]
    },
    {
     "name": "stderr",
     "output_type": "stream",
     "text": [
      " 10%|█         | 30.516393442621876/300 [07:50<1:13:47, 16.43s/it]"
     ]
    },
    {
     "name": "stdout",
     "output_type": "stream",
     "text": [
      "Train Epoch: 31 [15360/24788 (62%)]\tLoss: 0.002091\n"
     ]
    },
    {
     "name": "stderr",
     "output_type": "stream",
     "text": [
      " 10%|█         | 30.680327868851364/300 [07:53<1:13:49, 16.45s/it]"
     ]
    },
    {
     "name": "stdout",
     "output_type": "stream",
     "text": [
      "Train Epoch: 31 [20480/24788 (82%)]\tLoss: 0.003662\n"
     ]
    },
    {
     "name": "stderr",
     "output_type": "stream",
     "text": [
      " 10%|█         | 31.00819672131034/300 [07:56<35:51,  8.00s/it]   "
     ]
    },
    {
     "name": "stdout",
     "output_type": "stream",
     "text": [
      "\n",
      "Test Epoch: 31\tAccuracy: 6102/6197 (98.4670%)\n",
      "\n",
      "Train Epoch: 32 [0/24788 (0%)]\tLoss: 0.001642\n"
     ]
    },
    {
     "name": "stderr",
     "output_type": "stream",
     "text": [
      " 10%|█         | 31.18852459016278/300 [07:59<1:13:39, 16.44s/it] "
     ]
    },
    {
     "name": "stdout",
     "output_type": "stream",
     "text": [
      "Train Epoch: 32 [5120/24788 (21%)]\tLoss: 0.002141\n"
     ]
    },
    {
     "name": "stderr",
     "output_type": "stream",
     "text": [
      " 10%|█         | 31.352459016392267/300 [08:02<1:13:38, 16.45s/it]"
     ]
    },
    {
     "name": "stdout",
     "output_type": "stream",
     "text": [
      "Train Epoch: 32 [10240/24788 (41%)]\tLoss: 0.002655\n"
     ]
    },
    {
     "name": "stderr",
     "output_type": "stream",
     "text": [
      " 11%|█         | 31.516393442621755/300 [08:05<1:13:44, 16.48s/it]"
     ]
    },
    {
     "name": "stdout",
     "output_type": "stream",
     "text": [
      "Train Epoch: 32 [15360/24788 (62%)]\tLoss: 0.002767\n"
     ]
    },
    {
     "name": "stderr",
     "output_type": "stream",
     "text": [
      " 11%|█         | 31.680327868851244/300 [08:08<1:13:32, 16.45s/it]"
     ]
    },
    {
     "name": "stdout",
     "output_type": "stream",
     "text": [
      "Train Epoch: 32 [20480/24788 (82%)]\tLoss: 0.003601\n"
     ]
    },
    {
     "name": "stderr",
     "output_type": "stream",
     "text": [
      " 11%|█         | 32.00819672131022/300 [08:11<35:26,  7.93s/it]   "
     ]
    },
    {
     "name": "stdout",
     "output_type": "stream",
     "text": [
      "\n",
      "Test Epoch: 32\tAccuracy: 6104/6197 (98.4993%)\n",
      "\n",
      "Train Epoch: 33 [0/24788 (0%)]\tLoss: 0.001988\n"
     ]
    },
    {
     "name": "stderr",
     "output_type": "stream",
     "text": [
      " 11%|█         | 32.188524590162736/300 [08:14<1:13:17, 16.42s/it]"
     ]
    },
    {
     "name": "stdout",
     "output_type": "stream",
     "text": [
      "Train Epoch: 33 [5120/24788 (21%)]\tLoss: 0.003333\n"
     ]
    },
    {
     "name": "stderr",
     "output_type": "stream",
     "text": [
      " 11%|█         | 32.352459016392295/300 [08:17<1:13:35, 16.50s/it]"
     ]
    },
    {
     "name": "stdout",
     "output_type": "stream",
     "text": [
      "Train Epoch: 33 [10240/24788 (41%)]\tLoss: 0.004651\n"
     ]
    },
    {
     "name": "stderr",
     "output_type": "stream",
     "text": [
      " 11%|█         | 32.516393442621855/300 [08:20<1:13:37, 16.52s/it]"
     ]
    },
    {
     "name": "stdout",
     "output_type": "stream",
     "text": [
      "Train Epoch: 33 [15360/24788 (62%)]\tLoss: 0.002107\n"
     ]
    },
    {
     "name": "stderr",
     "output_type": "stream",
     "text": [
      " 11%|█         | 32.680327868851414/300 [08:23<1:13:50, 16.57s/it]"
     ]
    },
    {
     "name": "stdout",
     "output_type": "stream",
     "text": [
      "Train Epoch: 33 [20480/24788 (82%)]\tLoss: 0.001917\n"
     ]
    },
    {
     "name": "stderr",
     "output_type": "stream",
     "text": [
      " 11%|█         | 33.00819672131053/300 [08:26<35:30,  7.98s/it]   "
     ]
    },
    {
     "name": "stdout",
     "output_type": "stream",
     "text": [
      "\n",
      "Test Epoch: 33\tAccuracy: 6102/6197 (98.4670%)\n",
      "\n",
      "Train Epoch: 34 [0/24788 (0%)]\tLoss: 0.002288\n"
     ]
    },
    {
     "name": "stderr",
     "output_type": "stream",
     "text": [
      " 11%|█         | 33.18852459016305/300 [08:29<1:13:16, 16.48s/it] "
     ]
    },
    {
     "name": "stdout",
     "output_type": "stream",
     "text": [
      "Train Epoch: 34 [5120/24788 (21%)]\tLoss: 0.001801\n"
     ]
    },
    {
     "name": "stderr",
     "output_type": "stream",
     "text": [
      " 11%|█         | 33.35245901639261/300 [08:32<1:13:10, 16.47s/it] "
     ]
    },
    {
     "name": "stdout",
     "output_type": "stream",
     "text": [
      "Train Epoch: 34 [10240/24788 (41%)]\tLoss: 0.005939\n"
     ]
    },
    {
     "name": "stderr",
     "output_type": "stream",
     "text": [
      " 11%|█         | 33.51639344262217/300 [08:35<1:13:37, 16.58s/it] "
     ]
    },
    {
     "name": "stdout",
     "output_type": "stream",
     "text": [
      "Train Epoch: 34 [15360/24788 (62%)]\tLoss: 0.001484\n"
     ]
    },
    {
     "name": "stderr",
     "output_type": "stream",
     "text": [
      " 11%|█         | 33.68032786885173/300 [08:38<1:13:02, 16.46s/it] "
     ]
    },
    {
     "name": "stdout",
     "output_type": "stream",
     "text": [
      "Train Epoch: 34 [20480/24788 (82%)]\tLoss: 0.002615\n"
     ]
    },
    {
     "name": "stderr",
     "output_type": "stream",
     "text": [
      " 11%|█▏        | 34.008196721310846/300 [08:41<34:51,  7.86s/it]  "
     ]
    },
    {
     "name": "stdout",
     "output_type": "stream",
     "text": [
      "\n",
      "Test Epoch: 34\tAccuracy: 6102/6197 (98.4670%)\n",
      "\n",
      "Train Epoch: 35 [0/24788 (0%)]\tLoss: 0.001134\n"
     ]
    },
    {
     "name": "stderr",
     "output_type": "stream",
     "text": [
      " 11%|█▏        | 34.18852459016336/300 [08:44<1:12:50, 16.44s/it] "
     ]
    },
    {
     "name": "stdout",
     "output_type": "stream",
     "text": [
      "Train Epoch: 35 [5120/24788 (21%)]\tLoss: 0.001440\n"
     ]
    },
    {
     "name": "stderr",
     "output_type": "stream",
     "text": [
      " 11%|█▏        | 34.35245901639292/300 [08:47<1:12:36, 16.40s/it] "
     ]
    },
    {
     "name": "stdout",
     "output_type": "stream",
     "text": [
      "Train Epoch: 35 [10240/24788 (41%)]\tLoss: 0.002231\n"
     ]
    },
    {
     "name": "stderr",
     "output_type": "stream",
     "text": [
      " 12%|█▏        | 34.51639344262248/300 [08:50<1:12:58, 16.49s/it] "
     ]
    },
    {
     "name": "stdout",
     "output_type": "stream",
     "text": [
      "Train Epoch: 35 [15360/24788 (62%)]\tLoss: 0.002030\n"
     ]
    },
    {
     "name": "stderr",
     "output_type": "stream",
     "text": [
      " 12%|█▏        | 34.68032786885204/300 [08:52<1:12:44, 16.45s/it] "
     ]
    },
    {
     "name": "stdout",
     "output_type": "stream",
     "text": [
      "Train Epoch: 35 [20480/24788 (82%)]\tLoss: 0.001898\n"
     ]
    },
    {
     "name": "stderr",
     "output_type": "stream",
     "text": [
      " 12%|█▏        | 35.00819672131116/300 [08:56<34:50,  7.89s/it]   "
     ]
    },
    {
     "name": "stdout",
     "output_type": "stream",
     "text": [
      "\n",
      "Test Epoch: 35\tAccuracy: 6103/6197 (98.4831%)\n",
      "\n",
      "Train Epoch: 36 [0/24788 (0%)]\tLoss: 0.001854\n"
     ]
    },
    {
     "name": "stderr",
     "output_type": "stream",
     "text": [
      " 12%|█▏        | 35.188524590163674/300 [08:59<1:12:47, 16.49s/it]"
     ]
    },
    {
     "name": "stdout",
     "output_type": "stream",
     "text": [
      "Train Epoch: 36 [5120/24788 (21%)]\tLoss: 0.002008\n"
     ]
    },
    {
     "name": "stderr",
     "output_type": "stream",
     "text": [
      " 12%|█▏        | 35.35245901639323/300 [09:02<1:12:46, 16.50s/it] "
     ]
    },
    {
     "name": "stdout",
     "output_type": "stream",
     "text": [
      "Train Epoch: 36 [10240/24788 (41%)]\tLoss: 0.002348\n"
     ]
    },
    {
     "name": "stderr",
     "output_type": "stream",
     "text": [
      " 12%|█▏        | 35.51639344262279/300 [09:05<1:12:56, 16.55s/it] "
     ]
    },
    {
     "name": "stdout",
     "output_type": "stream",
     "text": [
      "Train Epoch: 36 [15360/24788 (62%)]\tLoss: 0.002454\n"
     ]
    },
    {
     "name": "stderr",
     "output_type": "stream",
     "text": [
      " 12%|█▏        | 35.68032786885235/300 [09:07<1:12:49, 16.53s/it] "
     ]
    },
    {
     "name": "stdout",
     "output_type": "stream",
     "text": [
      "Train Epoch: 36 [20480/24788 (82%)]\tLoss: 0.003101\n"
     ]
    },
    {
     "name": "stderr",
     "output_type": "stream",
     "text": [
      " 12%|█▏        | 36.00819672131147/300 [09:11<34:46,  7.90s/it]   "
     ]
    },
    {
     "name": "stdout",
     "output_type": "stream",
     "text": [
      "\n",
      "Test Epoch: 36\tAccuracy: 6101/6197 (98.4509%)\n",
      "\n",
      "Train Epoch: 37 [0/24788 (0%)]\tLoss: 0.001986\n"
     ]
    },
    {
     "name": "stderr",
     "output_type": "stream",
     "text": [
      " 12%|█▏        | 36.188524590163986/300 [09:14<1:12:24, 16.47s/it]"
     ]
    },
    {
     "name": "stdout",
     "output_type": "stream",
     "text": [
      "Train Epoch: 37 [5120/24788 (21%)]\tLoss: 0.003402\n"
     ]
    },
    {
     "name": "stderr",
     "output_type": "stream",
     "text": [
      " 12%|█▏        | 36.352459016393546/300 [09:17<1:12:34, 16.52s/it]"
     ]
    },
    {
     "name": "stdout",
     "output_type": "stream",
     "text": [
      "Train Epoch: 37 [10240/24788 (41%)]\tLoss: 0.005240\n"
     ]
    },
    {
     "name": "stderr",
     "output_type": "stream",
     "text": [
      " 12%|█▏        | 36.516393442623105/300 [09:20<1:12:03, 16.41s/it]"
     ]
    },
    {
     "name": "stdout",
     "output_type": "stream",
     "text": [
      "Train Epoch: 37 [15360/24788 (62%)]\tLoss: 0.001710\n"
     ]
    },
    {
     "name": "stderr",
     "output_type": "stream",
     "text": [
      " 12%|█▏        | 36.680327868852665/300 [09:22<1:12:39, 16.55s/it]"
     ]
    },
    {
     "name": "stdout",
     "output_type": "stream",
     "text": [
      "Train Epoch: 37 [20480/24788 (82%)]\tLoss: 0.004358\n"
     ]
    },
    {
     "name": "stderr",
     "output_type": "stream",
     "text": [
      " 12%|█▏        | 37.00819672131178/300 [09:26<34:43,  7.92s/it]   "
     ]
    },
    {
     "name": "stdout",
     "output_type": "stream",
     "text": [
      "\n",
      "Test Epoch: 37\tAccuracy: 6102/6197 (98.4670%)\n",
      "\n",
      "Train Epoch: 38 [0/24788 (0%)]\tLoss: 0.000784\n"
     ]
    },
    {
     "name": "stderr",
     "output_type": "stream",
     "text": [
      " 12%|█▏        | 37.1885245901643/300 [09:29<1:12:05, 16.46s/it]  "
     ]
    },
    {
     "name": "stdout",
     "output_type": "stream",
     "text": [
      "Train Epoch: 38 [5120/24788 (21%)]\tLoss: 0.001072\n"
     ]
    },
    {
     "name": "stderr",
     "output_type": "stream",
     "text": [
      " 12%|█▏        | 37.35245901639386/300 [09:32<1:12:30, 16.56s/it] "
     ]
    },
    {
     "name": "stdout",
     "output_type": "stream",
     "text": [
      "Train Epoch: 38 [10240/24788 (41%)]\tLoss: 0.003286\n"
     ]
    },
    {
     "name": "stderr",
     "output_type": "stream",
     "text": [
      " 13%|█▎        | 37.51639344262342/300 [09:35<1:12:25, 16.56s/it] "
     ]
    },
    {
     "name": "stdout",
     "output_type": "stream",
     "text": [
      "Train Epoch: 38 [15360/24788 (62%)]\tLoss: 0.001234\n"
     ]
    },
    {
     "name": "stderr",
     "output_type": "stream",
     "text": [
      " 13%|█▎        | 37.68032786885298/300 [09:37<1:12:15, 16.53s/it] "
     ]
    },
    {
     "name": "stdout",
     "output_type": "stream",
     "text": [
      "Train Epoch: 38 [20480/24788 (82%)]\tLoss: 0.003709\n"
     ]
    },
    {
     "name": "stderr",
     "output_type": "stream",
     "text": [
      " 13%|█▎        | 38.00000000000062/300 [09:40<22:50,  5.23s/it]   "
     ]
    },
    {
     "name": "stdout",
     "output_type": "stream",
     "text": [
      "\n",
      "Test Epoch: 38\tAccuracy: 6102/6197 (98.4670%)\n",
      "\n",
      "Train Epoch: 39 [0/24788 (0%)]\tLoss: 0.001769\n"
     ]
    },
    {
     "name": "stderr",
     "output_type": "stream",
     "text": [
      " 13%|█▎        | 38.18852459016461/300 [09:44<1:12:01, 16.50s/it] "
     ]
    },
    {
     "name": "stdout",
     "output_type": "stream",
     "text": [
      "Train Epoch: 39 [5120/24788 (21%)]\tLoss: 0.003503\n"
     ]
    },
    {
     "name": "stderr",
     "output_type": "stream",
     "text": [
      " 13%|█▎        | 38.35245901639417/300 [09:47<1:12:16, 16.57s/it] "
     ]
    },
    {
     "name": "stdout",
     "output_type": "stream",
     "text": [
      "Train Epoch: 39 [10240/24788 (41%)]\tLoss: 0.004108\n"
     ]
    },
    {
     "name": "stderr",
     "output_type": "stream",
     "text": [
      " 13%|█▎        | 38.51639344262373/300 [09:50<1:12:08, 16.55s/it] "
     ]
    },
    {
     "name": "stdout",
     "output_type": "stream",
     "text": [
      "Train Epoch: 39 [15360/24788 (62%)]\tLoss: 0.002680\n"
     ]
    },
    {
     "name": "stderr",
     "output_type": "stream",
     "text": [
      " 13%|█▎        | 38.68032786885329/300 [09:52<1:11:24, 16.39s/it] "
     ]
    },
    {
     "name": "stdout",
     "output_type": "stream",
     "text": [
      "Train Epoch: 39 [20480/24788 (82%)]\tLoss: 0.002326\n"
     ]
    },
    {
     "name": "stderr",
     "output_type": "stream",
     "text": [
      " 13%|█▎        | 39.00819672131241/300 [09:56<34:22,  7.90s/it]   "
     ]
    },
    {
     "name": "stdout",
     "output_type": "stream",
     "text": [
      "\n",
      "Test Epoch: 39\tAccuracy: 6104/6197 (98.4993%)\n",
      "\n",
      "Train Epoch: 40 [0/24788 (0%)]\tLoss: 0.002069\n"
     ]
    },
    {
     "name": "stderr",
     "output_type": "stream",
     "text": [
      " 13%|█▎        | 39.188524590164924/300 [09:59<1:11:12, 16.38s/it]"
     ]
    },
    {
     "name": "stdout",
     "output_type": "stream",
     "text": [
      "Train Epoch: 40 [5120/24788 (21%)]\tLoss: 0.001663\n"
     ]
    },
    {
     "name": "stderr",
     "output_type": "stream",
     "text": [
      " 13%|█▎        | 39.352459016394484/300 [10:02<1:11:29, 16.46s/it]"
     ]
    },
    {
     "name": "stdout",
     "output_type": "stream",
     "text": [
      "Train Epoch: 40 [10240/24788 (41%)]\tLoss: 0.003005\n"
     ]
    },
    {
     "name": "stderr",
     "output_type": "stream",
     "text": [
      " 13%|█▎        | 39.51639344262404/300 [10:05<1:11:41, 16.51s/it] "
     ]
    },
    {
     "name": "stdout",
     "output_type": "stream",
     "text": [
      "Train Epoch: 40 [15360/24788 (62%)]\tLoss: 0.001883\n"
     ]
    },
    {
     "name": "stderr",
     "output_type": "stream",
     "text": [
      " 13%|█▎        | 39.6803278688536/300 [10:07<1:11:25, 16.46s/it]  "
     ]
    },
    {
     "name": "stdout",
     "output_type": "stream",
     "text": [
      "Train Epoch: 40 [20480/24788 (82%)]\tLoss: 0.001587\n"
     ]
    },
    {
     "name": "stderr",
     "output_type": "stream",
     "text": [
      " 13%|█▎        | 40.00000000000124/300 [10:10<22:35,  5.21s/it]   "
     ]
    },
    {
     "name": "stdout",
     "output_type": "stream",
     "text": [
      "\n",
      "Test Epoch: 40\tAccuracy: 6102/6197 (98.4670%)\n",
      "\n",
      "Train Epoch: 41 [0/24788 (0%)]\tLoss: 0.004577\n"
     ]
    },
    {
     "name": "stderr",
     "output_type": "stream",
     "text": [
      " 13%|█▎        | 40.18852459016524/300 [10:14<1:11:08, 16.43s/it] "
     ]
    },
    {
     "name": "stdout",
     "output_type": "stream",
     "text": [
      "Train Epoch: 41 [5120/24788 (21%)]\tLoss: 0.002939\n"
     ]
    },
    {
     "name": "stderr",
     "output_type": "stream",
     "text": [
      " 13%|█▎        | 40.352459016394796/300 [10:17<1:11:16, 16.47s/it]"
     ]
    },
    {
     "name": "stdout",
     "output_type": "stream",
     "text": [
      "Train Epoch: 41 [10240/24788 (41%)]\tLoss: 0.000891\n"
     ]
    },
    {
     "name": "stderr",
     "output_type": "stream",
     "text": [
      " 14%|█▎        | 40.516393442624356/300 [10:19<1:11:17, 16.48s/it]"
     ]
    },
    {
     "name": "stdout",
     "output_type": "stream",
     "text": [
      "Train Epoch: 41 [15360/24788 (62%)]\tLoss: 0.001890\n"
     ]
    },
    {
     "name": "stderr",
     "output_type": "stream",
     "text": [
      " 14%|█▎        | 40.680327868853915/300 [10:22<1:10:47, 16.38s/it]"
     ]
    },
    {
     "name": "stdout",
     "output_type": "stream",
     "text": [
      "Train Epoch: 41 [20480/24788 (82%)]\tLoss: 0.003608\n"
     ]
    },
    {
     "name": "stderr",
     "output_type": "stream",
     "text": [
      " 14%|█▎        | 41.008196721313034/300 [10:26<34:01,  7.88s/it]  "
     ]
    },
    {
     "name": "stdout",
     "output_type": "stream",
     "text": [
      "\n",
      "Test Epoch: 41\tAccuracy: 6104/6197 (98.4993%)\n",
      "\n",
      "Epoch 00041: reducing learning rate of group 0 to 3.0000e-06.\n",
      "Train Epoch: 42 [0/24788 (0%)]\tLoss: 0.001378\n"
     ]
    },
    {
     "name": "stderr",
     "output_type": "stream",
     "text": [
      " 14%|█▎        | 41.18852459016555/300 [10:29<1:10:52, 16.43s/it] "
     ]
    },
    {
     "name": "stdout",
     "output_type": "stream",
     "text": [
      "Train Epoch: 42 [5120/24788 (21%)]\tLoss: 0.002132\n"
     ]
    },
    {
     "name": "stderr",
     "output_type": "stream",
     "text": [
      " 14%|█▍        | 41.35245901639511/300 [10:32<1:10:27, 16.34s/it] "
     ]
    },
    {
     "name": "stdout",
     "output_type": "stream",
     "text": [
      "Train Epoch: 42 [10240/24788 (41%)]\tLoss: 0.001498\n"
     ]
    },
    {
     "name": "stderr",
     "output_type": "stream",
     "text": [
      " 14%|█▍        | 41.51639344262467/300 [10:34<1:11:10, 16.52s/it] "
     ]
    },
    {
     "name": "stdout",
     "output_type": "stream",
     "text": [
      "Train Epoch: 42 [15360/24788 (62%)]\tLoss: 0.002092\n"
     ]
    },
    {
     "name": "stderr",
     "output_type": "stream",
     "text": [
      " 14%|█▍        | 41.68032786885423/300 [10:37<1:10:58, 16.49s/it] "
     ]
    },
    {
     "name": "stdout",
     "output_type": "stream",
     "text": [
      "Train Epoch: 42 [20480/24788 (82%)]\tLoss: 0.001812\n"
     ]
    },
    {
     "name": "stderr",
     "output_type": "stream",
     "text": [
      " 14%|█▍        | 42.00819672131335/300 [10:41<33:55,  7.89s/it]   "
     ]
    },
    {
     "name": "stdout",
     "output_type": "stream",
     "text": [
      "\n",
      "Test Epoch: 42\tAccuracy: 6104/6197 (98.4993%)\n",
      "\n",
      "Train Epoch: 43 [0/24788 (0%)]\tLoss: 0.001394\n"
     ]
    },
    {
     "name": "stderr",
     "output_type": "stream",
     "text": [
      " 14%|█▍        | 42.18852459016586/300 [10:44<1:10:42, 16.45s/it] "
     ]
    },
    {
     "name": "stdout",
     "output_type": "stream",
     "text": [
      "Train Epoch: 43 [5120/24788 (21%)]\tLoss: 0.001279\n"
     ]
    },
    {
     "name": "stderr",
     "output_type": "stream",
     "text": [
      " 14%|█▍        | 42.35245901639542/300 [10:46<1:10:55, 16.52s/it] "
     ]
    },
    {
     "name": "stdout",
     "output_type": "stream",
     "text": [
      "Train Epoch: 43 [10240/24788 (41%)]\tLoss: 0.004178\n"
     ]
    },
    {
     "name": "stderr",
     "output_type": "stream",
     "text": [
      " 14%|█▍        | 42.51639344262498/300 [10:49<1:10:50, 16.51s/it] "
     ]
    },
    {
     "name": "stdout",
     "output_type": "stream",
     "text": [
      "Train Epoch: 43 [15360/24788 (62%)]\tLoss: 0.000678\n"
     ]
    },
    {
     "name": "stderr",
     "output_type": "stream",
     "text": [
      " 14%|█▍        | 42.68032786885454/300 [10:52<1:10:33, 16.45s/it] "
     ]
    },
    {
     "name": "stdout",
     "output_type": "stream",
     "text": [
      "Train Epoch: 43 [20480/24788 (82%)]\tLoss: 0.002585\n"
     ]
    },
    {
     "name": "stderr",
     "output_type": "stream",
     "text": [
      " 14%|█▍        | 43.00819672131366/300 [10:56<33:53,  7.91s/it]   "
     ]
    },
    {
     "name": "stdout",
     "output_type": "stream",
     "text": [
      "\n",
      "Test Epoch: 43\tAccuracy: 6104/6197 (98.4993%)\n",
      "\n",
      "Train Epoch: 44 [0/24788 (0%)]\tLoss: 0.002990\n"
     ]
    },
    {
     "name": "stderr",
     "output_type": "stream",
     "text": [
      " 14%|█▍        | 43.188524590166175/300 [10:59<1:10:39, 16.51s/it]"
     ]
    },
    {
     "name": "stdout",
     "output_type": "stream",
     "text": [
      "Train Epoch: 44 [5120/24788 (21%)]\tLoss: 0.002075\n"
     ]
    },
    {
     "name": "stderr",
     "output_type": "stream",
     "text": [
      " 14%|█▍        | 43.352459016395734/300 [11:01<1:10:30, 16.48s/it]"
     ]
    },
    {
     "name": "stdout",
     "output_type": "stream",
     "text": [
      "Train Epoch: 44 [10240/24788 (41%)]\tLoss: 0.002246\n"
     ]
    },
    {
     "name": "stderr",
     "output_type": "stream",
     "text": [
      " 15%|█▍        | 43.516393442625294/300 [11:04<1:10:44, 16.55s/it]"
     ]
    },
    {
     "name": "stdout",
     "output_type": "stream",
     "text": [
      "Train Epoch: 44 [15360/24788 (62%)]\tLoss: 0.002391\n"
     ]
    },
    {
     "name": "stderr",
     "output_type": "stream",
     "text": [
      " 15%|█▍        | 43.68032786885485/300 [11:07<1:10:36, 16.53s/it] "
     ]
    },
    {
     "name": "stdout",
     "output_type": "stream",
     "text": [
      "Train Epoch: 44 [20480/24788 (82%)]\tLoss: 0.001043\n"
     ]
    },
    {
     "name": "stderr",
     "output_type": "stream",
     "text": [
      " 15%|█▍        | 44.000000000002494/300 [11:10<22:15,  5.22s/it]  "
     ]
    },
    {
     "name": "stdout",
     "output_type": "stream",
     "text": [
      "\n",
      "Test Epoch: 44\tAccuracy: 6101/6197 (98.4509%)\n",
      "\n",
      "Train Epoch: 45 [0/24788 (0%)]\tLoss: 0.001887\n"
     ]
    },
    {
     "name": "stderr",
     "output_type": "stream",
     "text": [
      " 15%|█▍        | 44.18852459016649/300 [11:14<1:10:07, 16.45s/it] "
     ]
    },
    {
     "name": "stdout",
     "output_type": "stream",
     "text": [
      "Train Epoch: 45 [5120/24788 (21%)]\tLoss: 0.002903\n"
     ]
    },
    {
     "name": "stderr",
     "output_type": "stream",
     "text": [
      " 15%|█▍        | 44.35245901639605/300 [11:16<1:09:39, 16.35s/it] "
     ]
    },
    {
     "name": "stdout",
     "output_type": "stream",
     "text": [
      "Train Epoch: 45 [10240/24788 (41%)]\tLoss: 0.001398\n"
     ]
    },
    {
     "name": "stderr",
     "output_type": "stream",
     "text": [
      " 15%|█▍        | 44.516393442625606/300 [11:19<1:10:40, 16.60s/it]"
     ]
    },
    {
     "name": "stdout",
     "output_type": "stream",
     "text": [
      "Train Epoch: 45 [15360/24788 (62%)]\tLoss: 0.000985\n"
     ]
    },
    {
     "name": "stderr",
     "output_type": "stream",
     "text": [
      " 15%|█▍        | 44.680327868855166/300 [11:22<1:10:15, 16.51s/it]"
     ]
    },
    {
     "name": "stdout",
     "output_type": "stream",
     "text": [
      "Train Epoch: 45 [20480/24788 (82%)]\tLoss: 0.002050\n"
     ]
    },
    {
     "name": "stderr",
     "output_type": "stream",
     "text": [
      " 15%|█▌        | 45.00000000000281/300 [11:25<22:10,  5.22s/it]   "
     ]
    },
    {
     "name": "stdout",
     "output_type": "stream",
     "text": [
      "\n",
      "Test Epoch: 45\tAccuracy: 6103/6197 (98.4831%)\n",
      "\n",
      "Train Epoch: 46 [0/24788 (0%)]\tLoss: 0.000489\n"
     ]
    },
    {
     "name": "stderr",
     "output_type": "stream",
     "text": [
      " 15%|█▌        | 45.1885245901668/300 [11:29<1:10:00, 16.49s/it]  "
     ]
    },
    {
     "name": "stdout",
     "output_type": "stream",
     "text": [
      "Train Epoch: 46 [5120/24788 (21%)]\tLoss: 0.002778\n"
     ]
    },
    {
     "name": "stderr",
     "output_type": "stream",
     "text": [
      " 15%|█▌        | 45.35245901639636/300 [11:31<1:10:07, 16.52s/it] "
     ]
    },
    {
     "name": "stdout",
     "output_type": "stream",
     "text": [
      "Train Epoch: 46 [10240/24788 (41%)]\tLoss: 0.002560\n"
     ]
    },
    {
     "name": "stderr",
     "output_type": "stream",
     "text": [
      " 15%|█▌        | 45.51639344262592/300 [11:34<1:10:06, 16.53s/it] "
     ]
    },
    {
     "name": "stdout",
     "output_type": "stream",
     "text": [
      "Train Epoch: 46 [15360/24788 (62%)]\tLoss: 0.000885\n"
     ]
    },
    {
     "name": "stderr",
     "output_type": "stream",
     "text": [
      " 15%|█▌        | 45.68032786885548/300 [11:37<1:09:47, 16.46s/it] "
     ]
    },
    {
     "name": "stdout",
     "output_type": "stream",
     "text": [
      "Train Epoch: 46 [20480/24788 (82%)]\tLoss: 0.003668\n"
     ]
    },
    {
     "name": "stderr",
     "output_type": "stream",
     "text": [
      " 15%|█▌        | 46.00000000000312/300 [11:40<22:10,  5.24s/it]   "
     ]
    },
    {
     "name": "stdout",
     "output_type": "stream",
     "text": [
      "\n",
      "Test Epoch: 46\tAccuracy: 6103/6197 (98.4831%)\n",
      "\n",
      "Train Epoch: 47 [0/24788 (0%)]\tLoss: 0.002921\n"
     ]
    },
    {
     "name": "stderr",
     "output_type": "stream",
     "text": [
      " 15%|█▌        | 46.18852459016711/300 [11:43<1:09:37, 16.46s/it] "
     ]
    },
    {
     "name": "stdout",
     "output_type": "stream",
     "text": [
      "Train Epoch: 47 [5120/24788 (21%)]\tLoss: 0.000684\n"
     ]
    },
    {
     "name": "stderr",
     "output_type": "stream",
     "text": [
      " 15%|█▌        | 46.35245901639667/300 [11:46<1:09:47, 16.51s/it] "
     ]
    },
    {
     "name": "stdout",
     "output_type": "stream",
     "text": [
      "Train Epoch: 47 [10240/24788 (41%)]\tLoss: 0.001038\n"
     ]
    },
    {
     "name": "stderr",
     "output_type": "stream",
     "text": [
      " 16%|█▌        | 46.51639344262623/300 [11:49<1:09:52, 16.54s/it] "
     ]
    },
    {
     "name": "stdout",
     "output_type": "stream",
     "text": [
      "Train Epoch: 47 [15360/24788 (62%)]\tLoss: 0.001853\n"
     ]
    },
    {
     "name": "stderr",
     "output_type": "stream",
     "text": [
      " 16%|█▌        | 46.68032786885579/300 [11:52<1:08:57, 16.33s/it] "
     ]
    },
    {
     "name": "stdout",
     "output_type": "stream",
     "text": [
      "Train Epoch: 47 [20480/24788 (82%)]\tLoss: 0.002115\n"
     ]
    },
    {
     "name": "stderr",
     "output_type": "stream",
     "text": [
      " 16%|█▌        | 47.00819672131491/300 [11:55<33:13,  7.88s/it]   "
     ]
    },
    {
     "name": "stdout",
     "output_type": "stream",
     "text": [
      "\n",
      "Test Epoch: 47\tAccuracy: 6100/6197 (98.4347%)\n",
      "\n",
      "Train Epoch: 48 [0/24788 (0%)]\tLoss: 0.001448\n"
     ]
    },
    {
     "name": "stderr",
     "output_type": "stream",
     "text": [
      " 16%|█▌        | 47.188524590167425/300 [11:58<1:09:30, 16.50s/it]"
     ]
    },
    {
     "name": "stdout",
     "output_type": "stream",
     "text": [
      "Train Epoch: 48 [5120/24788 (21%)]\tLoss: 0.001744\n"
     ]
    },
    {
     "name": "stderr",
     "output_type": "stream",
     "text": [
      " 16%|█▌        | 47.352459016396985/300 [12:01<1:09:33, 16.52s/it]"
     ]
    },
    {
     "name": "stdout",
     "output_type": "stream",
     "text": [
      "Train Epoch: 48 [10240/24788 (41%)]\tLoss: 0.001922\n"
     ]
    },
    {
     "name": "stderr",
     "output_type": "stream",
     "text": [
      " 16%|█▌        | 47.516393442626544/300 [12:04<1:09:41, 16.56s/it]"
     ]
    },
    {
     "name": "stdout",
     "output_type": "stream",
     "text": [
      "Train Epoch: 48 [15360/24788 (62%)]\tLoss: 0.001145\n"
     ]
    },
    {
     "name": "stderr",
     "output_type": "stream",
     "text": [
      " 16%|█▌        | 47.680327868856104/300 [12:07<1:09:28, 16.52s/it]"
     ]
    },
    {
     "name": "stdout",
     "output_type": "stream",
     "text": [
      "Train Epoch: 48 [20480/24788 (82%)]\tLoss: 0.001340\n"
     ]
    },
    {
     "name": "stderr",
     "output_type": "stream",
     "text": [
      " 16%|█▌        | 48.000000000003745/300 [12:10<21:56,  5.23s/it]  "
     ]
    },
    {
     "name": "stdout",
     "output_type": "stream",
     "text": [
      "\n",
      "Test Epoch: 48\tAccuracy: 6103/6197 (98.4831%)\n",
      "\n",
      "Train Epoch: 49 [0/24788 (0%)]\tLoss: 0.001954\n"
     ]
    },
    {
     "name": "stderr",
     "output_type": "stream",
     "text": [
      " 16%|█▌        | 48.18852459016774/300 [12:13<1:08:57, 16.43s/it] "
     ]
    },
    {
     "name": "stdout",
     "output_type": "stream",
     "text": [
      "Train Epoch: 49 [5120/24788 (21%)]\tLoss: 0.001028\n"
     ]
    },
    {
     "name": "stderr",
     "output_type": "stream",
     "text": [
      " 16%|█▌        | 48.33606557377434/300 [12:16<1:52:20, 26.78s/it] "
     ]
    },
    {
     "name": "stdout",
     "output_type": "stream",
     "text": [
      "Train Epoch: 49 [10240/24788 (41%)]\tLoss: 0.004188\n"
     ]
    },
    {
     "name": "stderr",
     "output_type": "stream",
     "text": [
      " 16%|█▌        | 48.51639344262686/300 [12:20<1:12:14, 17.23s/it] "
     ]
    },
    {
     "name": "stdout",
     "output_type": "stream",
     "text": [
      "Train Epoch: 49 [15360/24788 (62%)]\tLoss: 0.001360\n"
     ]
    },
    {
     "name": "stderr",
     "output_type": "stream",
     "text": [
      " 16%|█▌        | 48.680327868856416/300 [12:23<1:13:22, 17.52s/it]"
     ]
    },
    {
     "name": "stdout",
     "output_type": "stream",
     "text": [
      "Train Epoch: 49 [20480/24788 (82%)]\tLoss: 0.001428\n"
     ]
    },
    {
     "name": "stderr",
     "output_type": "stream",
     "text": [
      " 16%|█▋        | 49.00000000000406/300 [12:26<23:45,  5.68s/it]   "
     ]
    },
    {
     "name": "stdout",
     "output_type": "stream",
     "text": [
      "\n",
      "Test Epoch: 49\tAccuracy: 6104/6197 (98.4993%)\n",
      "\n",
      "Epoch 00049: reducing learning rate of group 0 to 3.0000e-07.\n",
      "Train Epoch: 50 [0/24788 (0%)]\tLoss: 0.002877\n"
     ]
    },
    {
     "name": "stderr",
     "output_type": "stream",
     "text": [
      " 16%|█▋        | 49.18852459016805/300 [12:30<1:13:22, 17.55s/it] "
     ]
    },
    {
     "name": "stdout",
     "output_type": "stream",
     "text": [
      "Train Epoch: 50 [5120/24788 (21%)]\tLoss: 0.002306\n"
     ]
    },
    {
     "name": "stderr",
     "output_type": "stream",
     "text": [
      " 16%|█▋        | 49.35245901639761/300 [12:33<1:08:34, 16.41s/it] "
     ]
    },
    {
     "name": "stdout",
     "output_type": "stream",
     "text": [
      "Train Epoch: 50 [10240/24788 (41%)]\tLoss: 0.002852\n"
     ]
    },
    {
     "name": "stderr",
     "output_type": "stream",
     "text": [
      " 17%|█▋        | 49.51639344262717/300 [12:36<1:09:12, 16.58s/it] "
     ]
    },
    {
     "name": "stdout",
     "output_type": "stream",
     "text": [
      "Train Epoch: 50 [15360/24788 (62%)]\tLoss: 0.001187\n"
     ]
    },
    {
     "name": "stderr",
     "output_type": "stream",
     "text": [
      " 17%|█▋        | 49.68032786885673/300 [12:39<1:08:58, 16.53s/it] "
     ]
    },
    {
     "name": "stdout",
     "output_type": "stream",
     "text": [
      "Train Epoch: 50 [20480/24788 (82%)]\tLoss: 0.001610\n"
     ]
    },
    {
     "name": "stderr",
     "output_type": "stream",
     "text": [
      " 17%|█▋        | 50.00000000000437/300 [12:42<21:43,  5.21s/it]   "
     ]
    },
    {
     "name": "stdout",
     "output_type": "stream",
     "text": [
      "\n",
      "Test Epoch: 50\tAccuracy: 6100/6197 (98.4347%)\n",
      "\n",
      "Train Epoch: 51 [0/24788 (0%)]\tLoss: 0.000431\n"
     ]
    },
    {
     "name": "stderr",
     "output_type": "stream",
     "text": [
      " 17%|█▋        | 50.18852459016836/300 [12:45<1:08:46, 16.52s/it] "
     ]
    },
    {
     "name": "stdout",
     "output_type": "stream",
     "text": [
      "Train Epoch: 51 [5120/24788 (21%)]\tLoss: 0.000745\n"
     ]
    },
    {
     "name": "stderr",
     "output_type": "stream",
     "text": [
      " 17%|█▋        | 50.35245901639792/300 [12:48<1:08:48, 16.54s/it] "
     ]
    },
    {
     "name": "stdout",
     "output_type": "stream",
     "text": [
      "Train Epoch: 51 [10240/24788 (41%)]\tLoss: 0.001314\n"
     ]
    },
    {
     "name": "stderr",
     "output_type": "stream",
     "text": [
      " 17%|█▋        | 50.51639344262748/300 [12:51<1:08:55, 16.58s/it] "
     ]
    },
    {
     "name": "stdout",
     "output_type": "stream",
     "text": [
      "Train Epoch: 51 [15360/24788 (62%)]\tLoss: 0.001874\n"
     ]
    },
    {
     "name": "stderr",
     "output_type": "stream",
     "text": [
      " 17%|█▋        | 50.68032786885704/300 [12:54<1:08:56, 16.59s/it] "
     ]
    },
    {
     "name": "stdout",
     "output_type": "stream",
     "text": [
      "Train Epoch: 51 [20480/24788 (82%)]\tLoss: 0.001500\n"
     ]
    },
    {
     "name": "stderr",
     "output_type": "stream",
     "text": [
      " 17%|█▋        | 51.00000000000468/300 [12:57<21:44,  5.24s/it]   "
     ]
    },
    {
     "name": "stdout",
     "output_type": "stream",
     "text": [
      "\n",
      "Test Epoch: 51\tAccuracy: 6101/6197 (98.4509%)\n",
      "\n",
      "Train Epoch: 52 [0/24788 (0%)]\tLoss: 0.001274\n"
     ]
    },
    {
     "name": "stderr",
     "output_type": "stream",
     "text": [
      " 17%|█▋        | 51.188524590168676/300 [13:00<1:08:27, 16.51s/it]"
     ]
    },
    {
     "name": "stdout",
     "output_type": "stream",
     "text": [
      "Train Epoch: 52 [5120/24788 (21%)]\tLoss: 0.002578\n"
     ]
    },
    {
     "name": "stderr",
     "output_type": "stream",
     "text": [
      " 17%|█▋        | 51.352459016398235/300 [13:03<1:08:21, 16.50s/it]"
     ]
    },
    {
     "name": "stdout",
     "output_type": "stream",
     "text": [
      "Train Epoch: 52 [10240/24788 (41%)]\tLoss: 0.003595\n"
     ]
    },
    {
     "name": "stderr",
     "output_type": "stream",
     "text": [
      " 17%|█▋        | 51.516393442627795/300 [13:06<1:08:16, 16.49s/it]"
     ]
    },
    {
     "name": "stdout",
     "output_type": "stream",
     "text": [
      "Train Epoch: 52 [15360/24788 (62%)]\tLoss: 0.003581\n"
     ]
    },
    {
     "name": "stderr",
     "output_type": "stream",
     "text": [
      " 17%|█▋        | 51.6639344262344/300 [13:09<1:24:26, 20.40s/it]  "
     ]
    },
    {
     "name": "stdout",
     "output_type": "stream",
     "text": [
      "Train Epoch: 52 [20480/24788 (82%)]\tLoss: 0.000929\n"
     ]
    },
    {
     "name": "stderr",
     "output_type": "stream",
     "text": [
      " 17%|█▋        | 52.000000000004995/300 [13:12<21:38,  5.24s/it]  "
     ]
    },
    {
     "name": "stdout",
     "output_type": "stream",
     "text": [
      "\n",
      "Test Epoch: 52\tAccuracy: 6102/6197 (98.4670%)\n",
      "\n",
      "Train Epoch: 53 [0/24788 (0%)]\tLoss: 0.001033\n"
     ]
    },
    {
     "name": "stderr",
     "output_type": "stream",
     "text": [
      " 17%|█▋        | 52.17213114754603/300 [13:15<1:36:28, 23.36s/it] "
     ]
    },
    {
     "name": "stdout",
     "output_type": "stream",
     "text": [
      "Train Epoch: 53 [5120/24788 (21%)]\tLoss: 0.000899\n"
     ]
    },
    {
     "name": "stderr",
     "output_type": "stream",
     "text": [
      " 17%|█▋        | 52.35245901639855/300 [13:18<1:08:15, 16.54s/it] "
     ]
    },
    {
     "name": "stdout",
     "output_type": "stream",
     "text": [
      "Train Epoch: 53 [10240/24788 (41%)]\tLoss: 0.001072\n"
     ]
    },
    {
     "name": "stderr",
     "output_type": "stream",
     "text": [
      " 18%|█▊        | 52.51639344262811/300 [13:21<1:08:19, 16.57s/it] "
     ]
    },
    {
     "name": "stdout",
     "output_type": "stream",
     "text": [
      "Train Epoch: 53 [15360/24788 (62%)]\tLoss: 0.003855\n"
     ]
    },
    {
     "name": "stderr",
     "output_type": "stream",
     "text": [
      " 18%|█▊        | 52.68032786885767/300 [13:24<1:07:54, 16.47s/it] "
     ]
    },
    {
     "name": "stdout",
     "output_type": "stream",
     "text": [
      "Train Epoch: 53 [20480/24788 (82%)]\tLoss: 0.001880\n"
     ]
    },
    {
     "name": "stderr",
     "output_type": "stream",
     "text": [
      " 18%|█▊        | 53.008196721316786/300 [13:27<32:39,  7.93s/it]  "
     ]
    },
    {
     "name": "stdout",
     "output_type": "stream",
     "text": [
      "\n",
      "Test Epoch: 53\tAccuracy: 6103/6197 (98.4831%)\n",
      "\n",
      "Train Epoch: 54 [0/24788 (0%)]\tLoss: 0.002159\n"
     ]
    },
    {
     "name": "stderr",
     "output_type": "stream",
     "text": [
      " 18%|█▊        | 53.1885245901693/300 [13:30<1:07:28, 16.40s/it]  "
     ]
    },
    {
     "name": "stdout",
     "output_type": "stream",
     "text": [
      "Train Epoch: 54 [5120/24788 (21%)]\tLoss: 0.002441\n"
     ]
    },
    {
     "name": "stderr",
     "output_type": "stream",
     "text": [
      " 18%|█▊        | 53.35245901639886/300 [13:33<1:08:07, 16.57s/it] "
     ]
    },
    {
     "name": "stdout",
     "output_type": "stream",
     "text": [
      "Train Epoch: 54 [10240/24788 (41%)]\tLoss: 0.002735\n"
     ]
    },
    {
     "name": "stderr",
     "output_type": "stream",
     "text": [
      " 18%|█▊        | 53.51639344262842/300 [13:36<1:07:50, 16.51s/it] "
     ]
    },
    {
     "name": "stdout",
     "output_type": "stream",
     "text": [
      "Train Epoch: 54 [15360/24788 (62%)]\tLoss: 0.001759\n"
     ]
    },
    {
     "name": "stderr",
     "output_type": "stream",
     "text": [
      " 18%|█▊        | 53.68032786885798/300 [13:39<1:07:31, 16.45s/it] "
     ]
    },
    {
     "name": "stdout",
     "output_type": "stream",
     "text": [
      "Train Epoch: 54 [20480/24788 (82%)]\tLoss: 0.002692\n"
     ]
    },
    {
     "name": "stderr",
     "output_type": "stream",
     "text": [
      " 18%|█▊        | 54.0081967213171/300 [13:43<41:34, 10.14s/it]    "
     ]
    },
    {
     "name": "stdout",
     "output_type": "stream",
     "text": [
      "\n",
      "Test Epoch: 54\tAccuracy: 6101/6197 (98.4509%)\n",
      "\n",
      "Train Epoch: 55 [0/24788 (0%)]\tLoss: 0.001466\n"
     ]
    },
    {
     "name": "stderr",
     "output_type": "stream",
     "text": [
      " 18%|█▊        | 54.188524590169614/300 [13:46<1:07:26, 16.46s/it]"
     ]
    },
    {
     "name": "stdout",
     "output_type": "stream",
     "text": [
      "Train Epoch: 55 [5120/24788 (21%)]\tLoss: 0.001288\n"
     ]
    },
    {
     "name": "stderr",
     "output_type": "stream",
     "text": [
      " 18%|█▊        | 54.35245901639917/300 [13:48<1:07:22, 16.46s/it] "
     ]
    },
    {
     "name": "stdout",
     "output_type": "stream",
     "text": [
      "Train Epoch: 55 [10240/24788 (41%)]\tLoss: 0.000623\n"
     ]
    },
    {
     "name": "stderr",
     "output_type": "stream",
     "text": [
      " 18%|█▊        | 54.51639344262873/300 [13:51<1:07:42, 16.55s/it] "
     ]
    },
    {
     "name": "stdout",
     "output_type": "stream",
     "text": [
      "Train Epoch: 55 [15360/24788 (62%)]\tLoss: 0.003343\n"
     ]
    },
    {
     "name": "stderr",
     "output_type": "stream",
     "text": [
      " 18%|█▊        | 54.68032786885829/300 [13:54<1:07:26, 16.50s/it] "
     ]
    },
    {
     "name": "stdout",
     "output_type": "stream",
     "text": [
      "Train Epoch: 55 [20480/24788 (82%)]\tLoss: 0.001862\n"
     ]
    },
    {
     "name": "stderr",
     "output_type": "stream",
     "text": [
      " 18%|█▊        | 55.00000000000593/300 [13:57<21:20,  5.23s/it]   "
     ]
    },
    {
     "name": "stdout",
     "output_type": "stream",
     "text": [
      "\n",
      "Test Epoch: 55\tAccuracy: 6101/6197 (98.4509%)\n",
      "\n",
      "Train Epoch: 56 [0/24788 (0%)]\tLoss: 0.002135\n"
     ]
    },
    {
     "name": "stderr",
     "output_type": "stream",
     "text": [
      " 18%|█▊        | 55.188524590169926/300 [14:01<1:06:49, 16.38s/it]"
     ]
    },
    {
     "name": "stdout",
     "output_type": "stream",
     "text": [
      "Train Epoch: 56 [5120/24788 (21%)]\tLoss: 0.002573\n"
     ]
    },
    {
     "name": "stderr",
     "output_type": "stream",
     "text": [
      " 18%|█▊        | 55.352459016399486/300 [14:03<1:07:44, 16.61s/it]"
     ]
    },
    {
     "name": "stdout",
     "output_type": "stream",
     "text": [
      "Train Epoch: 56 [10240/24788 (41%)]\tLoss: 0.003837\n"
     ]
    },
    {
     "name": "stderr",
     "output_type": "stream",
     "text": [
      " 19%|█▊        | 55.516393442629045/300 [14:06<1:06:59, 16.44s/it]"
     ]
    },
    {
     "name": "stdout",
     "output_type": "stream",
     "text": [
      "Train Epoch: 56 [15360/24788 (62%)]\tLoss: 0.000706\n"
     ]
    },
    {
     "name": "stderr",
     "output_type": "stream",
     "text": [
      " 19%|█▊        | 55.680327868858605/300 [14:09<1:07:08, 16.49s/it]"
     ]
    },
    {
     "name": "stdout",
     "output_type": "stream",
     "text": [
      "Train Epoch: 56 [20480/24788 (82%)]\tLoss: 0.003698\n"
     ]
    },
    {
     "name": "stderr",
     "output_type": "stream",
     "text": [
      " 19%|█▊        | 56.000000000006246/300 [14:12<21:21,  5.25s/it]  "
     ]
    },
    {
     "name": "stdout",
     "output_type": "stream",
     "text": [
      "\n",
      "Test Epoch: 56\tAccuracy: 6102/6197 (98.4670%)\n",
      "\n",
      "Train Epoch: 57 [0/24788 (0%)]\tLoss: 0.000788\n"
     ]
    },
    {
     "name": "stderr",
     "output_type": "stream",
     "text": [
      " 19%|█▊        | 56.18852459017024/300 [14:16<1:07:01, 16.49s/it] "
     ]
    },
    {
     "name": "stdout",
     "output_type": "stream",
     "text": [
      "Train Epoch: 57 [5120/24788 (21%)]\tLoss: 0.001443\n"
     ]
    },
    {
     "name": "stderr",
     "output_type": "stream",
     "text": [
      " 19%|█▉        | 56.3524590163998/300 [14:18<1:07:00, 16.50s/it]  "
     ]
    },
    {
     "name": "stdout",
     "output_type": "stream",
     "text": [
      "Train Epoch: 57 [10240/24788 (41%)]\tLoss: 0.000910\n"
     ]
    },
    {
     "name": "stderr",
     "output_type": "stream",
     "text": [
      " 19%|█▉        | 56.51639344262936/300 [14:21<1:07:00, 16.51s/it] "
     ]
    },
    {
     "name": "stdout",
     "output_type": "stream",
     "text": [
      "Train Epoch: 57 [15360/24788 (62%)]\tLoss: 0.001110\n"
     ]
    },
    {
     "name": "stderr",
     "output_type": "stream",
     "text": [
      " 19%|█▉        | 56.68032786885892/300 [14:24<1:06:53, 16.49s/it] "
     ]
    },
    {
     "name": "stdout",
     "output_type": "stream",
     "text": [
      "Train Epoch: 57 [20480/24788 (82%)]\tLoss: 0.003236\n"
     ]
    },
    {
     "name": "stderr",
     "output_type": "stream",
     "text": [
      " 19%|█▉        | 57.00000000000656/300 [14:27<21:13,  5.24s/it]   "
     ]
    },
    {
     "name": "stdout",
     "output_type": "stream",
     "text": [
      "\n",
      "Test Epoch: 57\tAccuracy: 6100/6197 (98.4347%)\n",
      "\n",
      "Epoch 00057: reducing learning rate of group 0 to 3.0000e-08.\n",
      "Train Epoch: 58 [0/24788 (0%)]\tLoss: 0.002148\n"
     ]
    },
    {
     "name": "stderr",
     "output_type": "stream",
     "text": [
      " 19%|█▉        | 57.18852459017055/300 [14:30<1:06:28, 16.43s/it] "
     ]
    },
    {
     "name": "stdout",
     "output_type": "stream",
     "text": [
      "Train Epoch: 58 [5120/24788 (21%)]\tLoss: 0.002961\n"
     ]
    },
    {
     "name": "stderr",
     "output_type": "stream",
     "text": [
      " 19%|█▉        | 57.35245901640011/300 [14:33<1:06:53, 16.54s/it] "
     ]
    },
    {
     "name": "stdout",
     "output_type": "stream",
     "text": [
      "Train Epoch: 58 [10240/24788 (41%)]\tLoss: 0.000908\n"
     ]
    },
    {
     "name": "stderr",
     "output_type": "stream",
     "text": [
      " 19%|█▉        | 57.51639344262967/300 [14:36<1:06:25, 16.43s/it] "
     ]
    },
    {
     "name": "stdout",
     "output_type": "stream",
     "text": [
      "Train Epoch: 58 [15360/24788 (62%)]\tLoss: 0.002582\n"
     ]
    },
    {
     "name": "stderr",
     "output_type": "stream",
     "text": [
      " 19%|█▉        | 57.68032786885923/300 [14:39<1:06:38, 16.50s/it] "
     ]
    },
    {
     "name": "stdout",
     "output_type": "stream",
     "text": [
      "Train Epoch: 58 [20480/24788 (82%)]\tLoss: 0.001508\n"
     ]
    },
    {
     "name": "stderr",
     "output_type": "stream",
     "text": [
      " 19%|█▉        | 58.00819672131835/300 [14:42<31:57,  7.92s/it]   "
     ]
    },
    {
     "name": "stdout",
     "output_type": "stream",
     "text": [
      "\n",
      "Test Epoch: 58\tAccuracy: 6105/6197 (98.5154%)\n",
      "\n",
      "Train Epoch: 59 [0/24788 (0%)]\tLoss: 0.001557\n"
     ]
    },
    {
     "name": "stderr",
     "output_type": "stream",
     "text": [
      " 19%|█▉        | 58.188524590170864/300 [14:45<1:05:57, 16.37s/it]"
     ]
    },
    {
     "name": "stdout",
     "output_type": "stream",
     "text": [
      "Train Epoch: 59 [5120/24788 (21%)]\tLoss: 0.001333\n"
     ]
    },
    {
     "name": "stderr",
     "output_type": "stream",
     "text": [
      " 19%|█▉        | 58.33606557377747/300 [14:48<1:21:56, 20.35s/it] "
     ]
    },
    {
     "name": "stdout",
     "output_type": "stream",
     "text": [
      "Train Epoch: 59 [10240/24788 (41%)]\tLoss: 0.002481\n"
     ]
    },
    {
     "name": "stderr",
     "output_type": "stream",
     "text": [
      " 20%|█▉        | 58.51639344262998/300 [14:51<1:06:33, 16.54s/it] "
     ]
    },
    {
     "name": "stdout",
     "output_type": "stream",
     "text": [
      "Train Epoch: 59 [15360/24788 (62%)]\tLoss: 0.001953\n"
     ]
    },
    {
     "name": "stderr",
     "output_type": "stream",
     "text": [
      " 20%|█▉        | 58.68032786885954/300 [14:54<1:06:36, 16.56s/it] "
     ]
    },
    {
     "name": "stdout",
     "output_type": "stream",
     "text": [
      "Train Epoch: 59 [20480/24788 (82%)]\tLoss: 0.002786\n"
     ]
    },
    {
     "name": "stderr",
     "output_type": "stream",
     "text": [
      " 20%|█▉        | 59.000000000007184/300 [14:57<1:01:07, 15.22s/it]"
     ]
    },
    {
     "name": "stdout",
     "output_type": "stream",
     "text": [
      "\n",
      "Test Epoch: 59\tAccuracy: 6099/6197 (98.4186%)\n",
      "\n"
     ]
    },
    {
     "name": "stderr",
     "output_type": "stream",
     "text": [
      "\n"
     ]
    }
   ],
   "source": [
    "writer = SummaryWriter()\n",
    "\n",
    "log_interval = 20\n",
    "\n",
    "writer.add_hparams({f'data_shape_{i}': shape for i, shape in enumerate(dataset.data.shape)} | {'data_moving_average_range': MOVING_AVERAGE_RANGE, 'data_window_size': WINDOW_SIZE, 'batch_size': batch_size, 'n_epoch': n_epoch}, {'hparam/fake_accuracy_just_to_have_any_metric': 10}, run_name = RUN_NAME)\n",
    "\n",
    "pbar_update = 1 / (len(train_loader) + len(test_loader))\n",
    "losses = []\n",
    "accuracies = []\n",
    "\n",
    "with tqdm(total=n_epoch) as pbar:\n",
    "    for epoch in range(1, n_epoch + 1):\n",
    "        torch.save({\n",
    "            'model_state_dict': model.state_dict(),\n",
    "            'optimizer_state_dict': optimizer.state_dict()\n",
    "        }, CHECKPOINT_PATH)\n",
    "\n",
    "        train_losses = train(model, epoch, log_interval, writer)\n",
    "        losses.extend(train_losses)\n",
    "\n",
    "        accuracy, precision, recall, f1, loss_sum = test(model, epoch, writer)\n",
    "        accuracies.append(accuracy)\n",
    "        scheduler.step(loss_sum)\n",
    "\n",
    "        writer.add_scalar('lr', optimizer.param_groups[0]['lr'], epoch)\n",
    "\n",
    "        # Early stopping\n",
    "        if len(accuracies) >= ACCURACY_MOVING_AVERAGE_SIZE + 1:\n",
    "            is_performance_degraded = np.mean(accuracies[-ACCURACY_MOVING_AVERAGE_SIZE - 1:-1]) > np.mean(accuracies[-ACCURACY_MOVING_AVERAGE_SIZE:])\n",
    "            if is_performance_degraded:\n",
    "                # Reload the last non-degraded checkpoint\n",
    "                checkpoint = torch.load(CHECKPOINT_PATH)\n",
    "                model.load_state_dict(checkpoint['model_state_dict'])\n",
    "                optimizer.load_state_dict(checkpoint['optimizer_state_dict'])\n",
    "                break\n",
    "\n",
    "\n",
    "# Let's plot the training loss versus the number of iteration.\n",
    "# plt.plot(losses);\n",
    "# plt.title(\"training loss\");"
   ],
   "metadata": {
    "collapsed": false,
    "pycharm": {
     "name": "#%%\n"
    }
   }
  }
 ],
 "metadata": {
  "kernelspec": {
   "display_name": "Python 3",
   "language": "python",
   "name": "python3"
  },
  "language_info": {
   "codemirror_mode": {
    "name": "ipython",
    "version": 2
   },
   "file_extension": ".py",
   "mimetype": "text/x-python",
   "name": "python",
   "nbconvert_exporter": "python",
   "pygments_lexer": "ipython2",
   "version": "2.7.6"
  }
 },
 "nbformat": 4,
 "nbformat_minor": 0
}