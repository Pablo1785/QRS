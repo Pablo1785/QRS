{
 "cells": [
  {
   "cell_type": "code",
   "execution_count": 1,
   "id": "bd71c739",
   "metadata": {
    "id": "bd71c739",
    "outputId": "71834c4d-13ec-4e44-ace2-baabbe512c5a",
    "colab": {
     "base_uri": "https://localhost:8080/",
     "height": 373
    },
    "pycharm": {
     "name": "#%%\n"
    }
   },
   "outputs": [],
   "source": [
    "# Last Update: 26.07.2022 VURAL\n",
    "\n",
    "from scipy.io import loadmat\n",
    "import pandas as pd\n",
    "import numpy as np\n",
    "import matplotlib.pyplot as plt\n",
    "from scipy import signal\n",
    "import math\n",
    "import wfdb\n",
    "\n",
    "from common import (\n",
    "    signal_filtering,\n",
    "    slice_signal,\n",
    "    annotation_recorder,\n",
    ")\n",
    "\n",
    "\n",
    "FILE_NUMBER = 102\n",
    "\n",
    "RECORD_PATH = f'../data/mit-bih-arrhythmia-database-1.0.0/{FILE_NUMBER}'\n",
    "ANNOTATION_PATH = f'../data/mit-bih-arrhythmia-database-1.0.0/{FILE_NUMBER}'\n",
    "\n",
    "# Parameters for slicing the signal\n",
    "START_MINUTE = 29\n",
    "END_MINUTE = 30\n",
    "\n",
    "# First and last sample's index\n",
    "FIRST_SAMPLE_IDX = 77\n",
    "LAST_SAMPLE_IDX = 946\n",
    "\n",
    "# Annotation Name\n",
    "ANNOTATION_NAME = f'Record_{FILE_NUMBER}_t_{START_MINUTE}-{END_MINUTE}_s_{FIRST_SAMPLE_IDX}-{LAST_SAMPLE_IDX}_TEST'"
   ]
  },
  {
   "cell_type": "markdown",
   "id": "4004584b",
   "metadata": {
    "id": "4004584b",
    "pycharm": {
     "name": "#%% md\n"
    }
   },
   "source": [
    "<h3>Loading the database</h3>"
   ]
  },
  {
   "cell_type": "code",
   "execution_count": 2,
   "id": "5265fa27",
   "metadata": {
    "id": "5265fa27",
    "pycharm": {
     "name": "#%%\n"
    }
   },
   "outputs": [],
   "source": [
    "# Loading the record\n",
    "record_wfdb = wfdb.rdrecord(RECORD_PATH)\n",
    "\n",
    "record_annotation_wfdb = wfdb.rdann(ANNOTATION_PATH, 'atr')\n",
    "#wfdb.plot_wfdb(record=record_100_wfdb, title='Record 100')\n",
    "\n",
    "# Displaying the details of the record 100\n",
    "#display(record_100_wfdb.__dict__)\n",
    "#display(record_100_annotation_wfdb.__dict__)\n",
    "\n",
    "# Converting the record into Data Frame\n",
    "record = pd.DataFrame(record_wfdb.p_signal, columns=['MLII', 'V1'])\n",
    "\n",
    "# Converting the annotation into Data Frame\n",
    "record_annotation_data = {'sample': record_annotation_wfdb.sample, 'symbol': record_annotation_wfdb.symbol}\n",
    "record_annotation = pd.DataFrame( record_annotation_data, columns=['sample', 'symbol'])\n",
    "\n",
    "# Converting into numpy array\n",
    "ecg = np.array(record['MLII'])\n",
    "\n",
    "ecg_annotation_index = np.array(record_annotation['sample'])"
   ]
  },
  {
   "cell_type": "markdown",
   "id": "8f21d0f9",
   "metadata": {
    "id": "8f21d0f9",
    "pycharm": {
     "name": "#%% md\n"
    }
   },
   "source": [
    "<h3>Setting the parameters</h3>"
   ]
  },
  {
   "cell_type": "code",
   "execution_count": 3,
   "id": "02a8f5d5",
   "metadata": {
    "id": "02a8f5d5",
    "pycharm": {
     "name": "#%%\n"
    }
   },
   "outputs": [],
   "source": [
    "#Moving Average\n",
    "\n",
    "time, sliced_signal = slice_signal(ecg, 360, START_MINUTE * 60, END_MINUTE * 60)\n",
    "ecg_signal, isoelectric_line = signal_filtering(sliced_signal, 360)\n",
    "\n",
    "\n",
    "arr = ecg_signal\n",
    "window_size = 9\n",
    "\n",
    "i = 0\n",
    "# Initialize an empty list to store the moving averages\n",
    "moving_averages = []\n",
    "  \n",
    "while i < len(arr) - window_size + 1:\n",
    "    \n",
    "    # Store elements from i to (i + window_size)\n",
    "    window = arr[i : i + window_size]\n",
    "    # Calculate the average of current window\n",
    "    window_average = round(sum(window) / window_size, 2)\n",
    "      \n",
    "    # Store the average of the current window in the moving average list\n",
    "    moving_averages.append(window_average)\n",
    "      \n",
    "    # Shift the window to right\n",
    "    i += 1"
   ]
  },
  {
   "cell_type": "code",
   "execution_count": 5,
   "outputs": [
    {
     "name": "stdout",
     "output_type": "stream",
     "text": [
      "[[ 1.74099455e+03 -2.41260110e-02]\n",
      " [ 1.74107626e+03 -2.06012974e-02]\n",
      " [ 1.74115797e+03 -4.87990061e-02]\n",
      " [ 1.74124449e+03 -5.23237197e-02]\n",
      " [ 1.74137186e+03  5.82124726e-01]\n",
      " [ 1.74145838e+03 -3.57211445e-01]\n",
      " [ 1.74154730e+03 -7.69967148e-02]\n",
      " [ 1.74164583e+03 -5.58484333e-02]\n",
      " [ 1.74172273e+03  8.69024670e-02]\n",
      " [ 1.74179723e+03 -2.97772946e-03]\n",
      " [ 1.74192220e+03 -1.00271566e-02]]\n",
      "   P_s    P  P_e  Q_s    Q    R    S  S_e  T_s    T  T_e\n",
      "0  358  387  416  448  493  525  557  592  620  647  691\n"
     ]
    }
   ],
   "source": [
    "#https://stackoverflow.com/questions/37365357/when-i-use-matplotlib-in-jupyter-notebook-it-always-raise-matplotlib-is-curren\n",
    "%matplotlib qt \n",
    "plt.plot(time[FIRST_SAMPLE_IDX: LAST_SAMPLE_IDX], isoelectric_line[FIRST_SAMPLE_IDX: LAST_SAMPLE_IDX], 'g')\n",
    "plt.plot(time[FIRST_SAMPLE_IDX: LAST_SAMPLE_IDX], moving_averages[FIRST_SAMPLE_IDX - 4: LAST_SAMPLE_IDX - 4], 'y')\n",
    "plt.scatter(time[FIRST_SAMPLE_IDX: LAST_SAMPLE_IDX], ecg_signal[FIRST_SAMPLE_IDX: LAST_SAMPLE_IDX], marker='.')\n",
    "\n",
    "plt.xlabel('Time (s)', fontweight='bold')\n",
    "plt.ylabel('Amp', fontweight='bold')\n",
    "plt.title('Manual Annotation\\n P_s, P, P_e, Q_s, Q, R, S, S_e, T_s, T, T_e', fontweight =\"bold\")\n",
    "    \n",
    "x = np.array(plt.ginput(11, timeout=-1, mouse_add=None, mouse_pop=None))\n",
    "print(x)\n",
    "x = x[:, 0]\n",
    "\n",
    "annotation_recorder(x, ANNOTATION_NAME, time)"
   ],
   "metadata": {
    "collapsed": false,
    "pycharm": {
     "name": "#%%\n"
    }
   }
  },
  {
   "cell_type": "code",
   "execution_count": null,
   "outputs": [],
   "source": [],
   "metadata": {
    "collapsed": false,
    "pycharm": {
     "name": "#%%\n"
    }
   }
  }
 ],
 "metadata": {
  "kernelspec": {
   "display_name": "Python 3",
   "language": "python",
   "name": "python3"
  },
  "language_info": {
   "codemirror_mode": {
    "name": "ipython",
    "version": 3
   },
   "file_extension": ".py",
   "mimetype": "text/x-python",
   "name": "python",
   "nbconvert_exporter": "python",
   "pygments_lexer": "ipython3",
   "version": "3.8.8"
  },
  "colab": {
   "name": "Manual Annotation.ipynb",
   "provenance": []
  }
 },
 "nbformat": 4,
 "nbformat_minor": 5
}