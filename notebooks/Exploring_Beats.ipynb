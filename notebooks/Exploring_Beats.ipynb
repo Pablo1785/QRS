{
 "cells": [
  {
   "cell_type": "markdown",
   "source": [
    "# Exploring beat values\n",
    "\n",
    "Here we want to break down the data for each record by beat class (N, A, R, J, V, F, etc. - all the classifiable, regular beats).\n",
    "\n",
    "We want to find some patterns that would allow us to better segment the waveform into PQRSTU components."
   ],
   "metadata": {
    "collapsed": false,
    "pycharm": {
     "name": "#%% md\n"
    }
   }
  },
  {
   "cell_type": "code",
   "execution_count": 1,
   "outputs": [],
   "source": [
    "import pandas as pd\n",
    "import numpy as np\n",
    "import jax.numpy as jnp\n",
    "\n",
    "\n",
    "# 208 is a good showcase of V type, also contains some F type\n",
    "# 232 is a good showcase of A type\n",
    "FILE_NUMBER = 232\n",
    "\n",
    "RECORD_PATH = f'../data/mit-bih-arrhythmia-database-1.0.0/{FILE_NUMBER}'\n",
    "CSV_PATH = f'../data/mitbih_database/{FILE_NUMBER}.csv'\n",
    "ANNOTATIONS_PATH = f'../data/mitbih_database/{FILE_NUMBER}annotations.txt'\n",
    "\n",
    "ANNOTATIONS_COLUMN_NAMES = ['Time', 'Sample #', 'Type']\n",
    "\n",
    "DESIRABLE_BEAT_TYPES = ('V', 'L', 'R', 'A', 'F')"
   ],
   "metadata": {
    "collapsed": false,
    "pycharm": {
     "name": "#%%\n"
    }
   }
  },
  {
   "cell_type": "code",
   "execution_count": 2,
   "outputs": [
    {
     "data": {
      "text/plain": "           Time  Sample # Type\n0      0:01.364       491    R\n1      0:02.047       737    A\n2      0:02.778      1000    A\n3      0:04.608      1659    R\n4      0:05.286      1903    A\n...         ...       ...  ...\n1774  29:59.875    647955    A\n1775  30:00.633    648228    A\n1776  30:02.347    648845    R\n1777  30:03.047    649097    A\n1778  30:03.794    649366    A\n\n[1779 rows x 3 columns]",
      "text/html": "<div>\n<style scoped>\n    .dataframe tbody tr th:only-of-type {\n        vertical-align: middle;\n    }\n\n    .dataframe tbody tr th {\n        vertical-align: top;\n    }\n\n    .dataframe thead th {\n        text-align: right;\n    }\n</style>\n<table border=\"1\" class=\"dataframe\">\n  <thead>\n    <tr style=\"text-align: right;\">\n      <th></th>\n      <th>Time</th>\n      <th>Sample #</th>\n      <th>Type</th>\n    </tr>\n  </thead>\n  <tbody>\n    <tr>\n      <th>0</th>\n      <td>0:01.364</td>\n      <td>491</td>\n      <td>R</td>\n    </tr>\n    <tr>\n      <th>1</th>\n      <td>0:02.047</td>\n      <td>737</td>\n      <td>A</td>\n    </tr>\n    <tr>\n      <th>2</th>\n      <td>0:02.778</td>\n      <td>1000</td>\n      <td>A</td>\n    </tr>\n    <tr>\n      <th>3</th>\n      <td>0:04.608</td>\n      <td>1659</td>\n      <td>R</td>\n    </tr>\n    <tr>\n      <th>4</th>\n      <td>0:05.286</td>\n      <td>1903</td>\n      <td>A</td>\n    </tr>\n    <tr>\n      <th>...</th>\n      <td>...</td>\n      <td>...</td>\n      <td>...</td>\n    </tr>\n    <tr>\n      <th>1774</th>\n      <td>29:59.875</td>\n      <td>647955</td>\n      <td>A</td>\n    </tr>\n    <tr>\n      <th>1775</th>\n      <td>30:00.633</td>\n      <td>648228</td>\n      <td>A</td>\n    </tr>\n    <tr>\n      <th>1776</th>\n      <td>30:02.347</td>\n      <td>648845</td>\n      <td>R</td>\n    </tr>\n    <tr>\n      <th>1777</th>\n      <td>30:03.047</td>\n      <td>649097</td>\n      <td>A</td>\n    </tr>\n    <tr>\n      <th>1778</th>\n      <td>30:03.794</td>\n      <td>649366</td>\n      <td>A</td>\n    </tr>\n  </tbody>\n</table>\n<p>1779 rows × 3 columns</p>\n</div>"
     },
     "execution_count": 2,
     "metadata": {},
     "output_type": "execute_result"
    }
   ],
   "source": [
    "times = []\n",
    "sample_indices = []\n",
    "arrhytmia_types = []\n",
    "\n",
    "with open(ANNOTATIONS_PATH, 'r') as fileID:\n",
    "    data = fileID.readlines()\n",
    "    beat = list()\n",
    "\n",
    "    for d in range(1, len(data)): # 0 index is Chart Head\n",
    "        splitted = data[d].split(' ')\n",
    "        splitted = filter(None, splitted)\n",
    "        time = next(splitted) # Time... Clipping\n",
    "        sample_idx = int(next(splitted)) # Sample ID\n",
    "        arrhythmia_type = next(splitted) # Type\n",
    "        if arrhythmia_type in DESIRABLE_BEAT_TYPES:\n",
    "            times.append(time)\n",
    "            sample_indices.append(sample_idx)\n",
    "            arrhytmia_types.append(arrhythmia_type)\n",
    "\n",
    "df = pd.DataFrame({'Time': times, 'Sample #': sample_indices, 'Type': arrhytmia_types})\n",
    "df"
   ],
   "metadata": {
    "collapsed": false,
    "pycharm": {
     "name": "#%%\n"
    }
   }
  },
  {
   "cell_type": "code",
   "execution_count": 3,
   "outputs": [
    {
     "data": {
      "text/plain": "A    1382\nR     397\nName: Type, dtype: int64"
     },
     "execution_count": 3,
     "metadata": {},
     "output_type": "execute_result"
    }
   ],
   "source": [
    "df['Type'].value_counts()"
   ],
   "metadata": {
    "collapsed": false,
    "pycharm": {
     "name": "#%%\n"
    }
   }
  },
  {
   "cell_type": "markdown",
   "source": [
    "## Exploring original MIT-BIH dataset\n",
    "\n",
    "### Loading data"
   ],
   "metadata": {
    "collapsed": false,
    "pycharm": {
     "name": "#%% md\n"
    }
   }
  },
  {
   "cell_type": "code",
   "execution_count": 4,
   "outputs": [
    {
     "data": {
      "text/plain": "     MLII     V1\n0  -0.245  0.210\n1  -0.245  0.210\n2  -0.245  0.210\n3  -0.245  0.210\n4  -0.245  0.210\n5  -0.245  0.210\n6  -0.245  0.210\n7  -0.245  0.210\n8  -0.240  0.210\n9  -0.235  0.215\n10 -0.195  0.205\n11 -0.180  0.215\n12 -0.155  0.215\n13 -0.135  0.210\n14 -0.125  0.205\n15 -0.140  0.215\n16 -0.165  0.205\n17 -0.170  0.200\n18 -0.185  0.200\n19 -0.195  0.185",
      "text/html": "<div>\n<style scoped>\n    .dataframe tbody tr th:only-of-type {\n        vertical-align: middle;\n    }\n\n    .dataframe tbody tr th {\n        vertical-align: top;\n    }\n\n    .dataframe thead th {\n        text-align: right;\n    }\n</style>\n<table border=\"1\" class=\"dataframe\">\n  <thead>\n    <tr style=\"text-align: right;\">\n      <th></th>\n      <th>MLII</th>\n      <th>V1</th>\n    </tr>\n  </thead>\n  <tbody>\n    <tr>\n      <th>0</th>\n      <td>-0.245</td>\n      <td>0.210</td>\n    </tr>\n    <tr>\n      <th>1</th>\n      <td>-0.245</td>\n      <td>0.210</td>\n    </tr>\n    <tr>\n      <th>2</th>\n      <td>-0.245</td>\n      <td>0.210</td>\n    </tr>\n    <tr>\n      <th>3</th>\n      <td>-0.245</td>\n      <td>0.210</td>\n    </tr>\n    <tr>\n      <th>4</th>\n      <td>-0.245</td>\n      <td>0.210</td>\n    </tr>\n    <tr>\n      <th>5</th>\n      <td>-0.245</td>\n      <td>0.210</td>\n    </tr>\n    <tr>\n      <th>6</th>\n      <td>-0.245</td>\n      <td>0.210</td>\n    </tr>\n    <tr>\n      <th>7</th>\n      <td>-0.245</td>\n      <td>0.210</td>\n    </tr>\n    <tr>\n      <th>8</th>\n      <td>-0.240</td>\n      <td>0.210</td>\n    </tr>\n    <tr>\n      <th>9</th>\n      <td>-0.235</td>\n      <td>0.215</td>\n    </tr>\n    <tr>\n      <th>10</th>\n      <td>-0.195</td>\n      <td>0.205</td>\n    </tr>\n    <tr>\n      <th>11</th>\n      <td>-0.180</td>\n      <td>0.215</td>\n    </tr>\n    <tr>\n      <th>12</th>\n      <td>-0.155</td>\n      <td>0.215</td>\n    </tr>\n    <tr>\n      <th>13</th>\n      <td>-0.135</td>\n      <td>0.210</td>\n    </tr>\n    <tr>\n      <th>14</th>\n      <td>-0.125</td>\n      <td>0.205</td>\n    </tr>\n    <tr>\n      <th>15</th>\n      <td>-0.140</td>\n      <td>0.215</td>\n    </tr>\n    <tr>\n      <th>16</th>\n      <td>-0.165</td>\n      <td>0.205</td>\n    </tr>\n    <tr>\n      <th>17</th>\n      <td>-0.170</td>\n      <td>0.200</td>\n    </tr>\n    <tr>\n      <th>18</th>\n      <td>-0.185</td>\n      <td>0.200</td>\n    </tr>\n    <tr>\n      <th>19</th>\n      <td>-0.195</td>\n      <td>0.185</td>\n    </tr>\n  </tbody>\n</table>\n</div>"
     },
     "execution_count": 4,
     "metadata": {},
     "output_type": "execute_result"
    }
   ],
   "source": [
    "import wfdb\n",
    "import matplotlib.pyplot as plt\n",
    "from common import *\n",
    "\n",
    "record = load_record(RECORD_PATH)\n",
    "record.head(20)"
   ],
   "metadata": {
    "collapsed": false,
    "pycharm": {
     "name": "#%%\n"
    }
   }
  },
  {
   "cell_type": "code",
   "execution_count": 5,
   "outputs": [
    {
     "data": {
      "text/plain": "    sample symbol\n0       76      +\n1      491      R\n2      737      A\n3     1000      A\n4     1659      R\n5     1903      A\n6     2156      A\n7     2550      ~\n8     2829      R\n9     3066      A\n10    3667      R\n11    3909      A\n12    4511      R\n13    4751      A\n14    5341      R\n15    5584      A\n16    5855      A\n17    6482      R\n18    6721      A\n19    6982      A",
      "text/html": "<div>\n<style scoped>\n    .dataframe tbody tr th:only-of-type {\n        vertical-align: middle;\n    }\n\n    .dataframe tbody tr th {\n        vertical-align: top;\n    }\n\n    .dataframe thead th {\n        text-align: right;\n    }\n</style>\n<table border=\"1\" class=\"dataframe\">\n  <thead>\n    <tr style=\"text-align: right;\">\n      <th></th>\n      <th>sample</th>\n      <th>symbol</th>\n    </tr>\n  </thead>\n  <tbody>\n    <tr>\n      <th>0</th>\n      <td>76</td>\n      <td>+</td>\n    </tr>\n    <tr>\n      <th>1</th>\n      <td>491</td>\n      <td>R</td>\n    </tr>\n    <tr>\n      <th>2</th>\n      <td>737</td>\n      <td>A</td>\n    </tr>\n    <tr>\n      <th>3</th>\n      <td>1000</td>\n      <td>A</td>\n    </tr>\n    <tr>\n      <th>4</th>\n      <td>1659</td>\n      <td>R</td>\n    </tr>\n    <tr>\n      <th>5</th>\n      <td>1903</td>\n      <td>A</td>\n    </tr>\n    <tr>\n      <th>6</th>\n      <td>2156</td>\n      <td>A</td>\n    </tr>\n    <tr>\n      <th>7</th>\n      <td>2550</td>\n      <td>~</td>\n    </tr>\n    <tr>\n      <th>8</th>\n      <td>2829</td>\n      <td>R</td>\n    </tr>\n    <tr>\n      <th>9</th>\n      <td>3066</td>\n      <td>A</td>\n    </tr>\n    <tr>\n      <th>10</th>\n      <td>3667</td>\n      <td>R</td>\n    </tr>\n    <tr>\n      <th>11</th>\n      <td>3909</td>\n      <td>A</td>\n    </tr>\n    <tr>\n      <th>12</th>\n      <td>4511</td>\n      <td>R</td>\n    </tr>\n    <tr>\n      <th>13</th>\n      <td>4751</td>\n      <td>A</td>\n    </tr>\n    <tr>\n      <th>14</th>\n      <td>5341</td>\n      <td>R</td>\n    </tr>\n    <tr>\n      <th>15</th>\n      <td>5584</td>\n      <td>A</td>\n    </tr>\n    <tr>\n      <th>16</th>\n      <td>5855</td>\n      <td>A</td>\n    </tr>\n    <tr>\n      <th>17</th>\n      <td>6482</td>\n      <td>R</td>\n    </tr>\n    <tr>\n      <th>18</th>\n      <td>6721</td>\n      <td>A</td>\n    </tr>\n    <tr>\n      <th>19</th>\n      <td>6982</td>\n      <td>A</td>\n    </tr>\n  </tbody>\n</table>\n</div>"
     },
     "execution_count": 5,
     "metadata": {},
     "output_type": "execute_result"
    }
   ],
   "source": [
    "record_annotation = load_record_annotation(RECORD_PATH)\n",
    "record_annotation.head(20)"
   ],
   "metadata": {
    "collapsed": false,
    "pycharm": {
     "name": "#%%\n"
    }
   }
  },
  {
   "cell_type": "code",
   "execution_count": 6,
   "outputs": [
    {
     "data": {
      "text/plain": "A    1382\nR     397\n~      35\n+       1\nj       1\nName: symbol, dtype: int64"
     },
     "execution_count": 6,
     "metadata": {},
     "output_type": "execute_result"
    }
   ],
   "source": [
    "record_annotation['symbol'].value_counts()"
   ],
   "metadata": {
    "collapsed": false,
    "pycharm": {
     "name": "#%%\n"
    }
   }
  },
  {
   "cell_type": "markdown",
   "source": [
    "### Exploring a beat"
   ],
   "metadata": {
    "collapsed": false,
    "pycharm": {
     "name": "#%% md\n"
    }
   }
  },
  {
   "cell_type": "code",
   "execution_count": 7,
   "outputs": [
    {
     "data": {
      "text/plain": "      sample symbol\n2        737      A\n3       1000      A\n5       1903      A\n6       2156      A\n9       3066      A\n...      ...    ...\n1810  647680      A\n1811  647955      A\n1812  648228      A\n1814  649097      A\n1815  649366      A\n\n[1382 rows x 2 columns]",
      "text/html": "<div>\n<style scoped>\n    .dataframe tbody tr th:only-of-type {\n        vertical-align: middle;\n    }\n\n    .dataframe tbody tr th {\n        vertical-align: top;\n    }\n\n    .dataframe thead th {\n        text-align: right;\n    }\n</style>\n<table border=\"1\" class=\"dataframe\">\n  <thead>\n    <tr style=\"text-align: right;\">\n      <th></th>\n      <th>sample</th>\n      <th>symbol</th>\n    </tr>\n  </thead>\n  <tbody>\n    <tr>\n      <th>2</th>\n      <td>737</td>\n      <td>A</td>\n    </tr>\n    <tr>\n      <th>3</th>\n      <td>1000</td>\n      <td>A</td>\n    </tr>\n    <tr>\n      <th>5</th>\n      <td>1903</td>\n      <td>A</td>\n    </tr>\n    <tr>\n      <th>6</th>\n      <td>2156</td>\n      <td>A</td>\n    </tr>\n    <tr>\n      <th>9</th>\n      <td>3066</td>\n      <td>A</td>\n    </tr>\n    <tr>\n      <th>...</th>\n      <td>...</td>\n      <td>...</td>\n    </tr>\n    <tr>\n      <th>1810</th>\n      <td>647680</td>\n      <td>A</td>\n    </tr>\n    <tr>\n      <th>1811</th>\n      <td>647955</td>\n      <td>A</td>\n    </tr>\n    <tr>\n      <th>1812</th>\n      <td>648228</td>\n      <td>A</td>\n    </tr>\n    <tr>\n      <th>1814</th>\n      <td>649097</td>\n      <td>A</td>\n    </tr>\n    <tr>\n      <th>1815</th>\n      <td>649366</td>\n      <td>A</td>\n    </tr>\n  </tbody>\n</table>\n<p>1382 rows × 2 columns</p>\n</div>"
     },
     "execution_count": 7,
     "metadata": {},
     "output_type": "execute_result"
    }
   ],
   "source": [
    "beats = get_beats_by_symbol(record_annotation, 'A')\n",
    "beats"
   ],
   "metadata": {
    "collapsed": false,
    "pycharm": {
     "name": "#%%\n"
    }
   }
  },
  {
   "cell_type": "code",
   "execution_count": 8,
   "outputs": [
    {
     "data": {
      "text/plain": "array([[-0.225, -0.22 , -0.21 , ..., -0.125, -0.13 , -0.12 ],\n       [-0.14 , -0.125, -0.12 , ..., -0.21 , -0.22 , -0.19 ],\n       [-0.295, -0.29 , -0.265, ..., -0.22 , -0.26 , -0.285],\n       ...,\n       [-0.035, -0.035, -0.035, ..., -0.175, -0.175, -0.185],\n       [-0.16 , -0.15 , -0.16 , ..., -0.085, -0.09 , -0.1  ],\n       [-0.07 , -0.06 , -0.05 , ..., -0.155, -0.13 , -0.13 ]])"
     },
     "execution_count": 8,
     "metadata": {},
     "output_type": "execute_result"
    }
   ],
   "source": [
    "ecg_signal = np.array(record['MLII'])\n",
    "window_size = 200\n",
    "\n",
    "beat_slices = get_beat_slices(beats, ecg_signal, window_size)\n",
    "beat_slices"
   ],
   "metadata": {
    "collapsed": false,
    "pycharm": {
     "name": "#%%\n"
    }
   }
  },
  {
   "cell_type": "code",
   "execution_count": 9,
   "outputs": [
    {
     "data": {
      "text/plain": "<Figure size 432x288 with 1 Axes>",
      "image/png": "[encoded data removed]"
     },
     "metadata": {
      "needs_background": "light"
     },
     "output_type": "display_data"
    }
   ],
   "source": [
    "def plot_beat(beat_slices: np.ndarray):\n",
    "    beat_max = np.max(beat_slices, axis = 0)\n",
    "    beat_median = np.median(beat_slices, axis = 0)\n",
    "    beat_mean = np.mean(beat_slices, axis = 0)\n",
    "    beat_min = np.min(beat_slices, axis = 0)\n",
    "\n",
    "    plt.plot(beat_min, color='blue')\n",
    "    plt.plot(beat_median, color='yellow')\n",
    "    plt.plot(beat_mean, color='green')\n",
    "    plt.plot(beat_max, color='red')\n",
    "    plt.fill_between(np.arange(0, beat_min.size), beat_min, beat_max, color = 'gray')\n",
    "\n",
    "    plt.show()\n",
    "\n",
    "\n",
    "plot_beat(beat_slices)"
   ],
   "metadata": {
    "collapsed": false,
    "pycharm": {
     "name": "#%%\n"
    }
   }
  }
 ],
 "metadata": {
  "kernelspec": {
   "display_name": "Python 3",
   "language": "python",
   "name": "python3"
  },
  "language_info": {
   "codemirror_mode": {
    "name": "ipython",
    "version": 2
   },
   "file_extension": ".py",
   "mimetype": "text/x-python",
   "name": "python",
   "nbconvert_exporter": "python",
   "pygments_lexer": "ipython2",
   "version": "2.7.6"
  }
 },
 "nbformat": 4,
 "nbformat_minor": 0
}