{
 "cells": [
  {
   "cell_type": "code",
   "execution_count": 1,
   "outputs": [],
   "source": [
    "import os\n",
    "import random\n",
    "\n",
    "import numpy as np\n",
    "import torch\n",
    "import torch.nn as nn\n",
    "import torch.nn.functional as F\n",
    "import torch.optim as optim\n",
    "import torchaudio\n",
    "import sys\n",
    "\n",
    "import matplotlib.pyplot as plt\n",
    "import IPython.display as ipd\n",
    "\n",
    "from tqdm import tqdm\n",
    "\n",
    "from common import *\n",
    "from dataset import ArrhythmiaDataset\n",
    "\n",
    "from sklearn.metrics import confusion_matrix\n",
    "import seaborn as sn\n",
    "import pandas as pd\n",
    "\n",
    "from torch.utils.tensorboard import SummaryWriter\n",
    "\n",
    "\n",
    "RECORD_DIR_PATH = '../data/mit-bih-arrhythmia-database-1.0.0'\n",
    "WINDOW_SIZE = 540\n",
    "CLASSES = ['N', 'L', 'R', 'a', 'V', 'J', 'F']\n",
    "\n",
    "# Classes: 'N', 'L', 'R', 'A', 'a', 'V', 'j', 'J', 'E', 'f', 'F', '[', '!', ']', '/', 'x', '|', 'Q', 'S', 'e'\n",
    "# TODO: S, e - need some preprocessing, dimensions seem to be wrong in one of these\n",
    "# TODO: Q - of course, quite confusing, this is the most confused beat in confusion matrices\n",
    "# TODO: Manual labeled samples seem to have R-peak dislocated with respect to original dataset; this MUST not happen, as original dataset has them marked and corrected by cardiologists over 30 years"
   ],
   "metadata": {
    "collapsed": false,
    "pycharm": {
     "name": "#%%\n"
    }
   }
  },
  {
   "cell_type": "code",
   "execution_count": 2,
   "outputs": [
    {
     "name": "stdout",
     "output_type": "stream",
     "text": [
      "cuda\n"
     ]
    }
   ],
   "source": [
    "device = torch.device(\"cuda\" if torch.cuda.is_available() else \"cpu\")\n",
    "print(device)"
   ],
   "metadata": {
    "collapsed": false,
    "pycharm": {
     "name": "#%%\n"
    }
   }
  },
  {
   "cell_type": "code",
   "execution_count": 3,
   "outputs": [],
   "source": [
    "# Randomness seed\n",
    "random_seed = 1 # or any of your favorite number\n",
    "torch.manual_seed(random_seed)\n",
    "torch.cuda.manual_seed(random_seed)\n",
    "torch.backends.cudnn.deterministic = True\n",
    "torch.backends.cudnn.benchmark = False\n",
    "np.random.seed(random_seed)"
   ],
   "metadata": {
    "collapsed": false,
    "pycharm": {
     "name": "#%%\n"
    }
   }
  },
  {
   "cell_type": "code",
   "execution_count": 4,
   "outputs": [
    {
     "name": "stdout",
     "output_type": "stream",
     "text": [
      "filename='V.csv' Unique_keys=50\n",
      "filename='L.csv' Unique_keys=100\n",
      "filename='R.csv' Unique_keys=150\n",
      "filename='J.csv' Unique_keys=200\n",
      "filename='a.csv' Unique_keys=253\n",
      "filename='F.csv' Unique_keys=303\n",
      "filename='N.csv' Unique_keys=353\n",
      "row.sample=370 manual_label_dict_sample_key=370\n",
      "row.sample=662 manual_label_dict_sample_key=663\n",
      "row.sample=946 manual_label_dict_sample_key=947\n",
      "row.sample=1231 manual_label_dict_sample_key=1231\n",
      "row.sample=1515 manual_label_dict_sample_key=1515\n",
      "row.sample=1809 manual_label_dict_sample_key=1809\n",
      "row.sample=2402 manual_label_dict_sample_key=2403\n",
      "row.sample=2706 manual_label_dict_sample_key=2706\n",
      "row.sample=2998 manual_label_dict_sample_key=2998\n",
      "row.sample=3282 manual_label_dict_sample_key=3283\n",
      "row.sample=3560 manual_label_dict_sample_key=3560\n",
      "row.sample=3862 manual_label_dict_sample_key=3863\n",
      "row.sample=4170 manual_label_dict_sample_key=4171\n",
      "row.sample=4466 manual_label_dict_sample_key=4466\n",
      "row.sample=4764 manual_label_dict_sample_key=4765\n",
      "row.sample=5060 manual_label_dict_sample_key=5061\n",
      "row.sample=5346 manual_label_dict_sample_key=5346\n",
      "row.sample=5633 manual_label_dict_sample_key=5634\n",
      "row.sample=5918 manual_label_dict_sample_key=5919\n",
      "row.sample=6214 manual_label_dict_sample_key=6215\n",
      "row.sample=6527 manual_label_dict_sample_key=6527\n",
      "row.sample=6823 manual_label_dict_sample_key=6824\n",
      "row.sample=7106 manual_label_dict_sample_key=7106\n",
      "row.sample=7670 manual_label_dict_sample_key=7670\n",
      "row.sample=7953 manual_label_dict_sample_key=7953\n",
      "row.sample=8245 manual_label_dict_sample_key=8246\n",
      "row.sample=8539 manual_label_dict_sample_key=8539\n",
      "row.sample=8837 manual_label_dict_sample_key=8837\n",
      "row.sample=9141 manual_label_dict_sample_key=9142\n",
      "row.sample=9431 manual_label_dict_sample_key=9432\n",
      "row.sample=9710 manual_label_dict_sample_key=9710\n",
      "row.sample=9998 manual_label_dict_sample_key=9998\n",
      "row.sample=10282 manual_label_dict_sample_key=10283\n",
      "row.sample=10591 manual_label_dict_sample_key=10591\n",
      "row.sample=10894 manual_label_dict_sample_key=10895\n",
      "row.sample=11191 manual_label_dict_sample_key=11191\n",
      "row.sample=11480 manual_label_dict_sample_key=11480\n",
      "row.sample=13842 manual_label_dict_sample_key=13843\n",
      "row.sample=59077 manual_label_dict_sample_key=59076\n",
      "row.sample=69191 manual_label_dict_sample_key=69192\n",
      "row.sample=308912 manual_label_dict_sample_key=308912\n",
      "row.sample=33957 manual_label_dict_sample_key=33958\n",
      "row.sample=103413 manual_label_dict_sample_key=103413\n",
      "row.sample=103766 manual_label_dict_sample_key=103765\n",
      "row.sample=104126 manual_label_dict_sample_key=104126\n",
      "row.sample=104474 manual_label_dict_sample_key=104474\n",
      "row.sample=104828 manual_label_dict_sample_key=104828\n",
      "row.sample=105165 manual_label_dict_sample_key=105165\n",
      "row.sample=105502 manual_label_dict_sample_key=105502\n",
      "row.sample=105837 manual_label_dict_sample_key=105837\n",
      "row.sample=106175 manual_label_dict_sample_key=106175\n",
      "row.sample=106507 manual_label_dict_sample_key=106507\n",
      "row.sample=106851 manual_label_dict_sample_key=106851\n",
      "row.sample=107184 manual_label_dict_sample_key=107184\n",
      "row.sample=107529 manual_label_dict_sample_key=107528\n",
      "row.sample=107874 manual_label_dict_sample_key=107874\n",
      "row.sample=109884 manual_label_dict_sample_key=109884\n",
      "row.sample=110246 manual_label_dict_sample_key=110246\n",
      "row.sample=110956 manual_label_dict_sample_key=110956\n",
      "row.sample=111314 manual_label_dict_sample_key=111313\n",
      "row.sample=111682 manual_label_dict_sample_key=111681\n",
      "row.sample=2478 manual_label_dict_sample_key=2477\n",
      "row.sample=3864 manual_label_dict_sample_key=3863\n",
      "row.sample=10791 manual_label_dict_sample_key=10791\n",
      "row.sample=25310 manual_label_dict_sample_key=25311\n",
      "row.sample=32285 manual_label_dict_sample_key=32285\n",
      "row.sample=89568 manual_label_dict_sample_key=89567\n",
      "row.sample=103412 manual_label_dict_sample_key=103413\n",
      "row.sample=13512 manual_label_dict_sample_key=13512\n",
      "row.sample=20057 manual_label_dict_sample_key=20057\n",
      "row.sample=46067 manual_label_dict_sample_key=46066\n",
      "row.sample=25070 manual_label_dict_sample_key=25069\n",
      "row.sample=607020 manual_label_dict_sample_key=607021\n",
      "row.sample=2476 manual_label_dict_sample_key=2477\n",
      "row.sample=2705 manual_label_dict_sample_key=2706\n",
      "row.sample=4767 manual_label_dict_sample_key=4768\n",
      "row.sample=7105 manual_label_dict_sample_key=7106\n",
      "row.sample=69816 manual_label_dict_sample_key=69815\n",
      "row.sample=433930 manual_label_dict_sample_key=433929\n",
      "row.sample=110592 manual_label_dict_sample_key=110591\n",
      "row.sample=427638 manual_label_dict_sample_key=427637\n",
      "row.sample=13499 manual_label_dict_sample_key=13499\n",
      "row.sample=13731 manual_label_dict_sample_key=13732\n",
      "row.sample=36626 manual_label_dict_sample_key=36627\n",
      "row.sample=307338 manual_label_dict_sample_key=307339\n",
      "row.sample=524786 manual_label_dict_sample_key=524787\n",
      "row.sample=2072 manual_label_dict_sample_key=2072\n",
      "row.sample=6776 manual_label_dict_sample_key=6776\n",
      "row.sample=305833 manual_label_dict_sample_key=305834\n",
      "row.sample=6216 manual_label_dict_sample_key=6215\n",
      "row.sample=104475 manual_label_dict_sample_key=104474\n",
      "row.sample=562313 manual_label_dict_sample_key=562313\n",
      "row.sample=607561 manual_label_dict_sample_key=607560\n",
      "row.sample=1607 manual_label_dict_sample_key=1608\n",
      "row.sample=4494 manual_label_dict_sample_key=4493\n",
      "row.sample=4767 manual_label_dict_sample_key=4768\n",
      "row.sample=33957 manual_label_dict_sample_key=33958\n",
      "row.sample=39381 manual_label_dict_sample_key=39382\n",
      "row.sample=41927 manual_label_dict_sample_key=41927\n",
      "row.sample=67152 manual_label_dict_sample_key=67152\n",
      "row.sample=181730 manual_label_dict_sample_key=181731\n",
      "row.sample=489 manual_label_dict_sample_key=488\n",
      "row.sample=804 manual_label_dict_sample_key=803\n",
      "row.sample=1127 manual_label_dict_sample_key=1126\n",
      "row.sample=1430 manual_label_dict_sample_key=1429\n",
      "row.sample=1739 manual_label_dict_sample_key=1738\n",
      "row.sample=2040 manual_label_dict_sample_key=2039\n",
      "row.sample=2344 manual_label_dict_sample_key=2343\n",
      "row.sample=2961 manual_label_dict_sample_key=2960\n",
      "row.sample=3278 manual_label_dict_sample_key=3277\n",
      "row.sample=3579 manual_label_dict_sample_key=3578\n",
      "row.sample=3887 manual_label_dict_sample_key=3886\n",
      "row.sample=4195 manual_label_dict_sample_key=4194\n",
      "row.sample=4494 manual_label_dict_sample_key=4493\n",
      "row.sample=5101 manual_label_dict_sample_key=5100\n",
      "row.sample=5725 manual_label_dict_sample_key=5724\n",
      "row.sample=6044 manual_label_dict_sample_key=6044\n",
      "row.sample=6934 manual_label_dict_sample_key=6933\n",
      "row.sample=7261 manual_label_dict_sample_key=7260\n",
      "row.sample=7578 manual_label_dict_sample_key=7577\n",
      "row.sample=7884 manual_label_dict_sample_key=7883\n",
      "row.sample=8195 manual_label_dict_sample_key=8194\n",
      "row.sample=8499 manual_label_dict_sample_key=8498\n",
      "row.sample=8802 manual_label_dict_sample_key=8801\n",
      "row.sample=9104 manual_label_dict_sample_key=9103\n",
      "row.sample=9423 manual_label_dict_sample_key=9422\n",
      "row.sample=9733 manual_label_dict_sample_key=9732\n",
      "row.sample=10042 manual_label_dict_sample_key=10041\n",
      "row.sample=10362 manual_label_dict_sample_key=10361\n",
      "row.sample=10669 manual_label_dict_sample_key=10668\n",
      "row.sample=10970 manual_label_dict_sample_key=10969\n",
      "row.sample=11275 manual_label_dict_sample_key=11274\n",
      "row.sample=11603 manual_label_dict_sample_key=11603\n",
      "row.sample=11935 manual_label_dict_sample_key=11934\n",
      "row.sample=12253 manual_label_dict_sample_key=12252\n",
      "row.sample=12573 manual_label_dict_sample_key=12572\n",
      "row.sample=12888 manual_label_dict_sample_key=12887\n",
      "row.sample=13196 manual_label_dict_sample_key=13195\n",
      "row.sample=13512 manual_label_dict_sample_key=13512\n",
      "row.sample=14167 manual_label_dict_sample_key=14166\n",
      "row.sample=14480 manual_label_dict_sample_key=14479\n",
      "row.sample=14799 manual_label_dict_sample_key=14798\n",
      "row.sample=15102 manual_label_dict_sample_key=15101\n",
      "row.sample=15402 manual_label_dict_sample_key=15402\n",
      "row.sample=15717 manual_label_dict_sample_key=15716\n",
      "row.sample=90212 manual_label_dict_sample_key=90212\n",
      "row.sample=6635 manual_label_dict_sample_key=6636\n",
      "row.sample=6823 manual_label_dict_sample_key=6824\n",
      "row.sample=9710 manual_label_dict_sample_key=9710\n",
      "row.sample=307815 manual_label_dict_sample_key=307816\n",
      "row.sample=3886 manual_label_dict_sample_key=3886\n",
      "row.sample=4766 manual_label_dict_sample_key=4765\n",
      "row.sample=6776 manual_label_dict_sample_key=6776\n",
      "row.sample=7547 manual_label_dict_sample_key=7548\n",
      "row.sample=10791 manual_label_dict_sample_key=10791\n",
      "row.sample=15831 manual_label_dict_sample_key=15832\n",
      "row.sample=20291 manual_label_dict_sample_key=20291\n",
      "row.sample=20932 manual_label_dict_sample_key=20932\n",
      "row.sample=25716 manual_label_dict_sample_key=25716\n",
      "row.sample=31913 manual_label_dict_sample_key=31914\n",
      "row.sample=39381 manual_label_dict_sample_key=39382\n",
      "row.sample=44260 manual_label_dict_sample_key=44260\n",
      "row.sample=52541 manual_label_dict_sample_key=52542\n",
      "row.sample=57771 manual_label_dict_sample_key=57772\n",
      "row.sample=59075 manual_label_dict_sample_key=59076\n",
      "row.sample=67168 manual_label_dict_sample_key=67168\n",
      "row.sample=76793 manual_label_dict_sample_key=76794\n",
      "row.sample=81509 manual_label_dict_sample_key=81509\n",
      "row.sample=84395 manual_label_dict_sample_key=84396\n",
      "row.sample=87694 manual_label_dict_sample_key=87694\n",
      "row.sample=90211 manual_label_dict_sample_key=90212\n",
      "row.sample=105165 manual_label_dict_sample_key=105165\n",
      "row.sample=309885 manual_label_dict_sample_key=309885\n",
      "row.sample=567164 manual_label_dict_sample_key=567164\n",
      "row.sample=2987 manual_label_dict_sample_key=2988\n",
      "row.sample=9103 manual_label_dict_sample_key=9103\n",
      "row.sample=13201 manual_label_dict_sample_key=13201\n",
      "row.sample=1430 manual_label_dict_sample_key=1429\n",
      "row.sample=7215 manual_label_dict_sample_key=7216\n",
      "row.sample=11383 manual_label_dict_sample_key=11384\n",
      "row.sample=458668 manual_label_dict_sample_key=458667\n",
      "row.sample=464577 manual_label_dict_sample_key=464576\n",
      "row.sample=538025 manual_label_dict_sample_key=538026\n",
      "row.sample=396 manual_label_dict_sample_key=396\n",
      "row.sample=711 manual_label_dict_sample_key=711\n",
      "row.sample=1032 manual_label_dict_sample_key=1032\n",
      "row.sample=1368 manual_label_dict_sample_key=1368\n",
      "row.sample=1712 manual_label_dict_sample_key=1712\n",
      "row.sample=2036 manual_label_dict_sample_key=2036\n",
      "row.sample=2349 manual_label_dict_sample_key=2349\n",
      "row.sample=2662 manual_label_dict_sample_key=2661\n",
      "row.sample=2972 manual_label_dict_sample_key=2972\n",
      "row.sample=3301 manual_label_dict_sample_key=3301\n",
      "row.sample=3631 manual_label_dict_sample_key=3630\n",
      "row.sample=4283 manual_label_dict_sample_key=4284\n",
      "row.sample=6528 manual_label_dict_sample_key=6527\n",
      "row.sample=10590 manual_label_dict_sample_key=10591\n",
      "row.sample=71088 manual_label_dict_sample_key=71088\n",
      "row.sample=442311 manual_label_dict_sample_key=442310\n",
      "row.sample=5919 manual_label_dict_sample_key=5919\n",
      "row.sample=6636 manual_label_dict_sample_key=6636\n",
      "row.sample=8667 manual_label_dict_sample_key=8666\n",
      "row.sample=12252 manual_label_dict_sample_key=12252\n",
      "row.sample=38318 manual_label_dict_sample_key=38318\n",
      "row.sample=168513 manual_label_dict_sample_key=168514\n",
      "row.sample=172064 manual_label_dict_sample_key=172065\n",
      "row.sample=172235 manual_label_dict_sample_key=172235\n",
      "row.sample=172633 manual_label_dict_sample_key=172634\n",
      "row.sample=172769 manual_label_dict_sample_key=172768\n",
      "row.sample=174321 manual_label_dict_sample_key=174321\n",
      "row.sample=181582 manual_label_dict_sample_key=181583\n",
      "row.sample=181732 manual_label_dict_sample_key=181731\n",
      "row.sample=183388 manual_label_dict_sample_key=183389\n",
      "row.sample=208519 manual_label_dict_sample_key=208518\n",
      "row.sample=266466 manual_label_dict_sample_key=266466\n",
      "row.sample=279890 manual_label_dict_sample_key=279890\n",
      "row.sample=283885 manual_label_dict_sample_key=283885\n",
      "row.sample=352653 manual_label_dict_sample_key=352653\n",
      "row.sample=358311 manual_label_dict_sample_key=358311\n",
      "row.sample=392041 manual_label_dict_sample_key=392041\n",
      "row.sample=392172 manual_label_dict_sample_key=392172\n",
      "row.sample=427509 manual_label_dict_sample_key=427509\n",
      "row.sample=429869 manual_label_dict_sample_key=429869\n",
      "row.sample=433928 manual_label_dict_sample_key=433929\n",
      "row.sample=437516 manual_label_dict_sample_key=437517\n",
      "row.sample=442309 manual_label_dict_sample_key=442310\n",
      "row.sample=451119 manual_label_dict_sample_key=451119\n",
      "row.sample=452194 manual_label_dict_sample_key=452194\n",
      "row.sample=458666 manual_label_dict_sample_key=458667\n",
      "row.sample=464575 manual_label_dict_sample_key=464576\n",
      "row.sample=524641 manual_label_dict_sample_key=524642\n",
      "row.sample=527310 manual_label_dict_sample_key=527311\n",
      "row.sample=529460 manual_label_dict_sample_key=529460\n",
      "row.sample=531611 manual_label_dict_sample_key=531612\n",
      "row.sample=532320 manual_label_dict_sample_key=532321\n",
      "row.sample=538025 manual_label_dict_sample_key=538026\n",
      "row.sample=538146 manual_label_dict_sample_key=538146\n",
      "row.sample=538728 manual_label_dict_sample_key=538729\n",
      "row.sample=561609 manual_label_dict_sample_key=561609\n",
      "row.sample=561735 manual_label_dict_sample_key=561735\n",
      "row.sample=563573 manual_label_dict_sample_key=563573\n",
      "row.sample=564262 manual_label_dict_sample_key=564262\n",
      "row.sample=565732 manual_label_dict_sample_key=565732\n",
      "row.sample=567165 manual_label_dict_sample_key=567164\n",
      "row.sample=572543 manual_label_dict_sample_key=572543\n",
      "row.sample=607020 manual_label_dict_sample_key=607021\n",
      "row.sample=607560 manual_label_dict_sample_key=607560\n",
      "row.sample=646690 manual_label_dict_sample_key=646691\n",
      "row.sample=1588 manual_label_dict_sample_key=1589\n",
      "row.sample=2342 manual_label_dict_sample_key=2343\n",
      "row.sample=13200 manual_label_dict_sample_key=13201\n",
      "row.sample=32284 manual_label_dict_sample_key=32285\n",
      "row.sample=429870 manual_label_dict_sample_key=429869\n",
      "row.sample=11933 manual_label_dict_sample_key=11934\n",
      "row.sample=12295 manual_label_dict_sample_key=12295\n",
      "row.sample=25716 manual_label_dict_sample_key=25716\n",
      "row.sample=93510 manual_label_dict_sample_key=93511\n",
      "row.sample=104473 manual_label_dict_sample_key=104474\n",
      "row.sample=304890 manual_label_dict_sample_key=304890\n",
      "row.sample=7882 manual_label_dict_sample_key=7883\n",
      "row.sample=9432 manual_label_dict_sample_key=9432\n",
      "row.sample=304699 manual_label_dict_sample_key=304698\n",
      "row.sample=64400 manual_label_dict_sample_key=64401\n",
      "row.sample=563572 manual_label_dict_sample_key=563573\n",
      "row.sample=607020 manual_label_dict_sample_key=607021\n",
      "row.sample=4785 manual_label_dict_sample_key=4784\n",
      "row.sample=5172 manual_label_dict_sample_key=5172\n",
      "row.sample=8497 manual_label_dict_sample_key=8498\n",
      "row.sample=105166 manual_label_dict_sample_key=105165\n",
      "row.sample=109885 manual_label_dict_sample_key=109884\n",
      "row.sample=229372 manual_label_dict_sample_key=229371\n",
      "row.sample=13295 manual_label_dict_sample_key=13294\n",
      "row.sample=18857 manual_label_dict_sample_key=18856\n",
      "row.sample=105502 manual_label_dict_sample_key=105502\n",
      "row.sample=2035 manual_label_dict_sample_key=2036\n",
      "row.sample=5765 manual_label_dict_sample_key=5764\n",
      "row.sample=6044 manual_label_dict_sample_key=6044\n",
      "row.sample=15717 manual_label_dict_sample_key=15716\n",
      "row.sample=20290 manual_label_dict_sample_key=20291\n",
      "row.sample=310061 manual_label_dict_sample_key=310060\n",
      "row.sample=358312 manual_label_dict_sample_key=358311\n",
      "row.sample=538146 manual_label_dict_sample_key=538146\n",
      "row.sample=10667 manual_label_dict_sample_key=10668\n",
      "row.sample=89568 manual_label_dict_sample_key=89567\n",
      "row.sample=103413 manual_label_dict_sample_key=103413\n",
      "row.sample=309291 manual_label_dict_sample_key=309292\n",
      "row.sample=607559 manual_label_dict_sample_key=607560\n",
      "row.sample=12362 manual_label_dict_sample_key=12363\n",
      "row.sample=76795 manual_label_dict_sample_key=76794\n",
      "row.sample=529459 manual_label_dict_sample_key=529460\n",
      "row.sample=14073 manual_label_dict_sample_key=14072\n",
      "row.sample=451250 manual_label_dict_sample_key=451251\n",
      "row.sample=7216 manual_label_dict_sample_key=7216\n",
      "row.sample=9103 manual_label_dict_sample_key=9103\n",
      "row.sample=13732 manual_label_dict_sample_key=13732\n",
      "row.sample=105502 manual_label_dict_sample_key=105502\n",
      "row.sample=607561 manual_label_dict_sample_key=607560\n",
      "row.sample=2661 manual_label_dict_sample_key=2661\n",
      "row.sample=9423 manual_label_dict_sample_key=9422\n",
      "row.sample=36627 manual_label_dict_sample_key=36627\n",
      "row.sample=55805 manual_label_dict_sample_key=55804\n",
      "row.sample=306926 manual_label_dict_sample_key=306926\n",
      "row.sample=458666 manual_label_dict_sample_key=458667\n",
      "row.sample=607560 manual_label_dict_sample_key=607560\n",
      "row.sample=11384 manual_label_dict_sample_key=11384\n",
      "row.sample=46702 manual_label_dict_sample_key=46703\n",
      "row.sample=108535 manual_label_dict_sample_key=108535\n",
      "row.sample=65057 manual_label_dict_sample_key=65057\n",
      "row.sample=369 manual_label_dict_sample_key=370\n",
      "row.sample=980 manual_label_dict_sample_key=981\n",
      "row.sample=1284 manual_label_dict_sample_key=1285\n",
      "row.sample=5171 manual_label_dict_sample_key=5172\n",
      "row.sample=7215 manual_label_dict_sample_key=7216\n",
      "row.sample=8378 manual_label_dict_sample_key=8379\n",
      "row.sample=10178 manual_label_dict_sample_key=10179\n",
      "row.sample=10480 manual_label_dict_sample_key=10481\n",
      "row.sample=11383 manual_label_dict_sample_key=11384\n",
      "row.sample=12294 manual_label_dict_sample_key=12295\n",
      "row.sample=12595 manual_label_dict_sample_key=12596\n",
      "row.sample=14071 manual_label_dict_sample_key=14072\n",
      "row.sample=16090 manual_label_dict_sample_key=16091\n",
      "row.sample=18243 manual_label_dict_sample_key=18244\n",
      "row.sample=19157 manual_label_dict_sample_key=19158\n",
      "row.sample=19459 manual_label_dict_sample_key=19460\n",
      "row.sample=101384 manual_label_dict_sample_key=101384\n",
      "row.sample=304524 manual_label_dict_sample_key=304524\n",
      "row.sample=561735 manual_label_dict_sample_key=561735\n",
      "row.sample=451120 manual_label_dict_sample_key=451119\n",
      "row.sample=1430 manual_label_dict_sample_key=1429\n",
      "row.sample=25070 manual_label_dict_sample_key=25069\n",
      "row.sample=32285 manual_label_dict_sample_key=32285\n",
      "row.sample=487 manual_label_dict_sample_key=488\n",
      "row.sample=689 manual_label_dict_sample_key=689\n",
      "row.sample=1147 manual_label_dict_sample_key=1147\n",
      "row.sample=1882 manual_label_dict_sample_key=1881\n",
      "row.sample=2072 manual_label_dict_sample_key=2072\n",
      "row.sample=2989 manual_label_dict_sample_key=2988\n",
      "row.sample=3300 manual_label_dict_sample_key=3301\n",
      "row.sample=6285 manual_label_dict_sample_key=6285\n",
      "row.sample=6718 manual_label_dict_sample_key=6718\n",
      "row.sample=8577 manual_label_dict_sample_key=8576\n",
      "row.sample=9710 manual_label_dict_sample_key=9710\n",
      "row.sample=12364 manual_label_dict_sample_key=12363\n",
      "row.sample=12900 manual_label_dict_sample_key=12900\n",
      "row.sample=13733 manual_label_dict_sample_key=13732\n",
      "row.sample=15085 manual_label_dict_sample_key=15084\n",
      "row.sample=16880 manual_label_dict_sample_key=16879\n",
      "row.sample=28747 manual_label_dict_sample_key=28746\n",
      "row.sample=31323 manual_label_dict_sample_key=31322\n",
      "row.sample=32286 manual_label_dict_sample_key=32285\n",
      "row.sample=36087 manual_label_dict_sample_key=36086\n",
      "row.sample=38319 manual_label_dict_sample_key=38318\n",
      "row.sample=38810 manual_label_dict_sample_key=38810\n",
      "row.sample=40377 manual_label_dict_sample_key=40376\n",
      "row.sample=40889 manual_label_dict_sample_key=40889\n",
      "row.sample=41355 manual_label_dict_sample_key=41354\n",
      "row.sample=41928 manual_label_dict_sample_key=41927\n",
      "row.sample=44261 manual_label_dict_sample_key=44260\n",
      "row.sample=44756 manual_label_dict_sample_key=44756\n",
      "row.sample=70798 manual_label_dict_sample_key=70798\n",
      "row.sample=87848 manual_label_dict_sample_key=87847\n",
      "row.sample=92581 manual_label_dict_sample_key=92581\n",
      "row.sample=93511 manual_label_dict_sample_key=93511\n",
      "row.sample=100949 manual_label_dict_sample_key=100948\n",
      "row.sample=104095 manual_label_dict_sample_key=104095\n",
      "row.sample=105863 manual_label_dict_sample_key=105863\n",
      "row.sample=12886 manual_label_dict_sample_key=12887\n",
      "row.sample=39316 manual_label_dict_sample_key=39317\n",
      "row.sample=110590 manual_label_dict_sample_key=110591\n",
      "row.sample=427508 manual_label_dict_sample_key=427509\n",
      "row.sample=531611 manual_label_dict_sample_key=531612\n",
      "row.sample=6340 manual_label_dict_sample_key=6341\n",
      "row.sample=52542 manual_label_dict_sample_key=52542\n",
      "row.sample=103413 manual_label_dict_sample_key=103413\n",
      "row.sample=266467 manual_label_dict_sample_key=266466\n",
      "row.sample=427508 manual_label_dict_sample_key=427509\n",
      "row.sample=563573 manual_label_dict_sample_key=563573\n",
      "row.sample=11935 manual_label_dict_sample_key=11934\n",
      "row.sample=105503 manual_label_dict_sample_key=105502\n",
      "row.sample=8380 manual_label_dict_sample_key=8379\n",
      "row.sample=78075 manual_label_dict_sample_key=78074\n",
      "row.sample=304523 manual_label_dict_sample_key=304524\n",
      "row.sample=304697 manual_label_dict_sample_key=304698\n",
      "row.sample=304890 manual_label_dict_sample_key=304890\n",
      "row.sample=305063 manual_label_dict_sample_key=305064\n",
      "row.sample=305229 manual_label_dict_sample_key=305230\n",
      "row.sample=305426 manual_label_dict_sample_key=305426\n",
      "row.sample=305622 manual_label_dict_sample_key=305623\n",
      "row.sample=305833 manual_label_dict_sample_key=305834\n",
      "row.sample=306055 manual_label_dict_sample_key=306055\n",
      "row.sample=306267 manual_label_dict_sample_key=306267\n",
      "row.sample=306496 manual_label_dict_sample_key=306497\n",
      "row.sample=306727 manual_label_dict_sample_key=306727\n",
      "row.sample=306926 manual_label_dict_sample_key=306926\n",
      "row.sample=307118 manual_label_dict_sample_key=307118\n",
      "row.sample=307339 manual_label_dict_sample_key=307339\n",
      "row.sample=307573 manual_label_dict_sample_key=307574\n",
      "row.sample=307815 manual_label_dict_sample_key=307816\n",
      "row.sample=308053 manual_label_dict_sample_key=308054\n",
      "row.sample=308286 manual_label_dict_sample_key=308287\n",
      "row.sample=308480 manual_label_dict_sample_key=308480\n",
      "row.sample=308684 manual_label_dict_sample_key=308684\n",
      "row.sample=308911 manual_label_dict_sample_key=308912\n",
      "row.sample=309101 manual_label_dict_sample_key=309102\n",
      "row.sample=309292 manual_label_dict_sample_key=309292\n",
      "row.sample=309497 manual_label_dict_sample_key=309497\n",
      "row.sample=309695 manual_label_dict_sample_key=309695\n",
      "row.sample=309884 manual_label_dict_sample_key=309885\n",
      "row.sample=310059 manual_label_dict_sample_key=310060\n",
      "row.sample=310221 manual_label_dict_sample_key=310222\n",
      "row.sample=310371 manual_label_dict_sample_key=310372\n",
      "row.sample=13498 manual_label_dict_sample_key=13499\n",
      "row.sample=44755 manual_label_dict_sample_key=44756\n",
      "row.sample=72323 manual_label_dict_sample_key=72322\n",
      "row.sample=87847 manual_label_dict_sample_key=87847\n",
      "row.sample=464577 manual_label_dict_sample_key=464576\n",
      "row.sample=567165 manual_label_dict_sample_key=567164\n",
      "row.sample=1369 manual_label_dict_sample_key=1368\n",
      "row.sample=2987 manual_label_dict_sample_key=2988\n",
      "row.sample=4886 manual_label_dict_sample_key=4885\n",
      "row.sample=25311 manual_label_dict_sample_key=25311\n",
      "row.sample=65111 manual_label_dict_sample_key=65112\n",
      "row.sample=69193 manual_label_dict_sample_key=69192\n",
      "row.sample=309695 manual_label_dict_sample_key=309695\n",
      "torch.Size([424, 6, 1080])\n",
      "424\n"
     ]
    }
   ],
   "source": [
    "dataset = ArrhythmiaDataset(RECORD_DIR_PATH, WINDOW_SIZE, only_include_labels = CLASSES, include_manual_labels = True)\n",
    "\n",
    "print(dataset.data.shape)\n",
    "print(len(dataset.labels))"
   ],
   "metadata": {
    "collapsed": false,
    "pycharm": {
     "name": "#%%\n"
    }
   }
  },
  {
   "cell_type": "code",
   "execution_count": 5,
   "outputs": [
    {
     "name": "stdout",
     "output_type": "stream",
     "text": [
      "R: 4\n",
      "N: 71\n",
      "V: 19\n",
      "J: 28\n",
      "L: 11\n",
      "F: 7\n",
      "a: 22\n"
     ]
    }
   ],
   "source": [
    "labels, counts = torch.unique(dataset.labels_encoded, dim = 0, return_counts = True)\n",
    "\n",
    "for label, count in zip(labels, counts):\n",
    "    print(f'{dataset.get_label_from_tensor(label)}: {count}')\n"
   ],
   "metadata": {
    "collapsed": false,
    "pycharm": {
     "name": "#%%\n"
    }
   }
  },
  {
   "cell_type": "code",
   "execution_count": 6,
   "outputs": [
    {
     "name": "stdout",
     "output_type": "stream",
     "text": [
      "torch.Size([118, 6, 1080])\n",
      "118\n",
      "R: 4\n",
      "N: 27\n",
      "V: 19\n",
      "J: 28\n",
      "L: 11\n",
      "F: 7\n",
      "a: 22\n"
     ]
    }
   ],
   "source": [
    "# Drop some Normal beats to balance classes\n",
    "normal_beat_mask = np.array(dataset.labels) == 'N'\n",
    "\n",
    "new_labels = []\n",
    "for idx, l in enumerate(normal_beat_mask):\n",
    "    # TODO: Change this when there's more samples\n",
    "    if l and random.uniform(0, 1) < 0.33:\n",
    "        normal_beat_mask[idx] = False\n",
    "    if not normal_beat_mask[idx]:\n",
    "        new_labels.append(dataset.labels[idx])\n",
    "\n",
    "new_data = dataset.data[normal_beat_mask == False]\n",
    "dataset.data = new_data\n",
    "dataset.labels = new_labels\n",
    "dataset.encode_labels()\n",
    "\n",
    "def show_class_count(dataset: ArrhythmiaDataset):\n",
    "    print(dataset.data.shape)\n",
    "    print(len(dataset.labels))\n",
    "    labels, counts = torch.unique(dataset.labels_encoded, dim = 0, return_counts = True)\n",
    "\n",
    "    for label, count in zip(labels, counts):\n",
    "        print(f'{dataset.get_label_from_tensor(label)}: {count}')\n",
    "\n",
    "show_class_count(dataset)"
   ],
   "metadata": {
    "collapsed": false,
    "pycharm": {
     "name": "#%%\n"
    }
   }
  },
  {
   "cell_type": "code",
   "execution_count": 7,
   "outputs": [
    {
     "name": "stdout",
     "output_type": "stream",
     "text": [
      "TRAIN DATASET:\n",
      "torch.Size([94, 6, 1080])\n",
      "0\n",
      "R: 3\n",
      "N: 21\n",
      "V: 15\n",
      "J: 22\n",
      "L: 9\n",
      "F: 6\n",
      "a: 18\n",
      "TEST DATASET:\n",
      "torch.Size([24, 6, 1080])\n",
      "0\n",
      "R: 1\n",
      "N: 6\n",
      "V: 4\n",
      "J: 6\n",
      "L: 2\n",
      "F: 1\n",
      "a: 4\n"
     ]
    }
   ],
   "source": [
    "def collate_fn(batch):\n",
    "\n",
    "    # A data tuple has the form:\n",
    "    # waveform, one-hot-encoded_label\n",
    "    tensors, targets = [], []\n",
    "\n",
    "    # Gather in lists, and encode labels as indices\n",
    "    for waveform, label in batch:\n",
    "        tensors += [waveform]\n",
    "        targets += [label]\n",
    "\n",
    "    # Group the list of tensors into a batched tensor\n",
    "    tensors = torch.stack(tensors)\n",
    "    tensors = tensors[:, :]\n",
    "    targets = torch.stack(targets)\n",
    "\n",
    "    return tensors, targets\n",
    "\n",
    "\n",
    "batch_size = 256\n",
    "\n",
    "if device == \"cuda\":\n",
    "    num_workers = 1\n",
    "    pin_memory = True\n",
    "else:\n",
    "    num_workers = 0\n",
    "    pin_memory = False\n",
    "\n",
    "train_dataset, test_dataset = dataset.train_test_split(0.2)\n",
    "train_loader = torch.utils.data.DataLoader(\n",
    "    train_dataset,\n",
    "    batch_size=batch_size,\n",
    "    shuffle=True,\n",
    "    collate_fn=collate_fn,\n",
    "    num_workers=num_workers,\n",
    "    pin_memory=pin_memory,\n",
    ")\n",
    "test_loader = torch.utils.data.DataLoader(\n",
    "    test_dataset,\n",
    "    batch_size=batch_size,\n",
    "    shuffle=False,\n",
    "    drop_last=False,\n",
    "    collate_fn=collate_fn,\n",
    "    num_workers=num_workers,\n",
    "    pin_memory=pin_memory,\n",
    ")\n",
    "\n",
    "print('TRAIN DATASET:')\n",
    "show_class_count(train_dataset)\n",
    "\n",
    "print('TEST DATASET:')\n",
    "show_class_count(test_dataset)"
   ],
   "metadata": {
    "collapsed": false,
    "pycharm": {
     "name": "#%%\n"
    }
   }
  },
  {
   "cell_type": "code",
   "execution_count": 8,
   "outputs": [
    {
     "name": "stdout",
     "output_type": "stream",
     "text": [
      "M5(\n",
      "  (conv1): Conv1d(6, 32, kernel_size=(3,), stride=(1,))\n",
      "  (bn1): BatchNorm1d(32, eps=1e-05, momentum=0.1, affine=True, track_running_stats=True)\n",
      "  (pool1): MaxPool1d(kernel_size=2, stride=2, padding=0, dilation=1, ceil_mode=False)\n",
      "  (conv2): Conv1d(32, 32, kernel_size=(3,), stride=(1,))\n",
      "  (bn2): BatchNorm1d(32, eps=1e-05, momentum=0.1, affine=True, track_running_stats=True)\n",
      "  (pool2): MaxPool1d(kernel_size=2, stride=2, padding=0, dilation=1, ceil_mode=False)\n",
      "  (conv3): Conv1d(32, 32, kernel_size=(3,), stride=(1,))\n",
      "  (bn3): BatchNorm1d(32, eps=1e-05, momentum=0.1, affine=True, track_running_stats=True)\n",
      "  (pool3): MaxPool1d(kernel_size=3, stride=3, padding=0, dilation=1, ceil_mode=False)\n",
      "  (conv4): Conv1d(32, 64, kernel_size=(3,), stride=(1,))\n",
      "  (bn4): BatchNorm1d(64, eps=1e-05, momentum=0.1, affine=True, track_running_stats=True)\n",
      "  (pool4): MaxPool1d(kernel_size=3, stride=3, padding=0, dilation=1, ceil_mode=False)\n",
      "  (conv5): Conv1d(64, 64, kernel_size=(3,), stride=(1,))\n",
      "  (bn5): BatchNorm1d(64, eps=1e-05, momentum=0.1, affine=True, track_running_stats=True)\n",
      "  (pool5): MaxPool1d(kernel_size=3, stride=3, padding=0, dilation=1, ceil_mode=False)\n",
      "  (conv6): Conv1d(64, 64, kernel_size=(3,), stride=(1,))\n",
      "  (bn6): BatchNorm1d(64, eps=1e-05, momentum=0.1, affine=True, track_running_stats=True)\n",
      "  (pool6): MaxPool1d(kernel_size=3, stride=3, padding=0, dilation=1, ceil_mode=False)\n",
      "  (fc1): Linear(in_features=64, out_features=32, bias=True)\n",
      "  (fc2): Linear(in_features=32, out_features=7, bias=True)\n",
      ")\n",
      "Number of parameters: 40615\n"
     ]
    }
   ],
   "source": [
    "class M5(nn.Module):\n",
    "    def __init__(self, n_input=1, n_output=35, stride=1, n_channel=32):\n",
    "        super().__init__()\n",
    "        self.conv1 = nn.Conv1d(n_input, n_channel, kernel_size=3, stride=stride)\n",
    "        self.bn1 = nn.BatchNorm1d(n_channel)\n",
    "        self.pool1 = nn.MaxPool1d(2)\n",
    "        self.conv2 = nn.Conv1d(n_channel, n_channel, kernel_size=3)\n",
    "        self.bn2 = nn.BatchNorm1d(n_channel)\n",
    "        self.pool2 = nn.MaxPool1d(2)\n",
    "        self.conv3 = nn.Conv1d(n_channel, n_channel, kernel_size=3)\n",
    "        self.bn3 = nn.BatchNorm1d(n_channel)\n",
    "        self.pool3 = nn.MaxPool1d(3)\n",
    "        self.conv4 = nn.Conv1d(n_channel, 2 * n_channel, kernel_size=3)\n",
    "        self.bn4 = nn.BatchNorm1d(2 * n_channel)\n",
    "        self.pool4 = nn.MaxPool1d(3)\n",
    "        self.conv5 = nn.Conv1d(2 * n_channel, 2 * n_channel, kernel_size=3)\n",
    "        self.bn5 = nn.BatchNorm1d(2 * n_channel)\n",
    "        self.pool5 = nn.MaxPool1d(3)\n",
    "        self.conv6 = nn.Conv1d(2 * n_channel, 2 * n_channel, kernel_size=3)\n",
    "        self.bn6 = nn.BatchNorm1d(2 * n_channel)\n",
    "        self.pool6 = nn.MaxPool1d(3)\n",
    "        self.fc1 = nn.Linear(2 * n_channel, n_channel)\n",
    "        self.fc2 = nn.Linear(n_channel, n_output)\n",
    "\n",
    "    def forward(self, x):\n",
    "        # print(f'CONV1 INPUT SHAPE: {x.shape}')\n",
    "        x = self.conv1(x)\n",
    "        # print(f'CONV1 OUTPUT SHAPE: {x.shape}')\n",
    "        x = F.relu(self.bn1(x))\n",
    "        # print(f'POOL1 INPUT SHAPE: {x.shape}')\n",
    "        x = self.pool1(x)\n",
    "        # print(f'POOL1 OUTPUT SHAPE: {x.shape}')\n",
    "        x = self.conv2(x)\n",
    "        x = F.relu(self.bn2(x))\n",
    "        # print(f'POOL2 INPUT SHAPE: {x.shape}')\n",
    "        x = self.pool2(x)\n",
    "        # print(f'POOL2 OUTPUT SHAPE: {x.shape}')\n",
    "        x = self.conv3(x)\n",
    "        x = F.relu(self.bn3(x))\n",
    "        # print(f'POOL3 INPUT SHAPE: {x.shape}')\n",
    "        x = self.pool3(x)\n",
    "        # print(f'POOL3 OUTPUT SHAPE: {x.shape}')\n",
    "        x = self.conv4(x)\n",
    "        # print(f'BATCHNORM4 INPUT SHAPE: {x.shape}')\n",
    "        x = F.relu(self.bn4(x))\n",
    "        # print(f'POOL4 INPUT SHAPE: {x.shape}')\n",
    "        x = self.pool4(x)\n",
    "        # print(f'POOL4 OUTPUT SHAPE: {x.shape}')\n",
    "        x = self.conv5(x)\n",
    "        # print(f'BATCHNORM5 INPUT SHAPE: {x.shape}')\n",
    "        x = F.relu(self.bn5(x))\n",
    "        # print(f'POOL5 INPUT SHAPE: {x.shape}')\n",
    "        x = self.pool5(x)\n",
    "        # print(f'POOL5 OUTPUT SHAPE: {x.shape}')\n",
    "        x = self.conv6(x)\n",
    "        # print(f'BATCHNORM6 INPUT SHAPE: {x.shape}')\n",
    "        x = F.relu(self.bn6(x))\n",
    "        # print(f'POOL6 INPUT SHAPE: {x.shape}')\n",
    "        x = self.pool6(x)\n",
    "        # print(f'POOL6 OUTPUT SHAPE: {x.shape}')\n",
    "        x = F.avg_pool1d(x, x.shape[-1])\n",
    "        x = x.permute(0, 2, 1)\n",
    "        x = F.relu(self.fc1(x))\n",
    "        x = self.fc2(x)\n",
    "        return F.log_softmax(x, dim=2)\n",
    "\n",
    "\n",
    "model = M5(n_input=6, n_output=len(set(dataset.labels)))\n",
    "model.double().to(device)\n",
    "print(model)\n",
    "\n",
    "\n",
    "def count_parameters(model):\n",
    "    return sum(p.numel() for p in model.parameters() if p.requires_grad)\n",
    "\n",
    "\n",
    "n = count_parameters(model)\n",
    "print(\"Number of parameters: %s\" % n)"
   ],
   "metadata": {
    "collapsed": false,
    "pycharm": {
     "name": "#%%\n"
    }
   }
  },
  {
   "cell_type": "code",
   "execution_count": 9,
   "outputs": [],
   "source": [
    "optimizer = optim.Adam(model.parameters(), lr=3e-4, weight_decay=0.0001)\n",
    "scheduler = optim.lr_scheduler.StepLR(optimizer, step_size=10, gamma=0.7)  # reduce the learning after 20 epochs by a factor"
   ],
   "metadata": {
    "collapsed": false,
    "pycharm": {
     "name": "#%%\n"
    }
   }
  },
  {
   "cell_type": "code",
   "execution_count": 10,
   "outputs": [],
   "source": [
    "def train(model, epoch, log_interval, writer: SummaryWriter):\n",
    "    train_losses = []\n",
    "    model.train()\n",
    "    for batch_idx, (data, target) in enumerate(train_loader):\n",
    "\n",
    "        data = data.to(device)\n",
    "        # print(f'DATA SHAPE: {data.shape}')\n",
    "        target = target.to(device)\n",
    "\n",
    "        # apply transform and model on whole batch directly on device\n",
    "        output = model(data)\n",
    "\n",
    "        # negative log-likelihood for a tensor of size (batch x 1 x n_output)\n",
    "        squeezed_output = output.squeeze()\n",
    "        loss = F.nll_loss(squeezed_output, target.argmax(dim = 1))\n",
    "\n",
    "        writer.add_scalar('Train loss', loss.item(), epoch * len(train_loader.dataset) + batch_idx)\n",
    "\n",
    "        optimizer.zero_grad()\n",
    "        loss.backward()\n",
    "        optimizer.step()\n",
    "\n",
    "        # print training stats\n",
    "        if batch_idx % log_interval == 0:\n",
    "            print(f\"Train Epoch: {epoch} [{batch_idx * len(data)}/{len(train_loader.dataset)} ({100. * batch_idx / len(train_loader):.0f}%)]\\tLoss: {loss.item():.6f}\")\n",
    "\n",
    "        # update progress bar\n",
    "        pbar.update(pbar_update)\n",
    "        # record loss\n",
    "        train_losses.append(loss.item())\n",
    "    return train_losses"
   ],
   "metadata": {
    "collapsed": false,
    "pycharm": {
     "name": "#%%\n"
    }
   }
  },
  {
   "cell_type": "code",
   "execution_count": 11,
   "outputs": [],
   "source": [
    "def number_of_correct(pred, target):\n",
    "    # count number of correct predictions\n",
    "    return pred.squeeze().eq(target).sum().item()\n",
    "\n",
    "\n",
    "def get_likely_index(tensor):\n",
    "    # find most likely label index for each element in the batch\n",
    "    return tensor.argmax(dim=-1)\n",
    "\n",
    "\n",
    "def test(model, epoch, writer: SummaryWriter):\n",
    "    model.eval()\n",
    "    correct = 0\n",
    "    y_true = []\n",
    "    y_pred = []\n",
    "    for data, target in test_loader:\n",
    "\n",
    "        data = data.to(device)\n",
    "        target = target.to(device)\n",
    "\n",
    "        output = model(data)\n",
    "\n",
    "        pred = get_likely_index(output)\n",
    "        correct += number_of_correct(pred, target.argmax(dim = 1))\n",
    "\n",
    "        y_true.extend(pred.squeeze().data.cpu().numpy())\n",
    "        y_pred.extend(target.data.cpu().numpy().argmax(axis = 1))\n",
    "\n",
    "        # update progress bar\n",
    "        pbar.update(pbar_update)\n",
    "    accuracy = 100. * correct / len(test_loader.dataset)\n",
    "    writer.add_scalar('Test accuracy', accuracy, epoch)\n",
    "\n",
    "    # Build confusion matrix\n",
    "    cf_matrix = confusion_matrix(y_true, y_pred)\n",
    "    df_cm = pd.DataFrame(cf_matrix, index = [i for i in CLASSES],\n",
    "                         columns = [i for i in CLASSES])\n",
    "    plt.figure(figsize = (12,7))\n",
    "    cf_matrix_figure = sn.heatmap(df_cm, annot=True).get_figure()\n",
    "    writer.add_figure('Test confusion matrix', cf_matrix_figure, epoch)\n",
    "\n",
    "    print(f\"\\nTest Epoch: {epoch}\\tAccuracy: {correct}/{len(test_loader.dataset)} ({accuracy:.0f}%)\\n\")\n",
    "    return accuracy"
   ],
   "metadata": {
    "collapsed": false,
    "pycharm": {
     "name": "#%%\n"
    }
   }
  },
  {
   "cell_type": "code",
   "execution_count": 12,
   "outputs": [
    {
     "name": "stderr",
     "output_type": "stream",
     "text": [
      "  0%|          | 1.5/300 [00:00<02:16,  2.19it/s]"
     ]
    },
    {
     "name": "stdout",
     "output_type": "stream",
     "text": [
      "Train Epoch: 1 [0/94 (0%)]\tLoss: 2.044610\n",
      "\n",
      "Test Epoch: 1\tAccuracy: 4/24 (17%)\n",
      "\n",
      "Train Epoch: 2 [0/94 (0%)]\tLoss: 1.973340\n"
     ]
    },
    {
     "name": "stderr",
     "output_type": "stream",
     "text": [
      "  1%|          | 2.5/300 [00:00<01:33,  3.19it/s]"
     ]
    },
    {
     "name": "stdout",
     "output_type": "stream",
     "text": [
      "\n",
      "Test Epoch: 2\tAccuracy: 4/24 (17%)\n",
      "\n",
      "Train Epoch: 3 [0/94 (0%)]\tLoss: 1.910472\n",
      "\n",
      "Test Epoch: 3\tAccuracy: 4/24 (17%)\n",
      "\n"
     ]
    },
    {
     "name": "stderr",
     "output_type": "stream",
     "text": [
      "  2%|▏         | 4.5/300 [00:01<01:09,  4.26it/s]"
     ]
    },
    {
     "name": "stdout",
     "output_type": "stream",
     "text": [
      "Train Epoch: 4 [0/94 (0%)]\tLoss: 1.855094\n",
      "\n",
      "Test Epoch: 4\tAccuracy: 2/24 (8%)\n",
      "\n",
      "Train Epoch: 5 [0/94 (0%)]\tLoss: 1.804925\n"
     ]
    },
    {
     "name": "stderr",
     "output_type": "stream",
     "text": [
      "  2%|▏         | 5.5/300 [00:01<01:04,  4.58it/s]"
     ]
    },
    {
     "name": "stdout",
     "output_type": "stream",
     "text": [
      "\n",
      "Test Epoch: 5\tAccuracy: 2/24 (8%)\n",
      "\n",
      "Train Epoch: 6 [0/94 (0%)]\tLoss: 1.758134\n",
      "\n",
      "Test Epoch: 6\tAccuracy: 2/24 (8%)\n",
      "\n"
     ]
    },
    {
     "name": "stderr",
     "output_type": "stream",
     "text": [
      "  2%|▏         | 6.5/300 [00:01<01:01,  4.81it/s]"
     ]
    },
    {
     "name": "stdout",
     "output_type": "stream",
     "text": [
      "Train Epoch: 7 [0/94 (0%)]\tLoss: 1.714718\n",
      "\n",
      "Test Epoch: 7\tAccuracy: 2/24 (8%)\n",
      "\n"
     ]
    },
    {
     "name": "stderr",
     "output_type": "stream",
     "text": [
      "  3%|▎         | 8.5/300 [00:02<01:01,  4.72it/s]"
     ]
    },
    {
     "name": "stdout",
     "output_type": "stream",
     "text": [
      "Train Epoch: 8 [0/94 (0%)]\tLoss: 1.673690\n",
      "\n",
      "Test Epoch: 8\tAccuracy: 2/24 (8%)\n",
      "\n",
      "Train Epoch: 9 [0/94 (0%)]\tLoss: 1.635869\n"
     ]
    },
    {
     "name": "stderr",
     "output_type": "stream",
     "text": [
      "  3%|▎         | 9.5/300 [00:02<00:58,  4.97it/s]"
     ]
    },
    {
     "name": "stdout",
     "output_type": "stream",
     "text": [
      "\n",
      "Test Epoch: 9\tAccuracy: 2/24 (8%)\n",
      "\n",
      "Train Epoch: 10 [0/94 (0%)]\tLoss: 1.600385\n",
      "\n",
      "Test Epoch: 10\tAccuracy: 2/24 (8%)\n",
      "\n"
     ]
    },
    {
     "name": "stderr",
     "output_type": "stream",
     "text": [
      "  4%|▍         | 11.5/300 [00:02<00:54,  5.31it/s]"
     ]
    },
    {
     "name": "stdout",
     "output_type": "stream",
     "text": [
      "Train Epoch: 11 [0/94 (0%)]\tLoss: 1.565873\n",
      "\n",
      "Test Epoch: 11\tAccuracy: 2/24 (8%)\n",
      "\n",
      "Train Epoch: 12 [0/94 (0%)]\tLoss: 1.541938\n"
     ]
    },
    {
     "name": "stderr",
     "output_type": "stream",
     "text": [
      "  4%|▍         | 12.5/300 [00:02<00:55,  5.19it/s]"
     ]
    },
    {
     "name": "stdout",
     "output_type": "stream",
     "text": [
      "\n",
      "Test Epoch: 12\tAccuracy: 2/24 (8%)\n",
      "\n",
      "Train Epoch: 13 [0/94 (0%)]\tLoss: 1.518467\n",
      "\n",
      "Test Epoch: 13\tAccuracy: 2/24 (8%)\n",
      "\n"
     ]
    },
    {
     "name": "stderr",
     "output_type": "stream",
     "text": [
      "  5%|▍         | 14.5/300 [00:03<00:53,  5.36it/s]"
     ]
    },
    {
     "name": "stdout",
     "output_type": "stream",
     "text": [
      "Train Epoch: 14 [0/94 (0%)]\tLoss: 1.495325\n",
      "\n",
      "Test Epoch: 14\tAccuracy: 2/24 (8%)\n",
      "\n",
      "Train Epoch: 15 [0/94 (0%)]\tLoss: 1.472231\n"
     ]
    },
    {
     "name": "stderr",
     "output_type": "stream",
     "text": [
      "  5%|▌         | 15.5/300 [00:03<00:52,  5.40it/s]"
     ]
    },
    {
     "name": "stdout",
     "output_type": "stream",
     "text": [
      "\n",
      "Test Epoch: 15\tAccuracy: 2/24 (8%)\n",
      "\n",
      "Train Epoch: 16 [0/94 (0%)]\tLoss: 1.449541\n"
     ]
    },
    {
     "name": "stderr",
     "output_type": "stream",
     "text": [
      "  6%|▌         | 16.5/300 [00:03<00:59,  4.75it/s]"
     ]
    },
    {
     "name": "stdout",
     "output_type": "stream",
     "text": [
      "\n",
      "Test Epoch: 16\tAccuracy: 4/24 (17%)\n",
      "\n",
      "Train Epoch: 17 [0/94 (0%)]\tLoss: 1.427350\n",
      "\n",
      "Test Epoch: 17\tAccuracy: 4/24 (17%)\n",
      "\n"
     ]
    },
    {
     "name": "stderr",
     "output_type": "stream",
     "text": [
      "  6%|▌         | 18.5/300 [00:04<00:55,  5.03it/s]"
     ]
    },
    {
     "name": "stdout",
     "output_type": "stream",
     "text": [
      "Train Epoch: 18 [0/94 (0%)]\tLoss: 1.405475\n",
      "\n",
      "Test Epoch: 18\tAccuracy: 4/24 (17%)\n",
      "\n",
      "Train Epoch: 19 [0/94 (0%)]\tLoss: 1.383723\n"
     ]
    },
    {
     "name": "stderr",
     "output_type": "stream",
     "text": [
      "  6%|▋         | 19.5/300 [00:04<00:54,  5.13it/s]"
     ]
    },
    {
     "name": "stdout",
     "output_type": "stream",
     "text": [
      "\n",
      "Test Epoch: 19\tAccuracy: 4/24 (17%)\n",
      "\n",
      "Train Epoch: 20 [0/94 (0%)]\tLoss: 1.362285\n",
      "\n",
      "Test Epoch: 20\tAccuracy: 4/24 (17%)\n",
      "\n"
     ]
    },
    {
     "name": "stderr",
     "output_type": "stream",
     "text": [
      "  7%|▋         | 21.5/300 [00:04<00:52,  5.34it/s]"
     ]
    },
    {
     "name": "stdout",
     "output_type": "stream",
     "text": [
      "Train Epoch: 21 [0/94 (0%)]\tLoss: 1.341393\n",
      "\n",
      "Test Epoch: 21\tAccuracy: 4/24 (17%)\n",
      "\n",
      "Train Epoch: 22 [0/94 (0%)]\tLoss: 1.326897\n"
     ]
    },
    {
     "name": "stderr",
     "output_type": "stream",
     "text": [
      "  8%|▊         | 22.5/300 [00:04<00:50,  5.46it/s]"
     ]
    },
    {
     "name": "stdout",
     "output_type": "stream",
     "text": [
      "\n",
      "Test Epoch: 22\tAccuracy: 4/24 (17%)\n",
      "\n",
      "Train Epoch: 23 [0/94 (0%)]\tLoss: 1.312521\n",
      "\n",
      "Test Epoch: 23\tAccuracy: 4/24 (17%)\n",
      "\n"
     ]
    },
    {
     "name": "stderr",
     "output_type": "stream",
     "text": [
      "  8%|▊         | 24.5/300 [00:05<00:49,  5.55it/s]"
     ]
    },
    {
     "name": "stdout",
     "output_type": "stream",
     "text": [
      "Train Epoch: 24 [0/94 (0%)]\tLoss: 1.298297\n",
      "\n",
      "Test Epoch: 24\tAccuracy: 4/24 (17%)\n",
      "\n",
      "Train Epoch: 25 [0/94 (0%)]\tLoss: 1.284139\n"
     ]
    },
    {
     "name": "stderr",
     "output_type": "stream",
     "text": [
      "  8%|▊         | 25.5/300 [00:05<00:49,  5.57it/s]"
     ]
    },
    {
     "name": "stdout",
     "output_type": "stream",
     "text": [
      "\n",
      "Test Epoch: 25\tAccuracy: 4/24 (17%)\n",
      "\n",
      "Train Epoch: 26 [0/94 (0%)]\tLoss: 1.270027\n",
      "\n",
      "Test Epoch: 26\tAccuracy: 4/24 (17%)\n",
      "\n"
     ]
    },
    {
     "name": "stderr",
     "output_type": "stream",
     "text": [
      "  9%|▉         | 26.5/300 [00:05<00:49,  5.57it/s]"
     ]
    },
    {
     "name": "stdout",
     "output_type": "stream",
     "text": [
      "Train Epoch: 27 [0/94 (0%)]\tLoss: 1.256089\n"
     ]
    },
    {
     "name": "stderr",
     "output_type": "stream",
     "text": [
      "  9%|▉         | 27.5/300 [00:05<00:58,  4.63it/s]"
     ]
    },
    {
     "name": "stdout",
     "output_type": "stream",
     "text": [
      "\n",
      "Test Epoch: 27\tAccuracy: 4/24 (17%)\n",
      "\n",
      "Train Epoch: 28 [0/94 (0%)]\tLoss: 1.242361\n",
      "\n",
      "Test Epoch: 28\tAccuracy: 4/24 (17%)\n",
      "\n"
     ]
    },
    {
     "name": "stderr",
     "output_type": "stream",
     "text": [
      " 10%|▉         | 29.5/300 [00:06<00:53,  5.08it/s]"
     ]
    },
    {
     "name": "stdout",
     "output_type": "stream",
     "text": [
      "Train Epoch: 29 [0/94 (0%)]\tLoss: 1.228764\n",
      "\n",
      "Test Epoch: 29\tAccuracy: 5/24 (21%)\n",
      "\n",
      "Train Epoch: 30 [0/94 (0%)]\tLoss: 1.215328\n"
     ]
    },
    {
     "name": "stderr",
     "output_type": "stream",
     "text": [
      " 10%|█         | 30.5/300 [00:06<00:51,  5.26it/s]"
     ]
    },
    {
     "name": "stdout",
     "output_type": "stream",
     "text": [
      "\n",
      "Test Epoch: 30\tAccuracy: 5/24 (21%)\n",
      "\n",
      "Train Epoch: 31 [0/94 (0%)]\tLoss: 1.202079\n",
      "\n",
      "Test Epoch: 31\tAccuracy: 7/24 (29%)\n",
      "\n"
     ]
    },
    {
     "name": "stderr",
     "output_type": "stream",
     "text": [
      " 11%|█         | 32.5/300 [00:06<00:50,  5.30it/s]"
     ]
    },
    {
     "name": "stdout",
     "output_type": "stream",
     "text": [
      "Train Epoch: 32 [0/94 (0%)]\tLoss: 1.192842\n",
      "\n",
      "Test Epoch: 32\tAccuracy: 7/24 (29%)\n",
      "\n",
      "Train Epoch: 33 [0/94 (0%)]\tLoss: 1.183613\n"
     ]
    },
    {
     "name": "stderr",
     "output_type": "stream",
     "text": [
      " 11%|█         | 33.5/300 [00:06<00:50,  5.28it/s]"
     ]
    },
    {
     "name": "stdout",
     "output_type": "stream",
     "text": [
      "\n",
      "Test Epoch: 33\tAccuracy: 9/24 (38%)\n",
      "\n",
      "Train Epoch: 34 [0/94 (0%)]\tLoss: 1.174454\n",
      "\n",
      "Test Epoch: 34\tAccuracy: 9/24 (38%)\n",
      "\n"
     ]
    },
    {
     "name": "stderr",
     "output_type": "stream",
     "text": [
      " 12%|█▏        | 35.5/300 [00:07<00:48,  5.40it/s]"
     ]
    },
    {
     "name": "stdout",
     "output_type": "stream",
     "text": [
      "Train Epoch: 35 [0/94 (0%)]\tLoss: 1.165342\n",
      "\n",
      "Test Epoch: 35\tAccuracy: 9/24 (38%)\n",
      "\n",
      "Train Epoch: 36 [0/94 (0%)]\tLoss: 1.156268\n"
     ]
    },
    {
     "name": "stderr",
     "output_type": "stream",
     "text": [
      " 12%|█▏        | 36.5/300 [00:07<00:49,  5.32it/s]"
     ]
    },
    {
     "name": "stdout",
     "output_type": "stream",
     "text": [
      "\n",
      "Test Epoch: 36\tAccuracy: 9/24 (38%)\n",
      "\n",
      "Train Epoch: 37 [0/94 (0%)]\tLoss: 1.147221\n",
      "\n",
      "Test Epoch: 37\tAccuracy: 10/24 (42%)\n",
      "\n"
     ]
    },
    {
     "name": "stderr",
     "output_type": "stream",
     "text": [
      " 13%|█▎        | 38.5/300 [00:07<00:49,  5.31it/s]"
     ]
    },
    {
     "name": "stdout",
     "output_type": "stream",
     "text": [
      "Train Epoch: 38 [0/94 (0%)]\tLoss: 1.138155\n",
      "\n",
      "Test Epoch: 38\tAccuracy: 10/24 (42%)\n",
      "\n",
      "Train Epoch: 39 [0/94 (0%)]\tLoss: 1.129131\n"
     ]
    },
    {
     "name": "stderr",
     "output_type": "stream",
     "text": [
      " 13%|█▎        | 39.5/300 [00:08<00:48,  5.33it/s]"
     ]
    },
    {
     "name": "stdout",
     "output_type": "stream",
     "text": [
      "\n",
      "Test Epoch: 39\tAccuracy: 10/24 (42%)\n",
      "\n",
      "Train Epoch: 40 [0/94 (0%)]\tLoss: 1.120175\n",
      "\n",
      "Test Epoch: 40\tAccuracy: 10/24 (42%)\n",
      "\n"
     ]
    },
    {
     "name": "stderr",
     "output_type": "stream",
     "text": [
      " 14%|█▎        | 40.5/300 [00:08<00:48,  5.38it/s]"
     ]
    },
    {
     "name": "stdout",
     "output_type": "stream",
     "text": [
      "Train Epoch: 41 [0/94 (0%)]\tLoss: 1.111251\n"
     ]
    },
    {
     "name": "stderr",
     "output_type": "stream",
     "text": [
      " 14%|█▍        | 41.5/300 [00:08<01:01,  4.22it/s]"
     ]
    },
    {
     "name": "stdout",
     "output_type": "stream",
     "text": [
      "\n",
      "Test Epoch: 41\tAccuracy: 10/24 (42%)\n",
      "\n",
      "Train Epoch: 42 [0/94 (0%)]\tLoss: 1.105037\n"
     ]
    },
    {
     "name": "stderr",
     "output_type": "stream",
     "text": [
      " 14%|█▍        | 42.5/300 [00:08<01:00,  4.28it/s]"
     ]
    },
    {
     "name": "stdout",
     "output_type": "stream",
     "text": [
      "\n",
      "Test Epoch: 42\tAccuracy: 10/24 (42%)\n",
      "\n",
      "Train Epoch: 43 [0/94 (0%)]\tLoss: 1.098847\n"
     ]
    },
    {
     "name": "stderr",
     "output_type": "stream",
     "text": [
      " 14%|█▍        | 43.5/300 [00:09<00:56,  4.54it/s]"
     ]
    },
    {
     "name": "stdout",
     "output_type": "stream",
     "text": [
      "\n",
      "Test Epoch: 43\tAccuracy: 14/24 (58%)\n",
      "\n",
      "Train Epoch: 44 [0/94 (0%)]\tLoss: 1.092691\n",
      "\n",
      "Test Epoch: 44\tAccuracy: 15/24 (62%)\n",
      "\n"
     ]
    },
    {
     "name": "stderr",
     "output_type": "stream",
     "text": [
      " 15%|█▌        | 45.5/300 [00:09<00:51,  4.90it/s]"
     ]
    },
    {
     "name": "stdout",
     "output_type": "stream",
     "text": [
      "Train Epoch: 45 [0/94 (0%)]\tLoss: 1.086580\n",
      "\n",
      "Test Epoch: 45\tAccuracy: 15/24 (62%)\n",
      "\n",
      "Train Epoch: 46 [0/94 (0%)]\tLoss: 1.080510\n"
     ]
    },
    {
     "name": "stderr",
     "output_type": "stream",
     "text": [
      " 16%|█▌        | 46.5/300 [00:09<00:50,  4.99it/s]"
     ]
    },
    {
     "name": "stdout",
     "output_type": "stream",
     "text": [
      "\n",
      "Test Epoch: 46\tAccuracy: 17/24 (71%)\n",
      "\n",
      "Train Epoch: 47 [0/94 (0%)]\tLoss: 1.074462\n",
      "\n",
      "Test Epoch: 47\tAccuracy: 19/24 (79%)\n",
      "\n"
     ]
    },
    {
     "name": "stderr",
     "output_type": "stream",
     "text": [
      " 16%|█▌        | 48.5/300 [00:09<00:50,  4.93it/s]"
     ]
    },
    {
     "name": "stdout",
     "output_type": "stream",
     "text": [
      "Train Epoch: 48 [0/94 (0%)]\tLoss: 1.068409\n",
      "\n",
      "Test Epoch: 48\tAccuracy: 19/24 (79%)\n",
      "\n",
      "Train Epoch: 49 [0/94 (0%)]\tLoss: 1.062367\n"
     ]
    },
    {
     "name": "stderr",
     "output_type": "stream",
     "text": [
      " 16%|█▋        | 49.5/300 [00:10<00:52,  4.80it/s]"
     ]
    },
    {
     "name": "stdout",
     "output_type": "stream",
     "text": [
      "\n",
      "Test Epoch: 49\tAccuracy: 19/24 (79%)\n",
      "\n",
      "Train Epoch: 50 [0/94 (0%)]\tLoss: 1.056352\n"
     ]
    },
    {
     "name": "stderr",
     "output_type": "stream",
     "text": [
      " 17%|█▋        | 50.5/300 [00:10<00:50,  4.90it/s]"
     ]
    },
    {
     "name": "stdout",
     "output_type": "stream",
     "text": [
      "\n",
      "Test Epoch: 50\tAccuracy: 19/24 (79%)\n",
      "\n",
      "Train Epoch: 51 [0/94 (0%)]\tLoss: 1.050346\n"
     ]
    },
    {
     "name": "stderr",
     "output_type": "stream",
     "text": [
      " 17%|█▋        | 51.5/300 [00:10<00:52,  4.74it/s]"
     ]
    },
    {
     "name": "stdout",
     "output_type": "stream",
     "text": [
      "\n",
      "Test Epoch: 51\tAccuracy: 18/24 (75%)\n",
      "\n",
      "Train Epoch: 52 [0/94 (0%)]\tLoss: 1.046147\n"
     ]
    },
    {
     "name": "stderr",
     "output_type": "stream",
     "text": [
      " 18%|█▊        | 52.5/300 [00:10<00:51,  4.83it/s]"
     ]
    },
    {
     "name": "stdout",
     "output_type": "stream",
     "text": [
      "\n",
      "Test Epoch: 52\tAccuracy: 18/24 (75%)\n",
      "\n",
      "Train Epoch: 53 [0/94 (0%)]\tLoss: 1.041940\n",
      "\n",
      "Test Epoch: 53\tAccuracy: 18/24 (75%)\n",
      "\n"
     ]
    },
    {
     "name": "stderr",
     "output_type": "stream",
     "text": [
      " 18%|█▊        | 54.5/300 [00:11<00:48,  5.09it/s]"
     ]
    },
    {
     "name": "stdout",
     "output_type": "stream",
     "text": [
      "Train Epoch: 54 [0/94 (0%)]\tLoss: 1.037720\n",
      "\n",
      "Test Epoch: 54\tAccuracy: 18/24 (75%)\n",
      "\n",
      "Train Epoch: 55 [0/94 (0%)]\tLoss: 1.033507\n"
     ]
    },
    {
     "name": "stderr",
     "output_type": "stream",
     "text": [
      " 18%|█▊        | 55.5/300 [00:11<00:48,  5.08it/s]"
     ]
    },
    {
     "name": "stdout",
     "output_type": "stream",
     "text": [
      "\n",
      "Test Epoch: 55\tAccuracy: 18/24 (75%)\n",
      "\n",
      "Train Epoch: 56 [0/94 (0%)]\tLoss: 1.029297\n"
     ]
    },
    {
     "name": "stderr",
     "output_type": "stream",
     "text": [
      " 19%|█▉        | 56.5/300 [00:11<00:50,  4.84it/s]"
     ]
    },
    {
     "name": "stdout",
     "output_type": "stream",
     "text": [
      "\n",
      "Test Epoch: 56\tAccuracy: 17/24 (71%)\n",
      "\n",
      "Train Epoch: 57 [0/94 (0%)]\tLoss: 1.025109\n"
     ]
    },
    {
     "name": "stderr",
     "output_type": "stream",
     "text": [
      " 19%|█▉        | 57.5/300 [00:12<01:02,  3.86it/s]"
     ]
    },
    {
     "name": "stdout",
     "output_type": "stream",
     "text": [
      "\n",
      "Test Epoch: 57\tAccuracy: 17/24 (71%)\n",
      "\n",
      "Train Epoch: 58 [0/94 (0%)]\tLoss: 1.020933\n",
      "\n",
      "Test Epoch: 58\tAccuracy: 17/24 (71%)\n",
      "\n"
     ]
    },
    {
     "name": "stderr",
     "output_type": "stream",
     "text": [
      " 20%|█▉        | 59.5/300 [00:12<00:53,  4.46it/s]"
     ]
    },
    {
     "name": "stdout",
     "output_type": "stream",
     "text": [
      "Train Epoch: 59 [0/94 (0%)]\tLoss: 1.016767\n",
      "\n",
      "Test Epoch: 59\tAccuracy: 16/24 (67%)\n",
      "\n",
      "Train Epoch: 60 [0/94 (0%)]\tLoss: 1.012612\n"
     ]
    },
    {
     "name": "stderr",
     "output_type": "stream",
     "text": [
      " 20%|██        | 60.5/300 [00:12<00:51,  4.68it/s]"
     ]
    },
    {
     "name": "stdout",
     "output_type": "stream",
     "text": [
      "\n",
      "Test Epoch: 60\tAccuracy: 15/24 (62%)\n",
      "\n",
      "Train Epoch: 61 [0/94 (0%)]\tLoss: 1.008462\n",
      "\n",
      "Test Epoch: 61\tAccuracy: 15/24 (62%)\n",
      "\n"
     ]
    },
    {
     "name": "stderr",
     "output_type": "stream",
     "text": [
      " 21%|██        | 62.5/300 [00:12<00:47,  5.04it/s]"
     ]
    },
    {
     "name": "stdout",
     "output_type": "stream",
     "text": [
      "Train Epoch: 62 [0/94 (0%)]\tLoss: 1.005556\n",
      "\n",
      "Test Epoch: 62\tAccuracy: 15/24 (62%)\n",
      "\n",
      "Train Epoch: 63 [0/94 (0%)]\tLoss: 1.002650\n"
     ]
    },
    {
     "name": "stderr",
     "output_type": "stream",
     "text": [
      " 21%|██        | 63.5/300 [00:13<00:45,  5.19it/s]"
     ]
    },
    {
     "name": "stdout",
     "output_type": "stream",
     "text": [
      "\n",
      "Test Epoch: 63\tAccuracy: 15/24 (62%)\n",
      "\n",
      "Train Epoch: 64 [0/94 (0%)]\tLoss: 0.999755\n",
      "\n",
      "Test Epoch: 64\tAccuracy: 15/24 (62%)\n",
      "\n"
     ]
    },
    {
     "name": "stderr",
     "output_type": "stream",
     "text": [
      " 22%|██▏       | 65.5/300 [00:13<00:44,  5.26it/s]"
     ]
    },
    {
     "name": "stdout",
     "output_type": "stream",
     "text": [
      "Train Epoch: 65 [0/94 (0%)]\tLoss: 0.996871\n",
      "\n",
      "Test Epoch: 65\tAccuracy: 15/24 (62%)\n",
      "\n",
      "Train Epoch: 66 [0/94 (0%)]\tLoss: 0.993996\n"
     ]
    },
    {
     "name": "stderr",
     "output_type": "stream",
     "text": [
      " 22%|██▏       | 66.5/300 [00:13<00:44,  5.26it/s]"
     ]
    },
    {
     "name": "stdout",
     "output_type": "stream",
     "text": [
      "\n",
      "Test Epoch: 66\tAccuracy: 15/24 (62%)\n",
      "\n",
      "Train Epoch: 67 [0/94 (0%)]\tLoss: 0.991124\n",
      "\n",
      "Test Epoch: 67\tAccuracy: 15/24 (62%)\n",
      "\n"
     ]
    },
    {
     "name": "stderr",
     "output_type": "stream",
     "text": [
      " 22%|██▎       | 67.5/300 [00:13<00:43,  5.29it/s]"
     ]
    },
    {
     "name": "stdout",
     "output_type": "stream",
     "text": [
      "Train Epoch: 68 [0/94 (0%)]\tLoss: 0.988250\n",
      "\n",
      "Test Epoch: 68\tAccuracy: 15/24 (62%)\n",
      "\n"
     ]
    },
    {
     "name": "stderr",
     "output_type": "stream",
     "text": [
      " 23%|██▎       | 69.5/300 [00:14<00:44,  5.15it/s]"
     ]
    },
    {
     "name": "stdout",
     "output_type": "stream",
     "text": [
      "Train Epoch: 69 [0/94 (0%)]\tLoss: 0.985386\n",
      "\n",
      "Test Epoch: 69\tAccuracy: 15/24 (62%)\n",
      "\n",
      "Train Epoch: 70 [0/94 (0%)]\tLoss: 0.982528\n"
     ]
    },
    {
     "name": "stderr",
     "output_type": "stream",
     "text": [
      " 24%|██▎       | 70.5/300 [00:14<00:43,  5.27it/s]"
     ]
    },
    {
     "name": "stdout",
     "output_type": "stream",
     "text": [
      "\n",
      "Test Epoch: 70\tAccuracy: 15/24 (62%)\n",
      "\n",
      "Train Epoch: 71 [0/94 (0%)]\tLoss: 0.979669\n",
      "\n",
      "Test Epoch: 71\tAccuracy: 15/24 (62%)\n",
      "\n"
     ]
    },
    {
     "name": "stderr",
     "output_type": "stream",
     "text": [
      " 24%|██▍       | 71.5/300 [00:14<00:44,  5.18it/s]"
     ]
    },
    {
     "name": "stdout",
     "output_type": "stream",
     "text": [
      "Train Epoch: 72 [0/94 (0%)]\tLoss: 0.977665\n",
      "\n",
      "Test Epoch: 72\tAccuracy: 15/24 (62%)\n",
      "\n"
     ]
    },
    {
     "name": "stderr",
     "output_type": "stream",
     "text": [
      " 24%|██▍       | 73.5/300 [00:15<00:44,  5.11it/s]"
     ]
    },
    {
     "name": "stdout",
     "output_type": "stream",
     "text": [
      "Train Epoch: 73 [0/94 (0%)]\tLoss: 0.975656\n",
      "\n",
      "Test Epoch: 73\tAccuracy: 15/24 (62%)\n",
      "\n",
      "Train Epoch: 74 [0/94 (0%)]\tLoss: 0.973648\n"
     ]
    },
    {
     "name": "stderr",
     "output_type": "stream",
     "text": [
      " 25%|██▍       | 74.5/300 [00:15<00:43,  5.16it/s]"
     ]
    },
    {
     "name": "stdout",
     "output_type": "stream",
     "text": [
      "\n",
      "Test Epoch: 74\tAccuracy: 15/24 (62%)\n",
      "\n",
      "Train Epoch: 75 [0/94 (0%)]\tLoss: 0.971648\n",
      "\n",
      "Test Epoch: 75\tAccuracy: 15/24 (62%)\n",
      "\n"
     ]
    },
    {
     "name": "stderr",
     "output_type": "stream",
     "text": [
      " 25%|██▌       | 76.0/300 [00:15<00:45,  4.87it/s]"
     ]
    },
    {
     "name": "stdout",
     "output_type": "stream",
     "text": [
      "Train Epoch: 76 [0/94 (0%)]\tLoss: 0.969647\n",
      "\n",
      "Test Epoch: 76\tAccuracy: 15/24 (62%)\n",
      "\n"
     ]
    },
    {
     "name": "stderr",
     "output_type": "stream",
     "text": [
      "\n"
     ]
    }
   ],
   "source": [
    "writer = SummaryWriter()\n",
    "\n",
    "log_interval = 20\n",
    "n_epoch = 300\n",
    "\n",
    "CHECKPOINT_PATH = 'checkpoint.pt'\n",
    "ACCURACY_MOVING_AVERAGE_SIZE = 30  # moving average for accuracy to check if performance degraded\n",
    "\n",
    "pbar_update = 1 / (len(train_loader) + len(test_loader))\n",
    "losses = []\n",
    "accuracies = []\n",
    "\n",
    "with tqdm(total=n_epoch) as pbar:\n",
    "    for epoch in range(1, n_epoch + 1):\n",
    "        torch.save({\n",
    "            'model_state_dict': model.state_dict(),\n",
    "            'optimizer_state_dict': optimizer.state_dict()\n",
    "        }, CHECKPOINT_PATH)\n",
    "\n",
    "        train_losses = train(model, epoch, log_interval, writer)\n",
    "        losses.extend(train_losses)\n",
    "\n",
    "        accuracy = test(model, epoch, writer)\n",
    "        accuracies.append(accuracy)\n",
    "        scheduler.step()\n",
    "\n",
    "        # Early stopping\n",
    "        if len(accuracies) >= ACCURACY_MOVING_AVERAGE_SIZE + 1:\n",
    "            is_performance_degraded = np.mean(accuracies[-ACCURACY_MOVING_AVERAGE_SIZE - 1:-1]) > np.mean(accuracies[-ACCURACY_MOVING_AVERAGE_SIZE:])\n",
    "            if is_performance_degraded:\n",
    "                # Reload the last non-degraded checkpoint\n",
    "                checkpoint = torch.load(CHECKPOINT_PATH)\n",
    "                model.load_state_dict(checkpoint['model_state_dict'])\n",
    "                optimizer.load_state_dict(checkpoint['optimizer_state_dict'])\n",
    "                break\n",
    "\n",
    "\n",
    "# Let's plot the training loss versus the number of iteration.\n",
    "# plt.plot(losses);\n",
    "# plt.title(\"training loss\");"
   ],
   "metadata": {
    "collapsed": false,
    "pycharm": {
     "name": "#%%\n"
    }
   }
  }
 ],
 "metadata": {
  "kernelspec": {
   "display_name": "Python 3",
   "language": "python",
   "name": "python3"
  },
  "language_info": {
   "codemirror_mode": {
    "name": "ipython",
    "version": 2
   },
   "file_extension": ".py",
   "mimetype": "text/x-python",
   "name": "python",
   "nbconvert_exporter": "python",
   "pygments_lexer": "ipython2",
   "version": "2.7.6"
  }
 },
 "nbformat": 4,
 "nbformat_minor": 0
}